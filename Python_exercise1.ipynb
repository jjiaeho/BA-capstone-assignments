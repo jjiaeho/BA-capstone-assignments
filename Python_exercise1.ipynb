{
 "cells": [
  {
   "cell_type": "markdown",
   "metadata": {},
   "source": [
    "# BA assignment 1\n",
    "## 201723371 강지애\n",
    "\n",
    "## 1.Css Selector 수정"
   ]
  },
  {
   "cell_type": "code",
   "execution_count": 2,
   "metadata": {},
   "outputs": [
    {
     "data": {
      "text/plain": [
       "'#today_main_news  >  div.hdline_news  >  ul  >  li'"
      ]
     },
     "execution_count": 2,
     "metadata": {},
     "output_type": "execute_result"
    }
   ],
   "source": [
    "selector = \"#today_main_news > div.hdline_news > ul > li:nth-child(1)\" #해당 selector를 문자열로 표시\n",
    "\n",
    "selector_list = selector.split(\">\") # > 로 리스트를 구분\n",
    "selector_list[-1] = selector_list[-1].split(\":\")[0] # 제일 뒤쪽 문자를 선택, \":\"로 구분하여 기존 리스트에 할당\n",
    "\n",
    "\" > \".join(selector_list) # \">\" 구분자를 기준으로 리스트를 다시 문자열로 합침"
   ]
  },
  {
   "cell_type": "markdown",
   "metadata": {},
   "source": [
    "## 2. list comprehension으로 만드는 구구단\n",
    " > list comprehension을 사용하여 구구단을 연산하는 함수 gugu_com을 작성하고 구구단 2단을 출력"
   ]
  },
  {
   "cell_type": "code",
   "execution_count": 5,
   "metadata": {},
   "outputs": [
    {
     "name": "stdout",
     "output_type": "stream",
     "text": [
      "2 x 1 = 2\n",
      "2 x 2 = 4\n",
      "2 x 3 = 6\n",
      "2 x 4 = 8\n",
      "2 x 5 = 10\n",
      "2 x 6 = 12\n",
      "2 x 7 = 14\n",
      "2 x 8 = 16\n",
      "2 x 9 = 18\n"
     ]
    }
   ],
   "source": [
    "def gugu_com(x=2):\n",
    "    [print(f\"{x} x {i} = {x*i}\") for i in range(1,10)] #def를 이용 x값은 2이고 i를 1부터 10으로 지정하여 2단 구구단을 보여줌\n",
    "    \n",
    "gugu_com(2)"
   ]
  },
  {
   "cell_type": "markdown",
   "metadata": {},
   "source": [
    "## 3. 두 주사위의 곱\n",
    "> list comprehension을 사용하여 이차원 리스트 만들기"
   ]
  },
  {
   "cell_type": "code",
   "execution_count": 6,
   "metadata": {},
   "outputs": [
    {
     "data": {
      "text/plain": [
       "[[1, 2, 3, 4, 5, 6],\n",
       " [2, 4, 6, 8, 10, 12],\n",
       " [3, 6, 9, 12, 15, 18],\n",
       " [4, 8, 12, 16, 20, 24],\n",
       " [5, 10, 15, 20, 25, 30],\n",
       " [6, 12, 18, 24, 30, 36]]"
      ]
     },
     "execution_count": 6,
     "metadata": {},
     "output_type": "execute_result"
    }
   ],
   "source": [
    "die = [i for i in range(1,7)] #주사위는 1~6까지의 숫자임을 표현\n",
    "    \n",
    "[[j*i for i in die] for j in die] #두 주사위의 곱"
   ]
  },
  {
   "cell_type": "markdown",
   "metadata": {},
   "source": [
    "## 4. 두 주사위의 합\n",
    "> 6 x 6 크기의 2차원 리스트로 생성하고 인덱싱을 통하여 2+6의 값을 2가지의 방법으로 나타내기"
   ]
  },
  {
   "cell_type": "code",
   "execution_count": 7,
   "metadata": {},
   "outputs": [
    {
     "name": "stdout",
     "output_type": "stream",
     "text": [
      "8\n",
      "8\n"
     ]
    }
   ],
   "source": [
    "dice_sum = [[2, 3, 4, 5, 6, 7],\n",
    "            [3, 4, 5, 6, 7, 8],\n",
    "            [4, 5, 6, 7, 8, 9],\n",
    "            [5, 6, 7, 8, 9, 10],\n",
    "            [6, 7, 8, 9, 10, 11],\n",
    "            [7, 8, 9, 10, 11, 12]]\n",
    "\n",
    "print(dice_sum[1][5]) #dice의 첫 번째 자리의 수인 2와 다섯 번째 자리의 수인 6을 sum해서 출력\n",
    "print(dice_sum[5][1]) #주사위의 다섯 번째 자리의 수인 6과 첫 번째 자리의 수인 2를 sum해서 출력"
   ]
  },
  {
   "cell_type": "code",
   "execution_count": 10,
   "metadata": {},
   "outputs": [
    {
     "name": "stdout",
     "output_type": "stream",
     "text": [
      "8\n",
      "8\n"
     ]
    }
   ],
   "source": [
    "die = [i for i in range(1,7)]\n",
    "\n",
    "dice_sum = [[j+i for i in die] for j in die]\n",
    "\n",
    "print(dice_sum[1][5]) #dice의 첫 번째 자리의 수인 2와 다섯 번째 자리의 수인 6을 sum해서 출력\n",
    "print(dice_sum[5][1]) #주사위의 다섯 번째 자리의 수인 6과 첫 번째 자리의 수인 2를 sum해서 출력"
   ]
  },
  {
   "cell_type": "markdown",
   "metadata": {},
   "source": [
    "## 도전문제\n",
    "\n",
    "## 표절 검사 프로그램\n",
    "\n",
    " 아주대학교 글로벌 경영학과의 한 교수님은 과제의 표절 검사를 쉽게 하기 위해 Python을 통한 간단한 표절 검사 프로그램을 작성해보고자 한다.\n",
    "\n",
    " 현재 구상 중인 프로그램은 복잡한 알고리즘을 필요로하지 않고, 간단하게 단어 빈도를 기반으로 하여, 그 유사도를 측정하고자한다."
   ]
  },
  {
   "cell_type": "code",
   "execution_count": 11,
   "metadata": {},
   "outputs": [],
   "source": [
    "from collections import defaultdict, Counter #defaultdict와 Counter 클래스 임포트해서 불러오기\n",
    "\n",
    "text = \"\"\"Python is a very simple programming language so even if you are new to programming, you can learn python without facing any issues.\"\"\"\n",
    "\n",
    "text2 = \"\"\"C is a very difficult programming language so even if you are good at programming, you can learn c with facing any issues.\"\"\"\n",
    "\n",
    "text3 = \"\"\"R Programming is good at statistical analysis. you can learn easily\"\"\""
   ]
  },
  {
   "cell_type": "markdown",
   "metadata": {},
   "source": [
    "### 문제1\n",
    "> Q: defaultdict를 활용하여 text를 입력받으면 단어별 빈도를 측정하여 반환하는 함수 word_counter를 만드시오."
   ]
  },
  {
   "cell_type": "code",
   "execution_count": 13,
   "metadata": {},
   "outputs": [
    {
     "data": {
      "text/plain": [
       "defaultdict(<function __main__.word_counter.<locals>.<lambda>()>,\n",
       "            {'python': 2,\n",
       "             'is': 1,\n",
       "             'a': 1,\n",
       "             'very': 1,\n",
       "             'simple': 1,\n",
       "             'programming': 1,\n",
       "             'language': 1,\n",
       "             'so': 1,\n",
       "             'even': 1,\n",
       "             'if': 1,\n",
       "             'you': 2,\n",
       "             'are': 1,\n",
       "             'new': 1,\n",
       "             'to': 1,\n",
       "             'programming,': 1,\n",
       "             'can': 1,\n",
       "             'learn': 1,\n",
       "             'without': 1,\n",
       "             'facing': 1,\n",
       "             'any': 1,\n",
       "             'issues.': 1})"
      ]
     },
     "execution_count": 13,
     "metadata": {},
     "output_type": "execute_result"
    }
   ],
   "source": [
    "def word_counter(text):\n",
    "    word_count = defaultdict(lambda: 0) #인덱싱에서 key값이 없으면 값을 0으로 초기화.\n",
    "    for word in text.lower().split():  #문장을 단어별로 split하고 모두 소문자로 바꿔줍니다.\n",
    "        word_count[word] += 1  #인덱싱에서 key값이 있으면 1로 숫자를 세어주고 다음 단어를 count합니다.\n",
    "        \n",
    "    return word_count\n",
    "\n",
    "word_counter(text)"
   ]
  },
  {
   "cell_type": "markdown",
   "metadata": {},
   "source": [
    "### 문제2\n",
    "> Q: 도전문제 1의 word_counter 활용하여 text와 text2의 유사도와 text와 text3의 유사도를 구하시오."
   ]
  },
  {
   "cell_type": "code",
   "execution_count": 20,
   "metadata": {},
   "outputs": [],
   "source": [
    "def text_similarity(text_count_1, text_count_2): #text_similarity라는 함수 생성 \n",
    "    text1_count = Counter(text_count_1) #Counter 클래스를 활용하여 Counter들 간의 덧셈, 뺄셈 연산이 가능하게 만들어주기ㅣ\n",
    "    text2_count = Counter(text_count_2)\n",
    "    \n",
    "    word_total = sum(text1_count.values()) #.values()를 통하여 value값만 추출하기 (전체 단어 수의 합)\n",
    "    word_diff = sum((text1_count - text2_count).values()) # 첫 번째 counter의 value 값과 두 번째 counter의 value 값의 차이 value\n",
    "    \n",
    "    return (1 - word_diff / word_total) * 100  #얼마나 유사한지 알아보기 위하여 다음과 같은 공식으로 계산"
   ]
  },
  {
   "cell_type": "code",
   "execution_count": 21,
   "metadata": {},
   "outputs": [
    {
     "data": {
      "text/plain": [
       "73.91304347826086"
      ]
     },
     "execution_count": 21,
     "metadata": {},
     "output_type": "execute_result"
    }
   ],
   "source": [
    "text_similarity(word_counter(text), word_counter(text2)) #text와 text2의 유사성"
   ]
  },
  {
   "cell_type": "code",
   "execution_count": 22,
   "metadata": {},
   "outputs": [
    {
     "data": {
      "text/plain": [
       "21.739130434782606"
      ]
     },
     "execution_count": 22,
     "metadata": {},
     "output_type": "execute_result"
    }
   ],
   "source": [
    "text_similarity(word_counter(text), word_counter(text3))"
   ]
  }
 ],
 "metadata": {
  "kernelspec": {
   "display_name": "Python 3",
   "language": "python",
   "name": "python3"
  },
  "language_info": {
   "codemirror_mode": {
    "name": "ipython",
    "version": 3
   },
   "file_extension": ".py",
   "mimetype": "text/x-python",
   "name": "python",
   "nbconvert_exporter": "python",
   "pygments_lexer": "ipython3",
   "version": "3.8.3"
  }
 },
 "nbformat": 4,
 "nbformat_minor": 4
}
