{
 "cells": [
  {
   "cell_type": "markdown",
   "metadata": {},
   "source": [
    "# HW5_201723371_강지애\n",
    "\n",
    "## 8주차 - 텍스트마이닝-Classification 실습\n",
    "\n",
    "# 1. featureset - bagofwords, tfidf, countvector"
   ]
  },
  {
   "cell_type": "code",
   "execution_count": 1,
   "metadata": {},
   "outputs": [],
   "source": [
    "# 주어진 문서(word tokenize된 결과)에 대해 feature set을 dictionary 형태로 구성해서 반환\n",
    "def bag_of_words(words):\n",
    "    return dict([(word, True) for word in words]) #있는 단어들에 대해 True로 표시, 없는 단어는 표시 안 함"
   ]
  },
  {
   "cell_type": "code",
   "execution_count": 3,
   "metadata": {},
   "outputs": [
    {
     "data": {
      "text/plain": [
       "{'the': True, 'quick': True, 'brown': True, 'fox': True}"
      ]
     },
     "execution_count": 3,
     "metadata": {},
     "output_type": "execute_result"
    }
   ],
   "source": [
    "bag_of_words(['the', 'quick', 'brown', 'fox'])"
   ]
  },
  {
   "cell_type": "markdown",
   "metadata": {},
   "source": [
    "## NLTK Corpus\n",
    "### movie_reviews\n",
    "NLTK Corpus 중 movie review 수집 데이터로, 감성분석 결과(pos, neg)가 label로 붙어 있음"
   ]
  },
  {
   "cell_type": "code",
   "execution_count": 5,
   "metadata": {},
   "outputs": [
    {
     "name": "stdout",
     "output_type": "stream",
     "text": [
      "review count: 2000\n",
      "['neg/cv000_29416.txt', 'neg/cv001_19502.txt', 'neg/cv002_17424.txt', 'neg/cv003_12683.txt', 'neg/cv004_12641.txt', 'neg/cv005_29357.txt', 'neg/cv006_17022.txt', 'neg/cv007_4992.txt', 'neg/cv008_29326.txt', 'neg/cv009_29417.txt']\n",
      "['neg', 'pos']\n",
      "\"neg\" reviews: 1000\n",
      "\"pos\" reviews: 1000\n",
      "id: neg/cv000_29416.txt\n",
      "plot : two teen couples go to a church party , drink and then drive . \n",
      "they get into an accident . \n",
      "one of the guys dies , but his girlfriend continues to see him in her life , and has nightmares . \n",
      "what's the deal ? \n",
      "watch the movie and \" sorta \" find out . . . \n",
      "critique : a mind-fuck movie for the teen generation that touches on a very cool idea , but presents it in a very bad package . \n",
      "which is what makes this review an even harder one to write , since i generally applaud films which attempt\n"
     ]
    },
    {
     "name": "stderr",
     "output_type": "stream",
     "text": [
      "[nltk_data] Downloading package movie_reviews to\n",
      "[nltk_data]     C:\\Users\\Jiae\\AppData\\Roaming\\nltk_data...\n",
      "[nltk_data]   Package movie_reviews is already up-to-date!\n"
     ]
    },
    {
     "ename": "LookupError",
     "evalue": "\n**********************************************************************\n  Resource \u001b[93mpunkt\u001b[0m not found.\n  Please use the NLTK Downloader to obtain the resource:\n\n  \u001b[31m>>> import nltk\n  >>> nltk.download('punkt')\n  \u001b[0m\n  For more information see: https://www.nltk.org/data.html\n\n  Attempted to load \u001b[93mtokenizers/punkt/english.pickle\u001b[0m\n\n  Searched in:\n    - 'C:\\\\Users\\\\Jiae/nltk_data'\n    - 'C:\\\\Users\\\\Jiae\\\\anaconda3\\\\nltk_data'\n    - 'C:\\\\Users\\\\Jiae\\\\anaconda3\\\\share\\\\nltk_data'\n    - 'C:\\\\Users\\\\Jiae\\\\anaconda3\\\\lib\\\\nltk_data'\n    - 'C:\\\\Users\\\\Jiae\\\\AppData\\\\Roaming\\\\nltk_data'\n    - 'C:\\\\nltk_data'\n    - 'D:\\\\nltk_data'\n    - 'E:\\\\nltk_data'\n    - ''\n**********************************************************************\n",
     "output_type": "error",
     "traceback": [
      "\u001b[1;31m---------------------------------------------------------------------------\u001b[0m",
      "\u001b[1;31mLookupError\u001b[0m                               Traceback (most recent call last)",
      "\u001b[1;32m<ipython-input-5-5966332cdf6f>\u001b[0m in \u001b[0;36m<module>\u001b[1;34m\u001b[0m\n\u001b[0;32m     12\u001b[0m \u001b[0mprint\u001b[0m\u001b[1;33m(\u001b[0m\u001b[1;34m'id:'\u001b[0m\u001b[1;33m,\u001b[0m \u001b[0mfileid\u001b[0m\u001b[1;33m)\u001b[0m\u001b[1;33m\u001b[0m\u001b[1;33m\u001b[0m\u001b[0m\n\u001b[0;32m     13\u001b[0m \u001b[0mprint\u001b[0m\u001b[1;33m(\u001b[0m\u001b[0mmovie_reviews\u001b[0m\u001b[1;33m.\u001b[0m\u001b[0mraw\u001b[0m\u001b[1;33m(\u001b[0m\u001b[0mfileid\u001b[0m\u001b[1;33m)\u001b[0m\u001b[1;33m[\u001b[0m\u001b[1;33m:\u001b[0m\u001b[1;36m500\u001b[0m\u001b[1;33m]\u001b[0m\u001b[1;33m)\u001b[0m \u001b[1;31m#첫번째 문서의 내용을 500자까지만 출력\u001b[0m\u001b[1;33m\u001b[0m\u001b[1;33m\u001b[0m\u001b[0m\n\u001b[1;32m---> 14\u001b[1;33m \u001b[0mprint\u001b[0m\u001b[1;33m(\u001b[0m\u001b[0mmovie_reviews\u001b[0m\u001b[1;33m.\u001b[0m\u001b[0msents\u001b[0m\u001b[1;33m(\u001b[0m\u001b[0mfileid\u001b[0m\u001b[1;33m)\u001b[0m\u001b[1;33m[\u001b[0m\u001b[1;33m:\u001b[0m\u001b[1;36m2\u001b[0m\u001b[1;33m]\u001b[0m\u001b[1;33m)\u001b[0m \u001b[1;31m#첫번째 문서를 sentence tokenize한 결과 중 앞 두 문장\u001b[0m\u001b[1;33m\u001b[0m\u001b[1;33m\u001b[0m\u001b[0m\n\u001b[0m\u001b[0;32m     15\u001b[0m \u001b[0mprint\u001b[0m\u001b[1;33m(\u001b[0m\u001b[0mmovie_reviews\u001b[0m\u001b[1;33m.\u001b[0m\u001b[0mwords\u001b[0m\u001b[1;33m(\u001b[0m\u001b[0mfileid\u001b[0m\u001b[1;33m)\u001b[0m\u001b[1;33m[\u001b[0m\u001b[1;33m:\u001b[0m\u001b[1;36m10\u001b[0m\u001b[1;33m]\u001b[0m\u001b[1;33m)\u001b[0m \u001b[1;31m#첫번째 문서를 word tokenize한 결과 중 앞 열 단어\u001b[0m\u001b[1;33m\u001b[0m\u001b[1;33m\u001b[0m\u001b[0m\n",
      "\u001b[1;32m~\\anaconda3\\lib\\site-packages\\nltk\\corpus\\reader\\util.py\u001b[0m in \u001b[0;36m__getitem__\u001b[1;34m(self, i)\u001b[0m\n\u001b[0;32m    234\u001b[0m     \u001b[1;32mdef\u001b[0m \u001b[0m__getitem__\u001b[0m\u001b[1;33m(\u001b[0m\u001b[0mself\u001b[0m\u001b[1;33m,\u001b[0m \u001b[0mi\u001b[0m\u001b[1;33m)\u001b[0m\u001b[1;33m:\u001b[0m\u001b[1;33m\u001b[0m\u001b[1;33m\u001b[0m\u001b[0m\n\u001b[0;32m    235\u001b[0m         \u001b[1;32mif\u001b[0m \u001b[0misinstance\u001b[0m\u001b[1;33m(\u001b[0m\u001b[0mi\u001b[0m\u001b[1;33m,\u001b[0m \u001b[0mslice\u001b[0m\u001b[1;33m)\u001b[0m\u001b[1;33m:\u001b[0m\u001b[1;33m\u001b[0m\u001b[1;33m\u001b[0m\u001b[0m\n\u001b[1;32m--> 236\u001b[1;33m             \u001b[0mstart\u001b[0m\u001b[1;33m,\u001b[0m \u001b[0mstop\u001b[0m \u001b[1;33m=\u001b[0m \u001b[0mslice_bounds\u001b[0m\u001b[1;33m(\u001b[0m\u001b[0mself\u001b[0m\u001b[1;33m,\u001b[0m \u001b[0mi\u001b[0m\u001b[1;33m)\u001b[0m\u001b[1;33m\u001b[0m\u001b[1;33m\u001b[0m\u001b[0m\n\u001b[0m\u001b[0;32m    237\u001b[0m             \u001b[1;31m# Check if it's in the cache.\u001b[0m\u001b[1;33m\u001b[0m\u001b[1;33m\u001b[0m\u001b[1;33m\u001b[0m\u001b[0m\n\u001b[0;32m    238\u001b[0m             \u001b[0moffset\u001b[0m \u001b[1;33m=\u001b[0m \u001b[0mself\u001b[0m\u001b[1;33m.\u001b[0m\u001b[0m_cache\u001b[0m\u001b[1;33m[\u001b[0m\u001b[1;36m0\u001b[0m\u001b[1;33m]\u001b[0m\u001b[1;33m\u001b[0m\u001b[1;33m\u001b[0m\u001b[0m\n",
      "\u001b[1;32m~\\anaconda3\\lib\\site-packages\\nltk\\internals.py\u001b[0m in \u001b[0;36mslice_bounds\u001b[1;34m(sequence, slice_obj, allow_step)\u001b[0m\n\u001b[0;32m   1082\u001b[0m     \u001b[1;32mif\u001b[0m \u001b[0mstop\u001b[0m \u001b[1;33m>\u001b[0m \u001b[1;36m0\u001b[0m\u001b[1;33m:\u001b[0m\u001b[1;33m\u001b[0m\u001b[1;33m\u001b[0m\u001b[0m\n\u001b[0;32m   1083\u001b[0m         \u001b[1;32mtry\u001b[0m\u001b[1;33m:\u001b[0m\u001b[1;33m\u001b[0m\u001b[1;33m\u001b[0m\u001b[0m\n\u001b[1;32m-> 1084\u001b[1;33m             \u001b[0msequence\u001b[0m\u001b[1;33m[\u001b[0m\u001b[0mstop\u001b[0m \u001b[1;33m-\u001b[0m \u001b[1;36m1\u001b[0m\u001b[1;33m]\u001b[0m\u001b[1;33m\u001b[0m\u001b[1;33m\u001b[0m\u001b[0m\n\u001b[0m\u001b[0;32m   1085\u001b[0m         \u001b[1;32mexcept\u001b[0m \u001b[0mIndexError\u001b[0m\u001b[1;33m:\u001b[0m\u001b[1;33m\u001b[0m\u001b[1;33m\u001b[0m\u001b[0m\n\u001b[0;32m   1086\u001b[0m             \u001b[0mstop\u001b[0m \u001b[1;33m=\u001b[0m \u001b[0mlen\u001b[0m\u001b[1;33m(\u001b[0m\u001b[0msequence\u001b[0m\u001b[1;33m)\u001b[0m\u001b[1;33m\u001b[0m\u001b[1;33m\u001b[0m\u001b[0m\n",
      "\u001b[1;32m~\\anaconda3\\lib\\site-packages\\nltk\\corpus\\reader\\util.py\u001b[0m in \u001b[0;36m__getitem__\u001b[1;34m(self, i)\u001b[0m\n\u001b[0;32m    253\u001b[0m             \u001b[1;31m# Use iterate_from to extract it.\u001b[0m\u001b[1;33m\u001b[0m\u001b[1;33m\u001b[0m\u001b[1;33m\u001b[0m\u001b[0m\n\u001b[0;32m    254\u001b[0m             \u001b[1;32mtry\u001b[0m\u001b[1;33m:\u001b[0m\u001b[1;33m\u001b[0m\u001b[1;33m\u001b[0m\u001b[0m\n\u001b[1;32m--> 255\u001b[1;33m                 \u001b[1;32mreturn\u001b[0m \u001b[0mnext\u001b[0m\u001b[1;33m(\u001b[0m\u001b[0mself\u001b[0m\u001b[1;33m.\u001b[0m\u001b[0miterate_from\u001b[0m\u001b[1;33m(\u001b[0m\u001b[0mi\u001b[0m\u001b[1;33m)\u001b[0m\u001b[1;33m)\u001b[0m\u001b[1;33m\u001b[0m\u001b[1;33m\u001b[0m\u001b[0m\n\u001b[0m\u001b[0;32m    256\u001b[0m             \u001b[1;32mexcept\u001b[0m \u001b[0mStopIteration\u001b[0m\u001b[1;33m:\u001b[0m\u001b[1;33m\u001b[0m\u001b[1;33m\u001b[0m\u001b[0m\n\u001b[0;32m    257\u001b[0m                 \u001b[1;32mraise\u001b[0m \u001b[0mIndexError\u001b[0m\u001b[1;33m(\u001b[0m\u001b[1;34m\"index out of range\"\u001b[0m\u001b[1;33m)\u001b[0m\u001b[1;33m\u001b[0m\u001b[1;33m\u001b[0m\u001b[0m\n",
      "\u001b[1;32m~\\anaconda3\\lib\\site-packages\\nltk\\corpus\\reader\\util.py\u001b[0m in \u001b[0;36miterate_from\u001b[1;34m(self, start_tok)\u001b[0m\n\u001b[0;32m    294\u001b[0m             \u001b[0mself\u001b[0m\u001b[1;33m.\u001b[0m\u001b[0m_current_toknum\u001b[0m \u001b[1;33m=\u001b[0m \u001b[0mtoknum\u001b[0m\u001b[1;33m\u001b[0m\u001b[1;33m\u001b[0m\u001b[0m\n\u001b[0;32m    295\u001b[0m             \u001b[0mself\u001b[0m\u001b[1;33m.\u001b[0m\u001b[0m_current_blocknum\u001b[0m \u001b[1;33m=\u001b[0m \u001b[0mblock_index\u001b[0m\u001b[1;33m\u001b[0m\u001b[1;33m\u001b[0m\u001b[0m\n\u001b[1;32m--> 296\u001b[1;33m             \u001b[0mtokens\u001b[0m \u001b[1;33m=\u001b[0m \u001b[0mself\u001b[0m\u001b[1;33m.\u001b[0m\u001b[0mread_block\u001b[0m\u001b[1;33m(\u001b[0m\u001b[0mself\u001b[0m\u001b[1;33m.\u001b[0m\u001b[0m_stream\u001b[0m\u001b[1;33m)\u001b[0m\u001b[1;33m\u001b[0m\u001b[1;33m\u001b[0m\u001b[0m\n\u001b[0m\u001b[0;32m    297\u001b[0m             assert isinstance(tokens, (tuple, list, AbstractLazySequence)), (\n\u001b[0;32m    298\u001b[0m                 \u001b[1;34m\"block reader %s() should return list or tuple.\"\u001b[0m\u001b[1;33m\u001b[0m\u001b[1;33m\u001b[0m\u001b[0m\n",
      "\u001b[1;32m~\\anaconda3\\lib\\site-packages\\nltk\\corpus\\reader\\plaintext.py\u001b[0m in \u001b[0;36m_read_sent_block\u001b[1;34m(self, stream)\u001b[0m\n\u001b[0;32m    141\u001b[0m                 [\n\u001b[0;32m    142\u001b[0m                     \u001b[0mself\u001b[0m\u001b[1;33m.\u001b[0m\u001b[0m_word_tokenizer\u001b[0m\u001b[1;33m.\u001b[0m\u001b[0mtokenize\u001b[0m\u001b[1;33m(\u001b[0m\u001b[0msent\u001b[0m\u001b[1;33m)\u001b[0m\u001b[1;33m\u001b[0m\u001b[1;33m\u001b[0m\u001b[0m\n\u001b[1;32m--> 143\u001b[1;33m                     \u001b[1;32mfor\u001b[0m \u001b[0msent\u001b[0m \u001b[1;32min\u001b[0m \u001b[0mself\u001b[0m\u001b[1;33m.\u001b[0m\u001b[0m_sent_tokenizer\u001b[0m\u001b[1;33m.\u001b[0m\u001b[0mtokenize\u001b[0m\u001b[1;33m(\u001b[0m\u001b[0mpara\u001b[0m\u001b[1;33m)\u001b[0m\u001b[1;33m\u001b[0m\u001b[1;33m\u001b[0m\u001b[0m\n\u001b[0m\u001b[0;32m    144\u001b[0m                 ]\n\u001b[0;32m    145\u001b[0m             )\n",
      "\u001b[1;32m~\\anaconda3\\lib\\site-packages\\nltk\\data.py\u001b[0m in \u001b[0;36m__getattr__\u001b[1;34m(self, attr)\u001b[0m\n\u001b[0;32m    902\u001b[0m \u001b[1;33m\u001b[0m\u001b[0m\n\u001b[0;32m    903\u001b[0m     \u001b[1;32mdef\u001b[0m \u001b[0m__getattr__\u001b[0m\u001b[1;33m(\u001b[0m\u001b[0mself\u001b[0m\u001b[1;33m,\u001b[0m \u001b[0mattr\u001b[0m\u001b[1;33m)\u001b[0m\u001b[1;33m:\u001b[0m\u001b[1;33m\u001b[0m\u001b[1;33m\u001b[0m\u001b[0m\n\u001b[1;32m--> 904\u001b[1;33m         \u001b[0mself\u001b[0m\u001b[1;33m.\u001b[0m\u001b[0m__load\u001b[0m\u001b[1;33m(\u001b[0m\u001b[1;33m)\u001b[0m\u001b[1;33m\u001b[0m\u001b[1;33m\u001b[0m\u001b[0m\n\u001b[0m\u001b[0;32m    905\u001b[0m         \u001b[1;31m# This looks circular, but its not, since __load() changes our\u001b[0m\u001b[1;33m\u001b[0m\u001b[1;33m\u001b[0m\u001b[1;33m\u001b[0m\u001b[0m\n\u001b[0;32m    906\u001b[0m         \u001b[1;31m# __class__ to something new:\u001b[0m\u001b[1;33m\u001b[0m\u001b[1;33m\u001b[0m\u001b[1;33m\u001b[0m\u001b[0m\n",
      "\u001b[1;32m~\\anaconda3\\lib\\site-packages\\nltk\\data.py\u001b[0m in \u001b[0;36m__load\u001b[1;34m(self)\u001b[0m\n\u001b[0;32m    894\u001b[0m \u001b[1;33m\u001b[0m\u001b[0m\n\u001b[0;32m    895\u001b[0m     \u001b[1;32mdef\u001b[0m \u001b[0m__load\u001b[0m\u001b[1;33m(\u001b[0m\u001b[0mself\u001b[0m\u001b[1;33m)\u001b[0m\u001b[1;33m:\u001b[0m\u001b[1;33m\u001b[0m\u001b[1;33m\u001b[0m\u001b[0m\n\u001b[1;32m--> 896\u001b[1;33m         \u001b[0mresource\u001b[0m \u001b[1;33m=\u001b[0m \u001b[0mload\u001b[0m\u001b[1;33m(\u001b[0m\u001b[0mself\u001b[0m\u001b[1;33m.\u001b[0m\u001b[0m_path\u001b[0m\u001b[1;33m)\u001b[0m\u001b[1;33m\u001b[0m\u001b[1;33m\u001b[0m\u001b[0m\n\u001b[0m\u001b[0;32m    897\u001b[0m         \u001b[1;31m# This is where the magic happens!  Transform ourselves into\u001b[0m\u001b[1;33m\u001b[0m\u001b[1;33m\u001b[0m\u001b[1;33m\u001b[0m\u001b[0m\n\u001b[0;32m    898\u001b[0m         \u001b[1;31m# the object by modifying our own __dict__ and __class__ to\u001b[0m\u001b[1;33m\u001b[0m\u001b[1;33m\u001b[0m\u001b[1;33m\u001b[0m\u001b[0m\n",
      "\u001b[1;32m~\\anaconda3\\lib\\site-packages\\nltk\\data.py\u001b[0m in \u001b[0;36mload\u001b[1;34m(resource_url, format, cache, verbose, logic_parser, fstruct_reader, encoding)\u001b[0m\n\u001b[0;32m    750\u001b[0m \u001b[1;33m\u001b[0m\u001b[0m\n\u001b[0;32m    751\u001b[0m     \u001b[1;31m# Load the resource.\u001b[0m\u001b[1;33m\u001b[0m\u001b[1;33m\u001b[0m\u001b[1;33m\u001b[0m\u001b[0m\n\u001b[1;32m--> 752\u001b[1;33m     \u001b[0mopened_resource\u001b[0m \u001b[1;33m=\u001b[0m \u001b[0m_open\u001b[0m\u001b[1;33m(\u001b[0m\u001b[0mresource_url\u001b[0m\u001b[1;33m)\u001b[0m\u001b[1;33m\u001b[0m\u001b[1;33m\u001b[0m\u001b[0m\n\u001b[0m\u001b[0;32m    753\u001b[0m \u001b[1;33m\u001b[0m\u001b[0m\n\u001b[0;32m    754\u001b[0m     \u001b[1;32mif\u001b[0m \u001b[0mformat\u001b[0m \u001b[1;33m==\u001b[0m \u001b[1;34m\"raw\"\u001b[0m\u001b[1;33m:\u001b[0m\u001b[1;33m\u001b[0m\u001b[1;33m\u001b[0m\u001b[0m\n",
      "\u001b[1;32m~\\anaconda3\\lib\\site-packages\\nltk\\data.py\u001b[0m in \u001b[0;36m_open\u001b[1;34m(resource_url)\u001b[0m\n\u001b[0;32m    875\u001b[0m \u001b[1;33m\u001b[0m\u001b[0m\n\u001b[0;32m    876\u001b[0m     \u001b[1;32mif\u001b[0m \u001b[0mprotocol\u001b[0m \u001b[1;32mis\u001b[0m \u001b[1;32mNone\u001b[0m \u001b[1;32mor\u001b[0m \u001b[0mprotocol\u001b[0m\u001b[1;33m.\u001b[0m\u001b[0mlower\u001b[0m\u001b[1;33m(\u001b[0m\u001b[1;33m)\u001b[0m \u001b[1;33m==\u001b[0m \u001b[1;34m\"nltk\"\u001b[0m\u001b[1;33m:\u001b[0m\u001b[1;33m\u001b[0m\u001b[1;33m\u001b[0m\u001b[0m\n\u001b[1;32m--> 877\u001b[1;33m         \u001b[1;32mreturn\u001b[0m \u001b[0mfind\u001b[0m\u001b[1;33m(\u001b[0m\u001b[0mpath_\u001b[0m\u001b[1;33m,\u001b[0m \u001b[0mpath\u001b[0m \u001b[1;33m+\u001b[0m \u001b[1;33m[\u001b[0m\u001b[1;34m\"\"\u001b[0m\u001b[1;33m]\u001b[0m\u001b[1;33m)\u001b[0m\u001b[1;33m.\u001b[0m\u001b[0mopen\u001b[0m\u001b[1;33m(\u001b[0m\u001b[1;33m)\u001b[0m\u001b[1;33m\u001b[0m\u001b[1;33m\u001b[0m\u001b[0m\n\u001b[0m\u001b[0;32m    878\u001b[0m     \u001b[1;32melif\u001b[0m \u001b[0mprotocol\u001b[0m\u001b[1;33m.\u001b[0m\u001b[0mlower\u001b[0m\u001b[1;33m(\u001b[0m\u001b[1;33m)\u001b[0m \u001b[1;33m==\u001b[0m \u001b[1;34m\"file\"\u001b[0m\u001b[1;33m:\u001b[0m\u001b[1;33m\u001b[0m\u001b[1;33m\u001b[0m\u001b[0m\n\u001b[0;32m    879\u001b[0m         \u001b[1;31m# urllib might not use mode='rb', so handle this one ourselves:\u001b[0m\u001b[1;33m\u001b[0m\u001b[1;33m\u001b[0m\u001b[1;33m\u001b[0m\u001b[0m\n",
      "\u001b[1;32m~\\anaconda3\\lib\\site-packages\\nltk\\data.py\u001b[0m in \u001b[0;36mfind\u001b[1;34m(resource_name, paths)\u001b[0m\n\u001b[0;32m    583\u001b[0m     \u001b[0msep\u001b[0m \u001b[1;33m=\u001b[0m \u001b[1;34m\"*\"\u001b[0m \u001b[1;33m*\u001b[0m \u001b[1;36m70\u001b[0m\u001b[1;33m\u001b[0m\u001b[1;33m\u001b[0m\u001b[0m\n\u001b[0;32m    584\u001b[0m     \u001b[0mresource_not_found\u001b[0m \u001b[1;33m=\u001b[0m \u001b[1;34m\"\\n%s\\n%s\\n%s\\n\"\u001b[0m \u001b[1;33m%\u001b[0m \u001b[1;33m(\u001b[0m\u001b[0msep\u001b[0m\u001b[1;33m,\u001b[0m \u001b[0mmsg\u001b[0m\u001b[1;33m,\u001b[0m \u001b[0msep\u001b[0m\u001b[1;33m)\u001b[0m\u001b[1;33m\u001b[0m\u001b[1;33m\u001b[0m\u001b[0m\n\u001b[1;32m--> 585\u001b[1;33m     \u001b[1;32mraise\u001b[0m \u001b[0mLookupError\u001b[0m\u001b[1;33m(\u001b[0m\u001b[0mresource_not_found\u001b[0m\u001b[1;33m)\u001b[0m\u001b[1;33m\u001b[0m\u001b[1;33m\u001b[0m\u001b[0m\n\u001b[0m\u001b[0;32m    586\u001b[0m \u001b[1;33m\u001b[0m\u001b[0m\n\u001b[0;32m    587\u001b[0m \u001b[1;33m\u001b[0m\u001b[0m\n",
      "\u001b[1;31mLookupError\u001b[0m: \n**********************************************************************\n  Resource \u001b[93mpunkt\u001b[0m not found.\n  Please use the NLTK Downloader to obtain the resource:\n\n  \u001b[31m>>> import nltk\n  >>> nltk.download('punkt')\n  \u001b[0m\n  For more information see: https://www.nltk.org/data.html\n\n  Attempted to load \u001b[93mtokenizers/punkt/english.pickle\u001b[0m\n\n  Searched in:\n    - 'C:\\\\Users\\\\Jiae/nltk_data'\n    - 'C:\\\\Users\\\\Jiae\\\\anaconda3\\\\nltk_data'\n    - 'C:\\\\Users\\\\Jiae\\\\anaconda3\\\\share\\\\nltk_data'\n    - 'C:\\\\Users\\\\Jiae\\\\anaconda3\\\\lib\\\\nltk_data'\n    - 'C:\\\\Users\\\\Jiae\\\\AppData\\\\Roaming\\\\nltk_data'\n    - 'C:\\\\nltk_data'\n    - 'D:\\\\nltk_data'\n    - 'E:\\\\nltk_data'\n    - ''\n**********************************************************************\n"
     ]
    }
   ],
   "source": [
    "import nltk\n",
    "nltk.download('movie_reviews')\n",
    "\n",
    "from nltk.corpus import movie_reviews\n",
    "\n",
    "print('review count:', len(movie_reviews.fileids())) #영화 리뷰 문서의 id를 반환\n",
    "print(movie_reviews.fileids()[:10]) #id를 10개까지만 출력\n",
    "print(movie_reviews.categories()) # label, 즉 긍정인지 부정인지에 대한 분류\n",
    "print('\"neg\" reviews:', len(movie_reviews.fileids(categories='neg'))) #label이 부정인 문서들의 id를 반환\n",
    "print('\"pos\" reviews:', len(movie_reviews.fileids(categories='pos'))) #label이 긍정인 문서들의 id를 반환\n",
    "fileid = movie_reviews.fileids()[0] #첫번째 문서의 id를 반환\n",
    "print('id:', fileid)\n",
    "print(movie_reviews.raw(fileid)[:500]) #첫번째 문서의 내용을 500자까지만 출력\n",
    "print(movie_reviews.sents(fileid)[:2]) #첫번째 문서를 sentence tokenize한 결과 중 앞 두 문장\n",
    "print(movie_reviews.words(fileid)[:10]) #첫번째 문서를 word tokenize한 결과 중 앞 열 단어\n"
   ]
  },
  {
   "cell_type": "markdown",
   "metadata": {},
   "source": [
    "#### bag of words model을 이용한 feature 추출 첫번째 방법\n",
    "label 별로 각 문서들에 대한 feature를 생성 - bag_of_words() 함수를 이용\n",
    "\n",
    "하나의 label(ex. 'neg')에 1,000개의 feature set을 할당해야 하므로 단순 dictionary가 아닌 container를 사용. 각 feature는 dictionary로 이루어져 있음"
   ]
  },
  {
   "cell_type": "code",
   "execution_count": 7,
   "metadata": {},
   "outputs": [
    {
     "name": "stdout",
     "output_type": "stream",
     "text": [
      "dict_keys(['neg', 'pos'])\n"
     ]
    }
   ],
   "source": [
    "import collections\n",
    "\n",
    "#feature 추출을 위한 함수로, 앞서 정의한 bag_of_words()를 사용\n",
    "def label_feats_from_corpus(corp, feature_detector=bag_of_words): \n",
    "    label_feats = collections.defaultdict(list) # container 초기화\n",
    "    for label in corp.categories(): #''neg', 'pos' 각 label에 대해\n",
    "        for fileid in corp.fileids(categories=[label]): #각 label에 해당하는 문서들에 대해\n",
    "            feats = feature_detector(corp.words(fileids=[fileid])) #주어진 문서를 bag_of_words feature로 변환\n",
    "            label_feats[label].append(feats) #container에 feature 추가\n",
    "    return label_feats\n",
    "\n",
    "lfeats = label_feats_from_corpus(movie_reviews)\n",
    "print(lfeats.keys())"
   ]
  },
  {
   "cell_type": "code",
   "execution_count": 9,
   "metadata": {},
   "outputs": [
    {
     "data": {
      "text/plain": [
       "1000"
      ]
     },
     "execution_count": 9,
     "metadata": {},
     "output_type": "execute_result"
    }
   ],
   "source": [
    "len(lfeats['neg'])"
   ]
  },
  {
   "cell_type": "code",
   "execution_count": 11,
   "metadata": {},
   "outputs": [
    {
     "data": {
      "text/plain": [
       "'plot, :, two, teen, couples, go, to, a, church, party, ,, drink, and, then, drive, ., they, get, into, an, accident, one, of, the, guys, dies, but, his, girlfriend, continues, see, him, in, her, life, has, nightmares, what, \\', s, deal, ?, watch, movie, \", sorta, find, out, critique, mind, -, fuck, for, generation, that, touches, on, very, cool, idea, presents, it, bad, package, which, is, makes, this, review, even, harder, write, since, i, generally, applaud, films, attempt, break, mold, mess, with, your, head, such, (, lost, highway, &, memento, ), there, are, good, ways, making, all, types, these, folks, just, didn, t, snag, correctly, seem, have, taken, pretty, neat, concept, executed, terribly, so, problems, well, its, main, problem, simply, too, jumbled, starts, off, normal, downshifts, fantasy, world, you, as, audience, member, no, going, dreams, characters, coming, back, from, dead, others, who, look, like, strange, apparitions, disappearances, looooot, chase, scenes, tons, weird, things, happen, most, not, explained, now, personally, don, trying, unravel, film, every, when, does, give, me, same, clue, over, again, kind, fed, up, after, while, biggest, obviously, got, big, secret, hide, seems, want, completely, until, final, five, minutes, do, make, entertaining, thrilling, or, engaging, meantime, really, sad, part, arrow, both, dig, flicks, we, actually, figured, by, half, way, point, strangeness, did, start, little, bit, sense, still, more, guess, bottom, line, movies, should, always, sure, before, given, password, enter, understanding, mean, showing, melissa, sagemiller, running, away, visions, about, 20, throughout, plain, lazy, !, okay, people, chasing, know, need, how, giving, us, different, offering, further, insight, down, apparently, studio, took, director, chopped, themselves, shows, might, ve, been, decent, here, somewhere, suits, decided, turning, music, video, edge, would, actors, although, wes, bentley, seemed, be, playing, exact, character, he, american, beauty, only, new, neighborhood, my, kudos, holds, own, entire, feeling, unraveling, overall, doesn, stick, because, entertain, confusing, rarely, excites, feels, redundant, runtime, despite, ending, explanation, craziness, came, oh, horror, slasher, flick, packaged, someone, assuming, genre, hot, kids, also, wrapped, production, years, ago, sitting, shelves, ever, whatever, skip, where, joblo, nightmare, elm, street, 3, 7, /, 10, blair, witch, 2, crow, 9, salvation, 4, stir, echoes, 8'"
      ]
     },
     "execution_count": 11,
     "metadata": {},
     "output_type": "execute_result"
    }
   ],
   "source": [
    "\", \".join(lfeats['neg'][0])"
   ]
  },
  {
   "cell_type": "code",
   "execution_count": 13,
   "metadata": {},
   "outputs": [
    {
     "data": {
      "text/plain": [
       "{'plot': True,\n",
       " ':': True,\n",
       " 'two': True,\n",
       " 'teen': True,\n",
       " 'couples': True,\n",
       " 'go': True,\n",
       " 'to': True,\n",
       " 'a': True,\n",
       " 'church': True,\n",
       " 'party': True,\n",
       " ',': True,\n",
       " 'drink': True,\n",
       " 'and': True,\n",
       " 'then': True,\n",
       " 'drive': True,\n",
       " '.': True,\n",
       " 'they': True,\n",
       " 'get': True,\n",
       " 'into': True,\n",
       " 'an': True,\n",
       " 'accident': True,\n",
       " 'one': True,\n",
       " 'of': True,\n",
       " 'the': True,\n",
       " 'guys': True,\n",
       " 'dies': True,\n",
       " 'but': True,\n",
       " 'his': True,\n",
       " 'girlfriend': True,\n",
       " 'continues': True,\n",
       " 'see': True,\n",
       " 'him': True,\n",
       " 'in': True,\n",
       " 'her': True,\n",
       " 'life': True,\n",
       " 'has': True,\n",
       " 'nightmares': True,\n",
       " 'what': True,\n",
       " \"'\": True,\n",
       " 's': True,\n",
       " 'deal': True,\n",
       " '?': True,\n",
       " 'watch': True,\n",
       " 'movie': True,\n",
       " '\"': True,\n",
       " 'sorta': True,\n",
       " 'find': True,\n",
       " 'out': True,\n",
       " 'critique': True,\n",
       " 'mind': True,\n",
       " '-': True,\n",
       " 'fuck': True,\n",
       " 'for': True,\n",
       " 'generation': True,\n",
       " 'that': True,\n",
       " 'touches': True,\n",
       " 'on': True,\n",
       " 'very': True,\n",
       " 'cool': True,\n",
       " 'idea': True,\n",
       " 'presents': True,\n",
       " 'it': True,\n",
       " 'bad': True,\n",
       " 'package': True,\n",
       " 'which': True,\n",
       " 'is': True,\n",
       " 'makes': True,\n",
       " 'this': True,\n",
       " 'review': True,\n",
       " 'even': True,\n",
       " 'harder': True,\n",
       " 'write': True,\n",
       " 'since': True,\n",
       " 'i': True,\n",
       " 'generally': True,\n",
       " 'applaud': True,\n",
       " 'films': True,\n",
       " 'attempt': True,\n",
       " 'break': True,\n",
       " 'mold': True,\n",
       " 'mess': True,\n",
       " 'with': True,\n",
       " 'your': True,\n",
       " 'head': True,\n",
       " 'such': True,\n",
       " '(': True,\n",
       " 'lost': True,\n",
       " 'highway': True,\n",
       " '&': True,\n",
       " 'memento': True,\n",
       " ')': True,\n",
       " 'there': True,\n",
       " 'are': True,\n",
       " 'good': True,\n",
       " 'ways': True,\n",
       " 'making': True,\n",
       " 'all': True,\n",
       " 'types': True,\n",
       " 'these': True,\n",
       " 'folks': True,\n",
       " 'just': True,\n",
       " 'didn': True,\n",
       " 't': True,\n",
       " 'snag': True,\n",
       " 'correctly': True,\n",
       " 'seem': True,\n",
       " 'have': True,\n",
       " 'taken': True,\n",
       " 'pretty': True,\n",
       " 'neat': True,\n",
       " 'concept': True,\n",
       " 'executed': True,\n",
       " 'terribly': True,\n",
       " 'so': True,\n",
       " 'problems': True,\n",
       " 'well': True,\n",
       " 'its': True,\n",
       " 'main': True,\n",
       " 'problem': True,\n",
       " 'simply': True,\n",
       " 'too': True,\n",
       " 'jumbled': True,\n",
       " 'starts': True,\n",
       " 'off': True,\n",
       " 'normal': True,\n",
       " 'downshifts': True,\n",
       " 'fantasy': True,\n",
       " 'world': True,\n",
       " 'you': True,\n",
       " 'as': True,\n",
       " 'audience': True,\n",
       " 'member': True,\n",
       " 'no': True,\n",
       " 'going': True,\n",
       " 'dreams': True,\n",
       " 'characters': True,\n",
       " 'coming': True,\n",
       " 'back': True,\n",
       " 'from': True,\n",
       " 'dead': True,\n",
       " 'others': True,\n",
       " 'who': True,\n",
       " 'look': True,\n",
       " 'like': True,\n",
       " 'strange': True,\n",
       " 'apparitions': True,\n",
       " 'disappearances': True,\n",
       " 'looooot': True,\n",
       " 'chase': True,\n",
       " 'scenes': True,\n",
       " 'tons': True,\n",
       " 'weird': True,\n",
       " 'things': True,\n",
       " 'happen': True,\n",
       " 'most': True,\n",
       " 'not': True,\n",
       " 'explained': True,\n",
       " 'now': True,\n",
       " 'personally': True,\n",
       " 'don': True,\n",
       " 'trying': True,\n",
       " 'unravel': True,\n",
       " 'film': True,\n",
       " 'every': True,\n",
       " 'when': True,\n",
       " 'does': True,\n",
       " 'give': True,\n",
       " 'me': True,\n",
       " 'same': True,\n",
       " 'clue': True,\n",
       " 'over': True,\n",
       " 'again': True,\n",
       " 'kind': True,\n",
       " 'fed': True,\n",
       " 'up': True,\n",
       " 'after': True,\n",
       " 'while': True,\n",
       " 'biggest': True,\n",
       " 'obviously': True,\n",
       " 'got': True,\n",
       " 'big': True,\n",
       " 'secret': True,\n",
       " 'hide': True,\n",
       " 'seems': True,\n",
       " 'want': True,\n",
       " 'completely': True,\n",
       " 'until': True,\n",
       " 'final': True,\n",
       " 'five': True,\n",
       " 'minutes': True,\n",
       " 'do': True,\n",
       " 'make': True,\n",
       " 'entertaining': True,\n",
       " 'thrilling': True,\n",
       " 'or': True,\n",
       " 'engaging': True,\n",
       " 'meantime': True,\n",
       " 'really': True,\n",
       " 'sad': True,\n",
       " 'part': True,\n",
       " 'arrow': True,\n",
       " 'both': True,\n",
       " 'dig': True,\n",
       " 'flicks': True,\n",
       " 'we': True,\n",
       " 'actually': True,\n",
       " 'figured': True,\n",
       " 'by': True,\n",
       " 'half': True,\n",
       " 'way': True,\n",
       " 'point': True,\n",
       " 'strangeness': True,\n",
       " 'did': True,\n",
       " 'start': True,\n",
       " 'little': True,\n",
       " 'bit': True,\n",
       " 'sense': True,\n",
       " 'still': True,\n",
       " 'more': True,\n",
       " 'guess': True,\n",
       " 'bottom': True,\n",
       " 'line': True,\n",
       " 'movies': True,\n",
       " 'should': True,\n",
       " 'always': True,\n",
       " 'sure': True,\n",
       " 'before': True,\n",
       " 'given': True,\n",
       " 'password': True,\n",
       " 'enter': True,\n",
       " 'understanding': True,\n",
       " 'mean': True,\n",
       " 'showing': True,\n",
       " 'melissa': True,\n",
       " 'sagemiller': True,\n",
       " 'running': True,\n",
       " 'away': True,\n",
       " 'visions': True,\n",
       " 'about': True,\n",
       " '20': True,\n",
       " 'throughout': True,\n",
       " 'plain': True,\n",
       " 'lazy': True,\n",
       " '!': True,\n",
       " 'okay': True,\n",
       " 'people': True,\n",
       " 'chasing': True,\n",
       " 'know': True,\n",
       " 'need': True,\n",
       " 'how': True,\n",
       " 'giving': True,\n",
       " 'us': True,\n",
       " 'different': True,\n",
       " 'offering': True,\n",
       " 'further': True,\n",
       " 'insight': True,\n",
       " 'down': True,\n",
       " 'apparently': True,\n",
       " 'studio': True,\n",
       " 'took': True,\n",
       " 'director': True,\n",
       " 'chopped': True,\n",
       " 'themselves': True,\n",
       " 'shows': True,\n",
       " 'might': True,\n",
       " 've': True,\n",
       " 'been': True,\n",
       " 'decent': True,\n",
       " 'here': True,\n",
       " 'somewhere': True,\n",
       " 'suits': True,\n",
       " 'decided': True,\n",
       " 'turning': True,\n",
       " 'music': True,\n",
       " 'video': True,\n",
       " 'edge': True,\n",
       " 'would': True,\n",
       " 'actors': True,\n",
       " 'although': True,\n",
       " 'wes': True,\n",
       " 'bentley': True,\n",
       " 'seemed': True,\n",
       " 'be': True,\n",
       " 'playing': True,\n",
       " 'exact': True,\n",
       " 'character': True,\n",
       " 'he': True,\n",
       " 'american': True,\n",
       " 'beauty': True,\n",
       " 'only': True,\n",
       " 'new': True,\n",
       " 'neighborhood': True,\n",
       " 'my': True,\n",
       " 'kudos': True,\n",
       " 'holds': True,\n",
       " 'own': True,\n",
       " 'entire': True,\n",
       " 'feeling': True,\n",
       " 'unraveling': True,\n",
       " 'overall': True,\n",
       " 'doesn': True,\n",
       " 'stick': True,\n",
       " 'because': True,\n",
       " 'entertain': True,\n",
       " 'confusing': True,\n",
       " 'rarely': True,\n",
       " 'excites': True,\n",
       " 'feels': True,\n",
       " 'redundant': True,\n",
       " 'runtime': True,\n",
       " 'despite': True,\n",
       " 'ending': True,\n",
       " 'explanation': True,\n",
       " 'craziness': True,\n",
       " 'came': True,\n",
       " 'oh': True,\n",
       " 'horror': True,\n",
       " 'slasher': True,\n",
       " 'flick': True,\n",
       " 'packaged': True,\n",
       " 'someone': True,\n",
       " 'assuming': True,\n",
       " 'genre': True,\n",
       " 'hot': True,\n",
       " 'kids': True,\n",
       " 'also': True,\n",
       " 'wrapped': True,\n",
       " 'production': True,\n",
       " 'years': True,\n",
       " 'ago': True,\n",
       " 'sitting': True,\n",
       " 'shelves': True,\n",
       " 'ever': True,\n",
       " 'whatever': True,\n",
       " 'skip': True,\n",
       " 'where': True,\n",
       " 'joblo': True,\n",
       " 'nightmare': True,\n",
       " 'elm': True,\n",
       " 'street': True,\n",
       " '3': True,\n",
       " '7': True,\n",
       " '/': True,\n",
       " '10': True,\n",
       " 'blair': True,\n",
       " 'witch': True,\n",
       " '2': True,\n",
       " 'crow': True,\n",
       " '9': True,\n",
       " 'salvation': True,\n",
       " '4': True,\n",
       " 'stir': True,\n",
       " 'echoes': True,\n",
       " '8': True}"
      ]
     },
     "execution_count": 13,
     "metadata": {},
     "output_type": "execute_result"
    }
   ],
   "source": [
    "lfeats['neg'][0]"
   ]
  },
  {
   "cell_type": "markdown",
   "metadata": {},
   "source": [
    "#### bag of words model을 이용한 feature 추출 두번째 방법\n",
    "1. 각 문서를 먼저 word list와 label의 list로 변환\n",
    "2. feature 추출 대상이 되는 단어 집합 구성 - 이 때 전체 words들에 대한 frequency data를 이용해 상위 n개의 단어만으로 feature 구성이 가능\n",
    "3. 각 문서에 대해 feature 추출 대상 단어들을 대상으로 해당 단어가 문서에 있는 지의 여부를 dictionary로 생성\n",
    "4. 생성된 feature와 label로 문서들에 대한 feature set을 구성"
   ]
  },
  {
   "cell_type": "code",
   "execution_count": 15,
   "metadata": {},
   "outputs": [],
   "source": [
    "from nltk.corpus import movie_reviews\n",
    "import random\n",
    "# category 별로 fileid를 추출하고, 해당 fileid에 대해 문서의 word tokenize된 결과를 가져와서 \n",
    "# documents 집합을 구성\n",
    "documents = [(list(movie_reviews.words(fileid)), category)\n",
    "              for category in movie_reviews.categories()\n",
    "              for fileid in movie_reviews.fileids(category)]\n",
    "random.shuffle(documents)"
   ]
  },
  {
   "cell_type": "code",
   "execution_count": 16,
   "metadata": {},
   "outputs": [],
   "source": [
    "#nltk FreqDist 함수를 이용하여 단어별로 빈도 수를 계산\n",
    "all_words = nltk.FreqDist(w.lower() for w in movie_reviews.words())"
   ]
  },
  {
   "cell_type": "code",
   "execution_count": 17,
   "metadata": {},
   "outputs": [
    {
     "name": "stdout",
     "output_type": "stream",
     "text": [
      ", 77717\n",
      "the 76529\n",
      ". 65876\n",
      "a 38106\n",
      "and 35576\n",
      "of 34123\n",
      "to 31937\n",
      "' 30585\n",
      "is 25195\n",
      "in 21822\n"
     ]
    }
   ],
   "source": [
    "for word in list(all_words)[:10]:\n",
    "    print(word, all_words[word])"
   ]
  },
  {
   "cell_type": "code",
   "execution_count": 18,
   "metadata": {},
   "outputs": [
    {
     "name": "stdout",
     "output_type": "stream",
     "text": [
      ", 77717\n",
      "the 76529\n",
      ". 65876\n",
      "a 38106\n",
      "and 35576\n",
      "of 34123\n",
      "to 31937\n",
      "' 30585\n",
      "is 25195\n",
      "in 21822\n",
      "[',', 'the', '.', 'a', 'and', 'of', 'to', \"'\", 'is', 'in']\n"
     ]
    }
   ],
   "source": [
    "sorted_features = sorted(all_words, key=all_words.get, reverse=True)\n",
    "for word in sorted_features[:10]:\n",
    "    print(word, all_words[word])\n",
    "print(sorted_features[:10])"
   ]
  },
  {
   "cell_type": "code",
   "execution_count": 19,
   "metadata": {},
   "outputs": [
    {
     "name": "stdout",
     "output_type": "stream",
     "text": [
      "[',', 'the', '.', 'a', 'and', 'of', 'to', \"'\", 'is', 'in', 's', '\"', 'it', 'that', '-', ')', '(', 'as', 'with', 'for', 'his', 'this', 'film', 'i', 'he', 'but', 'on', 'are', 't', 'by', 'be', 'one', 'movie', 'an', 'who', 'not', 'you', 'from', 'at', 'was', 'have', 'they', 'has', 'her', 'all', '?', 'there', 'like', 'so', 'out', 'about', 'up', 'more', 'what', 'when', 'which', 'or', 'she', 'their', ':', 'some', 'just', 'can', 'if', 'we', 'him', 'into', 'even', 'only', 'than', 'no', 'good', 'time', 'most', 'its', 'will', 'story', 'would', 'been', 'much', 'character', 'also', 'get', 'other', 'do', 'two', 'well', 'them', 'very', 'characters', ';', 'first', '--', 'after', 'see', '!', 'way', 'because', 'make', 'life']\n"
     ]
    }
   ],
   "source": [
    "word_features = sorted_features[:2000] #빈도가 높은 상위 2000개의 단어만 추출하여 features를 구성\n",
    "\n",
    "print(word_features[:100])"
   ]
  },
  {
   "cell_type": "code",
   "execution_count": 21,
   "metadata": {},
   "outputs": [],
   "source": [
    "#주어진 document를 feature로 변환하는 함수, word_features를 사용\n",
    "def document_features(document, word_features):\n",
    "    document_words = set(document)\n",
    "    features = {}\n",
    "    for word in word_features:\n",
    "        features[word] = (word in document_words) #2000개의 단어에 대해 True, False로 입력\n",
    "    return features"
   ]
  },
  {
   "cell_type": "code",
   "execution_count": 23,
   "metadata": {},
   "outputs": [],
   "source": [
    "#위에서 만든 documents 집합에 대해 feature set을 생성\n",
    "featuresets = [(document_features(d, word_features), c) for (d,c) in documents]"
   ]
  },
  {
   "cell_type": "code",
   "execution_count": 24,
   "metadata": {},
   "outputs": [
    {
     "name": "stdout",
     "output_type": "stream",
     "text": [
      "2000\n",
      "pos\n",
      "{',': True, 'the': True, '.': True, 'a': True, 'and': True, 'of': True, 'to': True, \"'\": True, 'is': True, 'in': True, 's': True, '\"': True, 'it': True, 'that': True, '-': True, ')': True, '(': True, 'as': True, 'with': True, 'for': True, 'his': True, 'this': True, 'film': True, 'i': True, 'he': True, 'but': True, 'on': True, 'are': True, 't': True, 'by': True, 'be': True, 'one': True, 'movie': True, 'an': True, 'who': True, 'not': True, 'you': True, 'from': True, 'at': True, 'was': True, 'have': True, 'they': True, 'has': True, 'her': True, 'all': True, '?': True, 'there': True, 'like': True, 'so': False, 'out': True, 'about': True, 'up': True, 'more': True, 'what': True, 'when': True, 'which': True, 'or': True, 'she': True, 'their': True, ':': False, 'some': True, 'just': True, 'can': True, 'if': True, 'we': True, 'him': False, 'into': True, 'even': True, 'only': False, 'than': True, 'no': True, 'good': True, 'time': False, 'most': True, 'its': False, 'will': False, 'story': False, 'would': True, 'been': True, 'much': True, 'character': True, 'also': True, 'get': True, 'other': True, 'do': False, 'two': True, 'well': False, 'them': False, 'very': True, 'characters': False, ';': False, 'first': False, '--': False, 'after': False, 'see': False, '!': False, 'way': True, 'because': True, 'make': True, 'life': True, 'off': True, 'too': True, 'any': False, 'does': True, 'really': True, 'had': False, 'while': True, 'films': True, 'how': False, 'plot': False, 'little': True, 'where': True, 'people': False, 'over': True, 'could': True, 'then': False, 'me': False, 'scene': True, 'man': False, 'bad': True, 'my': False, 'never': True, 'being': True, 'best': True, 'these': True, 'don': True, 'new': True, 'doesn': False, 'scenes': True, 'many': True, 'director': False, 'such': False, 'know': True, 'were': True, 'movies': False, 'through': True, 'here': True, 'action': True, 'great': True, 're': False, 'another': True, 'love': False, 'go': False, 'made': False, 'us': True, 'big': True, 'end': True, 'something': True, 'back': False, '*': False, 'still': True, 'world': True, 'seems': True, 'work': False, 'those': True, 'makes': True, 'now': False, 'before': True, 'however': True, 'between': True, 'few': True, '/': False, 'down': False, 'every': False, 'though': False, 'better': True, 'real': True, 'audience': True, 'enough': False, 'seen': True, 'take': False, 'around': True, 'both': True, 'going': True, 'year': True, 'performance': True, 'why': False, 'should': False, 'role': True, 'isn': False, 'same': False, 'old': False, 'gets': True, 'your': False, 'may': True, 'things': False, 'think': True, 'years': False, 'last': False, 'comedy': False, 'funny': False, 'actually': True, 've': True, 'long': True, 'look': False, 'almost': True, 'own': True, 'thing': False, 'fact': True, 'nothing': False, 'say': True, 'right': True, 'john': False, 'although': True, 'played': False, 'find': True, 'script': False, 'come': False, 'ever': False, 'cast': False, 'since': True, 'did': False, 'star': False, 'plays': True, 'young': False, 'show': False, 'comes': False, 'm': False, 'part': True, 'original': True, 'actors': False, 'screen': False, 'without': False, 'again': False, 'acting': True, 'three': False, 'day': False, 'each': False, 'point': True, 'lot': True, 'least': True, 'takes': True, 'guy': True, 'quite': False, 'himself': False, 'away': False, 'during': False, 'family': False, 'effects': True, 'course': False, 'goes': True, 'minutes': False, 'interesting': False, 'might': True, 'far': False, 'high': False, 'rather': True, 'once': False, 'must': False, 'anything': False, 'place': True, 'set': True, 'yet': False, 'watch': True, 'd': True, 'making': False, 'our': True, 'wife': False, 'hard': False, 'always': True, 'fun': False, 'didn': False, 'll': False, 'seem': False, 'special': True, 'bit': True, 'times': True, 'trying': True, 'hollywood': False, 'instead': False, 'give': False, 'want': False, 'picture': False, 'kind': True, 'american': True, 'job': True, 'sense': False, 'woman': False, 'home': False, 'having': False, 'series': True, 'actor': True, 'probably': False, 'help': False, 'half': False, 'along': True, 'men': True, 'everything': False, 'pretty': True, 'becomes': True, 'sure': False, 'black': False, 'together': False, 'dialogue': False, 'money': False, 'become': False, 'gives': True, 'given': False, 'looking': False, 'whole': True, 'watching': False, 'father': False, '`': False, 'feel': False, 'everyone': False, 'music': True, 'wants': True, 'sex': False, 'less': False, 'done': False, 'horror': False, 'got': False, 'death': False, 'perhaps': True, 'city': True, 'next': False, 'especially': False, 'play': True, 'girl': False, 'mind': True, '10': False, 'moments': False, 'looks': False, 'completely': False, '2': False, 'reason': False, 'mother': False, 'whose': False, 'line': False, 'night': True, 'human': False, 'until': True, 'rest': False, 'performances': False, 'different': True, 'evil': False, 'small': False, 'james': True, 'simply': False, 'couple': True, 'put': True, 'let': False, 'anyone': True, 'ending': False, 'case': False, 'several': False, 'dead': False, 'michael': False, 'left': False, 'thought': True, 'school': False, 'shows': True, 'humor': False, 'true': True, 'lost': False, 'written': False, 'itself': True, 'friend': False, 'entire': False, 'getting': True, 'town': False, 'turns': False, 'soon': False, 'someone': False, 'second': False, 'main': False, 'stars': False, 'found': True, 'use': True, 'problem': False, 'friends': False, 'tv': False, 'top': False, 'name': False, 'begins': False, 'called': False, 'based': False, 'comic': False, 'david': False, 'head': False, 'else': True, 'idea': False, 'either': True, 'wrong': False, 'unfortunately': True, 'later': False, 'final': False, 'hand': False, 'alien': False, 'house': False, 'group': False, 'full': False, 'used': False, 'tries': False, 'often': False, 'against': True, 'war': True, 'sequence': False, 'keep': False, 'turn': False, 'playing': True, 'boy': False, 'behind': True, 'named': False, 'certainly': False, 'live': False, 'believe': True, 'under': True, 'works': True, 'relationship': True, 'face': True, 'hour': False, 'run': False, 'style': False, 'said': False, 'despite': False, 'person': False, 'finally': False, 'shot': False, 'book': False, 'doing': False, 'tell': False, 'maybe': False, 'nice': False, 'son': False, 'perfect': False, 'side': True, 'seeing': False, 'able': False, 'finds': True, 'children': False, 'days': False, 'past': False, 'summer': False, 'camera': False, 'won': False, 'including': False, 'mr': False, 'kids': False, 'lives': False, 'directed': True, 'moment': False, 'game': False, 'running': False, 'fight': True, 'supposed': False, 'video': False, 'car': False, 'matter': False, 'kevin': False, 'joe': False, 'lines': False, 'worth': False, '=': False, 'daughter': False, 'earth': False, 'starts': False, 'need': False, 'entertaining': False, 'white': False, 'start': False, 'writer': True, 'dark': False, 'short': False, 'self': False, 'worst': False, 'nearly': False, 'opening': True, 'try': False, 'upon': True, 'care': True, 'early': False, 'violence': True, 'throughout': True, 'team': False, 'production': False, 'example': True, 'beautiful': False, 'title': False, 'exactly': False, 'jack': False, 'review': False, 'major': True, 'drama': False, '&': False, 'problems': True, 'sequences': False, 'obvious': False, 'version': True, 'screenplay': False, 'known': True, 'killer': False, 'wasn': False, 'robert': False, 'disney': False, 'already': True, 'close': False, 'classic': False, 'others': False, 'hit': False, 'kill': True, 'deep': False, 'five': False, 'order': True, 'act': True, 'simple': False, 'fine': False, 'themselves': False, 'heart': False, 'roles': False, 'jackie': False, 'direction': False, 'eyes': False, 'four': False, 'question': False, 'sort': False, 'sometimes': False, 'knows': False, 'supporting': False, 'coming': False, 'voice': False, 'women': False, 'truly': False, 'save': False, 'jokes': False, 'computer': False, 'child': False, 'o': False, 'boring': False, 'tom': False, 'level': True, '1': False, 'body': False, 'guys': False, 'genre': False, 'brother': False, 'strong': False, 'stop': False, 'room': False, 'space': False, 'lee': False, 'ends': False, 'beginning': False, 'ship': False, 'york': True, 'attempt': False, 'thriller': True, 'scream': False, 'peter': False, 'aren': False, 'husband': False, 'fiction': False, 'happens': False, 'hero': False, 'novel': False, 'note': False, 'hope': False, 'king': False, 'yes': False, 'says': True, 'tells': False, 'quickly': False, 'romantic': False, 'dog': False, 'oscar': False, 'stupid': False, 'possible': True, 'saw': False, 'lead': False, 'career': False, 'murder': False, 'extremely': False, 'manages': False, 'god': False, 'mostly': False, 'wonder': False, 'particularly': False, 'future': False, 'fans': False, 'sound': True, 'worse': False, 'piece': False, 'involving': True, 'de': False, 'appears': False, 'planet': False, 'paul': False, 'involved': True, 'mean': False, 'none': False, 'taking': True, 'hours': False, 'laugh': False, 'police': False, 'sets': False, 'attention': False, 'co': False, 'hell': False, 'eventually': False, 'single': False, 'fall': False, 'falls': False, 'material': False, 'emotional': False, 'power': False, 'late': False, 'lack': False, 'dr': False, 'van': False, 'result': False, 'elements': False, 'meet': False, 'smith': False, 'science': False, 'experience': True, 'bring': True, 'wild': False, 'living': False, 'theater': False, 'interest': False, 'leads': False, 'word': False, 'feature': False, 'battle': False, 'girls': False, 'alone': False, 'obviously': True, 'george': False, 'within': True, 'usually': False, 'enjoy': False, 'guess': False, 'among': False, 'taken': False, 'feeling': False, 'laughs': False, 'aliens': False, 'talk': False, 'chance': False, 'talent': False, '3': False, 'middle': True, 'number': False, 'easy': False, 'across': True, 'needs': False, 'attempts': False, 'happen': False, 'television': False, 'chris': False, 'deal': False, 'poor': False, 'form': True, 'girlfriend': False, 'viewer': False, 'release': True, 'killed': False, 'forced': False, 'whether': False, 'wonderful': True, 'feels': False, 'oh': False, 'tale': False, 'serious': False, 'expect': False, 'except': False, 'light': False, 'success': False, 'features': False, 'premise': True, 'happy': False, 'words': False, 'leave': False, 'important': False, 'meets': False, 'history': True, 'giving': False, 'crew': False, 'type': False, 'call': False, 'turned': False, 'released': False, 'parents': False, 'art': False, 'impressive': False, 'mission': False, 'working': False, 'seemed': False, 'score': True, 'told': False, 'recent': False, 'robin': False, 'basically': False, 'entertainment': False, 'america': True, '$': False, 'surprise': False, 'apparently': False, 'easily': False, 'ryan': False, 'cool': False, 'stuff': False, 'cop': False, 'change': True, 'williams': False, 'crime': False, 'office': True, 'parts': False, 'somehow': False, 'sequel': False, 'william': False, 'cut': False, 'die': False, 'jones': False, 'credits': False, 'batman': False, 'suspense': False, 'brings': False, 'events': False, 'reality': False, 'whom': True, 'local': False, 'talking': False, 'difficult': True, 'using': False, 'went': False, 'writing': False, 'remember': False, 'near': True, 'straight': True, 'hilarious': False, 'ago': False, 'certain': True, 'ben': False, 'kid': False, 'wouldn': False, 'slow': False, 'blood': False, 'mystery': False, 'complete': False, 'red': False, 'popular': False, 'effective': True, 'am': False, 'fast': False, 'flick': True, 'due': False, 'runs': False, 'gone': False, 'return': False, 'presence': False, 'quality': False, 'dramatic': True, 'filmmakers': False, 'age': False, 'brothers': False, 'business': False, 'general': True, 'rock': False, 'sexual': False, 'present': False, 'surprisingly': False, 'anyway': False, 'uses': False, '4': False, 'personal': True, 'figure': True, 'smart': False, 'ways': False, 'decides': False, 'annoying': False, 'begin': False, 'couldn': False, 'somewhat': True, 'shots': False, 'rich': False, 'minute': False, 'law': True, 'previous': False, 'jim': False, 'successful': False, 'harry': False, 'water': False, 'similar': False, 'absolutely': False, 'motion': False, 'former': False, 'strange': False, 'came': False, 'follow': False, 'read': False, 'project': False, 'million': False, 'secret': False, 'starring': False, 'clear': True, 'familiar': False, 'romance': False, 'intelligent': False, 'third': False, 'excellent': False, 'amazing': False, 'party': False, 'budget': False, 'eye': True, 'actress': False, 'prison': False, 'latest': False, 'means': True, 'company': False, 'towards': False, 'predictable': False, 'powerful': False, 'nor': False, 'bob': False, 'beyond': False, 'visual': False, 'leaves': False, 'r': False, 'nature': False, 'following': False, 'villain': False, 'leaving': False, 'animated': False, 'low': False, 'myself': False, 'b': False, 'bill': False, 'sam': False, 'filled': False, 'wars': False, 'questions': False, 'cinema': False, 'message': True, 'box': False, 'moving': False, 'herself': False, 'country': True, 'usual': False, 'martin': False, 'definitely': False, 'add': False, 'large': False, 'clever': False, 'create': False, 'felt': False, 'stories': False, 'brilliant': False, 'ones': False, 'giant': False, 'situation': False, 'murphy': False, 'break': False, 'opens': False, 'scary': True, 'doubt': False, 'drug': False, 'bunch': False, 'thinking': False, 'solid': False, 'effect': True, 'learn': False, 'move': False, 'force': False, 'potential': False, 'seriously': False, 'follows': False, 'above': True, 'saying': False, 'huge': False, 'class': True, 'plan': False, 'agent': True, 'created': False, 'unlike': True, 'pay': False, 'non': False, 'married': False, 'mark': False, 'sweet': False, 'perfectly': False, 'ex': False, 'realize': False, 'audiences': False, 'took': False, 'decent': False, 'likely': False, 'dream': False, 'view': False, 'scott': False, 'subject': False, 'understand': False, 'happened': False, 'enjoyable': True, 'studio': False, 'immediately': False, 'open': False, 'e': False, 'points': True, 'heard': False, 'viewers': False, 'cameron': False, 'truman': False, 'bruce': True, 'frank': True, 'private': False, 'stay': False, 'fails': False, 'impossible': False, 'cold': False, 'richard': False, 'overall': False, 'merely': False, 'exciting': False, 'mess': False, 'chase': False, 'free': False, 'ten': False, 'neither': False, 'wanted': False, 'gun': False, 'appear': False, 'carter': False, 'escape': False, 'ultimately': False, '+': False, 'fan': False, 'inside': True, 'favorite': True, 'haven': False, 'modern': False, 'l': False, 'wedding': False, 'stone': False, 'trek': False, 'brought': False, 'trouble': False, 'otherwise': True, 'tim': False, '5': False, 'allen': False, 'bond': False, 'society': True, 'liked': True, 'dumb': False, 'musical': False, 'stand': False, 'political': True, 'various': False, 'talented': False, 'particular': False, 'west': False, 'state': True, 'keeps': False, 'english': False, 'silly': False, 'u': True, 'situations': False, 'park': False, 'teen': False, 'rating': False, 'slightly': False, 'steve': False, 'truth': False, 'air': False, 'element': False, 'joke': False, 'spend': False, 'key': True, 'biggest': False, 'members': False, 'effort': True, 'government': True, 'focus': False, 'eddie': False, 'soundtrack': False, 'hands': False, 'earlier': False, 'chan': False, 'purpose': True, 'today': False, 'showing': False, 'memorable': False, 'six': False, 'cannot': False, 'max': False, 'offers': False, 'rated': False, 'mars': False, 'heavy': False, 'totally': False, 'control': False, 'credit': True, 'fi': False, 'woody': False, 'ideas': False, 'sci': False, 'wait': False, 'sit': False, 'female': True, 'ask': False, 'waste': False, 'terrible': False, 'depth': False, 'simon': False, 'aspect': False, 'list': False, 'mary': False, 'sister': False, 'animation': False, 'entirely': False, 'fear': True, 'steven': False, 'moves': False, 'actual': False, 'army': True, 'british': False, 'constantly': False, 'fire': True, 'convincing': True, 'setting': False, 'gave': False, 'tension': True, 'street': False, '8': False, 'brief': False, 'ridiculous': False, 'cinematography': False, 'typical': False, 'nick': False, 'screenwriter': False, 'ability': True, 'spent': False, 'quick': False, 'violent': True, 'atmosphere': False, 'subtle': False, 'expected': False, 'fairly': False, 'seven': True, 'killing': False, 'tone': True, 'master': False, 'disaster': False, 'lots': False, 'thinks': False, 'song': False, 'cheap': False, 'suddenly': False, 'background': False, 'club': False, 'willis': True, 'whatever': True, 'highly': True, 'sees': False, 'complex': False, 'greatest': False, 'impact': False, 'beauty': False, 'front': False, 'humans': False, 'indeed': False, 'flat': False, 'grace': False, 'wrote': False, 'amusing': False, 'ii': False, 'mike': False, 'further': False, 'cute': False, 'dull': False, 'minor': False, 'recently': True, 'hate': True, 'outside': False, 'plenty': False, 'wish': False, 'godzilla': False, 'college': False, 'titanic': False, 'sounds': False, 'telling': False, 'sight': False, 'double': False, 'cinematic': False, 'queen': False, 'hold': False, 'meanwhile': False, 'awful': False, 'clearly': False, 'theme': False, 'hear': False, 'x': False, 'amount': False, 'baby': False, 'approach': False, 'dreams': False, 'shown': True, 'island': False, 'reasons': False, 'charm': False, 'miss': False, 'longer': False, 'common': True, 'sean': False, 'carry': False, 'believable': False, 'realistic': False, 'chemistry': True, 'possibly': True, 'casting': False, 'carrey': False, 'french': False, 'trailer': False, 'tough': True, 'produced': True, 'imagine': False, 'choice': False, 'ride': False, 'somewhere': False, 'hot': False, 'race': True, 'road': False, 'leader': False, 'thin': False, 'jerry': False, 'slowly': False, 'delivers': False, 'detective': False, 'brown': False, 'jackson': False, 'member': False, 'provide': False, 'president': True, 'puts': True, 'asks': False, 'critics': False, 'appearance': False, 'famous': False, 'okay': False, 'intelligence': True, 'energy': False, 'sent': False, 'spielberg': False, 'development': True, 'etc': False, 'language': False, 'blue': False, 'proves': False, 'vampire': False, 'seemingly': False, 'basic': True, 'caught': False, 'decide': False, 'opportunity': False, 'incredibly': False, 'images': False, 'band': False, 'j': False, 'writers': False, 'knew': False, 'interested': False, 'considering': False, 'boys': False, 'thanks': False, 'remains': False, 'climax': False, 'event': False, 'directing': False, 'conclusion': False, 'leading': False, 'ground': False, 'lies': False, 'forget': False, 'alive': False, 'tarzan': False, 'century': False, 'provides': True, 'trip': False, 'partner': False, 'central': False, 'tarantino': False, 'period': False, 'pace': False, 'yourself': False, 'worked': False, 'ready': False, 'date': False, 'thus': False, '1998': False, 'terrific': False, 'write': False, 'average': False, 'onto': False, 'songs': False, 'occasionally': False, 'doctor': False, 'stands': False, 'hardly': False, 'monster': False, 'led': False, 'mysterious': False, 'details': False, 'wasted': False, 'apart': False, 'aside': False, 'store': False, 'billy': False, 'boss': False, 'travolta': False, 'producer': False, 'pull': False, 'consider': False, 'pictures': False, 'becoming': False, 'cage': False, 'loud': False, 'looked': False, 'officer': False, 'twenty': False, 'system': False, 'contains': False, 'julia': False, 'subplot': False, 'missing': False, 'personality': False, 'building': True, 'learns': False, 'hong': False, 'la': False, 'apartment': False, '7': False, 'bizarre': False, 'powers': True, 'flaws': True, 'catch': False, 'lawyer': False, 'shoot': True, 'student': False, 'unique': False, '000': False, 'admit': False, 'concept': False, 'needed': False, 'thrown': False, 'christopher': False, 'laughing': False, 'green': False, 'twists': False, 'matthew': False, 'touch': True, 'waiting': False, 'victim': False, 'cover': False, 'machine': False, 'danny': False, 'mention': False, 'search': False, '1997': False, 'win': False, 'door': False, 'manner': False, 'train': False, 'saving': False, 'share': False, 'image': False, 'discovers': False, 'normal': False, 'cross': False, 'fox': False, 'returns': False, 'adult': False, 'adds': False, 'answer': False, 'adventure': False, 'lame': False, 'male': False, 'odd': True, 'singer': False, 'deserves': False, 'gore': False, 'states': True, 'include': False, 'equally': False, 'months': False, 'barely': False, 'directors': False, 'introduced': False, 'fashion': False, 'social': True, '1999': False, 'news': False, 'hair': False, 'dance': False, 'innocent': False, 'camp': True, 'teacher': False, 'became': False, 'sad': False, 'witch': False, 'includes': False, 'nights': False, 'jason': False, 'julie': False, 'latter': False, 'food': False, 'jennifer': False, 'land': False, 'menace': False, 'rate': False, 'storyline': False, 'contact': False, 'jean': False, 'elizabeth': False, 'fellow': False, 'changes': False, 'henry': False, 'hill': False, 'pulp': False, 'gay': False, 'tried': False, 'surprised': False, 'literally': False, 'walk': False, 'standard': False, '90': False, 'forward': False, 'wise': False, 'enjoyed': False, 'discover': False, 'pop': False, 'anderson': False, 'offer': False, 'recommend': False, 'public': False, 'drive': True, 'c': False, 'toy': False, 'charming': False, 'fair': False, 'chinese': False, 'rescue': False, 'terms': False, 'mouth': False, 'lucas': False, 'accident': False, 'dies': False, 'decided': False, 'edge': False, 'footage': False, 'culture': False, 'weak': False, 'presented': False, 'blade': False, 'younger': False, 'douglas': False, 'natural': False, 'born': False, 'generally': True, 'teenage': False, 'older': False, 'horrible': False, 'addition': False, 'sadly': False, 'creates': False, 'disturbing': False, 'roger': False, 'detail': False, 'devil': False, 'debut': False, 'track': False, 'developed': False, 'week': False, 'russell': False, 'attack': True, 'explain': False, 'rarely': False, 'fully': False, 'prove': False, 'exception': False, 'jeff': False, 'twist': False, 'gang': False, 'winning': False, 'jr': False, 'species': False, 'issues': True, 'fresh': False, 'rules': False, 'meaning': False, 'inspired': False, 'heroes': False, 'desperate': False, 'fighting': False, 'filmed': False, 'faces': False, 'alan': False, 'bright': False, 'ass': False, 'flying': False, 'kong': False, 'rush': False, 'forces': False, 'charles': False, 'numerous': False, 'emotions': False, 'involves': False, 'patrick': False, 'weird': False, 'apparent': False, 'information': True, 'revenge': False, 'jay': False, 'toward': True, 'surprising': False, 'twice': False, 'editing': False, 'calls': True, 'lose': False, 'vegas': False, 'stage': False, 'intended': False, 'gags': False, 'opinion': False, 'likes': False, 'crazy': False, 'owner': False, 'places': False, 'pair': False, 'genuine': False, 'epic': False, 'speak': False, 'throw': False, 'appeal': False, 'gibson': False, 'captain': False, 'military': False, '20': False, 'blair': False, 'nowhere': True, 'length': False, 'nicely': False, 'cause': True, 'pass': False, 'episode': False, 'kiss': False, 'arnold': False, 'please': False, 'hasn': False, 'phone': False, 'filmmaking': False, 'formula': False, 'boyfriend': False, 'talents': False, 'creating': False, 'kelly': False, 'buy': False, 'wide': False, 'fantasy': False, 'mood': False, 'heads': False, 'pathetic': False, 'lacks': False, 'loved': False, 'asked': False, 'mrs': False, 'witty': False, 'shakespeare': False, 'mulan': False, 'generation': False, 'affair': False, 'pieces': False, 'task': False, 'rare': False, 'kept': False, 'cameo': False, 'fascinating': True, 'ed': False, 'fbi': True, 'burton': False, 'incredible': False, 'accent': False, 'artist': False, 'superior': False, 'academy': False, 'thomas': False, 'spirit': False, 'technical': False, 'confusing': False, 'poorly': False, 'target': True, 'lover': False, 'woo': False, 'mentioned': False, 'theaters': False, 'plane': False, 'confused': False, 'dennis': False, 'rob': False, 'appropriate': True, 'christmas': False, 'considered': True, 'legend': False, 'shame': False, 'soul': False, 'matt': False, 'campbell': False, 'process': False, 'bottom': False, 'sitting': False, 'brain': False, 'creepy': False, '13': False, 'forever': False, 'dude': False, 'crap': False, 'superb': False, 'speech': False, 'ice': False, 'journey': False, 'masterpiece': False, 'intriguing': False, 'names': False, 'pick': False, 'speaking': False, 'virtually': False, 'award': False, 'worthy': False, 'marriage': False, 'deliver': False, 'cash': False, 'magic': False, 'respect': False, 'product': False, 'necessary': False, 'suppose': False, 'silent': False, 'pointless': False, 'station': False, 'affleck': False, 'dimensional': False, 'charlie': False, 'allows': True, 'avoid': False, 'meant': True, 'cops': False, 'attitude': False, 'relationships': False, 'hits': False, 'stephen': False, 'spends': False, 'relief': False, 'physical': False, 'count': False, 'reviews': False, 'appreciate': False, 'cliches': False, 'holds': False, 'pure': False, 'plans': False, 'limited': False, 'failed': False, 'pain': False, 'impression': False, 'unless': False, 'sub': False, '[': False, 'total': True, 'creature': False, 'viewing': False, 'loves': False, 'princess': False, 'kate': False, 'rising': False, 'woods': False, 'baldwin': False, 'angry': False, 'drawn': False, 'step': False, 'matrix': False, 'themes': False, 'satire': False, 'arts': False, ']': False, 'remake': False, 'wall': False, 'moral': False, 'color': False, 'ray': False, 'stuck': False, 'touching': False, 'wit': False, 'tony': True, 'hanks': False, 'continues': True, 'damn': False, 'nobody': False, 'cartoon': False, 'keeping': False, 'realized': True, 'criminal': True, 'unfunny': False, 'comedic': False, 'martial': True, 'disappointing': False, 'anti': False, 'graphic': False, 'stunning': False, 'actions': True, 'floor': False, 'emotion': False, 'soldiers': False, 'edward': True, 'comedies': False, 'driver': True, 'expectations': False, 'added': False, 'mad': False, 'angels': False, 'shallow': False, 'suspect': False, 'humorous': False, 'phantom': False, 'appealing': False, 'device': False, 'design': False, 'industry': False, 'reach': True, 'fat': False, 'blame': False, 'united': True, 'sign': False, 'portrayal': False, 'rocky': False, 'finale': False, 'grand': False, 'opposite': False, 'hotel': False, 'match': False, 'damme': False, 'speed': False, 'ok': False, 'loving': False, 'field': False, 'larry': False, 'urban': False, 'troopers': False, 'compared': False, 'apes': False, 'rose': False, 'falling': False, 'era': False, 'loses': False, 'adults': False, 'managed': False, 'dad': False, 'therefore': True, 'pg': False, 'results': True, 'guns': False, 'radio': False, 'lady': False, 'manage': False, 'spice': False, 'naked': False, 'started': False, 'intense': False, 'humanity': False, 'wonderfully': False, 'slasher': False, 'bland': False, 'imagination': False, 'walking': False, 'willing': False, 'horse': False, 'rent': False, 'mix': False, 'generated': False, 'g': True, 'utterly': False, 'scientist': False, 'washington': True, 'notice': False, 'players': False, 'teenagers': False, 'moore': False, 'board': False, 'price': False, 'frightening': False, 'tommy': False, 'spectacular': False, 'bored': False, 'jane': False, 'join': False, 'producers': False, 'johnny': False, 'zero': False, 'vampires': False, 'adaptation': False, 'dollars': False, 'parody': False, 'documentary': False, 'dvd': False, 'wayne': False, 'post': False, 'exist': False, 'matters': False, 'chosen': False, 'mel': False, 'attractive': False, 'plain': False, 'trust': False, 'safe': False, 'reading': False, 'hoping': False, 'protagonist': False, 'feelings': False, 'fate': False, 'finding': False, 'feet': True, 'visuals': False, 'spawn': False, 'compelling': False, 'hall': False, 'sympathetic': False, 'featuring': False, 'difference': False, 'professional': True, 'drugs': False, 'ford': False, 'shooting': False, 'gold': False, 'patch': False, 'build': False, 'boat': False, 'cruise': True, 'honest': False, 'media': False, 'flicks': False, 'bug': False, 'bringing': False, 'dangerous': False, 'watched': False, 'grant': False, 'smile': False, 'plus': False, 'shouldn': False, 'decision': False, 'visually': False, 'allow': False, 'starship': False, 'roberts': False, 'dying': False, 'portrayed': False, 'turning': False, 'believes': False, 'changed': False, 'shock': False, 'destroy': False, '30': False, 'crowd': False, 'broken': True, 'tired': False, 'fail': False, 'south': False, 'died': False, 'cult': False, 'fake': False, 'vincent': False, 'identity': False, 'sexy': False, 'hunt': False, 'jedi': False, 'flynt': False, 'alex': False, 'engaging': False, 'serve': False, 'snake': False, 'yeah': False, 'expecting': False, '100': False, 'decade': False, 'ups': False, 'constant': False, 'current': False, 'survive': False, 'jimmy': False, 'buddy': False, 'send': False, 'brooks': False, 'goofy': False, 'likable': False, 'humour': False, 'technology': False, 'files': False, 'babe': False, 'aspects': False, 'presents': False, 'kills': False, 'supposedly': True, 'eight': False, 'sandler': False, 'hospital': False, 'test': False, 'hidden': False, 'brian': False, 'books': False, 'promise': False, 'determined': False, 'professor': False, 'welcome': False, 'pleasure': False, 'succeeds': False, 'individual': False, 'annie': False, 'mob': False, 'ted': False, 'virus': False, 'content': False, 'gary': False, 'direct': False, 'contrived': False, 'carpenter': False, 'scale': False, 'sick': False, 'nasty': False, 'conflict': True, 'haunting': False, 'ghost': False, 'filmmaker': False, 'japanese': False, 'helps': False, 'fare': True, 'lucky': False, 'ultimate': False, 'window': True, 'support': False, 'goal': True, 'provided': False, 'genius': False, 'winner': False, 'taylor': False, 'fantastic': False, 'faith': False, 'lynch': False, 'fit': False, 'catherine': False, 'ms': False, 'paced': False, 'breaks': False, 'al': False, 'frame': False, 'travel': False, 'badly': False, 'available': False, 'cares': False, 'reeves': False, 'crash': False, 'driving': False, 'press': False, 'seagal': False, 'amy': False, '9': False, 'headed': False, 'instance': False, 'excuse': False, 'offensive': False, 'narrative': False, 'fault': False, 'bus': True, 'f': False, 'extreme': False, 'miller': False, 'guilty': False, 'grows': False, 'overly': False, 'liners': False, 'forgotten': False, 'ahead': False, 'accept': False, 'porn': False, 'directly': False, 'helen': False, 'began': False, 'lord': False, 'folks': False, 'mediocre': False, 'bar': False, 'surface': False, 'super': False, 'failure': False, '6': False, 'acted': False, 'quiet': False, 'laughable': False, 'sheer': False, 'security': False, 'emotionally': False, 'season': False, 'stuart': False, 'jail': False, 'deals': False, 'cheesy': False, 'court': False, 'beach': False, 'austin': False, 'model': False, 'outstanding': False, 'substance': False, 'nudity': False, 'slapstick': False, 'joan': False, 'reveal': False, 'placed': False, 'check': False, 'beast': False, 'hurt': False, 'bloody': False, 'acts': True, 'fame': False, 'meeting': False, 'nuclear': False, '1996': False, 'strength': False, 'center': False, 'funniest': False, 'standing': True, 'damon': False, 'clich': False, 'position': False, 'desire': False, 'driven': False, 'seat': False, 'stock': False, 'wondering': False, 'realizes': False, 'dealing': False, 'taste': False, 'routine': False, 'comparison': False, 'cinematographer': False, 'seconds': False, 'singing': False, 'gangster': False, 'responsible': False, 'football': False, 'remarkable': False, 'hunting': False, 'adams': False, 'fly': False, 'suspects': False, 'treat': False, 'hopes': False, 'heaven': False, 'myers': False, 'struggle': False, 'costumes': False, 'beat': False, 'happening': False, 'skills': False, 'ugly': False, 'figures': False, 'thoroughly': False, 'ill': False, 'surprises': False, 'player': False, 'rival': False, 'guard': False, 'anthony': True, 'strike': True, 'community': False, 'streets': False, 'hopkins': False, 'ended': False, 'originally': False, 'sarah': False, 'creative': False, 'characterization': False, 'thankfully': False, 'growing': False, 'sharp': False, 'williamson': False, 'eccentric': False, 'explained': False, 'hey': False, 'claire': False, 'steal': False, 'inevitable': False, 'joel': False, 'core': False, 'weren': False, 'sorry': False, 'built': False, 'anne': False, 'breaking': False, 'villains': False, 'critic': False, 'lets': False, 'visit': False, 'followed': False}\n"
     ]
    }
   ],
   "source": [
    "print(len(featuresets[0][0])) #첫째 feature set의 첫째 element 즉 bag_of_words feature의 수 - 상위 2000개 단어\n",
    "print(featuresets[0][1]) #첫째 feature set의 둘째 element 즉 label\n",
    "print(featuresets[0][0]) # 첫째 feature set의 내용\n"
   ]
  },
  {
   "cell_type": "markdown",
   "metadata": {},
   "source": [
    "### BOW feature set을 이용한 분류 맛보기\n"
   ]
  },
  {
   "cell_type": "code",
   "execution_count": 26,
   "metadata": {},
   "outputs": [
    {
     "name": "stdout",
     "output_type": "stream",
     "text": [
      "0.8\n",
      "Most Informative Features\n",
      "             outstanding = True              pos : neg    =     10.7 : 1.0\n",
      "                   mulan = True              pos : neg    =      8.4 : 1.0\n",
      "             wonderfully = True              pos : neg    =      7.5 : 1.0\n",
      "                  seagal = True              neg : pos    =      6.9 : 1.0\n",
      "                   damon = True              pos : neg    =      6.2 : 1.0\n"
     ]
    }
   ],
   "source": [
    "train_set, test_set = featuresets[100:], featuresets[:100] #train set과 test set으로 분리\n",
    "\n",
    "classifier = nltk.NaiveBayesClassifier.train(train_set) # train set으로 학습\n",
    "print(nltk.classify.accuracy(classifier, test_set)) # test set으로 분류기 성능을 평가\n",
    "classifier.show_most_informative_features(5) #분류기에서 가장 중요한 영향을 미치는 단어 상위 5개"
   ]
  },
  {
   "cell_type": "code",
   "execution_count": 27,
   "metadata": {},
   "outputs": [
    {
     "name": "stdout",
     "output_type": "stream",
     "text": [
      "neg\n",
      "pos\n",
      "neg\n",
      "pos\n"
     ]
    }
   ],
   "source": [
    "testfeat = bag_of_words(['the', 'actor', 'was', 'seagal']) \n",
    "print(classifier.classify(testfeat))\n",
    "testfeat = bag_of_words(['the', 'story', 'was', 'outstanding'])\n",
    "print(classifier.classify(testfeat))\n",
    "negfeat = bag_of_words(['the', 'plot', 'was', 'ludicrous']) # 터무니없는\n",
    "print(classifier.classify(negfeat))\n",
    "posfeat = bag_of_words(['kate', 'winslet', 'is', 'accessible']) # 이해가 돼!\n",
    "print(classifier.classify(posfeat))"
   ]
  },
  {
   "cell_type": "markdown",
   "metadata": {},
   "source": [
    "## Count Vector with Scikit\n"
   ]
  },
  {
   "cell_type": "code",
   "execution_count": 28,
   "metadata": {},
   "outputs": [],
   "source": [
    "# data 준비, 입력이 raw text임\n",
    "reviews = [movie_reviews.raw(fileid) for fileid in movie_reviews.fileids()]"
   ]
  },
  {
   "cell_type": "code",
   "execution_count": 30,
   "metadata": {},
   "outputs": [
    {
     "name": "stdout",
     "output_type": "stream",
     "text": [
      "CountVectorizer(vocabulary=[',', 'the', '.', 'a', 'and', 'of', 'to', \"'\", 'is',\n",
      "                            'in', 's', '\"', 'it', 'that', '-', ')', '(', 'as',\n",
      "                            'with', 'for', 'his', 'this', 'film', 'i', 'he',\n",
      "                            'but', 'on', 'are', 't', 'by', ...])\n"
     ]
    }
   ],
   "source": [
    "from sklearn.feature_extraction.text import CountVectorizer\n",
    "#cv = CountVectorizer()\n",
    "cv = CountVectorizer(vocabulary=word_features) #빈도수 상위 2,000개의 단어만 사용하여 count vector 객체를 생성\n",
    "print(cv) #객체 parameter들을 확인"
   ]
  },
  {
   "cell_type": "code",
   "execution_count": 32,
   "metadata": {},
   "outputs": [
    {
     "name": "stdout",
     "output_type": "stream",
     "text": [
      "reviews count: 2000\n"
     ]
    }
   ],
   "source": [
    "print('reviews count:', len(reviews))"
   ]
  },
  {
   "cell_type": "code",
   "execution_count": 36,
   "metadata": {},
   "outputs": [
    {
     "name": "stdout",
     "output_type": "stream",
     "text": [
      "[',', 'the', '.', 'a', 'and', 'of', 'to', \"'\", 'is', 'in', 's', '\"', 'it', 'that', '-', ')', '(', 'as', 'with', 'for', 'his', 'this', 'film', 'i', 'he', 'but', 'on', 'are', 't', 'by', 'be', 'one', 'movie', 'an', 'who', 'not', 'you', 'from', 'at', 'was', 'have', 'they', 'has', 'her', 'all', '?', 'there', 'like', 'so', 'out', 'about', 'up', 'more', 'what', 'when', 'which', 'or', 'she', 'their', ':', 'some', 'just', 'can', 'if', 'we', 'him', 'into', 'even', 'only', 'than', 'no', 'good', 'time', 'most', 'its', 'will', 'story', 'would', 'been', 'much', 'character', 'also', 'get', 'other', 'do', 'two', 'well', 'them', 'very', 'characters', ';', 'first', '--', 'after', 'see', '!', 'way', 'because', 'make', 'life']\n"
     ]
    }
   ],
   "source": [
    "X = cv.fit_transform(reviews) #review를 이용하여 count vector를 학습하고, 변환\n",
    "print(cv.get_feature_names()[:100]) # count vector에 사용된 feature 이름을 반환"
   ]
  },
  {
   "cell_type": "code",
   "execution_count": 38,
   "metadata": {},
   "outputs": [
    {
     "name": "stdout",
     "output_type": "stream",
     "text": [
      "[ 0 38  0  0 20 16 16  0 12  8  0  0 25 13  0  0  0  1  5  4  1 10  6  0\n",
      "  1 10  4 13  0  2  1  3  6  3  3  3  3  4  0  0  2  5  3  4  6  0 10  3\n",
      "  3  3  2  2  2  4  1  4  2  0  0  0  0  4  0  0  4  1  5  3  1  0  1  2\n",
      "  0  4  4  0  0  1  2  0  2  1  3  0  2  2  1  0  2  1  0  0  0  2  2  0\n",
      "  3  2  5  1]\n",
      "38\n"
     ]
    }
   ],
   "source": [
    "print(X[0].toarray()[0, :100]) #변환된 결과의 첫째 feature set 중에서 앞 100개를 출력\n",
    "print(max(X[0].toarray()[0])) #변환된 결과의 첫째 feature set 중에서 max 값"
   ]
  },
  {
   "cell_type": "code",
   "execution_count": 40,
   "metadata": {},
   "outputs": [
    {
     "name": "stdout",
     "output_type": "stream",
     "text": [
      ", : 0\n",
      "the : 38\n",
      ". : 0\n",
      "a : 0\n",
      "and : 20\n",
      "of : 16\n",
      "to : 16\n",
      "' : 0\n",
      "is : 12\n",
      "in : 8\n",
      "s : 0\n",
      "\" : 0\n",
      "it : 25\n",
      "that : 13\n",
      "- : 0\n",
      ") : 0\n",
      "( : 0\n",
      "as : 1\n",
      "with : 5\n",
      "for : 4\n"
     ]
    }
   ],
   "source": [
    "for word, count in zip(cv.get_feature_names()[:20], X[0].toarray()[0, :20]):\n",
    "    print(word, ':', count)"
   ]
  },
  {
   "cell_type": "markdown",
   "metadata": {},
   "source": [
    "## 문서 간 유사도 계산 및 가장 유사한 문서 검색\n",
    "### Cosine similarity\n",
    "(Wikipedia) a measure of similarity between two non-zero vectors of an inner product space that measures the cosine of the angle between them.\n",
    "![alt text](https://hsto.org/files/f73/289/979/f732899792f246358649e89765cd88da.png \"cos\")\n",
    "\n",
    "http://scikit-learn.org/stable/modules/generated/sklearn.metrics.pairwise.cosine_similarity.html"
   ]
  },
  {
   "cell_type": "markdown",
   "metadata": {},
   "source": [
    "## 문서 간 유사도 계산 및 가장 유사한 문서 검색\n",
    "### Cosine similarity\n",
    "(Wikipedia) a measure of similarity between two non-zero vectors of an inner product space that measures the cosine of the angle between them.\n",
    "![alt text](https://hsto.org/files/f73/289/979/f732899792f246358649e89765cd88da.png \"cos\")\n",
    "\n",
    "http://scikit-learn.org/stable/modules/generated/sklearn.metrics.pairwise.cosine_similarity.html"
   ]
  },
  {
   "cell_type": "code",
   "execution_count": 42,
   "metadata": {},
   "outputs": [
    {
     "data": {
      "image/png": "[encoded data removed]",
      "text/plain": [
       "<Figure size 432x288 with 1 Axes>"
      ]
     },
     "metadata": {
      "needs_background": "light"
     },
     "output_type": "display_data"
    }
   ],
   "source": [
    "%matplotlib inline\n",
    "import matplotlib.pyplot as plt\n",
    "import numpy as np\n",
    "x = np.arange(0,2*np.pi,0.1)   # start,stop,step\n",
    "y = np.cos(x)\n",
    "#print(x)\n",
    "plt.plot(x, y)\n",
    "plt.show()"
   ]
  },
  {
   "cell_type": "code",
   "execution_count": 44,
   "metadata": {},
   "outputs": [],
   "source": [
    "from sklearn.metrics.pairwise import cosine_similarity\n",
    "\n",
    "new_review = \"first of all it's a plot heavy mess that has bad voice talents , badly written script and fantastic animation. they are small pokemon with a powerful punch and have great psychic abilities\"\n",
    "new_vec = cv.transform([new_review]) #문서를 count vector로 변환\n",
    "\n",
    "sim_result = cosine_similarity(new_vec, X) #변환된 count vector와 기존 값들과의 similarity 계산"
   ]
  },
  {
   "cell_type": "code",
   "execution_count": 46,
   "metadata": {},
   "outputs": [
    {
     "name": "stdout",
     "output_type": "stream",
     "text": [
      "[0.47404152357849716, 0.4354705693078365, 0.4179484687443539, 0.40669013197195214, 0.4042441311205991, 0.4031257527594671, 0.39316730570210306, 0.38744458895341755, 0.3852303002224743, 0.384468719848977]\n"
     ]
    }
   ],
   "source": [
    "# https://docs.python.org/3/howto/sorting.html\n",
    "print(sorted(sim_result[0], reverse=True)[:10])"
   ]
  },
  {
   "cell_type": "code",
   "execution_count": 48,
   "metadata": {},
   "outputs": [
    {
     "data": {
      "text/plain": [
       "679"
      ]
     },
     "execution_count": 48,
     "metadata": {},
     "output_type": "execute_result"
    }
   ],
   "source": [
    "import numpy as np\n",
    "np.argmax(sim_result[0])"
   ]
  },
  {
   "cell_type": "code",
   "execution_count": 50,
   "metadata": {},
   "outputs": [
    {
     "name": "stdout",
     "output_type": "stream",
     "text": [
      " \" pokemon 3 : the movie \" has a lot of bad things in it . \n",
      "first of all it's a plot heavy mess that has bad voice talents , badly written script and fantastic animation . \n",
      "the first film came out the end of 1999 and was a huge hit grossing almost $90 million domestically . \n",
      "a sequel soon followed and even made $45 million . \n",
      "warner has released their third movie based on the immensely popular video game and tv series and its a waste of time and celluloid . \n",
      "this time ash ketchum and his friends are on their way to the johto battles ( which my little brother told me the new spinoff is \" pokemon : the johto journeys \" so go figure ) anyway he comes in contact with a young girl who's father has disappeared after trying to discover the unown . \n",
      "they are small pokemon with a powerful punch and have great psychic abilities . \n",
      "the unown bring together their psychic abilities and create entei a powerful legendary pokemon who barriers young molly's house and creates every wish she wants . \n",
      "now it's up to ash and his friends to stop this pokemon entei and show him to be a good pokemon rather than a bad one . \n",
      "too bad really that this is a bad movie , surprisingly the first movie was entertaining and somewhat absorbing , the second was a piece of trash and this one is almost in between . \n",
      "it has some good qualities ( animation , message in the end ) but the flaws seem to overpower the goods . \n",
      "i'm still not sure what the big thing is about pokemon , they are ugly little animals who speak their own name for their language ( besides meowth , my personal favorite ) and you don't understand what they are saying . \n",
      "my little brother just thought the movie was amazing , and i kept leaning over and asking him happened , or what pokemon that was . \n",
      "his response was a big lecture of how this is that , and that is this . . . he \n",
      "sure did put me in my place . \n",
      "with the second and third movie being bad , i have a feeling pokemon 4 : the movie might be a total bust as well . \n",
      " \" pokemon 3 : the movie \" has some redeeming qualities for the kids , and the pokemon fans will dig every minute of this film . \n",
      "for those parents and/or brothers and sisters who have to sit through this . . . bring a pillow . \n",
      "\n"
     ]
    }
   ],
   "source": [
    "print(reviews[679])"
   ]
  },
  {
   "cell_type": "code",
   "execution_count": 52,
   "metadata": {},
   "outputs": [
    {
     "data": {
      "text/plain": [
       "array([ 679,  176, 1152, 1575,  952,  470,  688, 1144,  103,  159],\n",
       "      dtype=int64)"
      ]
     },
     "execution_count": 52,
     "metadata": {},
     "output_type": "execute_result"
    }
   ],
   "source": [
    "(-sim_result[0]).argsort()[:10]"
   ]
  },
  {
   "cell_type": "markdown",
   "metadata": {},
   "source": [
    "## TFIDF with Scikit\n",
    "http://scikit-learn.org/stable/modules/feature_extraction.html#text-feature-extraction\n",
    "\n",
    "기존에 만든 count vector로부터 TFIDF vector로 변환\n",
    "Count vector를 거치지 않고 처음부터 TFIDF vector를 생성하는 것도 가능함 -> 나중에"
   ]
  },
  {
   "cell_type": "code",
   "execution_count": 56,
   "metadata": {},
   "outputs": [
    {
     "data": {
      "text/plain": [
       "TfidfTransformer()"
      ]
     },
     "execution_count": 56,
     "metadata": {},
     "output_type": "execute_result"
    }
   ],
   "source": [
    "from sklearn.feature_extraction.text import TfidfTransformer\n",
    "transformer = TfidfTransformer(smooth_idf=True)\n",
    "transformer"
   ]
  },
  {
   "cell_type": "code",
   "execution_count": 58,
   "metadata": {},
   "outputs": [
    {
     "name": "stdout",
     "output_type": "stream",
     "text": [
      "(2000, 2000)\n",
      "max count score of the first vector: 38\n",
      "max tfidf score of the first vector: 0.3958279594831942\n"
     ]
    }
   ],
   "source": [
    "X_tfidf = transformer.fit_transform(X)\n",
    "print(X_tfidf.shape)\n",
    "print('max count score of the first vector:', max(X[0].toarray()[0]))\n",
    "print('max tfidf score of the first vector:', max(X_tfidf[0].toarray()[0]))"
   ]
  },
  {
   "cell_type": "code",
   "execution_count": 60,
   "metadata": {},
   "outputs": [
    {
     "data": {
      "text/plain": [
       "679"
      ]
     },
     "execution_count": 60,
     "metadata": {},
     "output_type": "execute_result"
    }
   ],
   "source": [
    "new_tfidf = transformer.transform(new_vec)\n",
    "sim_result_tf = cosine_similarity(new_tfidf, X_tfidf)\n",
    "np.argmax(sim_result_tf[0])"
   ]
  },
  {
   "cell_type": "code",
   "execution_count": 61,
   "metadata": {},
   "outputs": [
    {
     "name": "stdout",
     "output_type": "stream",
     "text": [
      "[0.39386919931415737, 0.2158533727955655, 0.2055888622850777, 0.18940610744482467, 0.18862790397285573, 0.18841943811025338, 0.18329868368380425, 0.1810784645715442, 0.17853711709135542, 0.17620991687411133]\n"
     ]
    }
   ],
   "source": [
    "print(sorted(sim_result_tf[0], reverse=True)[:10])"
   ]
  },
  {
   "cell_type": "code",
   "execution_count": 62,
   "metadata": {},
   "outputs": [
    {
     "name": "stdout",
     "output_type": "stream",
     "text": [
      "Count vector: [ 679  176 1152 1575  952  470  688 1144  103  159]\n",
      "TFIDF vector: [ 679  577 1209 1933  672 1280    3  913 1596 1163]\n"
     ]
    }
   ],
   "source": [
    "#count vector에 대한 유사도 상위 문서와 tfidf에 대한 유사도 상위 문서를 비교\n",
    "print('Count vector:', (-sim_result[0]).argsort()[:10])\n",
    "print('TFIDF vector:', (-sim_result_tf[0]).argsort()[:10])"
   ]
  },
  {
   "cell_type": "markdown",
   "metadata": {},
   "source": [
    "### Jaccard Similarity\n"
   ]
  },
  {
   "cell_type": "code",
   "execution_count": 65,
   "metadata": {},
   "outputs": [
    {
     "ename": "ImportError",
     "evalue": "cannot import name 'jaccard_similarity_score' from 'sklearn.metrics' (C:\\Users\\Jiae\\anaconda3\\lib\\site-packages\\sklearn\\metrics\\__init__.py)",
     "output_type": "error",
     "traceback": [
      "\u001b[1;31m---------------------------------------------------------------------------\u001b[0m",
      "\u001b[1;31mImportError\u001b[0m                               Traceback (most recent call last)",
      "\u001b[1;32m<ipython-input-65-2831b109749f>\u001b[0m in \u001b[0;36m<module>\u001b[1;34m\u001b[0m\n\u001b[1;32m----> 1\u001b[1;33m \u001b[1;32mfrom\u001b[0m \u001b[0msklearn\u001b[0m\u001b[1;33m.\u001b[0m\u001b[0mmetrics\u001b[0m \u001b[1;32mimport\u001b[0m \u001b[0mjaccard_similarity_score\u001b[0m\u001b[1;33m\u001b[0m\u001b[1;33m\u001b[0m\u001b[0m\n\u001b[0m\u001b[0;32m      2\u001b[0m \u001b[0mtfidf_list\u001b[0m \u001b[1;33m=\u001b[0m \u001b[1;33m[\u001b[0m\u001b[1;36m679\u001b[0m\u001b[1;33m,\u001b[0m \u001b[1;36m1280\u001b[0m\u001b[1;33m,\u001b[0m  \u001b[1;36m577\u001b[0m\u001b[1;33m,\u001b[0m \u001b[1;36m1933\u001b[0m\u001b[1;33m,\u001b[0m \u001b[1;36m1209\u001b[0m\u001b[1;33m,\u001b[0m \u001b[1;36m1115\u001b[0m\u001b[1;33m,\u001b[0m \u001b[1;36m1274\u001b[0m\u001b[1;33m,\u001b[0m \u001b[1;36m913\u001b[0m\u001b[1;33m,\u001b[0m \u001b[1;36m1456\u001b[0m\u001b[1;33m,\u001b[0m \u001b[1;36m1796\u001b[0m\u001b[1;33m]\u001b[0m\u001b[1;33m\u001b[0m\u001b[1;33m\u001b[0m\u001b[0m\n\u001b[0;32m      3\u001b[0m \u001b[1;32mfor\u001b[0m \u001b[0mi\u001b[0m \u001b[1;32min\u001b[0m \u001b[0mtfidf_list\u001b[0m\u001b[1;33m:\u001b[0m\u001b[1;33m\u001b[0m\u001b[1;33m\u001b[0m\u001b[0m\n\u001b[0;32m      4\u001b[0m     \u001b[0mprint\u001b[0m\u001b[1;33m(\u001b[0m\u001b[0mjaccard_similarity_score\u001b[0m\u001b[1;33m(\u001b[0m\u001b[0mnew_vec\u001b[0m\u001b[1;33m.\u001b[0m\u001b[0mtoarray\u001b[0m\u001b[1;33m(\u001b[0m\u001b[1;33m)\u001b[0m\u001b[1;33m[\u001b[0m\u001b[1;36m0\u001b[0m\u001b[1;33m]\u001b[0m\u001b[1;33m,\u001b[0m \u001b[0mX\u001b[0m\u001b[1;33m[\u001b[0m\u001b[0mi\u001b[0m\u001b[1;33m]\u001b[0m\u001b[1;33m.\u001b[0m\u001b[0mtoarray\u001b[0m\u001b[1;33m(\u001b[0m\u001b[1;33m)\u001b[0m\u001b[1;33m[\u001b[0m\u001b[1;36m0\u001b[0m\u001b[1;33m]\u001b[0m\u001b[1;33m)\u001b[0m\u001b[1;33m)\u001b[0m\u001b[1;33m\u001b[0m\u001b[1;33m\u001b[0m\u001b[0m\n",
      "\u001b[1;31mImportError\u001b[0m: cannot import name 'jaccard_similarity_score' from 'sklearn.metrics' (C:\\Users\\Jiae\\anaconda3\\lib\\site-packages\\sklearn\\metrics\\__init__.py)"
     ]
    }
   ],
   "source": [
    "from sklearn.metrics import jaccard_similarity_score\n",
    "tfidf_list = [679, 1280,  577, 1933, 1209, 1115, 1274, 913, 1456, 1796]\n",
    "for i in tfidf_list:\n",
    "    print(jaccard_similarity_score(new_vec.toarray()[0], X[i].toarray()[0]))"
   ]
  },
  {
   "cell_type": "code",
   "execution_count": 64,
   "metadata": {},
   "outputs": [
    {
     "name": "stdout",
     "output_type": "stream",
     "text": [
      "[[0 0 0 ... 0 0 0]]\n"
     ]
    }
   ],
   "source": [
    "print(new_vec.toarray())"
   ]
  },
  {
   "cell_type": "markdown",
   "metadata": {},
   "source": [
    "### Dimension을 줄이는 방법: SVD\n",
    "lasso가 feature selection이라면, SVD는 feature extraction\n",
    "\n",
    "**Feature selection** (https://en.wikipedia.org/wiki/Feature_selection) \n",
    "\n",
    "In machine learning and statistics, feature selection, also known as variable selection, attribute selection or variable subset selection, is the process of selecting a subset of relevant features (variables, predictors) for use in model construction. Feature selection techniques are used for four reasons:\n",
    "\n",
    "* simplification of models to make them easier to interpret by researchers/users,\n",
    "* shorter training times,\n",
    "* to avoid the curse of dimensionality,\n",
    "* enhanced generalization by reducing overfitting (formally, reduction of variance)\n",
    "\n",
    "Text mining에서는 단어의 수를 다양한 방법으로 줄일 수 있음\n",
    "\n",
    "* 전처리 과정에서 의미 없는 단어 삭제\n",
    "* stopwords 삭제\n",
    "* 빈도가 낮은 단어 삭제\n",
    "* 빈도가 높은 단어 삭제\n",
    "* 결과에 영향을 미치지 않는 단어 삭제\n",
    "\n",
    "**Feature extraction**: (https://en.wikipedia.org/wiki/Feature_extraction)\n",
    "\n",
    "In machine learning, pattern recognition and in image processing, feature extraction starts from an initial set of measured data and builds derived values (features) intended to be informative and non-redundant, facilitating the subsequent learning and generalization steps, and in some cases leading to better human interpretations. Feature extraction is related to dimensionality reduction.\n",
    "\n",
    "* PCA(Principal component analysis)\n",
    "* LSA(Latent semantic analysis)\n",
    "* SVD(Singular-value decomposition)"
   ]
  },
  {
   "cell_type": "code",
   "execution_count": 72,
   "metadata": {},
   "outputs": [
    {
     "name": "stdout",
     "output_type": "stream",
     "text": [
      "[0.01514489 0.0166241  0.01317354 0.01030468 0.00756888 0.00725983\n",
      " 0.00659312 0.00580567 0.00550706 0.00504246 0.00483872 0.00470389\n",
      " 0.00453713 0.0043536  0.00431135 0.00415999 0.004104   0.00402205\n",
      " 0.00382987 0.00380754 0.0036883  0.00367408 0.00363124 0.00352173\n",
      " 0.00347459 0.00339472 0.00335051 0.00325916 0.00323815 0.00315384\n",
      " 0.00314674 0.00304913 0.00300347 0.00299865 0.00295145 0.00292693\n",
      " 0.00289485 0.00287923 0.00282802 0.00280223 0.00277773 0.00274264\n",
      " 0.00271311 0.00268979 0.00265569 0.00264501 0.00259901 0.00257714\n",
      " 0.0025622  0.00254445 0.00249797 0.00245484 0.00243712 0.00241656\n",
      " 0.00238654 0.00235366 0.00234395 0.00233282 0.00229758 0.002295\n",
      " 0.00227465 0.00226673 0.00224546 0.00223066 0.00221365 0.00220156\n",
      " 0.00219036 0.00218628 0.00216656 0.00216035 0.00215562 0.00211927\n",
      " 0.00211044 0.00207907 0.00207117 0.00205964 0.00205848 0.00203116\n",
      " 0.00202441 0.00199946 0.00199753 0.00199207 0.00197294 0.0019617\n",
      " 0.0019585  0.00193714 0.00191767 0.00191458 0.00189811 0.00186771\n",
      " 0.00185353 0.00184663 0.00183936 0.00182079 0.00180437 0.00178908\n",
      " 0.00177404 0.00176876 0.00174958 0.00173811]\n",
      "0.3301294081280183\n",
      "[29.54936635  4.36420045  3.88223926  3.4336061   2.9432501   2.88264756\n",
      "  2.74664301  2.57756775  2.51054801  2.40189889  2.35317037  2.3198506\n",
      "  2.27889108  2.23179972  2.22167603  2.1816127   2.16713559  2.14527806\n",
      "  2.0932693   2.0872057   2.05431727  2.05033882  2.03837721  2.0072858\n",
      "  1.99390129  1.97095962  1.95792141  1.93100751  1.92478453  1.89965894\n",
      "  1.89741067  1.86775163  1.85373119  1.85222777  1.83759385  1.82997386\n",
      "  1.81990837  1.81497947  1.79875771  1.79060839  1.78279738  1.77145545\n",
      "  1.76188644  1.75434521  1.74313166  1.73962107  1.72447955  1.71713989\n",
      "  1.71222068  1.70619451  1.69053883  1.67588603  1.66985071  1.66281531\n",
      "  1.65241505  1.641018    1.6376141   1.633811    1.62131504  1.62043129\n",
      "  1.61322709  1.61039551  1.60282223  1.59752576  1.59172378  1.58707378\n",
      "  1.58303285  1.58159752  1.57460225  1.57221768  1.57049958  1.55739933\n",
      "  1.55388822  1.54230728  1.5394555   1.53506889  1.5346513   1.52441458\n",
      "  1.52188451  1.51253005  1.51175704  1.50967713  1.50242339  1.49812574\n",
      "  1.49690923  1.48872122  1.48122565  1.48002615  1.47364228  1.46183106\n",
      "  1.45625308  1.45355162  1.45067424  1.44333001  1.43679407  1.43069132\n",
      "  1.42471488  1.42255847  1.41482775  1.41022141]\n"
     ]
    }
   ],
   "source": [
    "from sklearn.decomposition import TruncatedSVD\n",
    "svd = TruncatedSVD(n_components=100, n_iter=7, random_state=42) #압축할 component의 수 지정\n",
    "svd.fit(X_tfidf)  \n",
    "print(svd.explained_variance_ratio_)  #계산된 각 component가 설명하는 분산의 비율\n",
    "print(svd.explained_variance_ratio_.sum())  #선택된 component들이 설명하는 분산의 합 -> 선택한 component의 수에 따라 달라짐\n",
    "print(svd.singular_values_)  \n",
    "newX = svd.transform(X_tfidf) #선택된 component를 이용하여 2,000개의 feature로부터 feature extract (dimension reduce)"
   ]
  },
  {
   "cell_type": "code",
   "execution_count": 73,
   "metadata": {},
   "outputs": [
    {
     "name": "stdout",
     "output_type": "stream",
     "text": [
      "(100, 2000)\n",
      "(2000, 100)\n"
     ]
    }
   ],
   "source": [
    "print(svd.components_.shape)\n",
    "print(newX.shape)"
   ]
  },
  {
   "cell_type": "code",
   "execution_count": 74,
   "metadata": {},
   "outputs": [
    {
     "data": {
      "text/plain": [
       "array([-0.        ,  0.63007194,  0.        , ...,  0.00265981,\n",
       "        0.00257053,  0.00246303])"
      ]
     },
     "execution_count": 74,
     "metadata": {},
     "output_type": "execute_result"
    }
   ],
   "source": [
    "svd.components_[0]"
   ]
  },
  {
   "cell_type": "markdown",
   "metadata": {},
   "source": [
    "# 2. Text Classification\n",
    "텍스트 문서의 다양한 분류방법에 대해 학습\n",
    "\n",
    "### 데이터 준비 (복습)\n",
    "이전에 사용한 영화리뷰 데이터를 이용해서 주어진 리뷰 내용에 대해 positive와 negative를 분류하는 분류기를 학습"
   ]
  },
  {
   "cell_type": "code",
   "execution_count": 76,
   "metadata": {},
   "outputs": [
    {
     "name": "stdout",
     "output_type": "stream",
     "text": [
      "Reviews count: 2000\n",
      "Length of the first review: 4043\n",
      "Labels: {'pos', 'neg'}\n"
     ]
    }
   ],
   "source": [
    "from nltk.corpus import movie_reviews\n",
    "fileids = movie_reviews.fileids() #movie review data에서 file id를 가져옴\n",
    "reviews = [movie_reviews.raw(fileid) for fileid in fileids] #file id를 이용해 raw text file을 가져옴\n",
    "categories = [movie_reviews.categories(fileid)[0] for fileid in fileids] \n",
    "#file id를 이용해 label로 사용할 category 즉 positive와 negative 정보를 순서대로 가져옴\n",
    "\n",
    "print('Reviews count:', len(reviews))\n",
    "print('Length of the first review:', len(reviews[0]))\n",
    "print('Labels:', set(categories))"
   ]
  },
  {
   "cell_type": "markdown",
   "metadata": {},
   "source": [
    "### train set과 test set의 분리\n",
    "\n",
    "http://scikit-learn.org/stable/modules/generated/sklearn.model_selection.train_test_split.html\n",
    "\n",
    "적절한 비율로 train set과 test set을 분리하여 저장<br>\n",
    "train set은 학습에 사용되고, test set은 검증에 사용<br>\n",
    "default로 shuffle을 함: train set과 test set이 고르게 분포되도록 하기 위함"
   ]
  },
  {
   "cell_type": "code",
   "execution_count": 77,
   "metadata": {},
   "outputs": [
    {
     "name": "stdout",
     "output_type": "stream",
     "text": [
      "Train set count:  1600\n",
      "Test set count:  400\n"
     ]
    }
   ],
   "source": [
    "from sklearn.model_selection import train_test_split #sklearn에서 제공하는 split 함수를 사용\n",
    "X_train, X_test, y_train, y_test = train_test_split(reviews, categories, test_size=0.2, random_state=10)\n",
    "# sklearn의 train_test_split 함수는 먼저 data set을 shuffle하고 주어진 비율에 따라 train set과 test set을 나눠 줌\n",
    "# 위에서는 reviews를 X_train과 X_test로 8:2의 비율로 나누고, categories를 y_train과 y_test로 나눔\n",
    "# 이 때 X와 y의 순서는 동일하게 유지해서 각 입력값과 label이 정확하게 match되도록 함\n",
    "# random_state는 shuffle에서의 seed 값으로, 지정한 경우 항상 동일한 결과로 shuffle이 됨\n",
    "\n",
    "print('Train set count: ', len(X_train))\n",
    "print('Test set count: ', len(X_test))"
   ]
  },
  {
   "cell_type": "markdown",
   "metadata": {},
   "source": [
    "### TFIDF 변환\n",
    "\n",
    "http://scikit-learn.org/stable/modules/generated/sklearn.feature_extraction.text.TfidfVectorizer.html\n",
    "\n",
    "CountVectorizer로 Count Vector를 생성하고 TFIDF로 변환하는 대신, text로부터 직접 생성"
   ]
  },
  {
   "cell_type": "code",
   "execution_count": 79,
   "metadata": {},
   "outputs": [
    {
     "data": {
      "text/plain": [
       "TfidfVectorizer()"
      ]
     },
     "execution_count": 79,
     "metadata": {},
     "output_type": "execute_result"
    }
   ],
   "source": [
    "from sklearn.feature_extraction.text import TfidfVectorizer\n",
    "#sklearn에서 제공하는 TfidfVectorizer를 이용\n",
    "tfidf = TfidfVectorizer().fit(X_train) # X_train을 이용하여 vectorizer를 학습\n",
    "tfidf #vectorize에서 사용한 매개변수 값들을 확인 -> 현재는 모두 default 값을 사용, 향후 tokenizer, max_features 등을 지정할 수 있음\n",
    "# 상세한 매개변수 내용은 위 링크를 참조"
   ]
  },
  {
   "cell_type": "code",
   "execution_count": 80,
   "metadata": {},
   "outputs": [
    {
     "data": {
      "text/plain": [
       "(1600, 36310)"
      ]
     },
     "execution_count": 80,
     "metadata": {},
     "output_type": "execute_result"
    }
   ],
   "source": [
    "X_train_tfidf = tfidf.transform(X_train) #학습된 vectorizer를 이용하여 train set을 변환\n",
    "X_train_tfidf.shape # 1600 (review 수) x 36310 (전체 corpus에서 사용된 단어의 수) 크기로 vector set이 생성됨\n",
    "# matrix 안의 값은 해당 tfidf score임"
   ]
  },
  {
   "cell_type": "code",
   "execution_count": 81,
   "metadata": {},
   "outputs": [
    {
     "data": {
      "text/plain": [
       "TfidfVectorizer(max_features=2000)"
      ]
     },
     "execution_count": 81,
     "metadata": {},
     "output_type": "execute_result"
    }
   ],
   "source": [
    "tfidf = TfidfVectorizer(max_features=2000).fit(X_train) #사용된 단어의 수가 너무 많은 경우, max_feature를 제한하여 학습이 가능\n",
    "tfidf #max_factures 값이 사용된 것을 볼 수 있음"
   ]
  },
  {
   "cell_type": "code",
   "execution_count": 82,
   "metadata": {},
   "outputs": [
    {
     "name": "stdout",
     "output_type": "stream",
     "text": [
      "Train set dimension: (1600, 2000)\n",
      "Test set dimension: (400, 2000)\n"
     ]
    }
   ],
   "source": [
    "X_train_tfidf = tfidf.transform(X_train) # train set을 변환\n",
    "print('Train set dimension:', X_train_tfidf.shape) # 36310 대신 2000이 된 것을 확인\n",
    "X_test_tfidf = tfidf.transform(X_test) # test set을 변환\n",
    "print('Test set dimension:', X_test_tfidf.shape)"
   ]
  },
  {
   "cell_type": "markdown",
   "metadata": {},
   "source": [
    "## Naive Bayse Classifier (Scikit)\n",
    "\n",
    "http://scikit-learn.org/stable/modules/generated/sklearn.naive_bayes.MultinomialNB.html"
   ]
  },
  {
   "cell_type": "code",
   "execution_count": 83,
   "metadata": {},
   "outputs": [
    {
     "name": "stdout",
     "output_type": "stream",
     "text": [
      "Train set dimension: (1600, 2000)\n",
      "Test set dimension: (400, 2000)\n"
     ]
    }
   ],
   "source": [
    "#나이브 베이즈는 word count를 사용하므로 tfdif가 아닌 count vectorizer를 사용하여 학습 및 변환\n",
    "from sklearn.feature_extraction.text import CountVectorizer\n",
    "\n",
    "cv = CountVectorizer(max_features=2000).fit(X_train) #tfidf와 동일하게 max_feature를 제한하여 학습\n",
    "X_train_cv = cv.transform(X_train) # train set을 변환\n",
    "print('Train set dimension:', X_train_cv.shape) # 36310 대신 2000이 된 것을 확인\n",
    "X_test_cv = cv.transform(X_test) # test set을 변환\n",
    "print('Test set dimension:', X_test_cv.shape)"
   ]
  },
  {
   "cell_type": "code",
   "execution_count": 84,
   "metadata": {},
   "outputs": [
    {
     "data": {
      "text/plain": [
       "MultinomialNB()"
      ]
     },
     "execution_count": 84,
     "metadata": {},
     "output_type": "execute_result"
    }
   ],
   "source": [
    "from sklearn.naive_bayes import MultinomialNB #sklearn이 제공하는 MultinomialNB 를 사용\n",
    "NB_clf = MultinomialNB() # 분류기 선언\n",
    "\n",
    "NB_clf.fit(X_train_cv, y_train) #train set을 이용하여 분류기(classifier)를 학습\n",
    "#NB_clf.fit(X_train_tfidf, y_train) #tfidf 값을 사용할 수도 있으나, NB 이론에 맞지 않음"
   ]
  },
  {
   "cell_type": "code",
   "execution_count": 85,
   "metadata": {},
   "outputs": [
    {
     "name": "stdout",
     "output_type": "stream",
     "text": [
      "Train set score: 0.864\n",
      "Test set score: 0.775\n"
     ]
    }
   ],
   "source": [
    "print('Train set score: {:.3f}'.format(NB_clf.score(X_train_cv, y_train))) #train set에 대한 예측정확도를 확인\n",
    "print('Test set score: {:.3f}'.format(NB_clf.score(X_test_cv, y_test))) #test set에 대한 예측정확도를 확인\n",
    "#실제로 필요한 것은 test set에 대한 예측정확도이나, 과적합 (overfitting)의 문제가 있는지를 보기 위해 train set에 대한 예측정확도를 같이 확인\n",
    "#print('Train set score: {:.3f}'.format(NB_clf.score(X_train_tfidf, y_train)))\n",
    "#print('Test set score: {:.3f}'.format(NB_clf.score(X_test_tfidf, y_test)))"
   ]
  },
  {
   "cell_type": "code",
   "execution_count": 86,
   "metadata": {},
   "outputs": [
    {
     "name": "stdout",
     "output_type": "stream",
     "text": [
      "['pos' 'neg' 'pos']\n",
      "['neg']\n"
     ]
    }
   ],
   "source": [
    "#여러 문장에 대해 count vectorier로 변환 후 학습된 분류기로 결과를 예측\n",
    "print(NB_clf.predict(cv.transform(['the story was unimaginative', 'the plot was ludicrous', 'kate winslet is accessible'])))\n",
    "\n",
    "#위 첫째 문장에서 story를 actor로 바꿔서 예측\n",
    "print(NB_clf.predict(cv.transform(['the actor was unimaginative'])))\n",
    "#동일한 형용사라도 대상에 따라 결과가 바뀔 수 있음"
   ]
  },
  {
   "cell_type": "markdown",
   "metadata": {},
   "source": [
    "## Logistic Regression (Scikit)\n",
    "\n",
    "http://scikit-learn.org/stable/modules/generated/sklearn.linear_model.LogisticRegression.html\n",
    "\n",
    "예측하고자 하는 값 혹은 label이 연속적인 값이 아니고 분류(class)일 때 사용하는 regression 방법<br>\n",
    "분류는 binary인 경우와 multi-class인 경우가 있음<br>\n",
    "지금은 positive와 negative 두 class 중에서 선택하므로 binary classification 문제임"
   ]
  },
  {
   "cell_type": "code",
   "execution_count": 88,
   "metadata": {},
   "outputs": [
    {
     "name": "stdout",
     "output_type": "stream",
     "text": [
      "Train set score: 1.000\n",
      "Test set score: 0.825\n"
     ]
    },
    {
     "name": "stderr",
     "output_type": "stream",
     "text": [
      "C:\\Users\\Jiae\\anaconda3\\lib\\site-packages\\sklearn\\linear_model\\_logistic.py:762: ConvergenceWarning: lbfgs failed to converge (status=1):\n",
      "STOP: TOTAL NO. of ITERATIONS REACHED LIMIT.\n",
      "\n",
      "Increase the number of iterations (max_iter) or scale the data as shown in:\n",
      "    https://scikit-learn.org/stable/modules/preprocessing.html\n",
      "Please also refer to the documentation for alternative solver options:\n",
      "    https://scikit-learn.org/stable/modules/linear_model.html#logistic-regression\n",
      "  n_iter_i = _check_optimize_result(\n"
     ]
    }
   ],
   "source": [
    "from sklearn.linear_model import LogisticRegression #sklearn이 제공하는 logistic regression을 사용\n",
    "\n",
    "#count vector에 대해 regression을 해서 NB와 비교\n",
    "LR_clf_cv = LogisticRegression() #분류기 선언\n",
    "LR_clf_cv.fit(X_train_cv, y_train) # train data를 이용하여 분류기를 학습\n",
    "print('Train set score: {:.3f}'.format(LR_clf_cv.score(X_train_cv, y_train))) # train data에 대한 예측정확도 \n",
    "print('Test set score: {:.3f}'.format(LR_clf_cv.score(X_test_cv, y_test))) # test data에 대한 예측정확도\n",
    "# count vector를 이용한 regression 결과가 tfidf보다 더 좋게 나옴\n",
    "# 보통은 tfidf가 더 좋은 결과를 보이는데, 이와 같이 상황에 따라 다른 결과가 나오기도 함\n",
    "# 지금은 train data의 수가 1,600개인데 비해, 추정해야 하는 parameter의 수가 2,000개로 sample 수가 학습에 부족한 상황, \n",
    "# 따라서 예상 못한 다양한 결과가 나올 수 있음\n",
    "# 좀더 data가 많은 상황에서의 test가 필요"
   ]
  },
  {
   "cell_type": "code",
   "execution_count": 89,
   "metadata": {},
   "outputs": [
    {
     "name": "stdout",
     "output_type": "stream",
     "text": [
      "Train set score: 0.917\n",
      "Test set score: 0.820\n"
     ]
    }
   ],
   "source": [
    "#tfidf vector를 이용해서 분류기 학습\n",
    "LR_clf = LogisticRegression() #분류기 선언\n",
    "LR_clf.fit(X_train_tfidf, y_train) # train data를 이용하여 분류기를 학습\n",
    "print('Train set score: {:.3f}'.format(LR_clf.score(X_train_tfidf, y_train))) # train data에 대한 예측정확도 \n",
    "print('Test set score: {:.3f}'.format(LR_clf.score(X_test_tfidf, y_test))) # test data에 대한 예측정확도\n",
    "# NB에 비해 더 좋은 결과가 나오는 것을 확인"
   ]
  },
  {
   "cell_type": "code",
   "execution_count": 90,
   "metadata": {},
   "outputs": [
    {
     "data": {
      "text/plain": [
       "array(['neg', 'neg', 'pos'], dtype='<U3')"
      ]
     },
     "execution_count": 90,
     "metadata": {},
     "output_type": "execute_result"
    }
   ],
   "source": [
    "# NB 분류기에서 사용했던 예제로 결과 확인, 실제로 결과가 더 나아졌음을 확인할 수 있음\n",
    "LR_clf.predict(tfidf.transform(['the story was unimaginative', 'the plot was ludicrous', 'kate winslet is accessible']))"
   ]
  },
  {
   "cell_type": "markdown",
   "metadata": {},
   "source": [
    "### Ridge regression\n",
    "https://brilliant.org/wiki/ridge-regression/\n",
    "Tikhonov Regularization, colloquially known as **ridge regression**, is the most commonly used regression algorithm to approximate an answer for an equation with no unique solution. This type of problem is very common in machine learning tasks, where the \"best\" solution must be chosen using limited data.\n",
    "\n",
    "https://en.wikipedia.org/wiki/Tikhonov_regularization\n",
    "the most commonly used method of **regularization** of ill-posed problems. In statistics, the method is known as **ridge regression**, in machine learning it is known as **weight decay**, and with multiple independent discoveries.\n",
    "![](https://ds055uzetaobb.cloudfront.net/image_optimizer/37ea8b78480bb520a3e30b7113689f7b77cecc2d.png)\n",
    "http://scikit-learn.org/stable/modules/generated/sklearn.linear_model.Ridge.html\n",
    "\n",
    "Ridge regression은 과적합을 방지하기 위해 사용됨<br>\n",
    "과적합은 분류기가 training data에 지나치게 fitting되어 실제 상황 혹은 test data에서는 좋은 성능이 나타나지 않는 상황을 말함<br>\n",
    "위 그림에서 파란색의 선은 보다 간단한 초록색의 선으로 주어진 데이터를 설명할 수 있음에도 불구하고, 훨씬 복잡한 곡선으로 fitting이 되어 있으며, 이로 인해 training data에 대한 예측정확도는 높으나 test data에 대해서는 예측정확도가 떨어짐<br>\n",
    "이와 같은 현상을 방지하기 위해서는 곡선이 지나치게 복잡해지지 않도록 parameter를 억제하면 됨<br>\n",
    "Rigde regression은 parameter에 대해 제약을 줌으로써 학습과정에서 parameter가 과도하게 변하지 않도록 함<br>"
   ]
  },
  {
   "cell_type": "code",
   "execution_count": 91,
   "metadata": {},
   "outputs": [
    {
     "name": "stdout",
     "output_type": "stream",
     "text": [
      "Train set score: 0.974\n",
      "Test set score: 0.838\n"
     ]
    }
   ],
   "source": [
    "from sklearn.linear_model import RidgeClassifier\n",
    "ridge_clf = RidgeClassifier() #릿지 분류기 선언\n",
    "ridge_clf.fit(X_train_tfidf, y_train) #학습\n",
    "print('Train set score: {:.3f}'.format(ridge_clf.score(X_train_tfidf, y_train)))\n",
    "print('Test set score: {:.3f}'.format(ridge_clf.score(X_test_tfidf, y_test)))\n",
    "# 일반적으로 ridge regression을 쓰면 쓰지 않은 경우보다 train data에 대한 예측정확도는 떨어지고 test data는 올라가게 됨\n",
    "# 여기서는 train set에 대한 예측정확도가 같이 상승하는 진귀한 경우가 발생"
   ]
  },
  {
   "cell_type": "markdown",
   "metadata": {},
   "source": [
    "### Lasso regression for feature selection\n",
    "https://en.wikipedia.org/wiki/Lasso_(statistics)\n",
    "In statistics and machine learning, **lasso** (least absolute shrinkage and selection operator) (also Lasso or LASSO) is a regression analysis method that performs both **variable selection** and **regularization** in order to enhance the prediction accuracy and **interpretability** of the statistical model it produces. \n",
    "\n",
    "http://scikit-learn.org/stable/modules/generated/sklearn.linear_model.Lasso.html\n",
    "\n",
    "Lasso regression은 ridge regression과 비슷하게 parameter에 제약을 주지만, 0에 가까운 parameter를 완전히 0으로 바꿔서 결과적으로 feature를 선택하게 된다는 차이가 있음"
   ]
  },
  {
   "cell_type": "code",
   "execution_count": 92,
   "metadata": {},
   "outputs": [
    {
     "name": "stdout",
     "output_type": "stream",
     "text": [
      "Train set score: 0.804\n",
      "Test set score: 0.770\n",
      "Used features count: 78 out of 2000\n"
     ]
    }
   ],
   "source": [
    "from sklearn.linear_model import LogisticRegression\n",
    "import numpy as np\n",
    "lasso_clf = LogisticRegression(penalty='l1', solver='liblinear') # Lasso는 동일한 LogisticRegression을 사용하면서 매개변수로 지정\n",
    "lasso_clf.fit(X_train_tfidf, y_train) # train data로 학습\n",
    "print('Train set score: {:.3f}'.format(lasso_clf.score(X_train_tfidf, y_train)))\n",
    "print('Test set score: {:.3f}'.format(lasso_clf.score(X_test_tfidf, y_test)))\n",
    "print('Used features count: {}'.format(np.sum(lasso_clf.coef_ != 0)), 'out of', X_train_tfidf.shape[1]) \n",
    "# parameter 혹은 coefficient 중에서 0이 아닌 것들의 개수를 출력\n",
    "# 2000개 중에서 78개만 선택된 것을 볼 수 있음\n",
    "# 예측률은 rigde나 일반 logistic에 비해 떨어지지만, 실제로 영향을 미치는 단어들이 어떤 것들인지 확인할 수 있다는 장점이 있음"
   ]
  },
  {
   "cell_type": "code",
   "execution_count": 93,
   "metadata": {},
   "outputs": [
    {
     "name": "stdout",
     "output_type": "stream",
     "text": [
      "2000\n"
     ]
    },
    {
     "data": {
      "text/plain": [
       "['000', '10', '100', '13', '15', '1995', '1996', '1997', '1998', '1999']"
      ]
     },
     "execution_count": 93,
     "metadata": {},
     "output_type": "execute_result"
    }
   ],
   "source": [
    "print(len(tfidf.vocabulary_)) # tfidf에 사용된 단어의 수\n",
    "tfidf_voca = tfidf.get_feature_names() # tfidf에서 단어이름을 가져옴\n",
    "tfidf_voca[:10] # 앞 10개를 출력"
   ]
  },
  {
   "cell_type": "code",
   "execution_count": 94,
   "metadata": {},
   "outputs": [
    {
     "name": "stdout",
     "output_type": "stream",
     "text": [
      "[False, False, False, False, False, False, False, False, False, False, False, False, False, False, False, False, False, False, False, False, False, False, False, False, False, False, False, False, False, False, False, False, False, False, False, False, False, False, False, False, False, False, False, False, False, False, False, False, False, False, False, False, False, False, False, False, False, False, False, False, True, False, False, False, False, False, False, False, False, False, True, False, False, False, False, False, False, False, False, False, False, False, True, False, False, False, False, False, False, False, False, False, False, False, False, False, False, False, True, False]\n"
     ]
    }
   ],
   "source": [
    "print((lasso_clf.coef_ != 0)[0].tolist()[:100]) \n",
    "# lasso에 사용된 단어들 중 coefficient의 사용여부를 리스트로 변환하여 앞부터 100개를 출력해 봄"
   ]
  },
  {
   "cell_type": "code",
   "execution_count": 95,
   "metadata": {},
   "outputs": [],
   "source": [
    "selected_features = []\n",
    "for i, sign in enumerate((lasso_clf.coef_ != 0)[0].tolist()):\n",
    "    if sign: selected_features.append(tfidf_voca[i]) #사용여부가 True인 단어들만 selected_features에 저장"
   ]
  },
  {
   "cell_type": "code",
   "execution_count": 96,
   "metadata": {},
   "outputs": [
    {
     "name": "stdout",
     "output_type": "stream",
     "text": [
      "['aliens', 'also', 'and', 'any', 'as', 'attempt', 'awful', 'bad', 'batman', 'boring', 'cameron', 'carpenter', 'could', 'definitely', 'director', 'dull', 'even', 'excellent', 'family', 'great', 'hanks', 'harry', 'have', 'he', 'her', 'here', 'his', 'in', 'is', 'jackie', 'julie', 'lame', 'least', 'lebowski', 'life', 'looks', 'many', 'matrix', 'mess', 'most', 'movie', 'mulan', 'no', 'nothing', 'off', 'on', 'only', 'perfect', 'perfectly', 'plot', 'political', 'poor', 'quite', 'reason', 'ridiculous', 'scream', 'script', 'seagal', 'see', 'seen', 'shrek', 'so', 'stupid', 'supposed', 'the', 'then', 'there', 'this', 'to', 'truman', 'unfortunately', 'very', 'war', 'waste', 'well', 'west', 'why', 'worst']\n"
     ]
    },
    {
     "data": {
      "text/plain": [
       "78"
      ]
     },
     "execution_count": 96,
     "metadata": {},
     "output_type": "execute_result"
    }
   ],
   "source": [
    "print(selected_features) #78개의 선택된 단어들을 출력 - 즉 positive, negative에 결정적 영향을 미치는 단어들\n",
    "len(selected_features)"
   ]
  },
  {
   "cell_type": "code",
   "execution_count": 97,
   "metadata": {},
   "outputs": [
    {
     "data": {
      "text/plain": [
       "'aliens'"
      ]
     },
     "execution_count": 97,
     "metadata": {},
     "output_type": "execute_result"
    }
   ],
   "source": [
    "tfidf_voca[(lasso_clf.coef_ != 0)[0].tolist().index(True)]"
   ]
  },
  {
   "cell_type": "code",
   "execution_count": 98,
   "metadata": {},
   "outputs": [
    {
     "name": "stdout",
     "output_type": "stream",
     "text": [
      "['aliens', 'also', 'and', 'any', 'as', 'attempt', 'awful', 'bad', 'batman', 'boring', 'cameron', 'carpenter', 'could', 'definitely', 'director', 'dull', 'even', 'excellent', 'family', 'great', 'hanks', 'harry', 'have', 'he', 'her', 'here', 'his', 'in', 'is', 'jackie', 'julie', 'lame', 'least', 'lebowski', 'life', 'looks', 'many', 'matrix', 'mess', 'most', 'movie', 'mulan', 'no', 'nothing', 'off', 'on', 'only', 'perfect', 'perfectly', 'plot', 'political', 'poor', 'quite', 'reason', 'ridiculous', 'scream', 'script', 'seagal', 'see', 'seen', 'shrek', 'so', 'stupid', 'supposed', 'the', 'then', 'there', 'this', 'to', 'truman', 'unfortunately', 'very', 'war', 'waste', 'well', 'west', 'why', 'worst']\n"
     ]
    }
   ],
   "source": [
    "print([tfidf_voca[i] for i, j in enumerate((lasso_clf.coef_ != 0)[0].tolist()) if j]) #선택된 단어들을 출력하는 또다른 방법"
   ]
  },
  {
   "cell_type": "markdown",
   "metadata": {},
   "source": [
    "### Dimension을 줄이는 또다른 방법: SVD\n",
    "lasso가 feature selection이라면, SVD는 feature extraction\n",
    "\n",
    "**Feature selection** (https://en.wikipedia.org/wiki/Feature_selection) \n",
    "\n",
    "In machine learning and statistics, feature selection, also known as variable selection, attribute selection or variable subset selection, is the process of selecting a subset of relevant features (variables, predictors) for use in model construction. Feature selection techniques are used for four reasons:\n",
    "\n",
    "* simplification of models to make them easier to interpret by researchers/users,\n",
    "* shorter training times,\n",
    "* to avoid the curse of dimensionality,\n",
    "* enhanced generalization by reducing overfitting (formally, reduction of variance)\n",
    "\n",
    "Text mining에서는 단어의 수를 다양한 방법으로 줄일 수 있음\n",
    "\n",
    "* 전처리 과정에서 의미 없는 단어 삭제\n",
    "* stopwords 삭제\n",
    "* 빈도가 낮은 단어 삭제\n",
    "* 빈도가 높은 단어 삭제\n",
    "* 결과에 영향을 미치지 않는 단어 삭제\n",
    "\n",
    "**Feature extraction**: (https://en.wikipedia.org/wiki/Feature_extraction)\n",
    "\n",
    "In machine learning, pattern recognition and in image processing, feature extraction starts from an initial set of measured data and builds derived values (features) intended to be informative and non-redundant, facilitating the subsequent learning and generalization steps, and in some cases leading to better human interpretations. Feature extraction is related to dimensionality reduction.\n",
    "\n",
    "* PCA(Principal component analysis)\n",
    "* LSA(Latent semantic analysis)\n",
    "* SVD(Singular-value decomposition)"
   ]
  },
  {
   "cell_type": "markdown",
   "metadata": {},
   "source": [
    "### PCA(Principal component analysis)\n",
    "\n",
    "https://en.wikipedia.org/wiki/Principal_component_analysis\n",
    "\n",
    "**Principal component analysis (PCA)** is a statistical procedure that uses an *orthogonal transformation to convert a set of observations of possibly correlated variables into a set of values of linearly uncorrelated variables* called principal components. If there are {\\displaystyle n} n observations with {\\displaystyle p} p variables, then the number of distinct principal components is {\\displaystyle \\min(n-1,p)} {\\displaystyle \\min(n-1,p)}. This transformation is defined in such a way that the first principal component has the *largest possible variance* (that is, accounts for as much of the variability in the data as possible), and each succeeding component in turn has the highest variance possible under the constraint that it is orthogonal to the preceding components. The resulting vectors are an uncorrelated orthogonal basis set. PCA is sensitive to the relative scaling of the original variables.\n",
    "\n",
    "**PCA(주성분분석)**: 데이터의 분산을 최대한 보존하는 새로운 축을 찾아 변환함으로써 차원을 축소\n",
    "\n",
    "https://stats.stackexchange.com/questions/2691/making-sense-of-principal-component-analysis-eigenvectors-eigenvalues\n",
    "\n",
    "![](g1.png)\n",
    "![](pca1.gif)\n",
    "![](pca2.gif)"
   ]
  },
  {
   "cell_type": "markdown",
   "metadata": {},
   "source": [
    "### LSA(Latent Semantic Analysis)\n",
    "\n",
    "**Latent semantic analysis (LSA)** is a technique in natural language processing, in particular distributional semantics, of analyzing relationships between a set of documents and the terms they contain by producing a set of concepts related to the documents and terms. LSA assumes that *words that are close in meaning will occur in similar pieces of text* (the distributional hypothesis). A matrix containing word counts per paragraph (rows represent unique words and columns represent each paragraph) is constructed from a large piece of text and a mathematical technique called **singular value decomposition (SVD)** is used to reduce the number of rows while preserving the similarity structure among columns. Words are then compared by taking the cosine of the angle between the two vectors (or the dot product between the normalizations of the two vectors) formed by any two rows. Values close to 1 represent very similar words while values close to 0 represent very dissimilar words.\n",
    "\n",
    "**SVD(특이값 분해)** https://ratsgo.github.io/from%20frequency%20to%20semantics/2017/04/06/pcasvdlsa/\n",
    "\"*truncated SVD*는 Σ 행렬의 대각원소(특이값) 가운데 상위 t개만 골라낸 형태. 이렇게 하면 행렬 A를 원복할 수 없게 되지만, 데이터 정보를 상당히 압축했음에도 행렬 A를 근사할 수 있음.\" **잠재의미분석(LSA)** 은 바로 이 방법을 사용\"\n",
    "\n",
    "![](tSVD.png)\n",
    "\n",
    "동영상 확인: https://en.wikipedia.org/wiki/Latent_semantic_analysis"
   ]
  },
  {
   "cell_type": "markdown",
   "metadata": {},
   "source": [
    "### Scikit-learn LSA\n",
    "http://scikit-learn.org/stable/modules/generated/sklearn.decomposition.TruncatedSVD.html\n",
    "<br>\n",
    "**Dimensionality reduction using truncated SVD (aka LSA).**\n",
    "\n",
    "This transformer performs linear dimensionality reduction by means of truncated singular value decomposition (SVD). Contrary to PCA, this estimator does not center the data before computing the singular value decomposition. This means it can work with scipy.sparse matrices efficiently."
   ]
  },
  {
   "cell_type": "markdown",
   "metadata": {},
   "source": [
    "# 9주차 실습\n",
    "\n",
    "# 4.TopicTrendMoviereview_classify"
   ]
  },
  {
   "cell_type": "code",
   "execution_count": 155,
   "metadata": {},
   "outputs": [],
   "source": [
    "import matplotlib\n",
    "%matplotlib inline\n",
    "import pandas as pd"
   ]
  },
  {
   "cell_type": "code",
   "execution_count": 156,
   "metadata": {},
   "outputs": [],
   "source": [
    "data = pd.read_csv(\"movie_data_include_date.csv\", header=None, names=['review', 'rate', 'date', 'title']) #read data"
   ]
  },
  {
   "cell_type": "code",
   "execution_count": 157,
   "metadata": {},
   "outputs": [
    {
     "name": "stdout",
     "output_type": "stream",
     "text": [
      "0 review\n",
      "1 rate\n",
      "2 date\n",
      "3 title\n"
     ]
    }
   ],
   "source": [
    "for ix, name in enumerate(data.columns):\n",
    "    print(ix,name)"
   ]
  },
  {
   "cell_type": "code",
   "execution_count": 158,
   "metadata": {},
   "outputs": [
    {
     "data": {
      "text/html": [
       "<div>\n",
       "<style scoped>\n",
       "    .dataframe tbody tr th:only-of-type {\n",
       "        vertical-align: middle;\n",
       "    }\n",
       "\n",
       "    .dataframe tbody tr th {\n",
       "        vertical-align: top;\n",
       "    }\n",
       "\n",
       "    .dataframe thead th {\n",
       "        text-align: right;\n",
       "    }\n",
       "</style>\n",
       "<table border=\"1\" class=\"dataframe\">\n",
       "  <thead>\n",
       "    <tr style=\"text-align: right;\">\n",
       "      <th></th>\n",
       "      <th>review</th>\n",
       "      <th>rate</th>\n",
       "      <th>date</th>\n",
       "      <th>title</th>\n",
       "    </tr>\n",
       "  </thead>\n",
       "  <tbody>\n",
       "    <tr>\n",
       "      <th>0</th>\n",
       "      <td>돈 들인건 티가 나지만 보는 내내 하품만</td>\n",
       "      <td>1</td>\n",
       "      <td>2018.10.29</td>\n",
       "      <td>인피니티 워</td>\n",
       "    </tr>\n",
       "    <tr>\n",
       "      <th>1</th>\n",
       "      <td>몰입할수밖에 없다. 어렵게 생각할 필요없다. 내가 전투에 참여한듯 손에 땀이남.</td>\n",
       "      <td>10</td>\n",
       "      <td>2018.10.26</td>\n",
       "      <td>인피니티 워</td>\n",
       "    </tr>\n",
       "    <tr>\n",
       "      <th>2</th>\n",
       "      <td>이전 작품에 비해 더 화려하고 스케일도 커졌지만.... 전국 맛집의 음식들을 한데 ...</td>\n",
       "      <td>8</td>\n",
       "      <td>2018.10.24</td>\n",
       "      <td>인피니티 워</td>\n",
       "    </tr>\n",
       "    <tr>\n",
       "      <th>3</th>\n",
       "      <td>이 정도면 볼만하다고 할 수 있음!</td>\n",
       "      <td>8</td>\n",
       "      <td>2018.10.22</td>\n",
       "      <td>인피니티 워</td>\n",
       "    </tr>\n",
       "    <tr>\n",
       "      <th>4</th>\n",
       "      <td>재미있다</td>\n",
       "      <td>10</td>\n",
       "      <td>2018.10.20</td>\n",
       "      <td>인피니티 워</td>\n",
       "    </tr>\n",
       "  </tbody>\n",
       "</table>\n",
       "</div>"
      ],
      "text/plain": [
       "                                              review  rate        date   title\n",
       "0                             돈 들인건 티가 나지만 보는 내내 하품만     1  2018.10.29  인피니티 워\n",
       "1       몰입할수밖에 없다. 어렵게 생각할 필요없다. 내가 전투에 참여한듯 손에 땀이남.    10  2018.10.26  인피니티 워\n",
       "2  이전 작품에 비해 더 화려하고 스케일도 커졌지만.... 전국 맛집의 음식들을 한데 ...     8  2018.10.24  인피니티 워\n",
       "3                                이 정도면 볼만하다고 할 수 있음!     8  2018.10.22  인피니티 워\n",
       "4                                               재미있다    10  2018.10.20  인피니티 워"
      ]
     },
     "execution_count": 158,
     "metadata": {},
     "output_type": "execute_result"
    }
   ],
   "source": [
    "data.head()"
   ]
  },
  {
   "cell_type": "code",
   "execution_count": 159,
   "metadata": {},
   "outputs": [
    {
     "data": {
      "text/plain": [
       "pandas.core.series.Series"
      ]
     },
     "execution_count": 159,
     "metadata": {},
     "output_type": "execute_result"
    }
   ],
   "source": [
    "data.review.shape\n",
    "type(data.review)"
   ]
  },
  {
   "cell_type": "code",
   "execution_count": 160,
   "metadata": {},
   "outputs": [],
   "source": [
    "from konlpy.tag import Okt #konlpy에서 Twitter 형태소 분석기를 import\n",
    "twitter_tag = Okt()\n",
    "\n",
    "def tokenizer(str):\n",
    "    return [token for token in twitter_tag.nouns(str) if len(token) > 1]"
   ]
  },
  {
   "cell_type": "code",
   "execution_count": 161,
   "metadata": {},
   "outputs": [],
   "source": [
    "from sklearn.feature_extraction.text import CountVectorizer\n",
    "\n",
    "vec = CountVectorizer(tokenizer=tokenizer, #우선은 명사만 사용\n",
    "                      decode_error ='ignore', \n",
    "                      max_df=0.5, #너무 자주 나타나는 단어는 제외, 책에서는 0.15를 사용\n",
    "                      #min_df = 3, #3개 미만의 문서에서 나타난 단어는 제외, 여기서는 max_features를 1000으로 제한하므로 별 필요 없음\n",
    "                      max_features = 1000) #적당한 대상 단어 수를 선택\n",
    "review_cv = vec.fit_transform(data.review)"
   ]
  },
  {
   "cell_type": "code",
   "execution_count": 162,
   "metadata": {},
   "outputs": [
    {
     "data": {
      "text/plain": [
       "(14725, 1000)"
      ]
     },
     "execution_count": 162,
     "metadata": {},
     "output_type": "execute_result"
    }
   ],
   "source": [
    "review_cv.shape"
   ]
  },
  {
   "cell_type": "code",
   "execution_count": 163,
   "metadata": {},
   "outputs": [],
   "source": [
    "from sklearn.decomposition import LatentDirichletAllocation\n",
    "\n",
    "lda = LatentDirichletAllocation(n_components = 10, #추출할 topic의 수를 지정\n",
    "                                max_iter=25, #max_iter는 최종 모형에서는 5,000~10,000번 시도한다고 알려져 있음\n",
    "                                topic_word_prior= 0.1, doc_topic_prior=1.0,\n",
    "                                #topic_word_prior: beta, doc_topic_prior: alpha\n",
    "                                #일반적으로 beta는 0.1로 고정하고 alpha를 50/topic의 수 근처의 값을 시도\n",
    "                                #alpha와 beta는 낮은 값을 사용할수록 특정 토픽들이 두드러지도록 하는 효과가 있다고 합\n",
    "                                learning_method='batch', #'batch'는 'online'에 비해 더 성능이 좋고 느림, 현재는 default\n",
    "                                n_jobs= -1, #사용 processor 수, None이면 1, -1이면 모두 사용\n",
    "                                random_state=0)\n",
    "\n",
    "review_topics = lda.fit_transform(review_cv)"
   ]
  },
  {
   "cell_type": "code",
   "execution_count": 164,
   "metadata": {},
   "outputs": [
    {
     "name": "stdout",
     "output_type": "stream",
     "text": [
      "(14725, 10)\n"
     ]
    },
    {
     "data": {
      "text/plain": [
       "numpy.ndarray"
      ]
     },
     "execution_count": 164,
     "metadata": {},
     "output_type": "execute_result"
    }
   ],
   "source": [
    "print(review_topics.shape)\n",
    "type(review_topics)"
   ]
  },
  {
   "cell_type": "code",
   "execution_count": 165,
   "metadata": {},
   "outputs": [],
   "source": [
    "def print_top_words(model, feature_names, n_top_words):\n",
    "    for topic_idx, topic in enumerate(model.components_):\n",
    "        print(\"Topic #%d: \" % topic_idx, end='')\n",
    "        print(\", \".join([feature_names[i] for i in topic.argsort()[:-n_top_words - 1:-1]]))\n",
    "        #print(\", \".join([feature_names[i]+'('+str(topic[i])+')' for i in topic.argsort()[:-n_top_words - 1:-1]]))\n",
    "        # 위 slicing에서 맨 뒤 -1은 역순을 의미, 역순으로 했을 때 처음부터 n_top_words까지\n",
    "    print()"
   ]
  },
  {
   "cell_type": "code",
   "execution_count": 166,
   "metadata": {},
   "outputs": [
    {
     "name": "stdout",
     "output_type": "stream",
     "text": [
      "Topic #0: 마지막, 기대, 스토리, 내용, 마블, 부분, 하나, 노스, 조금, 다음\n",
      "Topic #1: 감동, 최고, 가족, 음악, 인생, 사랑, 마음, 영화, 현실, 우리나라\n",
      "Topic #2: 연기, 배우, 재미, 송강호, 역시, 별로, 감동, 작품, 내내, 김동욱\n",
      "Topic #3: 영화, 원작, 웹툰, 이야기, 대한, 다른, 모든, 주인공, 영화로, 아주\n",
      "Topic #4: 시간, 그냥, 평점, 수준, 관객, 영화, 천만, 이상, 최악, 이건\n",
      "Topic #5: 생각, 진짜, 눈물, 보고, 신파, 다시, 한번, 아이, 억지, 엄마\n",
      "Topic #6: 장면, 스토리, 중간, 공포영화, 공포, 추천, 보기, 한국영, 대박, 소재\n",
      "Topic #7: 영화, 사람, 정도, 감독, 한국, 완전, 이영화, 인간, 지옥, 판타지\n",
      "Topic #8: 정말, 느낌, 처음, 액션, 차태현, 연출, 몰입, 연기력, 조연, 초반\n",
      "Topic #9: 마동석, 광주, 윤계상, 역사, 가슴, 우리, 택시, 지금, 시민, 국민\n",
      "\n"
     ]
    }
   ],
   "source": [
    "print_top_words(lda,vec.get_feature_names(), 10)"
   ]
  },
  {
   "cell_type": "code",
   "execution_count": 167,
   "metadata": {},
   "outputs": [],
   "source": [
    "trend_data = pd.DataFrame(review_topics, columns=['topic'+str(i) for i in range(1, 11)])"
   ]
  },
  {
   "cell_type": "code",
   "execution_count": 168,
   "metadata": {},
   "outputs": [
    {
     "data": {
      "text/html": [
       "<div>\n",
       "<style scoped>\n",
       "    .dataframe tbody tr th:only-of-type {\n",
       "        vertical-align: middle;\n",
       "    }\n",
       "\n",
       "    .dataframe tbody tr th {\n",
       "        vertical-align: top;\n",
       "    }\n",
       "\n",
       "    .dataframe thead th {\n",
       "        text-align: right;\n",
       "    }\n",
       "</style>\n",
       "<table border=\"1\" class=\"dataframe\">\n",
       "  <thead>\n",
       "    <tr style=\"text-align: right;\">\n",
       "      <th></th>\n",
       "      <th>topic1</th>\n",
       "      <th>topic2</th>\n",
       "      <th>topic3</th>\n",
       "      <th>topic4</th>\n",
       "      <th>topic5</th>\n",
       "      <th>topic6</th>\n",
       "      <th>topic7</th>\n",
       "      <th>topic8</th>\n",
       "      <th>topic9</th>\n",
       "      <th>topic10</th>\n",
       "    </tr>\n",
       "  </thead>\n",
       "  <tbody>\n",
       "    <tr>\n",
       "      <th>0</th>\n",
       "      <td>0.165721</td>\n",
       "      <td>0.083333</td>\n",
       "      <td>0.166564</td>\n",
       "      <td>0.083333</td>\n",
       "      <td>0.083333</td>\n",
       "      <td>0.083333</td>\n",
       "      <td>0.084278</td>\n",
       "      <td>0.083333</td>\n",
       "      <td>0.083333</td>\n",
       "      <td>0.083436</td>\n",
       "    </tr>\n",
       "    <tr>\n",
       "      <th>1</th>\n",
       "      <td>0.083333</td>\n",
       "      <td>0.083333</td>\n",
       "      <td>0.083333</td>\n",
       "      <td>0.083333</td>\n",
       "      <td>0.083333</td>\n",
       "      <td>0.166667</td>\n",
       "      <td>0.083333</td>\n",
       "      <td>0.083333</td>\n",
       "      <td>0.166667</td>\n",
       "      <td>0.083333</td>\n",
       "    </tr>\n",
       "    <tr>\n",
       "      <th>2</th>\n",
       "      <td>0.235423</td>\n",
       "      <td>0.063818</td>\n",
       "      <td>0.227971</td>\n",
       "      <td>0.058864</td>\n",
       "      <td>0.058824</td>\n",
       "      <td>0.058824</td>\n",
       "      <td>0.060011</td>\n",
       "      <td>0.058824</td>\n",
       "      <td>0.116488</td>\n",
       "      <td>0.060955</td>\n",
       "    </tr>\n",
       "    <tr>\n",
       "      <th>3</th>\n",
       "      <td>0.091224</td>\n",
       "      <td>0.090909</td>\n",
       "      <td>0.090909</td>\n",
       "      <td>0.090909</td>\n",
       "      <td>0.098586</td>\n",
       "      <td>0.091493</td>\n",
       "      <td>0.092389</td>\n",
       "      <td>0.166500</td>\n",
       "      <td>0.096170</td>\n",
       "      <td>0.090909</td>\n",
       "    </tr>\n",
       "    <tr>\n",
       "      <th>4</th>\n",
       "      <td>0.100000</td>\n",
       "      <td>0.100000</td>\n",
       "      <td>0.100000</td>\n",
       "      <td>0.100000</td>\n",
       "      <td>0.100000</td>\n",
       "      <td>0.100000</td>\n",
       "      <td>0.100000</td>\n",
       "      <td>0.100000</td>\n",
       "      <td>0.100000</td>\n",
       "      <td>0.100000</td>\n",
       "    </tr>\n",
       "  </tbody>\n",
       "</table>\n",
       "</div>"
      ],
      "text/plain": [
       "     topic1    topic2    topic3    topic4    topic5    topic6    topic7  \\\n",
       "0  0.165721  0.083333  0.166564  0.083333  0.083333  0.083333  0.084278   \n",
       "1  0.083333  0.083333  0.083333  0.083333  0.083333  0.166667  0.083333   \n",
       "2  0.235423  0.063818  0.227971  0.058864  0.058824  0.058824  0.060011   \n",
       "3  0.091224  0.090909  0.090909  0.090909  0.098586  0.091493  0.092389   \n",
       "4  0.100000  0.100000  0.100000  0.100000  0.100000  0.100000  0.100000   \n",
       "\n",
       "     topic8    topic9   topic10  \n",
       "0  0.083333  0.083333  0.083436  \n",
       "1  0.083333  0.166667  0.083333  \n",
       "2  0.058824  0.116488  0.060955  \n",
       "3  0.166500  0.096170  0.090909  \n",
       "4  0.100000  0.100000  0.100000  "
      ]
     },
     "execution_count": 168,
     "metadata": {},
     "output_type": "execute_result"
    }
   ],
   "source": [
    "trend_data.head()"
   ]
  },
  {
   "cell_type": "code",
   "execution_count": 169,
   "metadata": {},
   "outputs": [],
   "source": [
    "trend_data = pd.concat([trend_data, data.date], axis=1)"
   ]
  },
  {
   "cell_type": "code",
   "execution_count": 170,
   "metadata": {},
   "outputs": [
    {
     "data": {
      "text/plain": [
       "(14725, 11)"
      ]
     },
     "execution_count": 170,
     "metadata": {},
     "output_type": "execute_result"
    }
   ],
   "source": [
    "trend_data.shape"
   ]
  },
  {
   "cell_type": "code",
   "execution_count": 171,
   "metadata": {},
   "outputs": [
    {
     "data": {
      "text/html": [
       "<div>\n",
       "<style scoped>\n",
       "    .dataframe tbody tr th:only-of-type {\n",
       "        vertical-align: middle;\n",
       "    }\n",
       "\n",
       "    .dataframe tbody tr th {\n",
       "        vertical-align: top;\n",
       "    }\n",
       "\n",
       "    .dataframe thead th {\n",
       "        text-align: right;\n",
       "    }\n",
       "</style>\n",
       "<table border=\"1\" class=\"dataframe\">\n",
       "  <thead>\n",
       "    <tr style=\"text-align: right;\">\n",
       "      <th></th>\n",
       "      <th>topic1</th>\n",
       "      <th>topic2</th>\n",
       "      <th>topic3</th>\n",
       "      <th>topic4</th>\n",
       "      <th>topic5</th>\n",
       "      <th>topic6</th>\n",
       "      <th>topic7</th>\n",
       "      <th>topic8</th>\n",
       "      <th>topic9</th>\n",
       "      <th>topic10</th>\n",
       "      <th>date</th>\n",
       "    </tr>\n",
       "  </thead>\n",
       "  <tbody>\n",
       "    <tr>\n",
       "      <th>0</th>\n",
       "      <td>0.165721</td>\n",
       "      <td>0.083333</td>\n",
       "      <td>0.166564</td>\n",
       "      <td>0.083333</td>\n",
       "      <td>0.083333</td>\n",
       "      <td>0.083333</td>\n",
       "      <td>0.084278</td>\n",
       "      <td>0.083333</td>\n",
       "      <td>0.083333</td>\n",
       "      <td>0.083436</td>\n",
       "      <td>2018.10.29</td>\n",
       "    </tr>\n",
       "    <tr>\n",
       "      <th>1</th>\n",
       "      <td>0.083333</td>\n",
       "      <td>0.083333</td>\n",
       "      <td>0.083333</td>\n",
       "      <td>0.083333</td>\n",
       "      <td>0.083333</td>\n",
       "      <td>0.166667</td>\n",
       "      <td>0.083333</td>\n",
       "      <td>0.083333</td>\n",
       "      <td>0.166667</td>\n",
       "      <td>0.083333</td>\n",
       "      <td>2018.10.26</td>\n",
       "    </tr>\n",
       "    <tr>\n",
       "      <th>2</th>\n",
       "      <td>0.235423</td>\n",
       "      <td>0.063818</td>\n",
       "      <td>0.227971</td>\n",
       "      <td>0.058864</td>\n",
       "      <td>0.058824</td>\n",
       "      <td>0.058824</td>\n",
       "      <td>0.060011</td>\n",
       "      <td>0.058824</td>\n",
       "      <td>0.116488</td>\n",
       "      <td>0.060955</td>\n",
       "      <td>2018.10.24</td>\n",
       "    </tr>\n",
       "    <tr>\n",
       "      <th>3</th>\n",
       "      <td>0.091224</td>\n",
       "      <td>0.090909</td>\n",
       "      <td>0.090909</td>\n",
       "      <td>0.090909</td>\n",
       "      <td>0.098586</td>\n",
       "      <td>0.091493</td>\n",
       "      <td>0.092389</td>\n",
       "      <td>0.166500</td>\n",
       "      <td>0.096170</td>\n",
       "      <td>0.090909</td>\n",
       "      <td>2018.10.22</td>\n",
       "    </tr>\n",
       "    <tr>\n",
       "      <th>4</th>\n",
       "      <td>0.100000</td>\n",
       "      <td>0.100000</td>\n",
       "      <td>0.100000</td>\n",
       "      <td>0.100000</td>\n",
       "      <td>0.100000</td>\n",
       "      <td>0.100000</td>\n",
       "      <td>0.100000</td>\n",
       "      <td>0.100000</td>\n",
       "      <td>0.100000</td>\n",
       "      <td>0.100000</td>\n",
       "      <td>2018.10.20</td>\n",
       "    </tr>\n",
       "  </tbody>\n",
       "</table>\n",
       "</div>"
      ],
      "text/plain": [
       "     topic1    topic2    topic3    topic4    topic5    topic6    topic7  \\\n",
       "0  0.165721  0.083333  0.166564  0.083333  0.083333  0.083333  0.084278   \n",
       "1  0.083333  0.083333  0.083333  0.083333  0.083333  0.166667  0.083333   \n",
       "2  0.235423  0.063818  0.227971  0.058864  0.058824  0.058824  0.060011   \n",
       "3  0.091224  0.090909  0.090909  0.090909  0.098586  0.091493  0.092389   \n",
       "4  0.100000  0.100000  0.100000  0.100000  0.100000  0.100000  0.100000   \n",
       "\n",
       "     topic8    topic9   topic10        date  \n",
       "0  0.083333  0.083333  0.083436  2018.10.29  \n",
       "1  0.083333  0.166667  0.083333  2018.10.26  \n",
       "2  0.058824  0.116488  0.060955  2018.10.24  \n",
       "3  0.166500  0.096170  0.090909  2018.10.22  \n",
       "4  0.100000  0.100000  0.100000  2018.10.20  "
      ]
     },
     "execution_count": 171,
     "metadata": {},
     "output_type": "execute_result"
    }
   ],
   "source": [
    "trend_data.head()"
   ]
  },
  {
   "cell_type": "code",
   "execution_count": 172,
   "metadata": {},
   "outputs": [],
   "source": [
    "trend = trend_data.groupby(['date']).mean()"
   ]
  },
  {
   "cell_type": "code",
   "execution_count": 173,
   "metadata": {},
   "outputs": [
    {
     "data": {
      "text/plain": [
       "(640, 10)"
      ]
     },
     "execution_count": 173,
     "metadata": {},
     "output_type": "execute_result"
    }
   ],
   "source": [
    "trend.shape"
   ]
  },
  {
   "cell_type": "code",
   "execution_count": 174,
   "metadata": {},
   "outputs": [
    {
     "data": {
      "text/html": [
       "<div>\n",
       "<style scoped>\n",
       "    .dataframe tbody tr th:only-of-type {\n",
       "        vertical-align: middle;\n",
       "    }\n",
       "\n",
       "    .dataframe tbody tr th {\n",
       "        vertical-align: top;\n",
       "    }\n",
       "\n",
       "    .dataframe thead th {\n",
       "        text-align: right;\n",
       "    }\n",
       "</style>\n",
       "<table border=\"1\" class=\"dataframe\">\n",
       "  <thead>\n",
       "    <tr style=\"text-align: right;\">\n",
       "      <th></th>\n",
       "      <th>topic1</th>\n",
       "      <th>topic2</th>\n",
       "      <th>topic3</th>\n",
       "      <th>topic4</th>\n",
       "      <th>topic5</th>\n",
       "      <th>topic6</th>\n",
       "      <th>topic7</th>\n",
       "      <th>topic8</th>\n",
       "      <th>topic9</th>\n",
       "      <th>topic10</th>\n",
       "    </tr>\n",
       "    <tr>\n",
       "      <th>date</th>\n",
       "      <th></th>\n",
       "      <th></th>\n",
       "      <th></th>\n",
       "      <th></th>\n",
       "      <th></th>\n",
       "      <th></th>\n",
       "      <th></th>\n",
       "      <th></th>\n",
       "      <th></th>\n",
       "      <th></th>\n",
       "    </tr>\n",
       "  </thead>\n",
       "  <tbody>\n",
       "    <tr>\n",
       "      <th>2016.04.27</th>\n",
       "      <td>0.235294</td>\n",
       "      <td>0.059863</td>\n",
       "      <td>0.058931</td>\n",
       "      <td>0.107729</td>\n",
       "      <td>0.059946</td>\n",
       "      <td>0.118210</td>\n",
       "      <td>0.058977</td>\n",
       "      <td>0.065395</td>\n",
       "      <td>0.117962</td>\n",
       "      <td>0.117693</td>\n",
       "    </tr>\n",
       "    <tr>\n",
       "      <th>2016.05.09</th>\n",
       "      <td>0.097635</td>\n",
       "      <td>0.099218</td>\n",
       "      <td>0.082968</td>\n",
       "      <td>0.167508</td>\n",
       "      <td>0.084506</td>\n",
       "      <td>0.099876</td>\n",
       "      <td>0.073356</td>\n",
       "      <td>0.084061</td>\n",
       "      <td>0.133008</td>\n",
       "      <td>0.077864</td>\n",
       "    </tr>\n",
       "    <tr>\n",
       "      <th>2016.05.20</th>\n",
       "      <td>0.167011</td>\n",
       "      <td>0.062500</td>\n",
       "      <td>0.125219</td>\n",
       "      <td>0.188248</td>\n",
       "      <td>0.063204</td>\n",
       "      <td>0.124884</td>\n",
       "      <td>0.080877</td>\n",
       "      <td>0.062500</td>\n",
       "      <td>0.063058</td>\n",
       "      <td>0.062500</td>\n",
       "    </tr>\n",
       "    <tr>\n",
       "      <th>2016.06.04</th>\n",
       "      <td>0.083333</td>\n",
       "      <td>0.083333</td>\n",
       "      <td>0.083333</td>\n",
       "      <td>0.083333</td>\n",
       "      <td>0.083333</td>\n",
       "      <td>0.083333</td>\n",
       "      <td>0.083333</td>\n",
       "      <td>0.083333</td>\n",
       "      <td>0.250000</td>\n",
       "      <td>0.083333</td>\n",
       "    </tr>\n",
       "    <tr>\n",
       "      <th>2016.07.09</th>\n",
       "      <td>0.100000</td>\n",
       "      <td>0.100000</td>\n",
       "      <td>0.100000</td>\n",
       "      <td>0.100000</td>\n",
       "      <td>0.100000</td>\n",
       "      <td>0.100000</td>\n",
       "      <td>0.100000</td>\n",
       "      <td>0.100000</td>\n",
       "      <td>0.100000</td>\n",
       "      <td>0.100000</td>\n",
       "    </tr>\n",
       "  </tbody>\n",
       "</table>\n",
       "</div>"
      ],
      "text/plain": [
       "              topic1    topic2    topic3    topic4    topic5    topic6  \\\n",
       "date                                                                     \n",
       "2016.04.27  0.235294  0.059863  0.058931  0.107729  0.059946  0.118210   \n",
       "2016.05.09  0.097635  0.099218  0.082968  0.167508  0.084506  0.099876   \n",
       "2016.05.20  0.167011  0.062500  0.125219  0.188248  0.063204  0.124884   \n",
       "2016.06.04  0.083333  0.083333  0.083333  0.083333  0.083333  0.083333   \n",
       "2016.07.09  0.100000  0.100000  0.100000  0.100000  0.100000  0.100000   \n",
       "\n",
       "              topic7    topic8    topic9   topic10  \n",
       "date                                                \n",
       "2016.04.27  0.058977  0.065395  0.117962  0.117693  \n",
       "2016.05.09  0.073356  0.084061  0.133008  0.077864  \n",
       "2016.05.20  0.080877  0.062500  0.063058  0.062500  \n",
       "2016.06.04  0.083333  0.083333  0.250000  0.083333  \n",
       "2016.07.09  0.100000  0.100000  0.100000  0.100000  "
      ]
     },
     "execution_count": 174,
     "metadata": {},
     "output_type": "execute_result"
    }
   ],
   "source": [
    "trend.head()"
   ]
  },
  {
   "cell_type": "code",
   "execution_count": 175,
   "metadata": {},
   "outputs": [
    {
     "data": {
      "text/plain": [
       "640"
      ]
     },
     "execution_count": 175,
     "metadata": {},
     "output_type": "execute_result"
    }
   ],
   "source": [
    "len(set(trend_data.date))"
   ]
  },
  {
   "cell_type": "code",
   "execution_count": 176,
   "metadata": {},
   "outputs": [],
   "source": [
    "#jupyter에서 matplotlib을 사용해 만든 graph를 화면에 표시하기 위해 필요\n",
    "%matplotlib inline \n",
    "\n",
    "import matplotlib.pyplot as plt\n",
    "\n",
    "#아래는 한글을 사용할 때 깨지는 문제에 대한 해결\n",
    "from matplotlib import font_manager, rc\n",
    "font_name = font_manager.FontProperties(fname=\"c:/Windows/Fonts/malgun.ttf\").get_name()\n",
    "rc('font', family=font_name)\n",
    "\n",
    "#그래프의 축 등에서 음수를 표시할 때 minus sign이 깨지는 것 해결\n",
    "import matplotlib as mpl\n",
    "mpl.rcParams['axes.unicode_minus'] = False"
   ]
  },
  {
   "cell_type": "code",
   "execution_count": 177,
   "metadata": {},
   "outputs": [
    {
     "data": {
      "image/png": "[encoded data removed]",
      "text/plain": [
       "<Figure size 432x288 with 1 Axes>"
      ]
     },
     "metadata": {
      "needs_background": "light"
     },
     "output_type": "display_data"
    }
   ],
   "source": [
    "plt.plot(trend.index[:100], trend.topic1[:100])\n",
    "plt.show()"
   ]
  },
  {
   "cell_type": "markdown",
   "metadata": {},
   "source": [
    "# 5.Petition_W2V_D2V"
   ]
  },
  {
   "cell_type": "code",
   "execution_count": 178,
   "metadata": {},
   "outputs": [],
   "source": [
    "import csv\n",
    "\n",
    "contents = []\n",
    "labels = []\n",
    "with open('petition_sample.csv', encoding='utf-8') as csvfile:\n",
    "    csvreader = csv.reader(csvfile)\n",
    "    for row in csvreader:\n",
    "        #print(row)\n",
    "        if row: #그 줄에 내용이 있는 경우에만\n",
    "            contents.append(row[0]) #청원내용을 contents 리스트에 추가\n",
    "            labels.append(row[1]) #청원 category를 labels 리스트에 추가"
   ]
  },
  {
   "cell_type": "code",
   "execution_count": 179,
   "metadata": {},
   "outputs": [
    {
     "name": "stdout",
     "output_type": "stream",
     "text": [
      "documents size: 4000\n",
      "labels: {'미래', '반려동물', '육아/교육', '일자리'}\n",
      "document sample: 만일 하시는 대통령님 및 각 부처 장관님,주무관님들 안녕하세요!!\\n전남 목포에서 자영업을 하는 사람입니다.\\n국정운영을 너무 잘해주셔서  감사하다는 인사를 먼저드리겠습니다.\\n제가 청원 드리고자 하는 사안은 아래와 같습니다.\\n그 사안은 개성공단 관련 부분입니다.\\n이 사안은 오래전 개성공단이 폐쇄 되고, 그와 관련되어 문제들이 돌출되면서 한번씩 생각해봤습니다.\\n개성공단의 상징성은 제가 부연하지 않아도 아주 잘 아실거라 생각 하고 요점만 정리하여 말씀드리겠습니다.\\n저는 개성공단을 북측에 꼭 설치 해야되나 하는 의문이 계속 들었습니다.\\n북측과 인접한 강원도의 적합한 지역에 제2의 개성공단을  설치하면 안되나 하고 말이지요.\\n공단이 설치가 된다면, 강원지역의 경제활성화와 중소기업에 돌아가는 혜택, 북측에 공단이 위치했을때\\n지리적 불안전에서 오는 위험 해소, 제2의 개성공단이라는 남북화해의 상징성 등을 두루 갖추지 않을까 싶습니다.\\n또한 요즘 처럼 대북관계의 긴장감에서 오는 불안함이 제2의 개성공단 설치로 인하여 대화의 창구를 열어\\n관계를 계속 유지해간다면 긴장감이 어느 정도 해소 되지 않을까 싶습니다.\\n이상으로 부족한 글 읽어주셔서 감사합니다.\n"
     ]
    }
   ],
   "source": [
    "print('documents size:', len(contents))\n",
    "print('labels:', set(labels))\n",
    "print('document sample:', contents[0])"
   ]
  },
  {
   "cell_type": "code",
   "execution_count": 180,
   "metadata": {},
   "outputs": [],
   "source": [
    "from sklearn.model_selection import train_test_split\n",
    "\n",
    "# split data and labels into a training and a test set\n",
    "X_train, X_test, y_train, y_test = train_test_split(contents, labels, random_state=0)"
   ]
  },
  {
   "cell_type": "code",
   "execution_count": 181,
   "metadata": {},
   "outputs": [],
   "source": [
    "from konlpy.tag import Okt #konlpy에서 Twitter 형태소 분석기를 import\n",
    "#from konlpy.tag import Twitter #konlpy에서 Twitter 형태소 분석기를 import\n",
    "twitter_tag = Okt()\n",
    "#twitter_tag = Twitter()"
   ]
  },
  {
   "cell_type": "code",
   "execution_count": 182,
   "metadata": {},
   "outputs": [],
   "source": [
    "def tokenize(doc):\n",
    "    #return list(filter (lambda token: len(token) > 1, twitter_tag.morphs(doc)))\n",
    "    return list(filter (lambda token: len(token) > 1, twitter_tag.nouns(doc)))"
   ]
  },
  {
   "cell_type": "code",
   "execution_count": 183,
   "metadata": {},
   "outputs": [
    {
     "name": "stdout",
     "output_type": "stream",
     "text": [
      "['문재인', '대통령', '국정', '책임', '수고', '항상', '마음속', '응원', '지지', '저', '대기업', '통신사', '협력', '업체', '외주', '노동자', '우리', '문재인', '정부', '서민', '위', '사람', '먼저', '국정', '철학', '부합', '진정', '현실', '좀더', '면', '보고', '우선', '제', '생업', '일자리', '수입', '구조', '말씀', '저', '통신', '공사', '관련', '일', '외주', '노동자', '생활', '년', '가장', '아이', '명', '이일', '아이', '물런', '한번', '안정', '고정', '수입', '우리나라', '통신사', '대기업', '구조', '이', '협력', '업체', '지역구', '어서', '모든', '설치', '시공', '설비', '관련', '장일', '그', '영세', '협력', '업체', '대부분', '외주', '일용직', '노동자', '능직', '이', '의', '관점', '그', '일', '생업', '것', '고정', '여제', '대부분', '건', '얼마', '정액', '제', '수입', '불', '안정', '있을떄', '못']\n"
     ]
    }
   ],
   "source": [
    "print(twitter_tag.nouns(X_train[1])[:100])"
   ]
  },
  {
   "cell_type": "code",
   "execution_count": 184,
   "metadata": {},
   "outputs": [
    {
     "name": "stdout",
     "output_type": "stream",
     "text": [
      "['문재인', '대통령', '님', ',', '국정', '을', '책임', '지느라', '수고', '가', '많습니다', '항상', '마음속', '으로', '응원', '하고', '지지', '합니다', '\\\\', 'n', '저', '는', '대기업', '통신사', '들', '의', '협력', '업체', '에서', '일을하는', '외주', '노동자', '입니다', '\\\\', 'n', '우리', '문재인', '정부', '가', '서민', '을', '위', '하고', '사람', '이', '먼저', '이다', '라는', '국정', '철학', '에', '부합', '하고자', '한다면', '진정', '현실', '을', '\\\\', 'n', '좀더', '면', '면', '희', '들여다', '보고', '아셔야', '합니다', '안타깝습니다', '\\\\', 'n', '우선', ',', '제', '가', '생업', '으로', '하고있는', '일자리', '수입', '원', '구조', '부터', '말씀', '드리겠습니다', '\\\\', 'n', '저', '는', '통신', '공사', '관련', '일', '을', '하고', '있는', '외주', '노동자', '생활', '을', '근']\n"
     ]
    }
   ],
   "source": [
    "print(twitter_tag.morphs(X_train[1])[:100])"
   ]
  },
  {
   "cell_type": "code",
   "execution_count": 186,
   "metadata": {},
   "outputs": [
    {
     "name": "stdout",
     "output_type": "stream",
     "text": [
      "['문재인', '대통령', '국정', '책임', '수고', '항상', '마음속', '응원', '지지', '대기업', '통신사', '협력', '업체', '외주', '노동자', '우리', '문재인', '정부', '서민', '사람', '먼저', '국정', '철학', '부합', '진정', '현실', '좀더', '보고', '우선', '생업', '일자리', '수입', '구조', '말씀', '통신', '공사', '관련', '외주', '노동자', '생활', '가장', '아이', '이일', '아이', '물런', '한번', '안정', '고정', '수입', '우리나라', '통신사', '대기업', '구조', '협력', '업체', '지역구', '어서', '모든', '설치', '시공', '설비', '관련', '장일', '영세', '협력', '업체', '대부분', '외주', '일용직', '노동자', '능직', '관점', '생업', '고정', '여제', '대부분', '얼마', '정액', '수입', '안정', '있을떄', '실정', '그것', '이일', '종사', '사람', '전국', '적지', '그간', '대기업', '협력', '업체', '갑질', '둘째', '간다', '해도', '임금', '지급', '대기업', '먼저']\n"
     ]
    }
   ],
   "source": [
    "print(tokenize(X_train[1])[:100])"
   ]
  },
  {
   "cell_type": "code",
   "execution_count": 187,
   "metadata": {},
   "outputs": [],
   "source": [
    "train_texts = [tokenize(text) for text in X_train]\n",
    "test_texts = [tokenize(text) for text in X_test]"
   ]
  },
  {
   "cell_type": "code",
   "execution_count": 188,
   "metadata": {},
   "outputs": [
    {
     "name": "stdout",
     "output_type": "stream",
     "text": [
      "train text counts: 3000 , test text counts: 1000\n",
      "train text sample 문재인 대통령님, 국정을 책임 지느라 수고가 많습니다 항상 마음속으로 응원하고 지지합니다\\n저는 대기업 통신사들의 협력업체 에서 일을하는 외주 노동자 입니다\\n우리 문재인 정부가 서민을 위하고 사람이 먼저이다 라는 국정철학에  부합 하고자 한다면 진정 현실을\\n좀더 면면희 들여다 보고 아셔야 합니다  안타깝습니다\\n우선, 제가 생업으로 하고있는 일자리 수입원 구조부터 말씀 드리겠습니다\\n저는 통신공사 관련일을 하고 있는 외주 노동자 생활을 근 20여년 해오고 있는 가장 입니다\\n아이가 3명이고 이일을 해서 아이들을 키우고 있습니다\\n물런 단한번도 안정적 이고 고정적인 수입이 없었습니다  그러면 우리나라 통신사 대기업들의 구조를\\n보면 이들은 협력업체를 지역구에 두어서 모든 설치 시공 설비 관련 현장일을 시키고 있습니다\\n그 영세한 협력업체들은 대부분 외주 일용직 노동자 들을 (기능직 이죠) 저의관점 에서는\\n그 일을 생업으로 하는 것이 고정급여제가 아니고 대부분 한건당 얼마의 정액제 입니다\\n그러다 보니 수입은 불안정 하고 일이 있을떄는 하고 없으면 못하고 그런실정 입니다\\n그것까지 탓을 할수는 없다는것은 알고 있습니다\\n이일에 종사하는 사람들이 전국에 적지 않습니다,\\n그간 대기업들의 협력업체들 에게 갑질이니, 머니 그런것은 둘째로 치고 넘어 간다고 해도\\n임금 지급은 당연히 대기업 에서 먼저 물어야 하는데  온갇 이유를 들어 일을한지 월수로는 3개월 인데도\\n미비한것이 있다고 하여, 한푼도 지급하지 않고 있는 이런 행태를 과연\\n누가 진정 단한사람도 알고나 있는지요\\n대기업협력사 들은 고양이 목에 방울거는 형태라 말한마디도 못하고  그 영세한 협력업체들은\\n대기업들 에서 정산이 안되었다고 하며 돈을 지급하지 않고\\n그러면 그 노동자 들은 어떻겠습니까?\\n그런 오랜 악습이 수십년 동안 진행 되다가 지금은 다소 개선이 된줄알고 있는데 예전보다는 나아졌는데\\n이들 대기업들의 해묵은 악습은 또다시 명절을 앞두고 있는 지금 이시점에 벌어지고 있습니다\\n하물며 정부 발주공사를 대기업이 진행하는 지금\\n그런 공사를 진행하는것에 수많은 인력 자재 물품 기타등 용역이 소비대면서 벌어지는 것에  얼마나\\n담당부서자는 파학 이라도 하고 있는지 너무나 안타깝네요\\n대기업들 직원들 급여 한두달 지급 하지않는다면 난리가 나겠죠>??\\n그런데 우리 일용직 노동자 들은 한두달은 돈이 안나왔다 하면 그냥 끝입니다\\n가장 일선에서 가장 힘들고 열악한 조견 환경에서 힘든일을 하고 있는 현장 노동자 들의 처우개선은\\n바라지도 않습니다\\n다만 일한것에 대해서 최소한 전액은 지급 못하더라도 이들이 생활은 유지할수 있게금\\n어느정도 돈을 풀어 주어야 생활이되고 가족이 그돈으로 먹고살고\\n소비를하고, 그래야 하는것 아닌가요\\n대기업 에서는 정부발주 사업을 대신하여 하는 주사업자 이면 자신들이 먼저 자재비 임금등을 지급 하면서\\n진행하는 것이 상식 아닙니까?\\n그런데 요건이나 구비서류등을 미비한것이 있다는 온갇 이유를 들어 한푼도 지급하지 않으니\\n영세한 협력업체들은 자재비 경비 노무비 급여등을 한두달 어떻게 감당 하나요?\\n단순하게 물품구입 이라면 덜하겠지만 정부에서 시설공사를 통한  설비 장비 설치 공사를 통한 일이면\\n그에 수반되는 여러가지 구매대금 용역 인건비 경비 등에 대한것과 그것에 종사하는 노동자들의 임금도\\n최소한 어떻게 지급이 되고 있는지 관심이라도 표현 해주면\\n이런 대기업들이 이따위로 하겠습니까?\\n대기업 자신들은 혁신이니 원가절감이니 하면서 그 협력업체들은 몇번을 가고 또가고 반복을 해서 마쳐야 하는\\n상황을 만들어 놓고 자신들의 비용이 나가는 것이 아니기에 강요와 닥달만 하지\\n이들을 도와주어 어떻게 하면 협력사와 종사자들 에게 도움을 줄수있을까 고민하는\\n대기업 담당자 들은 단한명도 없습니다\\n최소한 정부예산 으로 정부 발주사업 이면. 이런 대기업 들의 횡포는 견제하고 감독을 할수있어야 하는것\\n아닙니까,.?  우리 노동자 들이 생존문재 임금에 대해서 관심을 가져 주시기를 간곡희 부탁드립니다\\n이런 악습의 관행이 어디 통신사 들 뿐입니까?\\n열이면 열 백이면 그중 거의 대부분 이런 악습의 관행을 이어가고 있습니다, 다른 업종도\\n그러면 그 종사자들의 수입은 불안정 하고 수입이 없으니 소비는 당연희 없고 그래도 일은 해야겠으니\\n속티 터지고 부당하고 억울해도 속을 태워 가면서 위험하고 힘든일을 해오던 일이라\\n참아내며 하고 있습니다,\\n다음주면 추석 명절 입니다,. 환경부 에서 발주한  공사를 하는 대기업 협력업체 에서 일하는 사람으로서\\n환경부가 대기업 에게 공사비를 지급 안하면 대기업이 사업원청 이니\\n대기업 에서 추석명절을 앞두고 있는데도 전혀 지급을 하지 않는다고 하면 외 환경부는\\n대기업들만 이런 공사를 선정 합니까, 이런 문재포함 해서 사업을 할수있는 역량이 되니 맡긴것 아닌가요,.\\n너무나 부당하고 속상 합니다 협력업체 들에게는 원성을 내고 큰소리를 내보아도 대기업 들이\\n결재를 하지않고 있어서 자기들도 가진돈을 다풀어서 돈이없다,\\n그런데도 그  대기업들은 추석명절에는 직원들 에게는 급여와 보너서 선물꾸러미는 주겠죠.\\n공사비는 이익은 대기업이 다 빼먹고  힘들고 어려운 일을 하는 협력업체들은 그 부스러기 주워 먹으려\\n끽소리도 못하고 그곳에 종사해서 생업을 이어가는 노동자 들은 누구를 원망하고 한탄 해야 합니까,.\\n정말 담당 공무원의 무능과 관심부족을 질타 할수밖에 없습니다,\\n하여, 바라건데 환경부 가 주관하고 있는 전기 자동차 사업관련 싸이클을 한번 점검 해주시고\\n그에 종사하는 여러가지 업체 자재 장비 공사업 노동자 이들의 처우개선을 바라지도 않습니다\\n다면  이들이 일한것에 대해서는 매달 일한만큼은 임금이 지급 될수 있도록 제도나 환경을 개선 해주기를\\n부탁 드립니다,\\n외냐, 최소한 민자공사도 아니고 정부 부처 발주공사 이면,  최소한 그에 수반대는 것에 자재 장비 임금등에\\n대해서는 그사업자가 책임을 질수있는 업체를 선정하고 그에 책임을 확인하는 이행하는것을 감독하는\\n공무원이 있다면 얼마나 많은 사람들이  편해 지겠습니까\\n이런 일들이 비일비재 하겠지만, 어떤 정부도 어느 공무원도 누구도 관심조차 없는 이런 행태를 파학하고\\n조금 이라도 개선의 여지가 있는지 관심을 가져 주시고 고쳐 주시면\\n사람이 먼저이다, 국정철학에 매우 진정 더 따뜻한 더운 가슴으로 문재인 정부가 온전하게 다가 오리라 믿습니다\\n제발 바라건데 노동자 들의 임금문재는 민자공사든 관급 공사든 어떤 식으로든 정부가 강력하게 선도하여\\n이런 오래된 악습과 폐해를 지금 이라도 조사를 하고 수정을 하여\\n사람이 먼저이다 라는 문재인 정부 철학에 부합되게 관심을 가져 주시고 감독을 부탁 드립니다\\n마지막으로 환경부 는 지금 발주한 공사에 대해서는  수급 사업자 에게는 그에 종사하는 노동자 들의\\n임금을 지급될수 있게 관리 감독을 해주시기를 간곡희 바랍니다,\n",
      "tokenized result ['문재인', '대통령', '국정', '책임', '수고', '항상', '마음속', '응원', '지지', '대기업', '통신사', '협력', '업체', '외주', '노동자', '우리', '문재인', '정부', '서민', '사람', '먼저', '국정', '철학', '부합', '진정', '현실', '좀더', '보고', '우선', '생업', '일자리', '수입', '구조', '말씀', '통신', '공사', '관련', '외주', '노동자', '생활', '가장', '아이', '이일', '아이', '물런', '한번', '안정', '고정', '수입', '우리나라', '통신사', '대기업', '구조', '협력', '업체', '지역구', '어서', '모든', '설치', '시공', '설비', '관련', '장일', '영세', '협력', '업체', '대부분', '외주', '일용직', '노동자', '능직', '관점', '생업', '고정', '여제', '대부분', '얼마', '정액', '수입', '안정', '있을떄', '실정', '그것', '이일', '종사', '사람', '전국', '적지', '그간', '대기업', '협력', '업체', '갑질', '둘째', '간다', '해도', '임금', '지급', '대기업', '먼저', '물어', '온갇', '이유', '한지', '수로', '개월', '지급', '행태', '과연', '누가', '진정', '사람', '대기업', '협력', '고양이', '방울', '형태', '한마디', '영세', '협력', '업체', '대기업', '정산', '지급', '노동자', '악습', '십년', '동안', '진행', '지금', '다소', '개선', '예전', '대기업', '해묵', '악습', '명절', '지금', '시점', '하물며', '정부', '발주', '공사', '대기업', '진행', '지금', '공사', '진행', '인력', '자재', '물품', '기타', '용역', '소비', '대면', '얼마나', '담당', '부서', '파학', '대기업', '직원', '급여', '지급', '난리', '우리', '일용직', '노동자', '그냥', '가장', '일선', '가장', '조견', '환경', '현장', '노동자', '처우', '개선', '바라지', '다만', '대해', '최소한', '전액', '지급', '생활', '유지', '정도', '주어', '생활', '가족', '소비', '래야', '대기업', '정부', '발주', '사업', '대신', '사업자', '이면', '자신', '먼저', '자재', '임금', '지급', '진행', '상식', '요건', '구비', '서류', '온갇', '이유', '지급', '영세', '협력', '업체', '자재', '경비', '노무', '급여', '감당', '하나요', '물품', '구입', '라면', '정부', '시설', '공사', '통한', '설비', '장비', '설치', '공사', '통한', '일이', '수반', '여러가지', '구매', '대금', '용역', '인건비', '경비', '그것', '종사', '노동자', '임금', '최소한', '지급', '관심', '표현', '대기업', '대기업', '자신', '혁신', '원가', '절감', '협력', '업체', '몇번', '반복', '상황', '자신', '비용', '강요', '닥달', '협력', '사자', '도움', '고민', '대기업', '담당자', '명도', '최소한', '정부', '예산', '정부', '발주', '사업', '이면', '대기업', '횡포', '견제', '감독', '우리', '노동자', '생존', '임금', '대해', '관심', '시기', '간곡', '악습', '관행', '어디', '통신사', '이면', '백이', '거의', '대부분', '악습', '관행', '어가', '다른', '업종', '사자', '수입', '안정', '수입', '소비', '연희', '가면', '일이', '다음주', '추석', '명절', '환경부', '발주', '공사', '대기업', '협력', '업체', '사람', '환경부', '대기업', '사비', '지급', '대기업', '사업', '대기업', '추석', '명절', '전혀', '지급', '환경부', '대기업', '공사', '선정', '포함', '사업', '역량', '협력', '업체', '원성', '큰소리', '보아', '대기업', '결재', '자기', '대기업', '추석', '명절', '직원', '급여', '보너', '선물', '꾸러미', '사비', '이익', '대기업', '협력', '업체', '부스러기', '끽소리', '종사', '생업', '어가', '노동자', '누구', '한탄', '정말', '담당', '공무원', '무능', '관심', '부족', '질타', '환경부', '주관', '전기', '자동차', '사업', '관련', '싸이클', '한번', '점검', '해주시', '종사', '여러가지', '업체', '자재', '장비', '사업', '노동자', '처우', '개선', '바라지', '대해', '매달', '만큼', '임금', '지급', '제도', '환경', '개선', '부탁', '최소한', '공사', '정부', '부처', '발주', '공사', '이면', '최소한', '반대', '자재', '장비', '임금', '대해', '사업자', '책임', '업체', '선정', '책임', '확인', '이행', '감독', '공무원', '얼마나', '사람', '비일비재', '정부', '공무원', '누구', '관심', '행태', '파학', '조금', '개선', '여지', '관심', '주시', '주시', '사람', '먼저', '국정', '철학', '매우', '진정', '가슴', '문재인', '정부', '온전', '다가', '오리', '제발', '노동자', '임금', '재는', '공사', '공사', '정부', '선도', '악습', '폐해', '지금', '조사', '수정', '사람', '먼저', '문재인', '정부', '철학', '부합', '관심', '주시', '감독', '부탁', '마지막', '환경부', '지금', '발주', '공사', '대해', '수급', '사업자', '종사', '노동자', '임금', '지급', '관리', '감독', '해주시', '간곡']\n",
      "test text sample 안녕하세요. 저희는 일학습병행제라는 제도를 하고 있는 20살 직장인 또는 대학생입니다. 저희는 고등학교에서 일학습병행제로 취업하여 2016년도에 시작해 2018년도에 완료하는 과정이였습니다. 그런데 갑작스럽게 바뀐 일학습병행제 법률로 인해 더이상 일학습병행제 제도를 실시할 수 없게 되었습니다.  한 업체에서 1년이상을 하지 못하여 폐지가 될 상황입니다. 당장 이번 11월 중순이 1년과정이 끝나는 시기인데 그 이후가 되면 완전히 저희는 강제적으로 일학습병행제를 끝낼 수 밖에 없습니다. 저희가 지금껏 쌓아올린 1년이란 시간을 허비하지 않도록 도와주세요. 어린 나이 고3 나이에 먼 타지역에서부터 올라와 직장과 대학교를 오가면서 직접 돈을 벌고 일찍 혼자 사회 생활을 해오면서  힘들지만 2년이란 목표만 채우자라는 마음가짐으로 버텨왔습니다. 하지만 이제 그 노력들이 물거품이 되려합니다. 대통령님 도와주세요 .. 제발 저를 포함한 일학습병행제 친구들이 이번 일학습병행제를 무사히 마무리 할 수 있도록 도와주세요. 1년이란 시간만 기다려주세요 부탁드리겠습니다 저희 미래에 가장 큰 터닝포인트가 될 것입니다.\n",
      "tokenized result ['청소년', '울타리', '죄책감', '양심', '범죄자', '반듯이', '폐지']\n"
     ]
    }
   ],
   "source": [
    "print('train text counts:', len(train_texts), ', test text counts:', len(test_texts))\n",
    "print(\"train text sample\", X_train[1])\n",
    "print(\"tokenized result\", train_texts[1])\n",
    "print(\"test text sample\", X_test[0])\n",
    "print(\"tokenized result\", test_texts[1])"
   ]
  },
  {
   "cell_type": "markdown",
   "metadata": {},
   "source": [
    "## Word2Vec\n",
    "Word2Vec으로 무엇을 할 수 있을까?"
   ]
  },
  {
   "cell_type": "code",
   "execution_count": 198,
   "metadata": {},
   "outputs": [],
   "source": [
    "import gensim.downloader as api\n",
    "\n",
    "word_vectors = api.load(\"glove-wiki-gigaword-100\")  # load pre-trained word-vectors from gensim-data"
   ]
  },
  {
   "cell_type": "code",
   "execution_count": 199,
   "metadata": {},
   "outputs": [
    {
     "name": "stdout",
     "output_type": "stream",
     "text": [
      "queen: 0.7699\n"
     ]
    }
   ],
   "source": [
    "result = word_vectors.most_similar(positive=['woman', 'king'], negative=['man'])\n",
    "print(\"{}: {:.4f}\".format(*result[0]))"
   ]
  },
  {
   "cell_type": "code",
   "execution_count": 200,
   "metadata": {},
   "outputs": [
    {
     "data": {
      "text/plain": [
       "[('queen', 0.7698541283607483),\n",
       " ('monarch', 0.6843380928039551),\n",
       " ('throne', 0.6755737066268921),\n",
       " ('daughter', 0.6594556570053101),\n",
       " ('princess', 0.6520533561706543),\n",
       " ('prince', 0.6517034769058228),\n",
       " ('elizabeth', 0.6464517116546631),\n",
       " ('mother', 0.631171703338623),\n",
       " ('emperor', 0.6106470823287964),\n",
       " ('wife', 0.6098655462265015)]"
      ]
     },
     "execution_count": 200,
     "metadata": {},
     "output_type": "execute_result"
    }
   ],
   "source": [
    "result"
   ]
  },
  {
   "cell_type": "code",
   "execution_count": 201,
   "metadata": {},
   "outputs": [
    {
     "name": "stdout",
     "output_type": "stream",
     "text": [
      "queen: 0.8965\n"
     ]
    }
   ],
   "source": [
    "result = word_vectors.most_similar_cosmul(positive=['woman', 'king'], negative=['man'])\n",
    "print(\"{}: {:.4f}\".format(*result[0]))"
   ]
  },
  {
   "cell_type": "code",
   "execution_count": 202,
   "metadata": {},
   "outputs": [
    {
     "name": "stdout",
     "output_type": "stream",
     "text": [
      "cereal\n"
     ]
    }
   ],
   "source": [
    "print(word_vectors.doesnt_match(\"breakfast cereal dinner lunch\".split()))"
   ]
  },
  {
   "cell_type": "code",
   "execution_count": 203,
   "metadata": {},
   "outputs": [
    {
     "name": "stdout",
     "output_type": "stream",
     "text": [
      "Collecting pyemd\n",
      "True  Using cached pyemd-0.5.1.tar.gz (91 kB)\n"
     ]
    },
    {
     "name": "stderr",
     "output_type": "stream",
     "text": [
      "  ERROR: Command errored out with exit status 1:\n",
      "   command: 'c:\\users\\jiae\\anaconda3\\python.exe' -u -c 'import sys, setuptools, tokenize; sys.argv[0] = '\"'\"'C:\\\\Users\\\\Jiae\\\\AppData\\\\Local\\\\Temp\\\\pip-install-ma15rtef\\\\pyemd\\\\setup.py'\"'\"'; __file__='\"'\"'C:\\\\Users\\\\Jiae\\\\AppData\\\\Local\\\\Temp\\\\pip-install-ma15rtef\\\\pyemd\\\\setup.py'\"'\"';f=getattr(tokenize, '\"'\"'open'\"'\"', open)(__file__);code=f.read().replace('\"'\"'\\r\\n'\"'\"', '\"'\"'\\n'\"'\"');f.close();exec(compile(code, __file__, '\"'\"'exec'\"'\"'))' bdist_wheel -d 'C:\\Users\\Jiae\\AppData\\Local\\Temp\\pip-wheel-2n9tskak'\n",
      "       cwd: C:\\Users\\Jiae\\AppData\\Local\\Temp\\pip-install-ma15rtef\\pyemd\\\n",
      "  Complete output (11 lines):\n",
      "  running bdist_wheel\n",
      "  running build\n",
      "  running build_py\n",
      "  creating build\n",
      "  creating build\\lib.win-amd64-3.8\n",
      "  creating build\\lib.win-amd64-3.8\\pyemd\n",
      "  copying pyemd\\__about__.py -> build\\lib.win-amd64-3.8\\pyemd\n",
      "  copying pyemd\\__init__.py -> build\\lib.win-amd64-3.8\\pyemd\n",
      "  running build_ext\n",
      "  building 'pyemd.emd' extension\n",
      "  error: Microsoft Visual C++ 14.0 is required. Get it with \"Build Tools for Visual Studio\": https://visualstudio.microsoft.com/downloads/\n",
      "  ----------------------------------------\n",
      "  ERROR: Failed building wheel for pyemd\n",
      "    ERROR: Command errored out with exit status 1:\n",
      "     command: 'c:\\users\\jiae\\anaconda3\\python.exe' -u -c 'import sys, setuptools, tokenize; sys.argv[0] = '\"'\"'C:\\\\Users\\\\Jiae\\\\AppData\\\\Local\\\\Temp\\\\pip-install-ma15rtef\\\\pyemd\\\\setup.py'\"'\"'; __file__='\"'\"'C:\\\\Users\\\\Jiae\\\\AppData\\\\Local\\\\Temp\\\\pip-install-ma15rtef\\\\pyemd\\\\setup.py'\"'\"';f=getattr(tokenize, '\"'\"'open'\"'\"', open)(__file__);code=f.read().replace('\"'\"'\\r\\n'\"'\"', '\"'\"'\\n'\"'\"');f.close();exec(compile(code, __file__, '\"'\"'exec'\"'\"'))' install --record 'C:\\Users\\Jiae\\AppData\\Local\\Temp\\pip-record-3t56cpn9\\install-record.txt' --single-version-externally-managed --compile --install-headers 'c:\\users\\jiae\\anaconda3\\Include\\pyemd'\n",
      "         cwd: C:\\Users\\Jiae\\AppData\\Local\\Temp\\pip-install-ma15rtef\\pyemd\\\n",
      "    Complete output (11 lines):\n",
      "    running install\n",
      "    running build\n",
      "    running build_py\n",
      "    creating build\n",
      "    creating build\\lib.win-amd64-3.8\n",
      "    creating build\\lib.win-amd64-3.8\\pyemd\n",
      "    copying pyemd\\__about__.py -> build\\lib.win-amd64-3.8\\pyemd\n",
      "    copying pyemd\\__init__.py -> build\\lib.win-amd64-3.8\\pyemd\n",
      "    running build_ext\n",
      "    building 'pyemd.emd' extension\n",
      "    error: Microsoft Visual C++ 14.0 is required. Get it with \"Build Tools for Visual Studio\": https://visualstudio.microsoft.com/downloads/\n",
      "    ----------------------------------------\n",
      "ERROR: Command errored out with exit status 1: 'c:\\users\\jiae\\anaconda3\\python.exe' -u -c 'import sys, setuptools, tokenize; sys.argv[0] = '\"'\"'C:\\\\Users\\\\Jiae\\\\AppData\\\\Local\\\\Temp\\\\pip-install-ma15rtef\\\\pyemd\\\\setup.py'\"'\"'; __file__='\"'\"'C:\\\\Users\\\\Jiae\\\\AppData\\\\Local\\\\Temp\\\\pip-install-ma15rtef\\\\pyemd\\\\setup.py'\"'\"';f=getattr(tokenize, '\"'\"'open'\"'\"', open)(__file__);code=f.read().replace('\"'\"'\\r\\n'\"'\"', '\"'\"'\\n'\"'\"');f.close();exec(compile(code, __file__, '\"'\"'exec'\"'\"'))' install --record 'C:\\Users\\Jiae\\AppData\\Local\\Temp\\pip-record-3t56cpn9\\install-record.txt' --single-version-externally-managed --compile --install-headers 'c:\\users\\jiae\\anaconda3\\Include\\pyemd' Check the logs for full command output.\n"
     ]
    },
    {
     "name": "stdout",
     "output_type": "stream",
     "text": [
      "\n",
      "Requirement already satisfied: numpy<2.0.0,>=1.9.0 in c:\\users\\jiae\\anaconda3\\lib\\site-packages (from pyemd) (1.18.5)\n",
      "Building wheels for collected packages: pyemd\n",
      "  Building wheel for pyemd (setup.py): started\n",
      "  Building wheel for pyemd (setup.py): finished with status 'error'\n",
      "  Running setup.py clean for pyemd\n",
      "Failed to build pyemd\n",
      "Installing collected packages: pyemd\n",
      "    Running setup.py install for pyemd: started\n",
      "    Running setup.py install for pyemd: finished with status 'error'\n"
     ]
    }
   ],
   "source": [
    "!pip install pyemd\n",
    "\n",
    "similarity = word_vectors.similarity('woman', 'man')\n",
    "print(similarity > 0.8)"
   ]
  },
  {
   "cell_type": "code",
   "execution_count": 204,
   "metadata": {},
   "outputs": [
    {
     "name": "stdout",
     "output_type": "stream",
     "text": [
      "dog: 0.8798\n"
     ]
    }
   ],
   "source": [
    "result = word_vectors.similar_by_word(\"cat\")\n",
    "print(\"{}: {:.4f}\".format(*result[0]))"
   ]
  },
  {
   "cell_type": "code",
   "execution_count": 205,
   "metadata": {},
   "outputs": [
    {
     "ename": "ModuleNotFoundError",
     "evalue": "No module named 'pyemd'",
     "output_type": "error",
     "traceback": [
      "\u001b[1;31m---------------------------------------------------------------------------\u001b[0m",
      "\u001b[1;31mModuleNotFoundError\u001b[0m                       Traceback (most recent call last)",
      "\u001b[1;32m<ipython-input-205-e26a3b5defac>\u001b[0m in \u001b[0;36m<module>\u001b[1;34m\u001b[0m\n\u001b[0;32m      2\u001b[0m \u001b[0msentence_president\u001b[0m \u001b[1;33m=\u001b[0m \u001b[1;34m'The president greets the press in Chicago'\u001b[0m\u001b[1;33m.\u001b[0m\u001b[0mlower\u001b[0m\u001b[1;33m(\u001b[0m\u001b[1;33m)\u001b[0m\u001b[1;33m.\u001b[0m\u001b[0msplit\u001b[0m\u001b[1;33m(\u001b[0m\u001b[1;33m)\u001b[0m\u001b[1;33m\u001b[0m\u001b[1;33m\u001b[0m\u001b[0m\n\u001b[0;32m      3\u001b[0m \u001b[1;33m\u001b[0m\u001b[0m\n\u001b[1;32m----> 4\u001b[1;33m \u001b[0msimilarity\u001b[0m \u001b[1;33m=\u001b[0m \u001b[0mword_vectors\u001b[0m\u001b[1;33m.\u001b[0m\u001b[0mwmdistance\u001b[0m\u001b[1;33m(\u001b[0m\u001b[0msentence_obama\u001b[0m\u001b[1;33m,\u001b[0m \u001b[0msentence_president\u001b[0m\u001b[1;33m)\u001b[0m\u001b[1;33m\u001b[0m\u001b[1;33m\u001b[0m\u001b[0m\n\u001b[0m\u001b[0;32m      5\u001b[0m \u001b[0mprint\u001b[0m\u001b[1;33m(\u001b[0m\u001b[1;34m\"{:.4f}\"\u001b[0m\u001b[1;33m.\u001b[0m\u001b[0mformat\u001b[0m\u001b[1;33m(\u001b[0m\u001b[0msimilarity\u001b[0m\u001b[1;33m)\u001b[0m\u001b[1;33m)\u001b[0m\u001b[1;33m\u001b[0m\u001b[1;33m\u001b[0m\u001b[0m\n",
      "\u001b[1;32m~\\anaconda3\\lib\\site-packages\\gensim\\models\\keyedvectors.py\u001b[0m in \u001b[0;36mwmdistance\u001b[1;34m(self, document1, document2)\u001b[0m\n\u001b[0;32m    715\u001b[0m         \u001b[1;31m# If pyemd C extension is available, import it.\u001b[0m\u001b[1;33m\u001b[0m\u001b[1;33m\u001b[0m\u001b[1;33m\u001b[0m\u001b[0m\n\u001b[0;32m    716\u001b[0m         \u001b[1;31m# If pyemd is attempted to be used, but isn't installed, ImportError will be raised in wmdistance\u001b[0m\u001b[1;33m\u001b[0m\u001b[1;33m\u001b[0m\u001b[1;33m\u001b[0m\u001b[0m\n\u001b[1;32m--> 717\u001b[1;33m         \u001b[1;32mfrom\u001b[0m \u001b[0mpyemd\u001b[0m \u001b[1;32mimport\u001b[0m \u001b[0memd\u001b[0m\u001b[1;33m\u001b[0m\u001b[1;33m\u001b[0m\u001b[0m\n\u001b[0m\u001b[0;32m    718\u001b[0m \u001b[1;33m\u001b[0m\u001b[0m\n\u001b[0;32m    719\u001b[0m         \u001b[1;31m# Remove out-of-vocabulary words.\u001b[0m\u001b[1;33m\u001b[0m\u001b[1;33m\u001b[0m\u001b[1;33m\u001b[0m\u001b[0m\n",
      "\u001b[1;31mModuleNotFoundError\u001b[0m: No module named 'pyemd'"
     ]
    }
   ],
   "source": [
    "sentence_obama = 'Obama speaks to the media in Illinois'.lower().split()\n",
    "sentence_president = 'The president greets the press in Chicago'.lower().split()\n",
    "\n",
    "similarity = word_vectors.wmdistance(sentence_obama, sentence_president)\n",
    "print(\"{:.4f}\".format(similarity))"
   ]
  },
  {
   "cell_type": "code",
   "execution_count": 206,
   "metadata": {},
   "outputs": [
    {
     "name": "stdout",
     "output_type": "stream",
     "text": [
      "0.0\n"
     ]
    }
   ],
   "source": [
    "distance = word_vectors.distance(\"media\", \"media\")\n",
    "print(\"{:.1f}\".format(distance))"
   ]
  },
  {
   "cell_type": "code",
   "execution_count": 207,
   "metadata": {},
   "outputs": [
    {
     "name": "stdout",
     "output_type": "stream",
     "text": [
      "0.7067\n"
     ]
    }
   ],
   "source": [
    "sim = word_vectors.n_similarity(['sushi', 'shop'], ['japanese', 'restaurant'])\n",
    "print(\"{:.4f}\".format(sim))"
   ]
  },
  {
   "cell_type": "code",
   "execution_count": 208,
   "metadata": {},
   "outputs": [
    {
     "name": "stdout",
     "output_type": "stream",
     "text": [
      "(100,)\n"
     ]
    }
   ],
   "source": [
    "vector = word_vectors['computer']  # numpy vector of a word\n",
    "print(vector.shape)"
   ]
  },
  {
   "cell_type": "code",
   "execution_count": 209,
   "metadata": {},
   "outputs": [
    {
     "name": "stdout",
     "output_type": "stream",
     "text": [
      "(100,)\n"
     ]
    },
    {
     "name": "stderr",
     "output_type": "stream",
     "text": [
      "<ipython-input-209-b120fd60d724>:1: DeprecationWarning: Call to deprecated `wv` (Attribute will be removed in 4.0.0, use self instead).\n",
      "  vector = word_vectors.wv.word_vec('office', use_norm=True)\n"
     ]
    }
   ],
   "source": [
    "vector = word_vectors.wv.word_vec('office', use_norm=True)\n",
    "print(vector.shape)"
   ]
  },
  {
   "cell_type": "markdown",
   "metadata": {},
   "source": [
    "#### Word2Vec으로 직접 학습"
   ]
  },
  {
   "cell_type": "code",
   "execution_count": 210,
   "metadata": {},
   "outputs": [],
   "source": [
    "#train\n",
    "from gensim.models import word2vec\n",
    "\n",
    "wv_model_ko = word2vec.Word2Vec(train_texts)\n",
    "wv_model_ko.init_sims(replace=True)\n",
    "\n",
    "wv_model_ko.save('petition_sample_w2v.model')"
   ]
  },
  {
   "cell_type": "code",
   "execution_count": 211,
   "metadata": {},
   "outputs": [
    {
     "name": "stdout",
     "output_type": "stream",
     "text": [
      "[('소년법', 0.993809700012207), ('폐지', 0.9923133850097656), ('악용', 0.9915519952774048), ('범죄', 0.9867984652519226), ('성인', 0.9852649569511414), ('테두리', 0.9822391271591187), ('악한', 0.9803519248962402), ('미성년', 0.975699245929718), ('일진', 0.9727073907852173), ('피해자', 0.9721856713294983)]\n"
     ]
    }
   ],
   "source": [
    "#유사한 단어 추출\n",
    "print(wv_model_ko.wv.most_similar('청소년'))"
   ]
  },
  {
   "cell_type": "code",
   "execution_count": 212,
   "metadata": {},
   "outputs": [
    {
     "name": "stdout",
     "output_type": "stream",
     "text": [
      "['저희', '학습', '병행', '제라', '제도', '직장인', '대학생', '저희', '고등학교', '학습', '병행', '제로', '취업', '시작', '완료', '과정', '학습', '병행', '법률', '이상', '학습', '병행', '제도', '실시', '업체', '폐지', '상황', '당장', '이번', '중순', '시기', '이후', '저희', '강제', '학습', '병행', '저희', '지금껏', '시간', '나이', '나이', '지역', '직장', '대학교', '오가면', '직접', '일찍', '혼자', '사회', '생활', '목표', '마음가짐', '이제', '노력', '거품', '대통령', '제발', '포함', '학습', '병행', '친구', '이번', '학습', '병행', '마무리', '시간', '저희', '미래', '가장', '터닝', '포인트']\n"
     ]
    },
    {
     "name": "stderr",
     "output_type": "stream",
     "text": [
      "C:\\Users\\Jiae\\anaconda3\\lib\\site-packages\\gensim\\models\\keyedvectors.py:877: FutureWarning: arrays to stack must be passed as a \"sequence\" type such as list or tuple. Support for non-sequence iterables such as generators is deprecated as of NumPy 1.16 and will raise an error in the future.\n",
      "  vectors = vstack(self.word_vec(word, use_norm=True) for word in used_words).astype(REAL)\n"
     ]
    },
    {
     "data": {
      "text/plain": [
       "'대통령'"
      ]
     },
     "execution_count": 212,
     "metadata": {},
     "output_type": "execute_result"
    }
   ],
   "source": [
    "# 다른 단어들과 가장 거리가 먼 단어\n",
    "print(test_texts[0])\n",
    "wv_model_ko.wv.doesnt_match(test_texts[0])"
   ]
  },
  {
   "cell_type": "markdown",
   "metadata": {},
   "source": [
    "## Doc2Vec"
   ]
  },
  {
   "cell_type": "code",
   "execution_count": 213,
   "metadata": {},
   "outputs": [],
   "source": [
    "from gensim.models.doc2vec import Doc2Vec, TaggedDocument\n",
    "\n",
    "tagged_data = [TaggedDocument(doc, [i]) for i, doc in enumerate(train_texts)]\n",
    "dv_model = Doc2Vec(tagged_data)"
   ]
  },
  {
   "cell_type": "code",
   "execution_count": 214,
   "metadata": {},
   "outputs": [],
   "source": [
    "dv_train = [dv_model.infer_vector(doc) for doc in train_texts]\n",
    "dv_test = [dv_model.infer_vector(doc) for doc in test_texts]"
   ]
  },
  {
   "cell_type": "code",
   "execution_count": 215,
   "metadata": {},
   "outputs": [
    {
     "data": {
      "text/plain": [
       "3000"
      ]
     },
     "execution_count": 215,
     "metadata": {},
     "output_type": "execute_result"
    }
   ],
   "source": [
    "len(dv_train)"
   ]
  },
  {
   "cell_type": "code",
   "execution_count": 216,
   "metadata": {},
   "outputs": [
    {
     "data": {
      "text/plain": [
       "array([-7.41376542e-03, -2.81664240e-03, -8.08939245e-03, -5.18094050e-04,\n",
       "        8.16436950e-03,  4.88911523e-03, -3.61162284e-03, -5.27157355e-03,\n",
       "       -5.47679886e-03, -3.75209842e-03, -1.08090220e-02,  8.95692222e-03,\n",
       "       -1.18697272e-03,  6.59197383e-03,  1.19173415e-02, -1.17183648e-04,\n",
       "        9.21453722e-03, -2.85867765e-03,  1.23869011e-03,  1.13369450e-02,\n",
       "        8.84043518e-03, -1.82383566e-03,  4.62387269e-03,  1.04107824e-03,\n",
       "       -1.95472472e-04, -6.91011269e-03,  1.68383168e-03, -1.16429441e-02,\n",
       "        5.44766197e-03, -6.92700036e-03, -2.32936232e-03,  3.63256596e-03,\n",
       "        4.03471291e-03, -7.01452326e-03,  1.91090826e-03,  4.46175132e-03,\n",
       "        9.43602808e-03,  6.39870763e-03, -8.65144376e-03,  1.09705527e-03,\n",
       "        5.46929543e-04, -2.57643894e-03, -2.22724723e-03,  3.52790602e-03,\n",
       "       -3.36771039e-03,  1.95226446e-03, -2.66174087e-03,  6.62454125e-03,\n",
       "        6.73861708e-03, -4.92972462e-03, -6.56383904e-03,  5.94338262e-03,\n",
       "        1.36445342e-02,  7.96752516e-03, -8.20912328e-03,  1.83431944e-03,\n",
       "        3.68450070e-03,  3.82769795e-04,  1.14392992e-02,  4.38622804e-03,\n",
       "       -3.28349974e-03,  3.97867849e-03,  1.23733105e-02,  2.18599592e-03,\n",
       "        6.93820510e-03, -6.24287222e-03,  3.95493209e-03,  5.81108732e-03,\n",
       "       -8.98701791e-03,  1.56494556e-03,  1.47103220e-02,  4.93715471e-03,\n",
       "       -1.02101127e-02, -3.74734472e-03,  1.07072936e-02,  4.42208350e-03,\n",
       "        1.92681432e-03, -7.73322489e-03, -1.02534927e-02,  2.10048724e-03,\n",
       "       -5.76648163e-03, -1.62222655e-03, -5.00835059e-03,  1.23249656e-02,\n",
       "       -1.29052904e-04,  1.30725102e-02,  3.58547177e-03,  6.56936597e-03,\n",
       "       -6.82292646e-03, -4.94291657e-04,  3.59541061e-03,  8.37972839e-05,\n",
       "       -4.42504039e-04,  6.68884907e-03,  4.08757618e-03,  7.11910194e-03,\n",
       "        3.61987390e-03,  4.71903430e-03, -2.42088269e-03, -1.63138742e-04],\n",
       "      dtype=float32)"
      ]
     },
     "execution_count": 216,
     "metadata": {},
     "output_type": "execute_result"
    }
   ],
   "source": [
    "dv_train[0]"
   ]
  },
  {
   "cell_type": "code",
   "execution_count": 217,
   "metadata": {},
   "outputs": [
    {
     "name": "stdout",
     "output_type": "stream",
     "text": [
      "Train set score: 0.679\n",
      "Test set score: 0.641\n"
     ]
    }
   ],
   "source": [
    "from sklearn.linear_model import LogisticRegression \n",
    "\n",
    "clf = LogisticRegression() #분류기 선언\n",
    "clf.fit(dv_train, y_train) # train data를 이용하여 분류기를 학습\n",
    "print('Train set score: {:.3f}'.format(clf.score(dv_train, y_train))) # train data에 대한 예측정확도 \n",
    "print('Test set score: {:.3f}'.format(clf.score(dv_test, y_test))) # test data에 대한 예측정확도"
   ]
  },
  {
   "cell_type": "code",
   "execution_count": 218,
   "metadata": {},
   "outputs": [
    {
     "name": "stdout",
     "output_type": "stream",
     "text": [
      "Train set score: 0.706\n",
      "Test set score: 0.670\n"
     ]
    },
    {
     "name": "stderr",
     "output_type": "stream",
     "text": [
      "C:\\Users\\Jiae\\anaconda3\\lib\\site-packages\\sklearn\\linear_model\\_logistic.py:762: ConvergenceWarning: lbfgs failed to converge (status=1):\n",
      "STOP: TOTAL NO. of ITERATIONS REACHED LIMIT.\n",
      "\n",
      "Increase the number of iterations (max_iter) or scale the data as shown in:\n",
      "    https://scikit-learn.org/stable/modules/preprocessing.html\n",
      "Please also refer to the documentation for alternative solver options:\n",
      "    https://scikit-learn.org/stable/modules/linear_model.html#logistic-regression\n",
      "  n_iter_i = _check_optimize_result(\n"
     ]
    }
   ],
   "source": [
    "from sklearn.preprocessing import StandardScaler\n",
    "\n",
    "scaler = StandardScaler()\n",
    "sc_train = scaler.fit_transform(dv_train)\n",
    "sc_test = scaler.transform(dv_test)\n",
    "\n",
    "clf.fit(sc_train, y_train) # train data를 이용하여 분류기를 학습\n",
    "print('Train set score: {:.3f}'.format(clf.score(sc_train, y_train))) # train data에 대한 예측정확도 \n",
    "print('Test set score: {:.3f}'.format(clf.score(sc_test, y_test))) # test data에 대한 예측정확도"
   ]
  },
  {
   "cell_type": "code",
   "execution_count": 219,
   "metadata": {},
   "outputs": [
    {
     "data": {
      "text/plain": [
       "[(624, 0.9942513704299927),\n",
       " (2016, 0.9942273497581482),\n",
       " (274, 0.9933127164840698),\n",
       " (2662, 0.9931527972221375),\n",
       " (96, 0.9925389885902405),\n",
       " (246, 0.992520809173584),\n",
       " (2885, 0.9920503497123718),\n",
       " (11, 0.9897968769073486),\n",
       " (1365, 0.9895216226577759),\n",
       " (903, 0.9893827438354492)]"
      ]
     },
     "execution_count": 219,
     "metadata": {},
     "output_type": "execute_result"
    }
   ],
   "source": [
    "dv_model.docvecs.most_similar(1)"
   ]
  },
  {
   "cell_type": "code",
   "execution_count": 220,
   "metadata": {},
   "outputs": [
    {
     "data": {
      "text/plain": [
       "'인천 연수구에 위치한 해외투자기업과 손잡고 있는 한라그룹 만도 와 독일 헬라 사가 합작하여 만든 회사입니다. 8년정도 된 회사가 엄청난 발전을 하였습니다. 누군가의 의해서.. 그 누군가가 과연\\\\n어떤 사람들 일까요..? 100% 비정규직으로 구성된\\\\n생산직과 생산관리,  품질 부서의 노동자들입니다.\\\\n2~30대 젊은 노동자들이 악덕기업 불법기업 만도헬라\\\\n정규직 사람들에게 직접적인 업무지시, 폭언, 괄시와 멸시, 무시, 성희롱을 일삼고 근무를 해왔습니다.\\\\n더이상 비정규직 노동자들은 참지못해 이듬해 2월에\\\\n노동조합을 결성하였습니다. 노동조합을 설립하자마자 원청회사인 만도헬라에서는 노조탄압과 협박을 하고 도급계약해지와 불안정한 알바고용,\\\\n원청직원들의 대체생산을 하였습니다. 대한민국의 청년들이 일하는 글로벌기업 공장에서 이게 왠말입니까.. 매년 오르고있는 매출액은 누구의 고생에서 나왔을까요? 비정규직 노동자들입니다.\\\\n1년365일중 340일을 출근하는 노동자들도 있습니다.\\\\n그렇게 12시간 주야2교대를 근무해야 가져가는 연봉은 4천만원대.. 정규직은 가방끈이 길다고 주 5일제 8시간 탄력근무제를 적용하여 초봉 5800만원\\\\n이게 말이됩니까? 해도해도 너무한거 같습니다.\\\\n문재인 대통령님께서 비정규직 제로화를 공약으로 내걸었습니다. 하지만 바뀐것이 뭐가 있습니까? 아무것도 없습니다. 공공기관만 신경쓰시고 민간기업은 관심조차 없어보입니다.\\\\n공약으로 내걸었던 비정규직 철폐에 힘써주시기 부탁드립니다!'"
      ]
     },
     "execution_count": 220,
     "metadata": {},
     "output_type": "execute_result"
    }
   ],
   "source": [
    "X_train[947]"
   ]
  },
  {
   "cell_type": "code",
   "execution_count": 221,
   "metadata": {},
   "outputs": [
    {
     "data": {
      "text/plain": [
       "'문재인 대통령님, 국정을 책임 지느라 수고가 많습니다 항상 마음속으로 응원하고 지지합니다\\\\n저는 대기업 통신사들의 협력업체 에서 일을하는 외주 노동자 입니다\\\\n우리 문재인 정부가 서민을 위하고 사람이 먼저이다 라는 국정철학에  부합 하고자 한다면 진정 현실을\\\\n좀더 면면희 들여다 보고 아셔야 합니다  안타깝습니다\\\\n우선, 제가 생업으로 하고있는 일자리 수입원 구조부터 말씀 드리겠습니다\\\\n저는 통신공사 관련일을 하고 있는 외주 노동자 생활을 근 20여년 해오고 있는 가장 입니다\\\\n아이가 3명이고 이일을 해서 아이들을 키우고 있습니다\\\\n물런 단한번도 안정적 이고 고정적인 수입이 없었습니다  그러면 우리나라 통신사 대기업들의 구조를\\\\n보면 이들은 협력업체를 지역구에 두어서 모든 설치 시공 설비 관련 현장일을 시키고 있습니다\\\\n그 영세한 협력업체들은 대부분 외주 일용직 노동자 들을 (기능직 이죠) 저의관점 에서는\\\\n그 일을 생업으로 하는 것이 고정급여제가 아니고 대부분 한건당 얼마의 정액제 입니다\\\\n그러다 보니 수입은 불안정 하고 일이 있을떄는 하고 없으면 못하고 그런실정 입니다\\\\n그것까지 탓을 할수는 없다는것은 알고 있습니다\\\\n이일에 종사하는 사람들이 전국에 적지 않습니다,\\\\n그간 대기업들의 협력업체들 에게 갑질이니, 머니 그런것은 둘째로 치고 넘어 간다고 해도\\\\n임금 지급은 당연히 대기업 에서 먼저 물어야 하는데  온갇 이유를 들어 일을한지 월수로는 3개월 인데도\\\\n미비한것이 있다고 하여, 한푼도 지급하지 않고 있는 이런 행태를 과연\\\\n누가 진정 단한사람도 알고나 있는지요\\\\n대기업협력사 들은 고양이 목에 방울거는 형태라 말한마디도 못하고  그 영세한 협력업체들은\\\\n대기업들 에서 정산이 안되었다고 하며 돈을 지급하지 않고\\\\n그러면 그 노동자 들은 어떻겠습니까?\\\\n그런 오랜 악습이 수십년 동안 진행 되다가 지금은 다소 개선이 된줄알고 있는데 예전보다는 나아졌는데\\\\n이들 대기업들의 해묵은 악습은 또다시 명절을 앞두고 있는 지금 이시점에 벌어지고 있습니다\\\\n하물며 정부 발주공사를 대기업이 진행하는 지금\\\\n그런 공사를 진행하는것에 수많은 인력 자재 물품 기타등 용역이 소비대면서 벌어지는 것에  얼마나\\\\n담당부서자는 파학 이라도 하고 있는지 너무나 안타깝네요\\\\n대기업들 직원들 급여 한두달 지급 하지않는다면 난리가 나겠죠>??\\\\n그런데 우리 일용직 노동자 들은 한두달은 돈이 안나왔다 하면 그냥 끝입니다\\\\n가장 일선에서 가장 힘들고 열악한 조견 환경에서 힘든일을 하고 있는 현장 노동자 들의 처우개선은\\\\n바라지도 않습니다\\\\n다만 일한것에 대해서 최소한 전액은 지급 못하더라도 이들이 생활은 유지할수 있게금\\\\n어느정도 돈을 풀어 주어야 생활이되고 가족이 그돈으로 먹고살고\\\\n소비를하고, 그래야 하는것 아닌가요\\\\n대기업 에서는 정부발주 사업을 대신하여 하는 주사업자 이면 자신들이 먼저 자재비 임금등을 지급 하면서\\\\n진행하는 것이 상식 아닙니까?\\\\n그런데 요건이나 구비서류등을 미비한것이 있다는 온갇 이유를 들어 한푼도 지급하지 않으니\\\\n영세한 협력업체들은 자재비 경비 노무비 급여등을 한두달 어떻게 감당 하나요?\\\\n단순하게 물품구입 이라면 덜하겠지만 정부에서 시설공사를 통한  설비 장비 설치 공사를 통한 일이면\\\\n그에 수반되는 여러가지 구매대금 용역 인건비 경비 등에 대한것과 그것에 종사하는 노동자들의 임금도\\\\n최소한 어떻게 지급이 되고 있는지 관심이라도 표현 해주면\\\\n이런 대기업들이 이따위로 하겠습니까?\\\\n대기업 자신들은 혁신이니 원가절감이니 하면서 그 협력업체들은 몇번을 가고 또가고 반복을 해서 마쳐야 하는\\\\n상황을 만들어 놓고 자신들의 비용이 나가는 것이 아니기에 강요와 닥달만 하지\\\\n이들을 도와주어 어떻게 하면 협력사와 종사자들 에게 도움을 줄수있을까 고민하는\\\\n대기업 담당자 들은 단한명도 없습니다\\\\n최소한 정부예산 으로 정부 발주사업 이면. 이런 대기업 들의 횡포는 견제하고 감독을 할수있어야 하는것\\\\n아닙니까,.?  우리 노동자 들이 생존문재 임금에 대해서 관심을 가져 주시기를 간곡희 부탁드립니다\\\\n이런 악습의 관행이 어디 통신사 들 뿐입니까?\\\\n열이면 열 백이면 그중 거의 대부분 이런 악습의 관행을 이어가고 있습니다, 다른 업종도\\\\n그러면 그 종사자들의 수입은 불안정 하고 수입이 없으니 소비는 당연희 없고 그래도 일은 해야겠으니\\\\n속티 터지고 부당하고 억울해도 속을 태워 가면서 위험하고 힘든일을 해오던 일이라\\\\n참아내며 하고 있습니다,\\\\n다음주면 추석 명절 입니다,. 환경부 에서 발주한  공사를 하는 대기업 협력업체 에서 일하는 사람으로서\\\\n환경부가 대기업 에게 공사비를 지급 안하면 대기업이 사업원청 이니\\\\n대기업 에서 추석명절을 앞두고 있는데도 전혀 지급을 하지 않는다고 하면 외 환경부는\\\\n대기업들만 이런 공사를 선정 합니까, 이런 문재포함 해서 사업을 할수있는 역량이 되니 맡긴것 아닌가요,.\\\\n너무나 부당하고 속상 합니다 협력업체 들에게는 원성을 내고 큰소리를 내보아도 대기업 들이\\\\n결재를 하지않고 있어서 자기들도 가진돈을 다풀어서 돈이없다,\\\\n그런데도 그  대기업들은 추석명절에는 직원들 에게는 급여와 보너서 선물꾸러미는 주겠죠.\\\\n공사비는 이익은 대기업이 다 빼먹고  힘들고 어려운 일을 하는 협력업체들은 그 부스러기 주워 먹으려\\\\n끽소리도 못하고 그곳에 종사해서 생업을 이어가는 노동자 들은 누구를 원망하고 한탄 해야 합니까,.\\\\n정말 담당 공무원의 무능과 관심부족을 질타 할수밖에 없습니다,\\\\n하여, 바라건데 환경부 가 주관하고 있는 전기 자동차 사업관련 싸이클을 한번 점검 해주시고\\\\n그에 종사하는 여러가지 업체 자재 장비 공사업 노동자 이들의 처우개선을 바라지도 않습니다\\\\n다면  이들이 일한것에 대해서는 매달 일한만큼은 임금이 지급 될수 있도록 제도나 환경을 개선 해주기를\\\\n부탁 드립니다,\\\\n외냐, 최소한 민자공사도 아니고 정부 부처 발주공사 이면,  최소한 그에 수반대는 것에 자재 장비 임금등에\\\\n대해서는 그사업자가 책임을 질수있는 업체를 선정하고 그에 책임을 확인하는 이행하는것을 감독하는\\\\n공무원이 있다면 얼마나 많은 사람들이  편해 지겠습니까\\\\n이런 일들이 비일비재 하겠지만, 어떤 정부도 어느 공무원도 누구도 관심조차 없는 이런 행태를 파학하고\\\\n조금 이라도 개선의 여지가 있는지 관심을 가져 주시고 고쳐 주시면\\\\n사람이 먼저이다, 국정철학에 매우 진정 더 따뜻한 더운 가슴으로 문재인 정부가 온전하게 다가 오리라 믿습니다\\\\n제발 바라건데 노동자 들의 임금문재는 민자공사든 관급 공사든 어떤 식으로든 정부가 강력하게 선도하여\\\\n이런 오래된 악습과 폐해를 지금 이라도 조사를 하고 수정을 하여\\\\n사람이 먼저이다 라는 문재인 정부 철학에 부합되게 관심을 가져 주시고 감독을 부탁 드립니다\\\\n마지막으로 환경부 는 지금 발주한 공사에 대해서는  수급 사업자 에게는 그에 종사하는 노동자 들의\\\\n임금을 지급될수 있게 관리 감독을 해주시기를 간곡희 바랍니다,'"
      ]
     },
     "execution_count": 221,
     "metadata": {},
     "output_type": "execute_result"
    }
   ],
   "source": [
    "X_train[1]"
   ]
  },
  {
   "cell_type": "markdown",
   "metadata": {},
   "source": [
    "# RNN을 이용한 스팸 메일 분류(추가 데이터)\n",
    "출처 : https://wikidocs.net/22894"
   ]
  },
  {
   "cell_type": "code",
   "execution_count": 223,
   "metadata": {},
   "outputs": [
    {
     "name": "stdout",
     "output_type": "stream",
     "text": [
      "Collecting tensorflow\n",
      "  Using cached tensorflow-2.3.1-cp38-cp38-win_amd64.whl (342.5 MB)\n",
      "Requirement already satisfied: six>=1.12.0 in c:\\users\\jiae\\anaconda3\\lib\\site-packages (from tensorflow) (1.15.0)\n",
      "Collecting google-pasta>=0.1.8\n",
      "  Using cached google_pasta-0.2.0-py3-none-any.whl (57 kB)\n",
      "Collecting absl-py>=0.7.0\n",
      "  Using cached absl_py-0.11.0-py3-none-any.whl (127 kB)\n",
      "Requirement already satisfied: h5py<2.11.0,>=2.10.0 in c:\\users\\jiae\\anaconda3\\lib\\site-packages (from tensorflow) (2.10.0)\n",
      "Requirement already satisfied: numpy<1.19.0,>=1.16.0 in c:\\users\\jiae\\anaconda3\\lib\\site-packages (from tensorflow) (1.18.5)\n",
      "Collecting tensorflow-estimator<2.4.0,>=2.3.0\n",
      "  Using cached tensorflow_estimator-2.3.0-py2.py3-none-any.whl (459 kB)\n",
      "Requirement already satisfied: wrapt>=1.11.1 in c:\\users\\jiae\\anaconda3\\lib\\site-packages (from tensorflow) (1.11.2)\n",
      "Collecting astunparse==1.6.3\n",
      "  Using cached astunparse-1.6.3-py2.py3-none-any.whl (12 kB)\n",
      "Collecting tensorboard<3,>=2.3.0\n",
      "  Using cached tensorboard-2.3.0-py3-none-any.whl (6.8 MB)\n",
      "Processing c:\\users\\jiae\\appdata\\local\\pip\\cache\\wheels\\a0\\16\\9c\\5473df82468f958445479c59e784896fa24f4a5fc024b0f501\\termcolor-1.1.0-py3-none-any.whl\n",
      "Collecting opt-einsum>=2.3.2\n",
      "  Using cached opt_einsum-3.3.0-py3-none-any.whl (65 kB)\n",
      "Collecting protobuf>=3.9.2\n",
      "  Using cached protobuf-3.13.0-py2.py3-none-any.whl (438 kB)\n",
      "Requirement already satisfied: wheel>=0.26 in c:\\users\\jiae\\anaconda3\\lib\\site-packages (from tensorflow) (0.34.2)\n",
      "Collecting gast==0.3.3\n",
      "  Using cached gast-0.3.3-py2.py3-none-any.whl (9.7 kB)\n",
      "Collecting grpcio>=1.8.6\n",
      "  Using cached grpcio-1.33.2-cp38-cp38-win_amd64.whl (2.7 MB)\n",
      "Collecting keras-preprocessing<1.2,>=1.1.1\n",
      "  Using cached Keras_Preprocessing-1.1.2-py2.py3-none-any.whl (42 kB)\n",
      "Collecting markdown>=2.6.8\n",
      "  Using cached Markdown-3.3.3-py3-none-any.whl (96 kB)\n",
      "Collecting google-auth<2,>=1.6.3\n",
      "  Using cached google_auth-1.23.0-py2.py3-none-any.whl (114 kB)\n",
      "Requirement already satisfied: werkzeug>=0.11.15 in c:\\users\\jiae\\anaconda3\\lib\\site-packages (from tensorboard<3,>=2.3.0->tensorflow) (1.0.1)\n",
      "Requirement already satisfied: requests<3,>=2.21.0 in c:\\users\\jiae\\anaconda3\\lib\\site-packages (from tensorboard<3,>=2.3.0->tensorflow) (2.24.0)\n",
      "Collecting tensorboard-plugin-wit>=1.6.0\n",
      "  Using cached tensorboard_plugin_wit-1.7.0-py3-none-any.whl (779 kB)\n",
      "Collecting google-auth-oauthlib<0.5,>=0.4.1\n",
      "  Using cached google_auth_oauthlib-0.4.2-py2.py3-none-any.whl (18 kB)\n",
      "Requirement already satisfied: setuptools>=41.0.0 in c:\\users\\jiae\\anaconda3\\lib\\site-packages (from tensorboard<3,>=2.3.0->tensorflow) (49.2.0.post20200714)\n",
      "Collecting pyasn1-modules>=0.2.1\n",
      "  Using cached pyasn1_modules-0.2.8-py2.py3-none-any.whl (155 kB)\n",
      "Collecting cachetools<5.0,>=2.0.0\n",
      "  Using cached cachetools-4.1.1-py3-none-any.whl (10 kB)\n",
      "Collecting rsa<5,>=3.1.4; python_version >= \"3.5\"\n",
      "  Using cached rsa-4.6-py3-none-any.whl (47 kB)\n",
      "Requirement already satisfied: chardet<4,>=3.0.2 in c:\\users\\jiae\\anaconda3\\lib\\site-packages (from requests<3,>=2.21.0->tensorboard<3,>=2.3.0->tensorflow) (3.0.4)\n",
      "Requirement already satisfied: urllib3!=1.25.0,!=1.25.1,<1.26,>=1.21.1 in c:\\users\\jiae\\anaconda3\\lib\\site-packages (from requests<3,>=2.21.0->tensorboard<3,>=2.3.0->tensorflow) (1.25.9)\n",
      "Requirement already satisfied: certifi>=2017.4.17 in c:\\users\\jiae\\anaconda3\\lib\\site-packages (from requests<3,>=2.21.0->tensorboard<3,>=2.3.0->tensorflow) (2020.6.20)\n",
      "Requirement already satisfied: idna<3,>=2.5 in c:\\users\\jiae\\anaconda3\\lib\\site-packages (from requests<3,>=2.21.0->tensorboard<3,>=2.3.0->tensorflow) (2.10)\n",
      "Requirement already satisfied: requests-oauthlib>=0.7.0 in c:\\users\\jiae\\anaconda3\\lib\\site-packages (from google-auth-oauthlib<0.5,>=0.4.1->tensorboard<3,>=2.3.0->tensorflow) (1.3.0)\n",
      "Collecting pyasn1<0.5.0,>=0.4.6\n",
      "  Using cached pyasn1-0.4.8-py2.py3-none-any.whl (77 kB)\n",
      "Requirement already satisfied: oauthlib>=3.0.0 in c:\\users\\jiae\\anaconda3\\lib\\site-packages (from requests-oauthlib>=0.7.0->google-auth-oauthlib<0.5,>=0.4.1->tensorboard<3,>=2.3.0->tensorflow) (3.1.0)\n",
      "Installing collected packages: google-pasta, absl-py, tensorflow-estimator, astunparse, markdown, pyasn1, pyasn1-modules, cachetools, rsa, google-auth, tensorboard-plugin-wit, google-auth-oauthlib, grpcio, protobuf, tensorboard, termcolor, opt-einsum, gast, keras-preprocessing, tensorflow\n",
      "Successfully installed absl-py-0.11.0 astunparse-1.6.3 cachetools-4.1.1 gast-0.3.3 google-auth-1.23.0 google-auth-oauthlib-0.4.2 google-pasta-0.2.0 grpcio-1.33.2 keras-preprocessing-1.1.2 markdown-3.3.3 opt-einsum-3.3.0 protobuf-3.13.0 pyasn1-0.4.8 pyasn1-modules-0.2.8 rsa-4.6 tensorboard-2.3.0 tensorboard-plugin-wit-1.7.0 tensorflow-2.3.1 tensorflow-estimator-2.3.0 termcolor-1.1.0\n"
     ]
    }
   ],
   "source": [
    "#!pip install tensorflow\n",
    "import numpy as np\n",
    "import pandas as pd\n",
    "%matplotlib inline\n",
    "import matplotlib.pyplot as plt\n",
    "import urllib.request\n",
    "from tensorflow.keras.preprocessing.text import Tokenizer\n",
    "from tensorflow.keras.preprocessing.sequence import pad_sequences"
   ]
  },
  {
   "cell_type": "code",
   "execution_count": 224,
   "metadata": {},
   "outputs": [],
   "source": [
    "urllib.request.urlretrieve(\"https://raw.githubusercontent.com/mohitgupta-omg/Kaggle-SMS-Spam-Collection-Dataset-/master/spam.csv\", filename=\"spam.csv\")\n",
    "data = pd.read_csv('spam.csv',encoding='latin1')"
   ]
  },
  {
   "cell_type": "code",
   "execution_count": 225,
   "metadata": {},
   "outputs": [
    {
     "name": "stdout",
     "output_type": "stream",
     "text": [
      "총 샘플의 수 : 5572\n"
     ]
    }
   ],
   "source": [
    "print('총 샘플의 수 :',len(data))"
   ]
  },
  {
   "cell_type": "code",
   "execution_count": 226,
   "metadata": {},
   "outputs": [
    {
     "data": {
      "text/html": [
       "<div>\n",
       "<style scoped>\n",
       "    .dataframe tbody tr th:only-of-type {\n",
       "        vertical-align: middle;\n",
       "    }\n",
       "\n",
       "    .dataframe tbody tr th {\n",
       "        vertical-align: top;\n",
       "    }\n",
       "\n",
       "    .dataframe thead th {\n",
       "        text-align: right;\n",
       "    }\n",
       "</style>\n",
       "<table border=\"1\" class=\"dataframe\">\n",
       "  <thead>\n",
       "    <tr style=\"text-align: right;\">\n",
       "      <th></th>\n",
       "      <th>v1</th>\n",
       "      <th>v2</th>\n",
       "      <th>Unnamed: 2</th>\n",
       "      <th>Unnamed: 3</th>\n",
       "      <th>Unnamed: 4</th>\n",
       "    </tr>\n",
       "  </thead>\n",
       "  <tbody>\n",
       "    <tr>\n",
       "      <th>0</th>\n",
       "      <td>ham</td>\n",
       "      <td>Go until jurong point, crazy.. Available only ...</td>\n",
       "      <td>NaN</td>\n",
       "      <td>NaN</td>\n",
       "      <td>NaN</td>\n",
       "    </tr>\n",
       "    <tr>\n",
       "      <th>1</th>\n",
       "      <td>ham</td>\n",
       "      <td>Ok lar... Joking wif u oni...</td>\n",
       "      <td>NaN</td>\n",
       "      <td>NaN</td>\n",
       "      <td>NaN</td>\n",
       "    </tr>\n",
       "    <tr>\n",
       "      <th>2</th>\n",
       "      <td>spam</td>\n",
       "      <td>Free entry in 2 a wkly comp to win FA Cup fina...</td>\n",
       "      <td>NaN</td>\n",
       "      <td>NaN</td>\n",
       "      <td>NaN</td>\n",
       "    </tr>\n",
       "    <tr>\n",
       "      <th>3</th>\n",
       "      <td>ham</td>\n",
       "      <td>U dun say so early hor... U c already then say...</td>\n",
       "      <td>NaN</td>\n",
       "      <td>NaN</td>\n",
       "      <td>NaN</td>\n",
       "    </tr>\n",
       "    <tr>\n",
       "      <th>4</th>\n",
       "      <td>ham</td>\n",
       "      <td>Nah I don't think he goes to usf, he lives aro...</td>\n",
       "      <td>NaN</td>\n",
       "      <td>NaN</td>\n",
       "      <td>NaN</td>\n",
       "    </tr>\n",
       "  </tbody>\n",
       "</table>\n",
       "</div>"
      ],
      "text/plain": [
       "     v1                                                 v2 Unnamed: 2  \\\n",
       "0   ham  Go until jurong point, crazy.. Available only ...        NaN   \n",
       "1   ham                      Ok lar... Joking wif u oni...        NaN   \n",
       "2  spam  Free entry in 2 a wkly comp to win FA Cup fina...        NaN   \n",
       "3   ham  U dun say so early hor... U c already then say...        NaN   \n",
       "4   ham  Nah I don't think he goes to usf, he lives aro...        NaN   \n",
       "\n",
       "  Unnamed: 3 Unnamed: 4  \n",
       "0        NaN        NaN  \n",
       "1        NaN        NaN  \n",
       "2        NaN        NaN  \n",
       "3        NaN        NaN  \n",
       "4        NaN        NaN  "
      ]
     },
     "execution_count": 226,
     "metadata": {},
     "output_type": "execute_result"
    }
   ],
   "source": [
    "data[:5] # 스팸 메일 데이터 중 5개의 행만 출력"
   ]
  },
  {
   "cell_type": "code",
   "execution_count": 227,
   "metadata": {},
   "outputs": [
    {
     "data": {
      "text/html": [
       "<div>\n",
       "<style scoped>\n",
       "    .dataframe tbody tr th:only-of-type {\n",
       "        vertical-align: middle;\n",
       "    }\n",
       "\n",
       "    .dataframe tbody tr th {\n",
       "        vertical-align: top;\n",
       "    }\n",
       "\n",
       "    .dataframe thead th {\n",
       "        text-align: right;\n",
       "    }\n",
       "</style>\n",
       "<table border=\"1\" class=\"dataframe\">\n",
       "  <thead>\n",
       "    <tr style=\"text-align: right;\">\n",
       "      <th></th>\n",
       "      <th>v1</th>\n",
       "      <th>v2</th>\n",
       "    </tr>\n",
       "  </thead>\n",
       "  <tbody>\n",
       "    <tr>\n",
       "      <th>0</th>\n",
       "      <td>0</td>\n",
       "      <td>Go until jurong point, crazy.. Available only ...</td>\n",
       "    </tr>\n",
       "    <tr>\n",
       "      <th>1</th>\n",
       "      <td>0</td>\n",
       "      <td>Ok lar... Joking wif u oni...</td>\n",
       "    </tr>\n",
       "    <tr>\n",
       "      <th>2</th>\n",
       "      <td>1</td>\n",
       "      <td>Free entry in 2 a wkly comp to win FA Cup fina...</td>\n",
       "    </tr>\n",
       "    <tr>\n",
       "      <th>3</th>\n",
       "      <td>0</td>\n",
       "      <td>U dun say so early hor... U c already then say...</td>\n",
       "    </tr>\n",
       "    <tr>\n",
       "      <th>4</th>\n",
       "      <td>0</td>\n",
       "      <td>Nah I don't think he goes to usf, he lives aro...</td>\n",
       "    </tr>\n",
       "  </tbody>\n",
       "</table>\n",
       "</div>"
      ],
      "text/plain": [
       "   v1                                                 v2\n",
       "0   0  Go until jurong point, crazy.. Available only ...\n",
       "1   0                      Ok lar... Joking wif u oni...\n",
       "2   1  Free entry in 2 a wkly comp to win FA Cup fina...\n",
       "3   0  U dun say so early hor... U c already then say...\n",
       "4   0  Nah I don't think he goes to usf, he lives aro..."
      ]
     },
     "execution_count": 227,
     "metadata": {},
     "output_type": "execute_result"
    }
   ],
   "source": [
    "del data['Unnamed: 2'] #Unnamed:2 제거\n",
    "del data['Unnamed: 3'] #Unnamed:3 제거\n",
    "del data['Unnamed: 4'] #Unnamed:4 제거\n",
    "data['v1'] = data['v1'].replace(['ham','spam'],[0,1]) # v1열에 있는 ham과 spam 레이블을 각각 숫자 0과 1로 변경\n",
    "data[:5]"
   ]
  },
  {
   "cell_type": "code",
   "execution_count": 228,
   "metadata": {},
   "outputs": [
    {
     "name": "stdout",
     "output_type": "stream",
     "text": [
      "<class 'pandas.core.frame.DataFrame'>\n",
      "RangeIndex: 5572 entries, 0 to 5571\n",
      "Data columns (total 2 columns):\n",
      " #   Column  Non-Null Count  Dtype \n",
      "---  ------  --------------  ----- \n",
      " 0   v1      5572 non-null   int64 \n",
      " 1   v2      5572 non-null   object\n",
      "dtypes: int64(1), object(1)\n",
      "memory usage: 87.2+ KB\n"
     ]
    }
   ],
   "source": [
    "data.info() # 데이터 정보 확인시 v1열은 정수형, v2열은 문자열 데이터를 가지고 있다."
   ]
  },
  {
   "cell_type": "code",
   "execution_count": 230,
   "metadata": {},
   "outputs": [
    {
     "data": {
      "text/plain": [
       "False"
      ]
     },
     "execution_count": 230,
     "metadata": {},
     "output_type": "execute_result"
    }
   ],
   "source": [
    "data.isnull().values.any()  # null 값이 있는지 확인"
   ]
  },
  {
   "cell_type": "code",
   "execution_count": 231,
   "metadata": {},
   "outputs": [
    {
     "data": {
      "text/plain": [
       "(5169, 2)"
      ]
     },
     "execution_count": 231,
     "metadata": {},
     "output_type": "execute_result"
    }
   ],
   "source": [
    "data['v2'].nunique(), data['v1'].nunique() # 5,572개의 샘플중 v2열에서 중복을 제거한 샘플의 개수가 5,169개 라는 의미\n",
    "# v1열은 0또는 1의 값만을 가지므로 2가 출력됨"
   ]
  },
  {
   "cell_type": "code",
   "execution_count": 232,
   "metadata": {},
   "outputs": [],
   "source": [
    "data.drop_duplicates(subset=['v2'], inplace=True) # v2 열에서 중복인 내용이 있다면 중복 제거"
   ]
  },
  {
   "cell_type": "code",
   "execution_count": 233,
   "metadata": {},
   "outputs": [
    {
     "name": "stdout",
     "output_type": "stream",
     "text": [
      "총 샘플의 수 : 5169\n"
     ]
    }
   ],
   "source": [
    "print('총 샘플의 수 :',len(data))  # 중복 샘플이 제거 되었는지 전체 샘플의 수를 확인"
   ]
  },
  {
   "cell_type": "code",
   "execution_count": 234,
   "metadata": {},
   "outputs": [
    {
     "data": {
      "image/png": "[encoded data removed]",
      "text/plain": [
       "<Figure size 432x288 with 1 Axes>"
      ]
     },
     "metadata": {
      "needs_background": "light"
     },
     "output_type": "display_data"
    }
   ],
   "source": [
    "data['v1'].value_counts().plot(kind='bar'); # 스팸 메일 유무를 의미하는 레이블 값의 분포 시각화"
   ]
  },
  {
   "cell_type": "code",
   "execution_count": 235,
   "metadata": {},
   "outputs": [
    {
     "name": "stdout",
     "output_type": "stream",
     "text": [
      "   v1  count\n",
      "0   0   4516\n",
      "1   1    653\n"
     ]
    }
   ],
   "source": [
    "print(data.groupby('v1').size().reset_index(name='count'))\n",
    "# 레이블 0은 총 4,516개 존재, 1은 653개가 존재"
   ]
  },
  {
   "cell_type": "code",
   "execution_count": 236,
   "metadata": {},
   "outputs": [
    {
     "name": "stdout",
     "output_type": "stream",
     "text": [
      "메일 본문의 개수: 5169\n",
      "레이블의 개수: 5169\n"
     ]
    }
   ],
   "source": [
    "X_data = data['v2'] # v2열을 X로 저장\n",
    "y_data = data['v1'] # v1열을 Y로 저장\n",
    "print('메일 본문의 개수: {}'.format(len(X_data)))\n",
    "print('레이블의 개수: {}'.format(len(y_data)))"
   ]
  },
  {
   "cell_type": "code",
   "execution_count": 237,
   "metadata": {},
   "outputs": [],
   "source": [
    "# 케라스 토크나이저를 통한 토큰화와 정수 인코딩 과정\n",
    "\n",
    "tokenizer = Tokenizer()\n",
    "tokenizer.fit_on_texts(X_data) # 5169개의 행을 가진 X의 각 행에 토큰화를 수행\n",
    "# sequences = tokenizer.texts_to_sequences(X_data) # 단어를 숫자값, 인덱스로 변환하여 저장"
   ]
  },
  {
   "cell_type": "code",
   "execution_count": 240,
   "metadata": {},
   "outputs": [
    {
     "name": "stdout",
     "output_type": "stream",
     "text": [
      "[[47, 433, 4013, 780, 705, 662, 64, 8, 1202, 94, 121, 434, 1203, 142, 2712, 1204, 68, 57, 4014, 137], [49, 306, 1364, 435, 6, 1767], [53, 537, 8, 20, 4, 1016, 934, 2, 220, 2713, 1365, 706, 2714, 2715, 267, 2716, 70, 2713, 2, 2717, 2, 359, 537, 604, 1205, 82, 436, 185, 707, 437, 4015], [6, 226, 152, 23, 347, 2718, 6, 138, 145, 56, 152], [935, 1, 97, 96, 69, 453, 2, 877, 69, 1768, 198, 105, 438]]\n"
     ]
    }
   ],
   "source": [
    "# 5,169개의 메일중 5개의 메일만 출력해서 확인\n",
    "print(sequences[:5])\n",
    "\n",
    "# 각 메일에는 단어가 아닌 단어에 대한 인덱스가 부여되어있는 것이 보임"
   ]
  },
  {
   "cell_type": "code",
   "execution_count": 241,
   "metadata": {},
   "outputs": [
    {
     "name": "stdout",
     "output_type": "stream",
     "text": [
      "{'i': 1, 'to': 2, 'you': 3, 'a': 4, 'the': 5, 'u': 6, 'and': 7, 'in': 8, 'is': 9, 'me': 10, 'my': 11, 'for': 12, 'your': 13, 'it': 14, 'of': 15, 'have': 16, 'call': 17, 'that': 18, 'on': 19, '2': 20, 'are': 21, 'now': 22, 'so': 23, 'but': 24, 'not': 25, 'can': 26, 'at': 27, 'or': 28, \"i'm\": 29, 'do': 30, 'be': 31, 'get': 32, 'will': 33, 'just': 34, 'if': 35, 'with': 36, 'we': 37, 'no': 38, 'this': 39, 'ur': 40, 'up': 41, 'gt': 42, 'lt': 43, '4': 44, 'how': 45, 'when': 46, 'go': 47, 'from': 48, 'ok': 49, 'out': 50, 'all': 51, 'what': 52, 'free': 53, 'know': 54, 'like': 55, 'then': 56, 'got': 57, 'good': 58, 'come': 59, 'am': 60, 'was': 61, 'time': 62, 'its': 63, 'only': 64, 'day': 65, 'want': 66, 'love': 67, 'there': 68, 'he': 69, 'text': 70, 'send': 71, 'going': 72, 'one': 73, 'need': 74, 'by': 75, 'lor': 76, 'home': 77, 'as': 78, 'about': 79, 'still': 80, 'see': 81, 'txt': 82, 'back': 83, 'r': 84, 'stop': 85, 'da': 86, 'k': 87, 'today': 88, 'our': 89, \"i'll\": 90, 'dont': 91, 'reply': 92, 'take': 93, 'n': 94, 'hi': 95, 'think': 96, \"don't\": 97, 'tell': 98, 'any': 99, 'sorry': 100, 'new': 101, 'please': 102, 'mobile': 103, 'she': 104, 'here': 105, 'ì': 106, 'her': 107, 'been': 108, 'they': 109, 'some': 110, 'did': 111, 'well': 112, 'hey': 113, 'much': 114, 'phone': 115, 'oh': 116, 'hope': 117, 'night': 118, 'too': 119, 'him': 120, 'great': 121, 'week': 122, 'where': 123, 'an': 124, 'has': 125, 'more': 126, 'dear': 127, 'later': 128, 'pls': 129, '1': 130, 'make': 131, 'msg': 132, 'give': 133, 'claim': 134, 'way': 135, 'happy': 136, 'wat': 137, 'c': 138, 'had': 139, 'should': 140, \"it's\": 141, 'e': 142, 'yes': 143, 'who': 144, 'already': 145, 'number': 146, 'ask': 147, 'work': 148, 'yeah': 149, 'www': 150, 'really': 151, 'say': 152, 'after': 153, 'prize': 154, 'doing': 155, 'tomorrow': 156, 'im': 157, 'right': 158, 'meet': 159, 'babe': 160, 'why': 161, 'cash': 162, 'thanks': 163, 'message': 164, 'said': 165, 'cos': 166, 'find': 167, '3': 168, 'lol': 169, 'them': 170, 'would': 171, 'last': 172, 'b': 173, 'very': 174, 'miss': 175, 'life': 176, 'also': 177, 'let': 178, 'sure': 179, 'anything': 180, 'morning': 181, 'something': 182, 'd': 183, 'keep': 184, 't': 185, \"i've\": 186, 'every': 187, '150p': 188, 'again': 189, 'before': 190, 'urgent': 191, 'wait': 192, 'care': 193, 'next': 194, 'over': 195, 'us': 196, 'buy': 197, 'around': 198, 'first': 199, 'contact': 200, 'min': 201, 'sent': 202, 'thing': 203, 'were': 204, 'pick': 205, 'money': 206, 'off': 207, 's': 208, 'tonight': 209, 'won': 210, 'com': 211, 'could': 212, 'gonna': 213, 'soon': 214, 'his': 215, 'feel': 216, 'amp': 217, 'nokia': 218, \"can't\": 219, 'win': 220, 'even': 221, 'ya': 222, 'which': 223, 'late': 224, 'sleep': 225, 'dun': 226, 'down': 227, \"that's\": 228, 'uk': 229, 'someone': 230, 'leave': 231, 'wan': 232, 'many': 233, 'v': 234, 'always': 235, 'place': 236, 'service': 237, 'ìï': 238, 'cant': 239, 'other': 240, \"you're\": 241, 'things': 242, 'haha': 243, '5': 244, 'chat': 245, 'told': 246, 'per': 247, 'getting': 248, 'x': 249, 'nice': 250, 'waiting': 251, 'same': 252, 'yet': 253, 'thk': 254, 'coming': 255, 'help': 256, 'went': 257, '50': 258, 'customer': 259, 'done': 260, 'hello': 261, 'thought': 262, 'friend': 263, 'fine': 264, 'try': 265, 'sms': 266, 'may': 267, 'stuff': 268, 'class': 269, 'year': 270, 'mins': 271, 'wish': 272, 'tone': 273, 'co': 274, 'talk': 275, 'use': 276, \"didn't\": 277, 'gud': 278, '18': 279, 'y': 280, 'better': 281, 'friends': 282, 'name': 283, 'finish': 284, 'trying': 285, 'bit': 286, 'best': 287, 'cool': 288, 'guaranteed': 289, 'long': 290, 'ill': 291, 'yup': 292, '6': 293, 'people': 294, '16': 295, 'being': 296, 'never': 297, 'ready': 298, 'few': 299, 'lunch': 300, 'car': 301, 'end': 302, 'yo': 303, 'draw': 304, 'enjoy': 305, 'lar': 306, 'eat': 307, 'meeting': 308, 'wanna': 309, 'thats': 310, 'job': 311, 'nothing': 312, 'holiday': 313, 'house': 314, 'than': 315, 'line': 316, 'having': 317, 'live': 318, 'check': 319, 'guess': 320, 'liao': 321, 'cs': 322, 'days': 323, 'dinner': 324, 'man': 325, 'half': 326, 'wk': 327, 'because': 328, 'shit': 329, 'problem': 330, '7': 331, 'month': 332, 'special': 333, 'ah': 334, 'real': 335, 'another': 336, 'account': 337, 'jus': 338, 'big': 339, 'might': 340, 'quite': 341, 'mind': 342, 'smile': 343, 'lot': 344, 'shows': 345, 'dat': 346, 'early': 347, 'word': 348, 'å£1': 349, 'room': 350, 'once': 351, 'aight': 352, 'sir': 353, 'guys': 354, 'person': 355, 'video': 356, 'heart': 357, 'probably': 358, 'receive': 359, 'xxx': 360, 'latest': 361, 'wont': 362, 'remember': 363, 'maybe': 364, 'bed': 365, 'll': 366, 'start': 367, 'into': 368, 'watch': 369, 'chance': 370, 'den': 371, 'watching': 372, 'pay': 373, 'left': 374, 'does': 375, 'weekend': 376, 'play': 377, 'awarded': 378, 'hear': 379, 'offer': 380, 'thanx': 381, 'baby': 382, 'box': 383, 'dunno': 384, 'ever': 385, 'sat': 386, 'actually': 387, 'bad': 388, 'princess': 389, 'kiss': 390, 'fun': 391, 'speak': 392, 'cost': 393, 'look': 394, \"he's\": 395, 'landline': 396, 'little': 397, 'luv': 398, 'leh': 399, 'reach': 400, 'face': 401, 'shopping': 402, 'shall': 403, 'minutes': 404, 'code': 405, 'thank': 406, \"how's\": 407, '10': 408, 'pa': 409, 'forgot': 410, '150ppm': 411, 'anyway': 412, 'm': 413, 'called': 414, 'two': 415, 'camera': 416, 'bus': 417, 'sweet': 418, 'å£1000': 419, 'girl': 420, 'tv': 421, 'working': 422, 'tmr': 423, 'everything': 424, 'didnt': 425, 'plan': 426, 'hour': 427, 'texts': 428, 'god': 429, '1st': 430, 'fuck': 431, 'dad': 432, 'until': 433, 'world': 434, 'wif': 435, 'rate': 436, 'apply': 437, 'though': 438, 'enough': 439, \"there's\": 440, 'since': 441, 'looking': 442, 'okay': 443, 'join': 444, 'those': 445, 'boy': 446, 'po': 447, 'orange': 448, 'office': 449, 'put': 450, 'while': 451, 'town': 452, 'goes': 453, 'network': 454, 'ringtone': 455, '2nd': 456, 'wanted': 457, 'abt': 458, 'says': 459, 'birthday': 460, 'must': 461, 'bt': 462, 'mail': 463, 'able': 464, 'collect': 465, 'wot': 466, 'bring': 467, '9': 468, '000': 469, 'times': 470, 'most': 471, 'part': 472, 'dis': 473, 'afternoon': 474, 'show': 475, 'juz': 476, 'school': 477, 'award': 478, 'evening': 479, 'easy': 480, 'important': 481, 'g': 482, 'asked': 483, 'wake': 484, 'tones': 485, 'made': 486, 'details': 487, 'plus': 488, 'selected': 489, 'alright': 490, 're': 491, 'saw': 492, 'hair': 493, 'came': 494, 'havent': 495, 'else': 496, 'worry': 497, 'away': 498, 'guy': 499, 'missed': 500, 'yesterday': 501, 'pain': 502, 'price': 503, 'making': 504, 'haf': 505, 'sexy': 506, 'without': 507, 'years': 508, 'til': 509, 'xmas': 510, 'oso': 511, 'book': 512, 'dude': 513, 'stay': 514, '8': 515, 'attempt': 516, 'online': 517, 'gift': 518, 'collection': 519, 'lei': 520, 'valid': 521, 'ard': 522, \"we're\": 523, 'messages': 524, \"haven't\": 525, 'driving': 526, 'food': 527, 'missing': 528, 'hav': 529, \"what's\": 530, 'nite': 531, '10p': 532, 'true': 533, 'bored': 534, 'sch': 535, 'goin': 536, 'entry': 537, 'update': 538, 'net': 539, 'till': 540, \"won't\": 541, 'tried': 542, 'calls': 543, 'means': 544, 'between': 545, 'movie': 546, 'run': 547, 'test': 548, 'address': 549, 'busy': 550, 'order': 551, 'change': 552, 'tot': 553, 'feeling': 554, 'together': 555, 'de': 556, 'wants': 557, 'makes': 558, 'words': 559, 'http': 560, 'yourself': 561, 'mob': 562, 'trip': 563, 'mean': 564, 'old': 565, 'believe': 566, 'decimal': 567, 'id': 568, 'both': 569, 'noe': 570, 'happen': 571, '500': 572, 'ring': 573, 'hot': 574, 'club': 575, 'full': 576, 'hurt': 577, 'weekly': 578, \"we'll\": 579, 'chikku': 580, 'huh': 581, 'these': 582, 'family': 583, 'drive': 584, 'colour': 585, 'å£100': 586, 'date': 587, 'national': 588, 'aft': 589, 'tomo': 590, 'delivery': 591, 'yours': 592, 'finished': 593, 'wen': 594, 'points': 595, 'top': 596, 'awesome': 597, 'shop': 598, 'beautiful': 599, 'thinking': 600, 'saying': 601, 'rite': 602, '8007': 603, 'question': 604, 'hours': 605, 'tho': 606, 'second': 607, 'double': 608, 'comes': 609, 'started': 610, 'cause': 611, 'å£2000': 612, 'taking': 613, 'leaving': 614, 'walk': 615, 'charge': 616, 'lets': 617, 'plz': 618, 'calling': 619, 'drink': 620, 'head': 621, 'eve': 622, 'gd': 623, 'sae': 624, 'either': 625, 'neva': 626, 'game': 627, 'pub': 628, \"she's\": 629, 'sad': 630, 'brother': 631, 'set': 632, 'lesson': 633, 'took': 634, 'bonus': 635, 'lucky': 636, 'xx': 637, 'private': 638, 'todays': 639, 'services': 640, 'open': 641, 'lots': 642, 'smoke': 643, 'gr8': 644, 'sis': 645, 'break': 646, 'sounds': 647, 'wil': 648, 'music': 649, '750': 650, 'w': 651, 'poly': 652, 'pics': 653, 'whatever': 654, 'wife': 655, 'email': 656, 'await': 657, 'loving': 658, 'pic': 659, 'alone': 660, 'auction': 661, 'available': 662, 'treat': 663, 'pounds': 664, 'news': 665, 'ha': 666, 'smth': 667, 'forget': 668, '08000930705': 669, 'girls': 670, 'gone': 671, '12hrs': 672, 'happened': 673, 'statement': 674, 'expires': 675, 'answer': 676, 'nt': 677, 'coz': 678, 'everyone': 679, 'needs': 680, 'carlos': 681, 'boytoy': 682, 'minute': 683, 'touch': 684, 'college': 685, 'sleeping': 686, 'company': 687, 'anytime': 688, 'unsubscribe': 689, 'choose': 690, 'far': 691, 'card': 692, 'games': 693, 'row': 694, 'pm': 695, 'dating': 696, 'land': 697, 'å£500': 698, 'kind': 699, 'mine': 700, 'mum': 701, 'voucher': 702, 'sun': 703, 'drop': 704, 'crazy': 705, 'final': 706, \"c's\": 707, '11': 708, 'wonderful': 709, \"doesn't\": 710, 'decided': 711, 'camcorder': 712, 'used': 713, 'close': 714, 'smiling': 715, 'identifier': 716, 'msgs': 717, 'each': 718, 'content': 719, 'wit': 720, 'found': 721, 'darlin': 722, 'oredi': 723, 'sister': 724, 'bout': 725, 'fucking': 726, 'nope': 727, 'outside': 728, 'fri': 729, 'pretty': 730, 'fast': 731, 'weeks': 732, '\\x89û': 733, 'anyone': 734, 'don': 735, 'hows': 736, '30': 737, 'freemsg': 738, '100': 739, 'credit': 740, 'hungry': 741, 'telling': 742, 'whole': 743, 'congrats': 744, 'å£5000': 745, 'prob': 746, 'search': 747, 'hit': 748, 'friday': 749, 'hmm': 750, 'mu': 751, \"you'll\": 752, 'yr': 753, 'ltd': 754, 'hard': 755, 'frnd': 756, 'fancy': 757, 'bank': 758, 'finally': 759, 'goodmorning': 760, 'tel': 761, 'meant': 762, 'vouchers': 763, 'takes': 764, 'unlimited': 765, '86688': 766, 'okie': 767, 'friendship': 768, 'post': 769, 'simple': 770, 'sea': 771, 'listen': 772, 'o': 773, 'snow': 774, 'mate': 775, 'earlier': 776, 'party': 777, 'chennai': 778, 'dreams': 779, 'point': 780, 'winner': 781, 'info': 782, 'saturday': 783, 'almost': 784, 'cut': 785, 'hee': 786, 'download': 787, 'mah': 788, 'caller': 789, '03': 790, 'player': 791, 'age': 792, 'type': 793, 'whats': 794, 'hmmm': 795, \"you've\": 796, 'log': 797, 'course': 798, 'side': 799, 'fr': 800, 'congratulations': 801, 'fone': 802, 'lost': 803, 'christmas': 804, 'read': 805, 'ago': 806, 'mobileupd8': 807, 'talking': 808, 'project': 809, 'couple': 810, 'india': 811, 'å£250': 812, 'opt': 813, 'visit': 814, 'park': 815, 'å£2': 816, '2003': 817, '800': 818, 'un': 819, 'yar': 820, 'area': 821, 'knw': 822, 'b4': 823, 'mayb': 824, 'least': 825, 'luck': 826, 'gas': 827, \"i'd\": 828, 'eh': 829, 'charged': 830, 'seeing': 831, 'wow': 832, 'etc': 833, 'gotta': 834, 'computer': 835, 'mom': 836, 'uncle': 837, 'numbers': 838, 'sending': 839, 'direct': 840, 'tired': 841, 'their': 842, 'mr': 843, 'worth': 844, 'balance': 845, 'rs': 846, 'march': 847, 'case': 848, 'hold': 849, 'wid': 850, 'swing': 851, 'light': 852, 'currently': 853, 'suite342': 854, '2lands': 855, '08000839402': 856, 'seen': 857, 'reason': 858, 'ass': 859, 'supposed': 860, 'welcome': 861, 'cum': 862, 'lose': 863, 'redeemed': 864, '04': 865, 'through': 866, 'gym': 867, 'darren': 868, 'sex': 869, 'lovely': 870, 'ugh': 871, 'wrong': 872, 'support': 873, 'grins': 874, 'difficult': 875, \"wasn't\": 876, 'usf': 877, '20': 878, 'pobox': 879, 'eg': 880, 'comin': 881, 'confirm': 882, 'abiola': 883, 'crave': 884, 'gets': 885, 'ac': 886, 'pass': 887, 'complimentary': 888, 'loads': 889, 'shower': 890, 'operator': 891, 'match': 892, 'quiz': 893, 'dogging': 894, 'ni8': 895, 'safe': 896, 'muz': 897, 'bath': 898, 'story': 899, 'orchard': 900, 'kate': 901, 'exam': 902, 'secret': 903, 'thinks': 904, 'laptop': 905, 'angry': 906, 'own': 907, 'wana': 908, 'die': 909, 'somebody': 910, 'rest': 911, 'txts': 912, 'jay': 913, 'ex': 914, 'st': 915, 'motorola': 916, 'slow': 917, 'rental': 918, 'asking': 919, 'monday': 920, 'frm': 921, 'å£3': 922, 'sound': 923, 'wonder': 924, 'extra': 925, 'understand': 926, 'whenever': 927, 'sort': 928, 'asap': 929, 'heard': 930, 'na': 931, 'information': 932, 'enter': 933, 'comp': 934, 'nah': 935, 'reward': 936, '12': 937, 'sunday': 938, 'wap': 939, 'link': 940, 'myself': 941, 'worried': 942, 'oops': 943, 'red': 944, 'correct': 945, 'move': 946, 'song': 947, 'frnds': 948, 'save': 949, 'tickets': 950, 'il': 951, 'gave': 952, \"isn't\": 953, 'felt': 954, 'pray': 955, 'wine': 956, 'dream': 957, 'parents': 958, 'spend': 959, 'bathe': 960, 'bill': 961, 'semester': 962, 'study': 963, 'tc': 964, '87066': 965, 'blue': 966, 'tonite': 967, 'stupid': 968, 'ends': 969, 'normal': 970, 'pete': 971, 'plans': 972, 'via': 973, 'small': 974, 'figure': 975, 'met': 976, 'rakhesh': 977, 'moment': 978, 'call2optout': 979, 'woke': 980, 'phones': 981, 'mm': 982, 'yep': 983, 'voice': 984, 'booked': 985, 'th': 986, 'ten': 987, 'different': 988, 'water': 989, 'ipod': 990, 'offers': 991, 'hoping': 992, 'across': 993, 'warm': 994, 'em': 995, 'happiness': 996, 'å£350': 997, 'drugs': 998, 'laugh': 999, 'ans': 1000, 'fantastic': 1001, 'sell': 1002, 'glad': 1003, 'store': 1004, 'picking': 1005, 'mates': 1006, 'knew': 1007, 'nyt': 1008, 'p': 1009, 'surprise': 1010, 'film': 1011, '2nite': 1012, 'fact': 1013, 'loved': 1014, 'doin': 1015, 'wkly': 1016, 'valued': 1017, 'months': 1018, 'mobiles': 1019, 'promise': 1020, 'knows': 1021, 'sick': 1022, 'catch': 1023, 'hospital': 1024, 'ice': 1025, 'reached': 1026, 'checking': 1027, 'forever': 1028, '0800': 1029, 'men': 1030, \"''\": 1031, 'invited': 1032, 'rates': 1033, 'buying': 1034, 'lazy': 1035, 'lect': 1036, 'hand': 1037, 'f': 1038, 'staying': 1039, 'doesnt': 1040, 'especially': 1041, 'studying': 1042, 'trust': 1043, 'using': 1044, 'deal': 1045, 'itself': 1046, 'dead': 1047, 'mrt': 1048, 'ive': 1049, 'lessons': 1050, 'street': 1051, 'disturb': 1052, 'questions': 1053, 'unless': 1054, 'somewhere': 1055, 'å£200': 1056, '2day': 1057, 'reading': 1058, 'access': 1059, 'custcare': 1060, 'weed': 1061, 'w1j6hl': 1062, 'brings': 1063, 'rock': 1064, 'al': 1065, 'kinda': 1066, 'remove': 1067, 'meh': 1068, 'rent': 1069, 'less': 1070, 'savamob': 1071, 'within': 1072, 'cheap': 1073, '150': 1074, 'train': 1075, '\\x89ûò': 1076, 'ts': 1077, 'paper': 1078, 'xy': 1079, 'å£10': 1080, 'ones': 1081, 'gettin': 1082, 'charity': 1083, 'poor': 1084, 'user': 1085, 'truth': 1086, 'hiya': 1087, 'doctor': 1088, 'gal': 1089, 'nobody': 1090, 'mon': 1091, 'wondering': 1092, 'others': 1093, 'ringtones': 1094, 'tht': 1095, 'reaching': 1096, 'excellent': 1097, 'sitting': 1098, 'anymore': 1099, 'england': 1100, '87077': 1101, 'mark': 1102, 'pizza': 1103, 'cheers': 1104, 'quick': 1105, 'decide': 1106, \"you'd\": 1107, 'nigeria': 1108, 'short': 1109, 'rply': 1110, 'stand': 1111, 'spent': 1112, 'rain': 1113, 'planning': 1114, 'umma': 1115, 'weekends': 1116, 'weight': 1117, 'entered': 1118, 'specially': 1119, 'paying': 1120, 'ending': 1121, 'bak': 1122, 'txting': 1123, 'sometimes': 1124, \"where's\": 1125, 'joined': 1126, 'however': 1127, 'mrng': 1128, 'slept': 1129, 'bcoz': 1130, 'road': 1131, 'reveal': 1132, 'goodnight': 1133, 'cd': 1134, 'lemme': 1135, 'credits': 1136, 'usual': 1137, 'bslvyl': 1138, 'coffee': 1139, '4u': 1140, 'immediately': 1141, 'fixed': 1142, 'valentines': 1143, 'wiv': 1144, 'interested': 1145, 'round': 1146, 'urself': 1147, 'hg': 1148, 'discount': 1149, 'mistake': 1150, 'facebook': 1151, 'yahoo': 1152, 'aha': 1153, 'funny': 1154, 'giving': 1155, 'din': 1156, 'terms': 1157, 'near': 1158, '02': 1159, 'age16': 1160, 'workin': 1161, 'daddy': 1162, 'clean': 1163, 'door': 1164, 'ar': 1165, 'noon': 1166, 'valentine': 1167, 'longer': 1168, 'pc': 1169, 'starting': 1170, 'tuesday': 1171, 'king': 1172, 'seems': 1173, 'add': 1174, 'eyes': 1175, 'library': 1176, 'wishing': 1177, 'slave': 1178, 'omg': 1179, 'polys': 1180, 'tampa': 1181, 'yrs': 1182, 'training': 1183, 'sale': 1184, 'gay': 1185, '08712460324': 1186, 'mo': 1187, 'medical': 1188, 'black': 1189, 'awaiting': 1190, 'cancel': 1191, 'honey': 1192, 'bb': 1193, 'vl': 1194, 'frens': 1195, 'write': 1196, '06': 1197, 'john': 1198, 'father': 1199, 'wednesday': 1200, 'thinkin': 1201, 'bugis': 1202, 'la': 1203, 'cine': 1204, 'std': 1205, \"'\": 1206, 'press': 1207, 'click': 1208, 'naughty': 1209, 'sucks': 1210, 'tea': 1211, 'eating': 1212, 'replying': 1213, 'liked': 1214, 'cinema': 1215, 'situation': 1216, 'wun': 1217, 'trouble': 1218, 'ave': 1219, 'changed': 1220, 'cuz': 1221, 'page': 1222, 'eatin': 1223, 'inc': 1224, '2004': 1225, 'bother': 1226, 'del': 1227, 'sony': 1228, 'yijue': 1229, 'goto': 1230, 'internet': 1231, 'completely': 1232, 'hop': 1233, 'bucks': 1234, 'past': 1235, 'biz': 1236, 'appreciate': 1237, 'sign': 1238, 'battery': 1239, 'flirt': 1240, 'admirer': 1241, 'ldew': 1242, 'dnt': 1243, 'deep': 1244, 'lover': 1245, 'horny': 1246, 'quality': 1247, 'worries': 1248, 'ge': 1249, 'sense': 1250, 'high': 1251, 'imagine': 1252, 'kb': 1253, 'power': 1254, 'yoga': 1255, '11mths': 1256, 'merry': 1257, '08718720201': 1258, 'fault': 1259, 'insurance': 1260, 'maximize': 1261, 'cold': 1262, 'forward': 1263, 'bluetooth': 1264, 'reference': 1265, 'happening': 1266, 'starts': 1267, 'logo': 1268, '3030': 1269, 'ldn': 1270, 'ticket': 1271, 'loan': 1272, 'thru': 1273, 'notice': 1274, 'tenerife': 1275, '8th': 1276, 'depends': 1277, 'mp3': 1278, '00': 1279, 'sub': 1280, 'single': 1281, 'fat': 1282, '50p': 1283, 'rather': 1284, 'hotel': 1285, 'omw': 1286, 'hurry': 1287, 'gee': 1288, 'izzit': 1289, 'kids': 1290, \"t's\": 1291, 'pound': 1292, 'present': 1293, 'imma': 1294, 'future': 1295, 'shuhui': 1296, 'alex': 1297, 'paid': 1298, '25p': 1299, 'matches': 1300, 'forwarded': 1301, 'ho': 1302, 'awake': 1303, 'torch': 1304, 'bold': 1305, 'looks': 1306, 'idea': 1307, '7pm': 1308, 'running': 1309, 'holla': 1310, 'possible': 1311, 'yest': 1312, 'summer': 1313, \"they're\": 1314, 'getzed': 1315, 'bid': 1316, 'model': 1317, 'comuk': 1318, 'mother': 1319, 'hai': 1320, 'otherwise': 1321, 'ntt': 1322, 'midnight': 1323, 'photo': 1324, 'registered': 1325, 'recently': 1326, 'feels': 1327, 'å£800': 1328, 'nxt': 1329, 'j': 1330, 'during': 1331, 'movies': 1332, 'onto': 1333, 'cute': 1334, 'energy': 1335, 'strong': 1336, 'complete': 1337, 'picked': 1338, 'cell': 1339, 'mode': 1340, 'dog': 1341, 'alrite': 1342, 'shd': 1343, '20p': 1344, 'walking': 1345, 'players': 1346, 'lmao': 1347, 'arrive': 1348, 'south': 1349, 'instead': 1350, 'buzz': 1351, 'inside': 1352, 'slowly': 1353, 'hw': 1354, 'excuse': 1355, \"wat's\": 1356, 'vikky': 1357, 'pix': 1358, 'sofa': 1359, \"god's\": 1360, 'happens': 1361, 'behind': 1362, 'planned': 1363, 'joking': 1364, 'cup': 1365, 'copy': 1366, 'å£900': 1367, 'entitled': 1368, 'team': 1369, 'seriously': 1370, 'learn': 1371, 'texting': 1372, 'ahead': 1373, 'kept': 1374, 'usually': 1375, 'fyi': 1376, 'joke': 1377, 'following': 1378, 'kano': 1379, 'don\\x89û÷t': 1380, 'pleasure': 1381, 'hurts': 1382, 'loves': 1383, 'representative': 1384, '10am': 1385, 'boss': 1386, 'askd': 1387, 'directly': 1388, '08712300220': 1389, 'standard': 1390, 'app': 1391, 'sunshine': 1392, 'dvd': 1393, 'sp': 1394, \"uk's\": 1395, 'swt': 1396, 'local': 1397, 'qatar': 1398, 'become': 1399, 'arrange': 1400, 'waste': 1401, 'hell': 1402, 'turns': 1403, 'bye': 1404, 'towards': 1405, 'personal': 1406, 'straight': 1407, 'nights': 1408, 'system': 1409, 'died': 1410, '25': 1411, 'kick': 1412, \"u've\": 1413, 'website': 1414, 'kallis': 1415, 'cal': 1416, 'handset': 1417, 'dint': 1418, 'leaves': 1419, 'sim': 1420, 'loyalty': 1421, 'rose': 1422, 'babes': 1423, 'sport': 1424, 'definitely': 1425, 'track': 1426, 'return': 1427, 'report': 1428, 'rcvd': 1429, 'ta': 1430, 'num': 1431, 'ish': 1432, 'cc': 1433, 'posted': 1434, 'air': 1435, 'willing': 1436, 'pilates': 1437, 'putting': 1438, 'none': 1439, 'askin': 1440, 'tough': 1441, 'group': 1442, 'isnt': 1443, 'moan': 1444, 'fb': 1445, 'silent': 1446, 'realy': 1447, 'jst': 1448, 'tat': 1449, '40gb': 1450, 'children': 1451, 'campus': 1452, \"today's\": 1453, 'å£150': 1454, 'member': 1455, 'lady': 1456, 'l8r': 1457, 'fingers': 1458, 'self': 1459, 'blood': 1460, 'aiyo': 1461, 'barely': 1462, 'scream': 1463, 'spree': 1464, 'ladies': 1465, 'weather': 1466, 'holder': 1467, 'login': 1468, 'under': 1469, 'fetch': 1470, \"u're\": 1471, 'law': 1472, 'sit': 1473, 'dey': 1474, 'yay': 1475, 'damn': 1476, 'wats': 1477, 'space': 1478, 'bag': 1479, 'boo': 1480, 'teasing': 1481, 'zed': 1482, 'surely': 1483, 'five': 1484, 'wed': 1485, 'matter': 1486, 'mid': 1487, 'sup': 1488, 'due': 1489, 'teach': 1490, 'ate': 1491, 'expensive': 1492, 'against': 1493, \"u'll\": 1494, 'brand': 1495, 'contract': 1496, 'loverboy': 1497, 'serious': 1498, 'april': 1499, 'process': 1500, 'works': 1501, 'aiyah': 1502, 'o2': 1503, 'urawinner': 1504, 'raining': 1505, 'station': 1506, 'thts': 1507, 'super': 1508, 'problems': 1509, '0870': 1510, 'cover': 1511, 'cafe': 1512, 'keeping': 1513, 'except': 1514, 'london': 1515, 'lookin': 1516, 'boys': 1517, 'list': 1518, 'gn': 1519, 'ahmad': 1520, 'empty': 1521, 'role': 1522, 'worse': 1523, 'pussy': 1524, 'budget': 1525, 'random': 1526, 'plenty': 1527, 'hr': 1528, 'hrs': 1529, 'cancer': 1530, 'feb': 1531, 'tick': 1532, 'å£400': 1533, 'darling': 1534, 'request': 1535, 'wet': 1536, 'thatåõs': 1537, 'i\\x89û÷m': 1538, 'stock': 1539, 'subscription': 1540, 'hopefully': 1541, 'tyler': 1542, 'weak': 1543, 'ride': 1544, 'ip4': 1545, '5we': 1546, 'pleased': 1547, 'review': 1548, 'respect': 1549, '530': 1550, 'simply': 1551, 'password': 1552, 'boston': 1553, 'scared': 1554, 'flights': 1555, 'informed': 1556, 'voda': 1557, 'quoting': 1558, \"shouldn't\": 1559, 'country': 1560, '82277': 1561, 'laid': 1562, 'locations': 1563, 'ec2a': 1564, 'lovable': 1565, 'replied': 1566, 'begin': 1567, 'shirt': 1568, 'inviting': 1569, '434': 1570, '62468': 1571, 'discuss': 1572, 'cannot': 1573, 'connection': 1574, 'romantic': 1575, '2optout': 1576, 'partner': 1577, 'fix': 1578, 'tncs': 1579, 'naked': 1580, 'bf': 1581, '21': 1582, 'themob': 1583, \"aren't\": 1584, 'accept': 1585, \"he'll\": 1586, 'advance': 1587, 'cake': 1588, 'allah': 1589, 'sonyericsson': 1590, 'geeee': 1591, \"did't\": 1592, 'sighs': 1593, 'body': 1594, 'guide': 1595, 'relax': 1596, 'intro': 1597, 'current': 1598, 'pictures': 1599, 'yan': 1600, 'jiu': 1601, 'pobox36504w45wq': 1602, 'contacted': 1603, 'hostel': 1604, \"she'll\": 1605, 'lift': 1606, 'respond': 1607, 'dollars': 1608, 'acc': 1609, 'woman': 1610, 'donåõt': 1611, 'ttyl': 1612, 'gives': 1613, 'style': 1614, 'flat': 1615, 'charges': 1616, 'sec': 1617, 'activate': 1618, 'village': 1619, 'opinion': 1620, '83355': 1621, 'pin': 1622, 'unsub': 1623, 'english': 1624, 'btw': 1625, '2mrw': 1626, 'smiles': 1627, 'marriage': 1628, 'jazz': 1629, 'yogasana': 1630, 'announcement': 1631, 'stopped': 1632, 'indian': 1633, 'somethin': 1634, 'daily': 1635, 'vodafone': 1636, '80062': 1637, 'gentle': 1638, 'drug': 1639, 'earth': 1640, 'belly': 1641, 'lonely': 1642, 'bedroom': 1643, 'aftr': 1644, 'timing': 1645, 'mad': 1646, 'twice': 1647, 'opportunity': 1648, 'txtauction': 1649, 'gals': 1650, 'city': 1651, 'sing': 1652, \"couldn't\": 1653, 'living': 1654, 'no1': 1655, 'green': 1656, 'ages': 1657, 'sura': 1658, 'playing': 1659, 'fall': 1660, 'records': 1661, 'birds': 1662, 'lead': 1663, 'unsold': 1664, 'white': 1665, 'january': 1666, 'cheaper': 1667, 'ym': 1668, 'pissed': 1669, 'wherever': 1670, 'wear': 1671, 'places': 1672, 'photos': 1673, 'heavy': 1674, 'site': 1675, 'ad': 1676, 'boring': 1677, 'salary': 1678, '3g': 1679, 'dropped': 1680, 'yun': 1681, 'kerala': 1682, 'asleep': 1683, 'bitch': 1684, 'xchat': 1685, 'digital': 1686, 'receipt': 1687, 'uni': 1688, 'italian': 1689, 'horrible': 1690, 'nw': 1691, 'tuition': 1692, 'chinese': 1693, 'hun': 1694, 'cbe': 1695, 'callså£1': 1696, '80488': 1697, 'tour': 1698, 'broke': 1699, 'married': 1700, 'pple': 1701, 'marry': 1702, '1327': 1703, 'croydon': 1704, 'cr9': 1705, '5wb': 1706, 'share': 1707, 'vote': 1708, 'tells': 1709, 'totally': 1710, 'rem': 1711, 'exams': 1712, 'bought': 1713, 'google': 1714, 'aint': 1715, 'airport': 1716, '86021': 1717, 'costs': 1718, 'eerie': 1719, 'waking': 1720, 'sight': 1721, 'rd': 1722, 'hook': 1723, 'bin': 1724, '05': 1725, 'social': 1726, 'selling': 1727, 'buns': 1728, 'holding': 1729, 'hate': 1730, 'thnk': 1731, 'season': 1732, 'nvm': 1733, 'moms': 1734, 'obviously': 1735, \"who's\": 1736, 'flag': 1737, 'armand': 1738, 'looked': 1739, 'expecting': 1740, 'mood': 1741, 'checked': 1742, 'unable': 1743, 'remind': 1744, 'tear': 1745, 'whether': 1746, 'spook': 1747, 'added': 1748, 'police': 1749, 'ru': 1750, 'cars': 1751, 'er': 1752, 'deliver': 1753, 'amount': 1754, 'advice': 1755, 'amazing': 1756, 'issues': 1757, 'tariffs': 1758, 'thurs': 1759, \"wouldn't\": 1760, 'lik': 1761, '3510i': 1762, '300': 1763, 'meds': 1764, 'mths': 1765, 'common': 1766, 'oni': 1767, 'lives': 1768, 'tb': 1769, 'callertune': 1770, 'searching': 1771, 'str': 1772, 'sooner': 1773, 'turn': 1774, 'egg': 1775, \"mom's\": 1776, 'letter': 1777, 'inches': 1778, 'embarassed': 1779, 'seemed': 1780, 'bx420': 1781, '150pm': 1782, 'series': 1783, 'wah': 1784, 'machan': 1785, 'coins': 1786, 'appointment': 1787, 'legal': 1788, 'nyc': 1789, 'wishes': 1790, 'truly': 1791, 'considering': 1792, 'research': 1793, 'tt': 1794, \"b'day\": 1795, 'apartment': 1796, 'needed': 1797, 'yetunde': 1798, \"hasn't\": 1799, 'q': 1800, 'largest': 1801, 'netcollex': 1802, 'deleted': 1803, 'interview': 1804, 'menu': 1805, 'bloody': 1806, 'spoke': 1807, 'experience': 1808, 'anyways': 1809, 'freephone': 1810, 'radio': 1811, 'unique': 1812, 'shoot': 1813, 'sen': 1814, 'atm': 1815, 'files': 1816, 'followed': 1817, 'teaches': 1818, 'cross': 1819, 'sam': 1820, 'closer': 1821, 'showing': 1822, 'expect': 1823, 'mmm': 1824, 'singles': 1825, 'ended': 1826, 'sunny': 1827, 'hmv': 1828, 'passed': 1829, 'anybody': 1830, 'throw': 1831, 'cam': 1832, 'accidentally': 1833, 'cry': 1834, 'def': 1835, 'meal': 1836, 'dates': 1837, 'hanging': 1838, 'selection': 1839, 'smart': 1840, 'pongal': 1841, 'afraid': 1842, 'december': 1843, 'kisses': 1844, 'cud': 1845, 'ppl': 1846, 'waitin': 1847, '85': 1848, '83600': 1849, '1000s': 1850, 'basically': 1851, 'wtf': 1852, '1000': 1853, 'further': 1854, 'sometime': 1855, '87131': 1856, 'cream': 1857, 'fullonsms': 1858, 'competition': 1859, 'esplanade': 1860, 'fifteen': 1861, 'vary': 1862, 'journey': 1863, 'gorgeous': 1864, 'si': 1865, 'ure': 1866, 'intelligent': 1867, 'result': 1868, 'reasons': 1869, 'receiving': 1870, '5000': 1871, 'cw25wx': 1872, 'conditions': 1873, 'dry': 1874, 'bringing': 1875, 'mtmsgrcvd18': 1876, 'cha': 1877, 'bday': 1878, '85023': 1879, 'pg': 1880, 'malaria': 1881, 'passionate': 1882, 'three': 1883, 'milk': 1884, 'i\\x89û÷ll': 1885, 'lab': 1886, 'quit': 1887, '1x150p': 1888, '24': 1889, 'grand': 1890, 'pie': 1891, '28': 1892, 'paris': 1893, 'results': 1894, 'answers': 1895, 'often': 1896, 'bud': 1897, 'drinks': 1898, 'thursday': 1899, 'taken': 1900, 'bet': 1901, 'hella': 1902, 'evng': 1903, 'prepare': 1904, 'seem': 1905, 'explain': 1906, 'gap': 1907, 'weird': 1908, 'drivin': 1909, 'students': 1910, 'upset': 1911, 'assume': 1912, 'exactly': 1913, 'faster': 1914, \"we've\": 1915, 'spoken': 1916, '88039': 1917, 'skilgme': 1918, 'meetin': 1919, 'closed': 1920, 'apparently': 1921, 'smokes': 1922, 'perfect': 1923, 'polyphonic': 1924, 'enjoyed': 1925, 'pobox84': 1926, 'appt': 1927, '36504': 1928, '3d': 1929, \"ain't\": 1930, 'hunny': 1931, 'ache': 1932, 'profit': 1933, 'ibiza': 1934, 'ppm': 1935, 'meanwhile': 1936, 'suite': 1937, 'version': 1938, 'careful': 1939, 'spk': 1940, 'vip': 1941, 'cds': 1942, 'travel': 1943, 'wanting': 1944, 'derek': 1945, 'greet': 1946, 'pig': 1947, 'iam': 1948, 'ma': 1949, 'attend': 1950, 'diet': 1951, 'sk38xh': 1952, 'fever': 1953, 'w1': 1954, 'bowl': 1955, 'sore': 1956, 'jesus': 1957, 'regret': 1958, 'throat': 1959, 'lecture': 1960, 'raise': 1961, 'june': 1962, 'flower': 1963, 'technical': 1964, 'revealed': 1965, 'bathing': 1966, 'convey': 1967, 'regards': 1968, 'fight': 1969, 'clock': 1970, 'hands': 1971, 'subscriber': 1972, 'aiyar': 1973, 'howz': 1974, 'wearing': 1975, \"let's\": 1976, 'adult': 1977, 'oz': 1978, 'shame': 1979, 'jordan': 1980, 'choice': 1981, 'delivered': 1982, 'arms': 1983, 'mite': 1984, 'easier': 1985, '08712405020': 1986, 'songs': 1987, 'exact': 1988, 'jamster': 1989, 'original': 1990, 'idiot': 1991, 'february': 1992, 'rush': 1993, '6hrs': 1994, 'blackberry': 1995, 'moji': 1996, 'fantasies': 1997, '08707509020': 1998, 'fill': 1999, 'linerental': 2000, 'meaning': 2001, 'moral': 2002, 'moon': 2003, 'msgrcvdhg': 2004, 'aiya': 2005, 'bright': 2006, 'textpod': 2007, 'optout': 2008, 'vomit': 2009, 'sha': 2010, 'centre': 2011, 'total': 2012, 'along': 2013, 'shortly': 2014, 'screaming': 2015, 'bishan': 2016, 'pack': 2017, 'idk': 2018, 'whom': 2019, 'laughing': 2020, '250': 2021, 'title': 2022, 'brought': 2023, 'surprised': 2024, 'comedy': 2025, 'moby': 2026, 'action': 2027, 'received': 2028, 'ran': 2029, 'ordered': 2030, 'queen': 2031, 'fren': 2032, '60p': 2033, 'iåõm': 2034, 'schedule': 2035, \"joy's\": 2036, 'arcade': 2037, 'alert': 2038, 'created': 2039, 'takin': 2040, 'exciting': 2041, 'answering': 2042, 'beer': 2043, 'jess': 2044, 'dirty': 2045, 'package': 2046, 'upto': 2047, '08001950382': 2048, 'skype': 2049, 'masters': 2050, 'cleaning': 2051, 'costa': 2052, 'sol': 2053, 'cat': 2054, 'hip': 2055, '87239': 2056, 'theatre': 2057, 'infernal': 2058, 'including': 2059, 'giv': 2060, 'official': 2061, 'inclusive': 2062, 'feet': 2063, 'colleagues': 2064, 'ntwk': 2065, 'pages': 2066, 'freak': 2067, 'ref': 2068, 'å£4': 2069, 'wkend': 2070, 'letters': 2071, 'fantasy': 2072, 'sky': 2073, 'sugar': 2074, 'thangam': 2075, 'roger': 2076, 'key': 2077, 'released': 2078, 'spending': 2079, 'sept': 2080, 'ignore': 2081, 'dare': 2082, 'teeth': 2083, 'porn': 2084, 'celebrate': 2085, 'tm': 2086, 'abi': 2087, 'hill': 2088, 'grl': 2089, 'relation': 2090, 'hug': 2091, 'wylie': 2092, 'basic': 2093, 'outta': 2094, 'inform': 2095, 'blank': 2096, 'texted': 2097, '26': 2098, 'born': 2099, 'doc': 2100, 'taunton': 2101, 'santa': 2102, 'step': 2103, \"week's\": 2104, 'six': 2105, 'hl': 2106, 'membership': 2107, 'spell': 2108, 'wales': 2109, 'scotland': 2110, 'frying': 2111, 'clear': 2112, 'child': 2113, 'caught': 2114, 'xuhui': 2115, 'invite': 2116, 'yummy': 2117, 'fair': 2118, 'gram': 2119, 'runs': 2120, 'realized': 2121, 'url': 2122, 'burger': 2123, 'roommates': 2124, 'dresser': 2125, 'plane': 2126, 'gentleman': 2127, 'dignity': 2128, 'shy': 2129, 'urgnt': 2130, 'requests': 2131, 'sheets': 2132, 'becoz': 2133, '9pm': 2134, 'lido': 2135, 'fml': 2136, 'hols': 2137, 'four': 2138, 'vava': 2139, 'loud': 2140, 'k52': 2141, 'wa': 2142, 'anythin': 2143, '786': 2144, 'unredeemed': 2145, \"'ll\": 2146, 'apologise': 2147, 'rooms': 2148, 'hardcore': 2149, 'persons': 2150, 'biggest': 2151, 'staff': 2152, 'female': 2153, 'birla': 2154, 'soft': 2155, 'floor': 2156, 'joy': 2157, 'escape': 2158, 'spanish': 2159, 'mall': 2160, 'mummy': 2161, 'finishes': 2162, 'august': 2163, 'suggest': 2164, 'settled': 2165, 'transaction': 2166, '89545': 2167, '087187262701': 2168, '50gbp': 2169, 'mtmsg18': 2170, 'career': 2171, 'teacher': 2172, 'recd': 2173, 'pence': 2174, 'argument': 2175, 'wins': 2176, 'tomarrow': 2177, 'avent': 2178, 'slippers': 2179, 'bat': 2180, 'innings': 2181, 'dearly': 2182, 'com1win150ppmx3age16': 2183, 'childish': 2184, 'shipping': 2185, 'networks': 2186, 'parked': 2187, 'mini': 2188, 'flash': 2189, 'jealous': 2190, 'sorting': 2191, 'rays': 2192, 'handed': 2193, 'gautham': 2194, 'upgrade': 2195, '0845': 2196, 'scary': 2197, 'newest': 2198, 'gossip': 2199, 'fit': 2200, 'garage': 2201, 'keys': 2202, 'm26': 2203, '3uz': 2204, \"friend's\": 2205, '08002986906': 2206, 'gona': 2207, 'flight': 2208, 'record': 2209, 'women': 2210, 'germany': 2211, 'supervisor': 2212, 'lifetime': 2213, 'surfing': 2214, 'favourite': 2215, 'bless': 2216, 'stranger': 2217, 'cleared': 2218, 'practice': 2219, 'alcohol': 2220, 'remembered': 2221, 'insha': 2222, 'alive': 2223, 'gbp': 2224, 'ptbo': 2225, 'tests': 2226, 'shut': 2227, 'period': 2228, 'business': 2229, 'picture': 2230, 'quickly': 2231, 'chechi': 2232, 'tree': 2233, 'skip': 2234, 'blah': 2235, 'l': 2236, 'goal': 2237, 'names': 2238, 'ful': 2239, 'irritating': 2240, 'wnt': 2241, 'vry': 2242, '3mins': 2243, 'wc1n3xx': 2244, 'iouri': 2245, 'oic': 2246, 'transfer': 2247, '0207': 2248, 'july': 2249, 'railway': 2250, 'doggy': 2251, 'fave': 2252, 'roads': 2253, 'dave': 2254, 'tcs': 2255, 'transfered': 2256, 'banks': 2257, '9ja': 2258, 'boye': 2259, 'center': 2260, 'fighting': 2261, 'some1': 2262, 'fish': 2263, 'fees': 2264, 'character': 2265, 'prabha': 2266, 'ibhltd': 2267, 'ldnw15h': 2268, 'mono': 2269, 'booking': 2270, 'behave': 2271, 'elsewhere': 2272, 'rude': 2273, '09': 2274, '0871': 2275, 'box95qu': 2276, 'returns': 2277, 'tirupur': 2278, 'quote': 2279, 'losing': 2280, 'confidence': 2281, 'cock': 2282, 'generally': 2283, 'it\\x89û÷s': 2284, 'that\\x89û÷s': 2285, 'likely': 2286, 'essential': 2287, 'american': 2288, 'callin': 2289, 'dick': 2290, 'snake': 2291, 'bite': 2292, 'headache': 2293, '08715705022': 2294, '2000': 2295, 'lines': 2296, '542': 2297, 'exhausted': 2298, \"mum's\": 2299, 'swimming': 2300, '2morow': 2301, 'nichols': 2302, 'euro2004': 2303, 'leona': 2304, 'market': 2305, 'pop': 2306, 'postcode': 2307, 'seven': 2308, 'tlp': 2309, 'thanksgiving': 2310, 'we\\x89û÷re': 2311, 'listening': 2312, '31': 2313, 'envelope': 2314, '89555': 2315, 'textoperator': 2316, 'building': 2317, 'map': 2318, 'accordingly': 2319, 'farm': 2320, 'purchase': 2321, 'height': 2322, 'wer': 2323, 'stress': 2324, 'csbcm4235wc1n3xx': 2325, 'maxå£7': 2326, 'low': 2327, '81151': 2328, '4t': 2329, 'shorter': 2330, 'subscribed': 2331, 'realize': 2332, 'gimme': 2333, 'mt': 2334, 'tscs087147403231winawk': 2335, '50perwksub': 2336, 'tis': 2337, 'anywhere': 2338, 'diff': 2339, 'community': 2340, '08718727870': 2341, 'bein': 2342, 'jan': 2343, 'pieces': 2344, 'w45wq': 2345, 'norm150p': 2346, 'hint': 2347, 'responding': 2348, '2u': 2349, 'xxxx': 2350, '3qxj9': 2351, '08702840625': 2352, '9ae': 2353, 'alfie': 2354, \"moon's\": 2355, 'm8s': 2356, 'nokias': 2357, '08701417012': 2358, 'cust': 2359, \"month's\": 2360, '2morrow': 2361, 'sk3': 2362, '8wp': 2363, 'xavier': 2364, 'seconds': 2365, \"jay's\": 2366, 'stomach': 2367, 'sn': 2368, 'returned': 2369, 'walls': 2370, 'saved': 2371, 'cuddle': 2372, 'nap': 2373, 'shesil': 2374, 'played': 2375, 'reminder': 2376, \"'til\": 2377, 'failed': 2378, 'outstanding': 2379, 'male': 2380, '5p': 2381, '88600': 2382, 'moments': 2383, '114': 2384, '14': 2385, 'tcr': 2386, 'decision': 2387, 'welp': 2388, '15': 2389, 'chicken': 2390, 'videophones': 2391, 'videochat': 2392, 'java': 2393, 'dload': 2394, 'noline': 2395, 'rentl': 2396, 'fuckin': 2397, 'ubi': 2398, 'butt': 2399, 'miracle': 2400, 'terrible': 2401, 'exe': 2402, 'prey': 2403, 'fancies': 2404, 'foreign': 2405, 'stamps': 2406, 'fool': 2407, 'roast': 2408, 'chatting': 2409, 'walked': 2410, 'drunk': 2411, 'networking': 2412, 'juicy': 2413, 'vijay': 2414, 'sipix': 2415, 'ne': 2416, 'interesting': 2417, 'ground': 2418, 'speed': 2419, 'catching': 2420, 'falls': 2421, 'whos': 2422, 'roommate': 2423, 'bigger': 2424, 'islands': 2425, '2go': 2426, 'credited': 2427, 'understanding': 2428, 'walmart': 2429, 'score': 2430, 'apps': 2431, 'rofl': 2432, 'anti': 2433, 'various': 2434, 'ph': 2435, '84128': 2436, 'textcomp': 2437, 'morn': 2438, 'docs': 2439, 'havin': 2440, 'rang': 2441, 'sorted': 2442, '2moro': 2443, 'jane': 2444, 'fran': 2445, 'knackered': 2446, 'software': 2447, '3gbp': 2448, 'whenevr': 2449, 'among': 2450, 'chill': 2451, 'chillin': 2452, 'chain': 2453, 'arrested': 2454, 'suntec': 2455, 'messenger': 2456, 'tom': 2457, 'upload': 2458, 'shot': 2459, 'popped': 2460, 'shld': 2461, 'caring': 2462, 'option': 2463, 'arsenal': 2464, 'painful': 2465, 'everybody': 2466, 've': 2467, 'missin': 2468, 'guilty': 2469, 'cardiff': 2470, 'addie': 2471, 'pod': 2472, 'certainly': 2473, 'claire': 2474, 'twelve': 2475, 'aah': 2476, '09066362231': 2477, '07xxxxxxxxx': 2478, 'minmobsmorelkpobox177hp51fl': 2479, '4th': 2480, 'nature': 2481, \"blake's\": 2482, 'lotr': 2483, 'stars': 2484, 'karaoke': 2485, 'eight': 2486, 'file': 2487, 'ron': 2488, '7250i': 2489, 'w1jhl': 2490, 'prospects': 2491, 'buff': 2492, 'preferably': 2493, 'gang': 2494, 'tablets': 2495, 'finishing': 2496, 'doors': 2497, 'brothas': 2498, 'chasing': 2499, 'freezing': 2500, 'ringtoneking': 2501, 'winning': 2502, '6pm': 2503, 'titles': 2504, '82242': 2505, 'switch': 2506, 'monthly': 2507, 'ideas': 2508, 'remain': 2509, 'cramps': 2510, 'nan': 2511, '81303': 2512, 'likes': 2513, 'dislikes': 2514, 'promises': 2515, 'album': 2516, 'connect': 2517, 'standing': 2518, 'james': 2519, '29': 2520, 'follow': 2521, 'stuck': 2522, 'regarding': 2523, 'adore': 2524, '0': 2525, 'settings': 2526, 'philosophy': 2527, 'husband': 2528, 'norm': 2529, 'toa': 2530, 'payoh': 2531, 'fathima': 2532, 'mmmm': 2533, 'nearly': 2534, 'beyond': 2535, '18yrs': 2536, 'abta': 2537, 'ikea': 2538, 'kadeem': 2539, 'se': 2540, 'wud': 2541, 'carry': 2542, 'avatar': 2543, 'stops': 2544, 'constantly': 2545, '09050090044': 2546, 'toclaim': 2547, 'pobox334': 2548, 'stockport': 2549, 'costå£1': 2550, 'max10mins': 2551, 'lousy': 2552, 'ic': 2553, 'boat': 2554, 'proof': 2555, 'provided': 2556, 'yeh': 2557, 'downloads': 2558, 'members': 2559, 'major': 2560, 'birth': 2561, 'rule': 2562, 'freefone': 2563, 'natural': 2564, 'onwards': 2565, 'eggs': 2566, 'lie': 2567, 'boost': 2568, 'calicut': 2569, 'box97n7qp': 2570, 'pink': 2571, 'normally': 2572, 'rich': 2573, 'eng': 2574, 'yor': 2575, 'jason': 2576, 'subs': 2577, 'art': 2578, 'med': 2579, 'argh': 2580, 'term': 2581, 'china': 2582, 'morphine': 2583, 'prefer': 2584, 'kindly': 2585, 'miles': 2586, 'sed': 2587, 'pending': 2588, 'frndship': 2589, 'legs': 2590, 'distance': 2591, 'display': 2592, 'soup': 2593, 'management': 2594, 'include': 2595, 'regular': 2596, 'lounge': 2597, '88066': 2598, '900': 2599, 'cornwall': 2600, 'bags': 2601, 'iscoming': 2602, '80082': 2603, 'halloween': 2604, 'issue': 2605, 'football': 2606, 'measure': 2607, 'impossible': 2608, 'okey': 2609, 'murdered': 2610, 'maid': 2611, 'murderer': 2612, 'brilliant': 2613, 'science': 2614, 'madam': 2615, 'settle': 2616, 'bloo': 2617, 'indians': 2618, 'citizen': 2619, 'sry': 2620, '09066612661': 2621, 'greetings': 2622, 'dai': 2623, 'maga': 2624, 'medicine': 2625, 'incident': 2626, 'violence': 2627, 'erm': 2628, 'instructions': 2629, '3lp': 2630, 'death': 2631, 'wrk': 2632, 'reality': 2633, 'usc': 2634, 'booty': 2635, 'lil': 2636, \"when's\": 2637, 'response': 2638, 'pouts': 2639, 'stomps': 2640, 'sports': 2641, 'shirts': 2642, 'petrol': 2643, 'uks': 2644, 'ben': 2645, 'middle': 2646, 'dark': 2647, 'enuff': 2648, 'contents': 2649, 'iz': 2650, 'handle': 2651, 'note': 2652, 'moved': 2653, 'seat': 2654, 'dress': 2655, 'collecting': 2656, 'flaked': 2657, 'gary': 2658, 'history': 2659, 'bell': 2660, 'understood': 2661, 'bottom': 2662, 'crab': 2663, 'footprints': 2664, 'changes': 2665, 'books': 2666, 'knowing': 2667, 'challenge': 2668, 'randomly': 2669, 'tape': 2670, 'films': 2671, 'lick': 2672, 'auto': 2673, 'asks': 2674, 'deliveredtomorrow': 2675, 'smoking': 2676, 'in2': 2677, 'billed': 2678, 'callback': 2679, 'wedding': 2680, 'accident': 2681, \"cann't\": 2682, 'symbol': 2683, 'prolly': 2684, 'åð': 2685, 'confirmed': 2686, '200': 2687, 'dubsack': 2688, 'macho': 2689, 'audition': 2690, 'fell': 2691, 'senthil': 2692, 'eaten': 2693, 'nat': 2694, 'possession': 2695, 'concert': 2696, 'affairs': 2697, 'university': 2698, 'california': 2699, 'value': 2700, 'mnth': 2701, 'tog': 2702, 'haiz': 2703, 'loss': 2704, 'previous': 2705, 'captain': 2706, \"dsn't\": 2707, 'ì©': 2708, 'warner': 2709, 'wallpaper': 2710, 'bottle': 2711, 'buffet': 2712, 'fa': 2713, 'tkts': 2714, '21st': 2715, '2005': 2716, '87121': 2717, 'hor': 2718, 'rcv': 2719, 'oru': 2720, 'callers': 2721, '87575': 2722, 'blessing': 2723, 'xxxmobilemovieclub': 2724, 'goals': 2725, '4txt': 2726, 'slice': 2727, 'convincing': 2728, 'sarcastic': 2729, 'fear': 2730, 'å£5': 2731, '8am': 2732, \"roommate's\": 2733, 'mmmmmm': 2734, 'burns': 2735, 'hospitals': 2736, 'eighth': 2737, 'sptv': 2738, 'detroit': 2739, 'hockey': 2740, '09061209465': 2741, 'suprman': 2742, 'matrix3': 2743, 'starwars3': 2744, 'odi': 2745, 'killing': 2746, 'iq': 2747, 'advise': 2748, 'recent': 2749, 'å£1500': 2750, 'valuable': 2751, 'divorce': 2752, 'earn': 2753, 'jacket': 2754, 'nitros': 2755, 'ela': 2756, 'sum1': 2757, 'collected': 2758, 'mix': 2759, 'verify': 2760, 'telugu': 2761, 'loans': 2762, '\\rham': 2763, 'location': 2764, 'jokes': 2765, 'noun': 2766, 'gent': 2767, '09064012160': 2768, 'sentence': 2769, 'puttin': 2770, 'cabin': 2771, 'goodo': 2772, 'potato': 2773, 'tortilla': 2774, '45239': 2775, '350': 2776, 'sum': 2777, 'ansr': 2778, 'tyrone': 2779, '69888': 2780, '31p': 2781, 'msn': 2782, 'befor': 2783, 'activities': 2784, 'pouch': 2785, 'somtimes': 2786, 'occupy': 2787, 'hearts': 2788, 'dot': 2789, 'randy': 2790, '08700621170150p': 2791, 'flowing': 2792, 'plaza': 2793, 'everywhere': 2794, 'windows': 2795, 'mouth': 2796, 'bootydelious': 2797, 'module': 2798, 'avoid': 2799, 'beloved': 2800, \"we'd\": 2801, '9am': 2802, 'completed': 2803, 'stays': 2804, 'hamster': 2805, 'successfully': 2806, 'ericsson': 2807, 'bruv': 2808, 'rewarding': 2809, 'heading': 2810, 'register': 2811, 'os': 2812, 'installing': 2813, 'repair': 2814, 'horo': 2815, 'star': 2816, 'conducts': 2817, 'printed': 2818, 'upstairs': 2819, 'theory': 2820, 'argue': 2821, 'shining': 2822, 'signing': 2823, 'although': 2824, 'touched': 2825, 'commercial': 2826, '125gift': 2827, 'ranjith': 2828, '5min': 2829, '2wks': 2830, 'lag': 2831, 'necessarily': 2832, 'headin': 2833, 'jolt': 2834, 'suzy': 2835, 'h': 2836, '69698': 2837, 'chart': 2838, 'bay': 2839, 'gf': 2840, 'tool': 2841, \"guy's\": 2842, 'jenny': 2843, '021': 2844, '3680': 2845, 'tease': 2846, 'shocking': 2847, 'crash': 2848, 'taxi': 2849, 'actor': 2850, 'blind': 2851, 'hide': 2852, 'thread': 2853, 'funky': 2854, '82468': 2855, 'belovd': 2856, 'enemy': 2857, 'tahan': 2858, 'anot': 2859, 'lo': 2860, 'buses': 2861, 'bristol': 2862, 'apo': 2863, '0844': 2864, '861': 2865, 'prepayment': 2866, 'violated': 2867, 'privacy': 2868, 'paperwork': 2869, 'caroline': 2870, 'gudnite': 2871, 'slap': 2872, 'tissco': 2873, 'tayseer': 2874, 'unemployed': 2875, 'status': 2876, 'breathe': 2877, 'cuddling': 2878, 'agree': 2879, 'recognise': 2880, 'hes': 2881, 'ovulation': 2882, '6months': 2883, 'licks': 2884, '4mths': 2885, 'mobilesdirect': 2886, '08000938767': 2887, 'or2stoptxt': 2888, '30ish': 2889, 'salam': 2890, 'sharing': 2891, 'grace': 2892, 'inshah': 2893, 'field': 2894, 'administrator': 2895, 'shipped': 2896, 'loxahatchee': 2897, 'burning': 2898, 'slightly': 2899, 'fav': 2900, 'darlings': 2901, 'wld': 2902, 'sender': 2903, 'box334sk38ch': 2904, '80086': 2905, 'txttowin': 2906, 'name1': 2907, 'name2': 2908, 'mobno': 2909, 'adam': 2910, '07123456789': 2911, 'txtno': 2912, 'ads': 2913, 'siva': 2914, 'speaking': 2915, 'expression': 2916, 'aathi': 2917, 'hv': 2918, 'lacs': 2919, 'amt': 2920, 'applebees': 2921, 'sachin': 2922, 'improve': 2923, 'purpose': 2924, 'tenants': 2925, 'refused': 2926, \"'help'\": 2927, 'oreo': 2928, 'truffles': 2929, 'amy': 2930, 'decisions': 2931, 'coping': 2932, 'individual': 2933, '153': 2934, '26th': 2935, 'position': 2936, 'language': 2937, '09061743806': 2938, 'box326': 2939, 'screamed': 2940, 'removed': 2941, 'differ': 2942, 'broken': 2943, 'infront': 2944, 'wise': 2945, '9t': 2946, 'tension': 2947, 'taste': 2948, 'trade': 2949, 'rec': 2950, '7ish': 2951, '123': 2952, 'å£1450': 2953, \"dat's\": 2954, 'hyde': 2955, 'anthony': 2956, 'spl': 2957, 'stylish': 2958, 'scrounge': 2959, 'forgiven': 2960, 'slide': 2961, 'renewal': 2962, 'transport': 2963, 'definite': 2964, 'nos': 2965, 'ebay': 2966, 'tacos': 2967, '872': 2968, '08717898035': 2969, '24hrs': 2970, 'channel': 2971, '08718738001': 2972, 'web': 2973, '2stop': 2974, 'develop': 2975, 'ability': 2976, 'recovery': 2977, 'cutting': 2978, 'reminding': 2979, 'owns': 2980, 'faggy': 2981, 'demand': 2982, 'fo': 2983, 'loose': 2984, 'pan': 2985, 'perhaps': 2986, 'geeeee': 2987, 'jen': 2988, 'oooh': 2989, 'ey': 2990, 'call09050000327': 2991, 'claims': 2992, 'dancing': 2993, 'hardly': 2994, '80878': 2995, '08712402050': 2996, '10ppm': 2997, 'ag': 2998, 'promo': 2999, 'tsunamis': 3000, 'soiree': 3001, '22': 3002, '83222': 3003, 'ques': 3004, 'suits': 3005, 'uncles': 3006, 'shock': 3007, 'reaction': 3008, 'grow': 3009, 'useful': 3010, 'officially': 3011, 'textbuddy': 3012, 'gaytextbuddy': 3013, '89693': 3014, 'hundred': 3015, 'expressoffer': 3016, 'sweetheart': 3017, 'effects': 3018, 'wee': 3019, 'trains': 3020, 'jolly': 3021, 'cartoon': 3022, 'temple': 3023, 'church': 3024, '40533': 3025, 'rstm': 3026, 'sw7': 3027, '3ss': 3028, 'panic': 3029, 'impatient': 3030, 'river': 3031, 'premium': 3032, 'en': 3033, 'posts': 3034, 'peace': 3035, 'yelling': 3036, 'sue': 3037, 'cochin': 3038, '4d': 3039, 'poop': 3040, 'gpu': 3041, 'ws': 3042, 'dorm': 3043, 'å£1250': 3044, '09071512433': 3045, '050703': 3046, 'callcost': 3047, 'mobilesvary': 3048, 'cookies': 3049, 'admit': 3050, 'correction': 3051, 'ba': 3052, 'spring': 3053, 'nokia6650': 3054, 'ctxt': 3055, 'mtmsg': 3056, 'attached': 3057, 'shouted': 3058, '930': 3059, 'helpline': 3060, '08706091795': 3061, 'gist': 3062, '40': 3063, 'thousands': 3064, 'premier': 3065, 'lip': 3066, 'confused': 3067, 'spare': 3068, 'faith': 3069, 'schools': 3070, 'inch': 3071, 'begging': 3072, '0578': 3073, 'opening': 3074, 'subpoly': 3075, '81618': 3076, 'pole': 3077, 'thot': 3078, 'dictionary': 3079, 'petey': 3080, 'nic': 3081, 'm263uz': 3082, 'cashto': 3083, '08000407165': 3084, 'getstop': 3085, '88222': 3086, 'php': 3087, 'imp': 3088, 'bec': 3089, 'nervous': 3090, 'borrow': 3091, 'galileo': 3092, 'loveme': 3093, 'cappuccino': 3094, '220': 3095, 'cm2': 3096, 'mojibiola': 3097, 'hol': 3098, 'havenåõt': 3099, 'skyped': 3100, 'kz': 3101, 'given': 3102, 'ultimatum': 3103, 'countin': 3104, 'aburo': 3105, 'successful': 3106, '08002888812': 3107, 'inconsiderate': 3108, 'nag': 3109, 'recession': 3110, 'hence': 3111, 'soo': 3112, '09066350750': 3113, 'warning': 3114, 'shoes': 3115, 'worlds': 3116, 'discreet': 3117, 'named': 3118, 'genius': 3119, 'connections': 3120, 'lotta': 3121, 'lately': 3122, 'supply': 3123, 'virgin': 3124, 'mystery': 3125, 'smsco': 3126, 'approx': 3127, 'consider': 3128, 'peaceful': 3129, '41685': 3130, '07': 3131, '10k': 3132, 'castor': 3133, 'liverpool': 3134, '09058094565': 3135, '09065171142': 3136, 'stopsms': 3137, '08': 3138, 'downloaded': 3139, 'ear': 3140, 'oil': 3141, 'mac': 3142, 'usb': 3143, 'gibbs': 3144, 'unbelievable': 3145, 'murder': 3146, 'superb': 3147, 'several': 3148, 'taylor': 3149, 'worst': 3150, 'charles': 3151, 'stores': 3152, '08709222922': 3153, '8p': 3154, 'peak': 3155, 'sweets': 3156, 'chip': 3157, 'addicted': 3158, 'msging': 3159, \"'t\": 3160, 'yck': 3161, 'lux': 3162, 'jeans': 3163, 'bleh': 3164, 'tons': 3165, 'scores': 3166, 'application': 3167, 'ms': 3168, 'gravity': 3169, 'carefully': 3170, 'filthy': 3171, 'magical': 3172, 'valid12hrs': 3173, 'necklace': 3174, 'racing': 3175, 'rice': 3176, 'closes': 3177, 'crap': 3178, 'borin': 3179, 'chocolate': 3180, 'potential': 3181, 'talent': 3182, 'reckon': 3183, '09063458130': 3184, 'polyph': 3185, '65': 3186, 'tech': 3187, 'quiet': 3188, 'aunts': 3189, 'helen': 3190, 'fan': 3191, 'lovers': 3192, 'drove': 3193, 'anniversary': 3194, 'pen': 3195, 'secretly': 3196, 'datebox1282essexcm61xn': 3197, 'pattern': 3198, 'plm': 3199, 'sheffield': 3200, 'zoe': 3201, 'setting': 3202, 'filling': 3203, 'sufficient': 3204, 'thx': 3205, 'speechless': 3206, 'gm': 3207, 'ls15hb': 3208, 'concentrate': 3209, \"1000's\": 3210, 'flirting': 3211, 'bloke': 3212, 'euro': 3213, '3rd': 3214, 'sells': 3215, 'thesis': 3216, 'sends': 3217, 'deciding': 3218, '84025': 3219, 'prepared': 3220, '09050003091': 3221, 'c52': 3222, 'oi': 3223, 'dem': 3224, 'thoughts': 3225, 'breath': 3226, 'craziest': 3227, 'planet': 3228, 'singing': 3229, 'curry': 3230, 'evn': 3231, 'itz': 3232, 'alwys': 3233, '09061790121': 3234, 'fret': 3235, 'depressed': 3236, 'wind': 3237, 'math': 3238, 'dhoni': 3239, 'rocks': 3240, 'durban': 3241, 'speedchat': 3242, '08000776320': 3243, 'survey': 3244, 'difficulties': 3245, 'sar': 3246, 'tank': 3247, '4fil': 3248, 'silently': 3249, 'drms': 3250, 'wrc': 3251, 'rally': 3252, 'lucozade': 3253, 'le': 3254, 'toot': 3255, 'annoying': 3256, 'makin': 3257, 'popcorn': 3258, 'celeb': 3259, 'pocketbabe': 3260, 'voicemail': 3261, 'appreciated': 3262, 'apart': 3263, 'creepy': 3264, '87021': 3265, 'txtin': 3266, '4info': 3267, 'invest': 3268, '1hr': 3269, 'delay': 3270, \"1's\": 3271, 'purse': 3272, 'europe': 3273, 'flip': 3274, 'executive': 3275, \"parents'\": 3276, 'weirdest': 3277, 'minmoremobsemspobox45po139wa': 3278, 'tee': 3279, 'dough': 3280, 'control': 3281, 'express': 3282, 'drinkin': 3283, '5pm': 3284, 'birthdate': 3285, 'nydc': 3286, 'favour': 3287, 'ola': 3288, 'garbage': 3289, 'items': 3290, 'gold': 3291, 'logos': 3292, 'lions': 3293, 'lionm': 3294, 'lionp': 3295, 'jokin': 3296, 'colours': 3297, 'remembr': 3298, 'potter': 3299, 'phoenix': 3300, 'harry': 3301, 'readers': 3302, 'canada': 3303, 'cares': 3304, 'goodnoon': 3305, 'interest': 3306, 'saucy': 3307, 'theres': 3308, 'tmrw': 3309, 'soul': 3310, 'ned': 3311, 'hurting': 3312, 'main': 3313, 'sweetie': 3314, '4a': 3315, 'whn': 3316, 'dance': 3317, 'bar': 3318, 'gently': 3319, 'bears': 3320, '08718730666': 3321, 'juan': 3322, 'ideal': 3323, 'front': 3324, 'arm': 3325, 'tirunelvali': 3326, '4get': 3327, 'effect': 3328, 'kidding': 3329, 'stretch': 3330, 'urn': 3331, 'beware': 3332, 'kaiez': 3333, 'practicing': 3334, 'babies': 3335, 'goodnite': 3336, 'silver': 3337, 'silence': 3338, 'revision': 3339, 'exeter': 3340, 'whose': 3341, 'condition': 3342, 'coat': 3343, 'tues': 3344, 'restaurant': 3345, 'desperate': 3346, 'monkeys': 3347, 'practical': 3348, 'mails': 3349, 'costing': 3350, 'lyfu': 3351, 'lyf': 3352, 'ali': 3353, 'ke': 3354, 'program': 3355, 'meow': 3356, 'lucy': 3357, 'hubby': 3358, 'modules': 3359, 'purity': 3360, 'jsco': 3361, 'testing': 3362, 'nit': 3363, 'format': 3364, 'sarcasm': 3365, 'forum': 3366, 'aunt': 3367, 'unfortunately': 3368, 'yuo': 3369, 'ese': 3370, 'tihs': 3371, 'ow': 3372, 'joining': 3373, 'finance': 3374, 'filled': 3375, 'jia': 3376, 'sux': 3377, 'rhythm': 3378, 'adventure': 3379, 'wifi': 3380, '7250': 3381, 'boyfriend': 3382, 'driver': 3383, 'kicks': 3384, 'dime': 3385, 'force': 3386, 'fire': 3387, 'flame': 3388, 'propose': 3389, 'blame': 3390, 'blessings': 3391, 'batch': 3392, 'flaky': 3393, 'sooooo': 3394, 'tooo': 3395, \"'simple'\": 3396, 'confuses': 3397, 'british': 3398, 'hotels': 3399, 'sw73ss': 3400, 'adoring': 3401, 'dracula': 3402, 'ghost': 3403, 'addamsfa': 3404, 'munsters': 3405, 'exorcist': 3406, 'twilight': 3407, 'constant': 3408, 'cared': 3409, 'allow': 3410, 'feelin': 3411, 'msg150p': 3412, '2rcv': 3413, 'hlp': 3414, '08712317606': 3415, 'fly': 3416, 'event': 3417, '80608': 3418, 'movietrivia': 3419, '08712405022': 3420, 'partnership': 3421, 'mostly': 3422, 'å£6': 3423, 'maintain': 3424, 'sh': 3425, 'poker': 3426, 'messy': 3427, 'traffic': 3428, 'moves': 3429, 'slip': 3430, 'wkg': 3431, 'nus': 3432, 'keeps': 3433, 'gotten': 3434, 'unknown': 3435, '121': 3436, '2007': 3437, 'pre': 3438, 'stick': 3439, 'indeed': 3440, 'chosen': 3441, 'easter': 3442, 'telephone': 3443, 'di': 3444, 'bahamas': 3445, 'cruise': 3446, 'calm': 3447, 'up4': 3448, 'becomes': 3449, 'habit': 3450, 'contacts': 3451, 'forgets': 3452, 'atlanta': 3453, 'recharge': 3454, 'fills': 3455, 'gaps': 3456, 'arun': 3457, 'didnåõt': 3458, 'eye': 3459, 'desparate': 3460, 'fake': 3461, '3100': 3462, 'combine': 3463, 'sian': 3464, 'g696ga': 3465, 'joanna': 3466, 'replacement': 3467, 'telly': 3468, '12mths': 3469, 'mth': 3470, 'wipro': 3471, 'delete': 3472, 'laundry': 3473, 'underwear': 3474, 'waheed': 3475, 'pushes': 3476, 'avoiding': 3477, '0776xxxxxxx': 3478, '326': 3479, 'uh': 3480, 'heads': 3481, 'vday': 3482, '80182': 3483, '08452810073': 3484, \"there're\": 3485, 'table': 3486, 'build': 3487, 'snowman': 3488, 'fights': 3489, 'ofice': 3490, 'cn': 3491, 'prescription': 3492, 'cook': 3493, 'electricity': 3494, 'fujitsu': 3495, 'scold': 3496, '09066358152': 3497, 'prompts': 3498, 'disturbing': 3499, 'flies': 3500, 'woken': 3501, 'aka': 3502, 'delhi': 3503, 'held': 3504, 'fringe': 3505, 'distract': 3506, '61610': 3507, '08712400602450p': 3508, 'tones2you': 3509, 'mel': 3510, 'responsibility': 3511, 'tscs': 3512, 'skillgame': 3513, '1winaweek': 3514, '150ppermesssubscription': 3515, 'kid': 3516, 'affair': 3517, 'aom': 3518, 'nd': 3519, 'parco': 3520, 'nb': 3521, 'hallaq': 3522, 'lyk': 3523, 'bck': 3524, 'color': 3525, 'gender': 3526, 'mca': 3527, 'yer': 3528, '84199': 3529, 'box39822': 3530, 'w111wx': 3531, 'vomiting': 3532, 'rub': 3533, 'clever': 3534, 'manage': 3535, 'shitload': 3536, 'diamonds': 3537, 'nimya': 3538, 'aunty': 3539, 'mcat': 3540, '27': 3541, 'sacrifice': 3542, 'beg': 3543, 'stayin': 3544, 'satisfy': 3545, 'cld': 3546, 'killed': 3547, \"did'nt\": 3548, \"''ok''\": 3549, 'minuts': 3550, 'latr': 3551, 'kidz': 3552, 'smashed': 3553, \"everybody's\": 3554, 'ps': 3555, 'tok': 3556, 'specific': 3557, 'figures': 3558, 'cousin': 3559, 'excuses': 3560, 'neck': 3561, 'continue': 3562, 'holy': 3563, 'billion': 3564, 'classes': 3565, 'youre': 3566, 'turning': 3567, 'belive': 3568, 'slots': 3569, 'discussed': 3570, 'temp': 3571, 'prem': 3572, '2morro': 3573, 'spoiled': 3574, 'threats': 3575, 'sales': 3576, 'complaint': 3577, 'lk': 3578, 'lov': 3579, '300p': 3580, 'u4': 3581, '8552': 3582, '88877': 3583, '700': 3584, 'bedrm': 3585, 'waited': 3586, 'huge': 3587, 'mids': 3588, 'oranges': 3589, 'upd8': 3590, 'annie': 3591, '21870000': 3592, 'mailbox': 3593, 'messaging': 3594, '09056242159': 3595, 'retrieve': 3596, 'hrishi': 3597, 'nothin': 3598, 'cheer': 3599, \"that'll\": 3600, 'duchess': 3601, '008704050406': 3602, 'nahi': 3603, 'zindgi': 3604, 'wo': 3605, 'jo': 3606, 'dan': 3607, 'aww': 3608, 'staring': 3609, 'cm': 3610, 'unnecessarily': 3611, '08701417012150p': 3612, 'weigh': 3613, 'expired': 3614, 'opinions': 3615, 'thm': 3616, 'wn': 3617, 'instantly': 3618, 'drinking': 3619, 'paragon': 3620, 'arent': 3621, 'bluff': 3622, 'sary': 3623, 'happend': 3624, 'piece': 3625, 'vodka': 3626, 'kg': 3627, 'dumb': 3628, 'dressed': 3629, 'kay': 3630, 'nasty': 3631, 'slo': 3632, 'wasted': 3633, 'christ': 3634, 'solve': 3635, 'cooking': 3636, 'push': 3637, 'answered': 3638, 'rgds': 3639, '8pm': 3640, 'wrote': 3641, 'swiss': 3642, 'crore': 3643, 'jobs': 3644, 'lane': 3645, 'politicians': 3646, 'rights': 3647, 'donno': 3648, 'properly': 3649, '630': 3650, 'furniture': 3651, 'lock': 3652, 'shoving': 3653, 'papers': 3654, 'strange': 3655, 'acl03530150pm': 3656, 'indyarocks': 3657, 'resume': 3658, 'bids': 3659, 'whr': 3660, 'yunny': 3661, '83383': 3662, 'mmmmm': 3663, 'relatives': 3664, 'benefits': 3665, 'txt82228': 3666, 'dr': 3667, 'superior': 3668, 'picsfree1': 3669, 'vid': 3670, 'ruin': 3671, 'department': 3672, 'conform': 3673, 'bc': 3674, 'toshiba': 3675, 'knock': 3676, 'innocent': 3677, 'mental': 3678, 'hoped': 3679, 'bills': 3680, '2marrow': 3681, 'hon': 3682, 'treated': 3683, 'fab': 3684, 'wks': 3685, 'tiwary': 3686, 'bang': 3687, 'pap': 3688, 'arts': 3689, 'pandy': 3690, 'edu': 3691, 'secretary': 3692, 'dollar': 3693, 'pull': 3694, 'remains': 3695, 'bro': 3696, 'bros': 3697, '69696': 3698, 'nalla': 3699, 'northampton': 3700, 'abj': 3701, 'serving': 3702, 'smith': 3703, 'neither': 3704, 'hugs': 3705, 'snogs': 3706, 'west': 3707, 'fastest': 3708, 'growing': 3709, 'chase': 3710, '2stoptxt': 3711, 'steam': 3712, 'reg': 3713, 'public': 3714, 'govt': 3715, 'instituitions': 3716, 'luxury': 3717, 'canary': 3718, 'sleepy': 3719, 'mag': 3720, 'diwali': 3721, 'onion': 3722, 'thgt': 3723, 'lower': 3724, 'exhaust': 3725, 'pee': 3726, 'success': 3727, 'å£50': 3728, 'division': 3729, 'creep': 3730, 'lies': 3731, 'property': 3732, 'interflora': 3733, 'bbd': 3734, 'pimples': 3735, 'yellow': 3736, 'frog': 3737, '88888': 3738, 'doubt': 3739, 'strike': 3740, 'coin': 3741, 'freedom': 3742, 'twenty': 3743, 'painting': 3744, 'nowadays': 3745, 'talks': 3746, 'probs': 3747, 'swatch': 3748, 'ganesh': 3749, 'trips': 3750, '2geva': 3751, 'wuld': 3752, 'solved': 3753, 'sake': 3754, 'bruce': 3755, 'teaching': 3756, 'chest': 3757, 'covers': 3758, 'brief': 3759, 'hang': 3760, 'reboot': 3761, 'phoned': 3762, 'improved': 3763, 'hm': 3764, 'salon': 3765, 'evenings': 3766, 'raj': 3767, 'payment': 3768, 'shore': 3769, 'waves': 3770, 'clearing': 3771, 'å£33': 3772, 'range': 3773, 'topic': 3774, 'admin': 3775, 'visionsms': 3776, 'andros': 3777, 'meets': 3778, 'foot': 3779, 'penis': 3780, 'sigh': 3781, 'vth': 3782, 'eveb': 3783, 'window': 3784, 'removal': 3785, '08708034412': 3786, 'blow': 3787, 'cancelled': 3788, 'lookatme': 3789, 'agalla': 3790, 'xxxxx': 3791, 'count': 3792, 'otside': 3793, 'size': 3794, 'itåõs': 3795, 'tight': 3796, 'av': 3797, 'everyday': 3798, 'curious': 3799, 'postcard': 3800, 'bread': 3801, 'mahal': 3802, 'praying': 3803, 'ding': 3804, 'allowed': 3805, 'necessary': 3806, 'messaged': 3807, 'deus': 3808, 'tap': 3809, 'spile': 3810, 'broad': 3811, 'canal': 3812, 'engin': 3813, 'edge': 3814, 'east': 3815, 'howard': 3816, 'cooked': 3817, 'cheat': 3818, 'block': 3819, '09061221066': 3820, 'fromm': 3821, 'ruining': 3822, 'ee': 3823, 'easily': 3824, 'selfish': 3825, 'custom': 3826, 'sac': 3827, 'jiayin': 3828, 'pobox45w2tg150p': 3829, 'forgotten': 3830, '2waxsto': 3831, 'minimum': 3832, 'elaine': 3833, 'drunken': 3834, 'mess': 3835, 'crisis': 3836, 'ths': 3837, 'mb': 3838, 'desires': 3839, '1030': 3840, 'bloomberg': 3841, \"priscilla's\": 3842, 'wisdom': 3843, 'kent': 3844, 'vale': 3845, 'prince': 3846, 'granite': 3847, 'explosive': 3848, 'nasdaq': 3849, 'cdgt': 3850, 'base': 3851, 'placement': 3852, 'didn\\x89û÷t': 3853, 'sumthin': 3854, 'lion': 3855, 'devouring': 3856, 'airtel': 3857, 'processed': 3858, '69669': 3859, 'forums': 3860, 'mumtaz': 3861, \"mumtaz's\": 3862, 'ship': 3863, 'causing': 3864, 'lib': 3865, 'difference': 3866, 'despite': 3867, 'swoop': 3868, 'langport': 3869, 'forevr': 3870, 'mistakes': 3871, 'vegas': 3872, 'lou': 3873, 'båõday': 3874, 'vewy': 3875, 'pool': 3876, 'x49': 3877, '09065989182': 3878, 'stayed': 3879, 'stones': 3880, 'atlast': 3881, 'desert': 3882, \"weekend's\": 3883, 'funeral': 3884, 'vivek': 3885, 'tnc': 3886, 'brah': 3887, 'blu': 3888, 'ipad': 3889, 'bird': 3890, 'cheese': 3891, 'tms': 3892, 'widelive': 3893, 'index': 3894, 'wml': 3895, 'hsbc': 3896, 'wave': 3897, 'asp': 3898, '09061702893': 3899, 'melt': 3900, 'eek': 3901, '09061743386': 3902, 'heater': 3903, '674': 3904, 'eta': 3905, 'dial': 3906, 'literally': 3907, 'kothi': 3908, 'prof': 3909, 'sem': 3910, 'student': 3911, 'actual': 3912, 'sathya': 3913, 'dealing': 3914, 'reasonable': 3915, 'kappa': 3916, 'piss': 3917, 'guessing': 3918, 'royal': 3919, 'sticky': 3920, 'indicate': 3921, 'repeat': 3922, 'calculation': 3923, 'blur': 3924, 'clothes': 3925, 'lush': 3926, '2find': 3927, 'fucked': 3928, 'beauty': 3929, '440': 3930, 'moving': 3931, 'sunlight': 3932, 'jogging': 3933, 'mokka': 3934, 'bone': 3935, 'steve': 3936, 'epsilon': 3937, 'lst': 3938, 'evry': 3939, 'massive': 3940, 'forms': 3941, 'polo': 3942, '373': 3943, 'w1j': 3944, '6hl': 3945, 'academic': 3946, 'convinced': 3947, 'coast': 3948, 'suppose': 3949, 'explicit': 3950, 'secs': 3951, '02073162414': 3952, 'clearly': 3953, 'gain': 3954, '89070': 3955, 'realise': 3956, 'mnths': 3957, '86888': 3958, 'subscribe6gbp': 3959, '3hrs': 3960, 'txtstop': 3961, 'managed': 3962, 'capital': 3963, 'acted': 3964, 'mis': 3965, 'loyal': 3966, 'customers': 3967, '09066380611': 3968, 'print': 3969, 'dokey': 3970, 'error': 3971, 'sleepin': 3972, 'minor': 3973, 'cashbin': 3974, 'denis': 3975, 'woulda': 3976, 'miserable': 3977, 'shoppin': 3978, '08718726270': 3979, 'celebration': 3980, 'nuther': 3981, '910': 3982, 'infections': 3983, 'kiosk': 3984, 'henry': 3985, 'parent': 3986, 'select': 3987, 'woot': 3988, 'dining': 3989, 'donate': 3990, 'cme': 3991, 'parking': 3992, 'goldviking': 3993, '762': 3994, 'sarasota': 3995, '13': 3996, 'cherish': 3997, '165': 3998, '4eva': 3999, '09061213237': 4000, '177': 4001, 'm227xy': 4002, 'favorite': 4003, 'pride': 4004, 'respectful': 4005, 'amused': 4006, 'gr8prizes': 4007, 'mega': 4008, 'shu': 4009, 'island': 4010, '2p': 4011, 'spider': 4012, 'jurong': 4013, 'amore': 4014, \"08452810075over18's\": 4015, 'chgs': 4016, 'aids': 4017, 'patent': 4018, \"'melle\": 4019, 'melle': 4020, 'minnaminunginte': 4021, 'nurungu': 4022, 'vettam': 4023, 'receivea': 4024, '09061701461': 4025, 'kl341': 4026, '08002986030': 4027, 'cried': 4028, 'chances': 4029, 'csh11': 4030, '6days': 4031, 'tsandcs': 4032, 'jackpot': 4033, '81010': 4034, 'dbuk': 4035, 'lccltd': 4036, '4403ldnw1a7rw18': 4037, 'breather': 4038, 'granted': 4039, 'fulfil': 4040, 'qjkgighjjgcbl': 4041, 'gota': 4042, 'macedonia': 4043, 'ì¼1': 4044, 'poboxox36504w45wq': 4045, 'ffffffffff': 4046, 'forced': 4047, 'packing': 4048, 'ahhh': 4049, 'vaguely': 4050, 'apologetic': 4051, 'fallen': 4052, 'actin': 4053, 'spoilt': 4054, 'badly': 4055, 'fainting': 4056, 'housework': 4057, 'cuppa': 4058, 'timings': 4059, 'watts': 4060, 'arabian': 4061, 'steed': 4062, '07732584351': 4063, 'rodger': 4064, 'endowed': 4065, 'hep': 4066, 'immunisation': 4067, 'stubborn': 4068, 'sucker': 4069, 'suckers': 4070, 'thinked': 4071, 'smarter': 4072, 'crashing': 4073, 'accomodations': 4074, 'cave': 4075, 'offered': 4076, 'embarassing': 4077, 'jersey': 4078, 'devils': 4079, 'wings': 4080, 'incorrect': 4081, 'mallika': 4082, 'sherawat': 4083, 'gauti': 4084, 'sehwag': 4085, 'seekers': 4086, '09066364589': 4087, 'dedicated': 4088, 'dedicate': 4089, 'eurodisinc': 4090, 'trav': 4091, 'aco': 4092, 'entry41': 4093, 'morefrmmob': 4094, 'shracomorsglsuplt': 4095, 'ls1': 4096, '3aj': 4097, 'barbie': 4098, \"ken's\": 4099, 'performed': 4100, 'peoples': 4101, 'operate': 4102, \"ta's\": 4103, 'multis': 4104, 'factory': 4105, 'you\\x89û÷ll': 4106, 'casualty': 4107, 'stuff42moro': 4108, 'includes': 4109, 'pours': 4110, '169': 4111, '6031': 4112, '85069': 4113, 'usher': 4114, 'britney': 4115, 'hairdressers': 4116, 'beforehand': 4117, 'ams': 4118, '4the': 4119, 'signin': 4120, 'memorable': 4121, 'ip': 4122, 'minecraft': 4123, 'server': 4124, 'grumpy': 4125, 'lying': 4126, 'plural': 4127, 'openin': 4128, 'formal': 4129, '0871277810910p': 4130, 'ratio': 4131, '07742676969': 4132, '08719180248': 4133, '09064019788': 4134, 'box42wr29c': 4135, 'apples': 4136, 'pairs': 4137, 'malarky': 4138, '7548': 4139, '4041': 4140, 'sao': 4141, 'predict': 4142, 'involve': 4143, 'imposed': 4144, 'lucyxx': 4145, 'tmorrow': 4146, 'accomodate': 4147, 'algarve': 4148, 'gravel': 4149, 'hotmail': 4150, 'svc': 4151, '69988': 4152, 'nver': 4153, 'ummma': 4154, 'sindu': 4155, 'nevering': 4156, 'typical': 4157, 'dirt': 4158, 'chores': 4159, 'exist': 4160, 'hail': 4161, 'mist': 4162, 'aaooooright': 4163, 'annoncement': 4164, '07046744435': 4165, '0871277810810': 4166, 'envy': 4167, \"see's\": 4168, 'excited': 4169, '32': 4170, 'bangbabes': 4171, 'bangb': 4172, 'cultures': 4173, '09061701939': 4174, 's89': 4175, 'missunderstding': 4176, \"one's\": 4177, 'bridge': 4178, 'lager': 4179, 'form': 4180, 'clark': 4181, 'utter': 4182, 'axis': 4183, 'surname': 4184, 'clue': 4185, 'begins': 4186, 'maneesha': 4187, 'satisfied': 4188, 'toll': 4189, 'lifted': 4190, 'hopes': 4191, 'approaches': 4192, 'handsome': 4193, 'finding': 4194, '0808': 4195, '145': 4196, '4742': 4197, '11pm': 4198, '30th': 4199, 'areyouunique': 4200, 'league': 4201, 'ors': 4202, 'stool': 4203, 'wishin': 4204, '1pm': 4205, 'babyjontet': 4206, 'enc': 4207, 'refilled': 4208, 'inr': 4209, 'keralacircle': 4210, 'prepaid': 4211, 'kr': 4212, 'ga': 4213, 'alter': 4214, 'dats': 4215, 'dogg': 4216, 'refund': 4217, 'prediction': 4218, 'ubandu': 4219, 'disk': 4220, 'scenery': 4221, 'flyng': 4222, 'aries': 4223, 'elama': 4224, 'mudyadhu': 4225, 'strict': 4226, 'gandhipuram': 4227, 'rubber': 4228, 'thirtyeight': 4229, 'loses': 4230, '447801259231': 4231, '09058094597': 4232, 'hearing': 4233, 'pleassssssseeeeee': 4234, 'sportsx': 4235, 'baig': 4236, 'watches': 4237, 'drpd': 4238, 'deeraj': 4239, 'deepak': 4240, 'bcums': 4241, 'affection': 4242, 'kettoda': 4243, 'manda': 4244, 'ups': 4245, '3days': 4246, 'usps': 4247, 'bribe': 4248, 'nipost': 4249, 'luton': 4250, '0125698789': 4251, 'sometme': 4252, 'club4mobiles': 4253, '87070': 4254, 'club4': 4255, 'box1146': 4256, 'mk45': 4257, '2wt': 4258, 'evo': 4259, 'narcotics': 4260, 'genuine': 4261, '100percent': 4262, 'objection': 4263, 'rob': 4264, 'mack': 4265, 'theater': 4266, 'celebrations': 4267, 'ahold': 4268, 'cruisin': 4269, 'varunnathu': 4270, 'edukkukayee': 4271, 'raksha': 4272, 'ollu': 4273, 'buzy': 4274, 'resend': 4275, '28thfeb': 4276, 'gurl': 4277, 'appropriate': 4278, 'grave': 4279, 'diesel': 4280, 'fridge': 4281, 'womdarfull': 4282, 'rodds1': 4283, 'aberdeen': 4284, 'united': 4285, 'kingdom': 4286, 'img': 4287, 'icmb3cktz8r7': 4288, 'remb': 4289, 'jos': 4290, 'bookshelf': 4291, 'dear1': 4292, 'best1': 4293, 'clos1': 4294, 'lvblefrnd': 4295, 'jstfrnd': 4296, 'cutefrnd': 4297, 'lifpartnr': 4298, 'swtheart': 4299, 'bstfrnd': 4300, '85222': 4301, 'winnersclub': 4302, '84': 4303, 'gbp1': 4304, 'mylife': 4305, 'l8': 4306, 'gon': 4307, 'guild': 4308, 'evaporated': 4309, 'stealing': 4310, \"employer's\": 4311, 'daaaaa': 4312, 'wined': 4313, 'dined': 4314, 'hiding': 4315, 'huiming': 4316, 'prestige': 4317, 'shag': 4318, 'sextextuk': 4319, 'xxuk': 4320, '69876': 4321, 'jeremiah': 4322, 'iphone': 4323, 'apeshit': 4324, 'misbehaved': 4325, 'safely': 4326, 'onam': 4327, 'sirji': 4328, 'tata': 4329, 'aig': 4330, '08708800282': 4331, 'andrews': 4332, 'db': 4333, \"audrey's\": 4334, 'dawns': 4335, 'refreshed': 4336, 'z': 4337, 'f4q': 4338, 'rp176781': 4339, 'regalportfolio': 4340, '08717205546': 4341, 'uniform': 4342, 'spoil': 4343, 't91': 4344, '09057039994': 4345, 'lindsay': 4346, 'bars': 4347, 'heron': 4348, 'payasam': 4349, 'rinu': 4350, 'taught': 4351, 'becaus': 4352, 'verifying': 4353, 'prabu': 4354, 'repairs': 4355, 'followin': 4356, 'wallet': 4357, '945': 4358, 'n9dx': 4359, 'owl': 4360, 'kickboxing': 4361, 'lap': 4362, 'performance': 4363, 'calculated': 4364, 'wahleykkum': 4365, 'visitor': 4366, '2814032': 4367, '3xå£150pw': 4368, 'eå£nd': 4369, 'stoners': 4370, 'disastrous': 4371, 'busetop': 4372, 'iron': 4373, 'okies': 4374, 'wendy': 4375, '09064012103': 4376, 'whatsup': 4377, '09111032124': 4378, 'pobox12n146tf150p': 4379, '09058094455': 4380, 'sentiment': 4381, 'rowdy': 4382, 'attitude': 4383, 'attractive': 4384, 'urination': 4385, 'bmw': 4386, 'urgently': 4387, 'shortage': 4388, 'source': 4389, 'arng': 4390, '3650': 4391, '09066382422': 4392, '300603': 4393, 'bcm4284': 4394, 'hillsborough': 4395, 'shoul': 4396, 'hasnt': 4397, 'bhaji': 4398, 'cricketer': 4399, 'werethe': 4400, 'monkeespeople': 4401, 'monkeyaround': 4402, 'howdy': 4403, 'blimey': 4404, 'exercise': 4405, 'concentration': 4406, 'hanks': 4407, 'lotsly': 4408, 'detail': 4409, 'optimistic': 4410, 'å£75': 4411, 'homeowners': 4412, 'previously': 4413, '1956669': 4414, 'consistently': 4415, 'practicum': 4416, 'links': 4417, 'ears': 4418, 'wavering': 4419, 'heal': 4420, 'upgrdcentre': 4421, '9153': 4422, 'oral': 4423, 'slippery': 4424, 'bike': 4425, 'okmail': 4426, 'enters': 4427, '69888nyt': 4428, 'machi': 4429, \"when're\": 4430, 'mcr': 4431, 'jaykwon': 4432, 'thuglyfe': 4433, 'falconerf': 4434, '07781482378': 4435, 'faded': 4436, 'glory': 4437, 'ralphs': 4438, \"account's\": 4439, 'reunion': 4440, 'accenture': 4441, 'jackson': 4442, 'reache': 4443, 'fightng': 4444, 'dificult': 4445, 'nuerologist': 4446, 'lolnice': 4447, '09050002311': 4448, 'b4280703': 4449, '08718727868': 4450, 'westshore': 4451, 'significance': 4452, 'jada': 4453, 'kusruthi': 4454, 'matured': 4455, \"g's\": 4456, 'ammo': 4457, 'ak': 4458, 'soryda': 4459, 'sory': 4460, 'boltblue': 4461, 'poly3': 4462, 'jamz': 4463, 'toxic': 4464, 'topped': 4465, 'bubbletext': 4466, 'tgxxrz': 4467, 'problematic': 4468, 'unconscious': 4469, 'adults': 4470, 'abnormally': 4471, 'pickle': 4472, '9755': 4473, \"x'mas\": 4474, 'recieve': 4475, 'teletext': 4476, 'faggot': 4477, '07815296484': 4478, '41782': 4479, 'bani': 4480, 'leads': 4481, 'buttons': 4482, 'ummmmmaah': 4483, 'applausestore': 4484, 'monthlysubscription': 4485, 'max6': 4486, 'csc': 4487, 'famous': 4488, \"'anything'\": 4489, 'unconditionally': 4490, 'temper': 4491, \"'married'\": 4492, 'oclock': 4493, 'bash': 4494, 'cooped': 4495, 'invitation': 4496, 'cali': 4497, \"bloke's\": 4498, 'weddin': 4499, 'alibi': 4500, 'sink': 4501, 'paces': 4502, 'cage': 4503, 'surrounded': 4504, 'cuck': 4505, 'deficient': 4506, 'acknowledgement': 4507, 'astoundingly': 4508, 'tactless': 4509, 'oath': 4510, 'magic': 4511, 'silly': 4512, 'isn\\x89û÷t': 4513, 'uv': 4514, 'causes': 4515, 'mutations': 4516, 'sunscreen': 4517, 'thesedays': 4518, 'mei': 4519, 'haven': 4520, 'bao': 4521, 'sugardad': 4522, 'brownie': 4523, 'ninish': 4524, 'icky': 4525, 'freek': 4526, 'ridden': 4527, 'missy': 4528, 'goggles': 4529, 'arguing': 4530, '09050005321': 4531, 'arngd': 4532, 'walkin': 4533, 'unfortuntly': 4534, 'bites': 4535, 'frnt': 4536, 'sayin': 4537, 'textand': 4538, '08002988890': 4539, 'jjc': 4540, 'tendencies': 4541, 'meive': 4542, 'gotany': 4543, 'srsly': 4544, 'yi': 4545, '07753741225': 4546, '08715203677': 4547, '42478': 4548, 'prix': 4549, 'stands': 4550, 'nitz': 4551, '0825': 4552, 'blastin': 4553, 'occur': 4554, 'rajnikant': 4555, 'ocean': 4556, 'xclusive': 4557, 'clubsaisai': 4558, 'speciale': 4559, 'zouk': 4560, 'roses': 4561, '07946746291': 4562, '07880867867': 4563, 'bridgwater': 4564, 'banter': 4565, 'dependents': 4566, 'thanx4': 4567, 'cer': 4568, 'hundreds': 4569, 'handsomes': 4570, 'beauties': 4571, 'aunties': 4572, 'friendships': 4573, 'dismay': 4574, 'concerned': 4575, 'tootsie': 4576, '4882': 4577, '09064019014': 4578, 'seventeen': 4579, 'ml': 4580, 'biola': 4581, 'fetching': 4582, 'restock': 4583, 'brighten': 4584, 'allo': 4585, 'braved': 4586, 'triumphed': 4587, 'b\\x89û÷ham': 4588, 'uncomfortable': 4589, '08715203694': 4590, 'sonetimes': 4591, 'rough': 4592, 'wesleys': 4593, \"dealer's\": 4594, 'cloud': 4595, 'wikipedia': 4596, '88800': 4597, '89034': 4598, '08718711108': 4599, 'lays': 4600, 'repent': 4601, 'positions': 4602, 'kama': 4603, 'sutra': 4604, 'nange': 4605, 'bakra': 4606, 'kalstiya': 4607, \"carlos'll\": 4608, 'lakhs': 4609, 'sun0819': 4610, '08452810071': 4611, 'ditto': 4612, 'wetherspoons': 4613, 'piggy': 4614, 'freaky': 4615, 'scrappy': 4616, \"'hex'\": 4617, 'sdryb8i': 4618, 'lapdancer': 4619, 'g2': 4620, '1da': 4621, '150ppmsg': 4622, 'crying': 4623, 'imprtant': 4624, 'tomorw': 4625, 'cherthala': 4626, 'bfore': 4627, 'tmorow': 4628, 'engaged': 4629, '448712404000': 4630, '08712404000': 4631, '1405': 4632, '1680': 4633, '1843': 4634, 'entrepreneurs': 4635, \"alex's\": 4636, 'corporation': 4637, 'prevent': 4638, 'dehydration': 4639, 'fluids': 4640, \"sms'd\": 4641, 'trek': 4642, 'harri': 4643, 'gage': 4644, 'deck': 4645, 'cnupdates': 4646, 'newsletter': 4647, 'alerts': 4648, 'aeronautics': 4649, 'professors': 4650, 'calld': 4651, 'aeroplane': 4652, 'hurried': 4653, 'shitstorm': 4654, 'attributed': 4655, '08714712388': 4656, '449071512431': 4657, 'sth': 4658, 'specs': 4659, 'px3748': 4660, '08714712394': 4661, 'macha': 4662, 'mindset': 4663, \"s'fine\": 4664, 'wondar': 4665, 'flim': 4666, 'jelly': 4667, 'scrumptious': 4668, 'dao': 4669, 'half8th': 4670, 'jide': 4671, 'visiting': 4672, 'alertfrom': 4673, 'jeri': 4674, 'stewartsize': 4675, '2kbsubject': 4676, 'prescripiton': 4677, 'drvgsto': 4678, 'steak': 4679, 'neglect': 4680, 'prayers': 4681, \"hadn't\": 4682, 'clocks': 4683, 'realised': 4684, 'wahay': 4685, 'gaze': 4686, '82324': 4687, 'tattoos': 4688, 'caveboy': 4689, \"phone's\": 4690, 'vibrate': 4691, 'acting': 4692, 'å£79': 4693, '08704439680ts': 4694, 'grandmas': 4695, 'hungover': 4696, 'unclaimed': 4697, '09066368327': 4698, 'closingdate04': 4699, 'claimcode': 4700, 'm39m51': 4701, '50pmmorefrommobile2bremoved': 4702, 'mobypobox734ls27yf': 4703, 'gua': 4704, 'faber': 4705, 'mas': 4706, 'dramatic': 4707, 'hunting': 4708, 'drunkard': 4709, 'idc': 4710, 'weaseling': 4711, 'trash': 4712, 'punish': 4713, 'beerage': 4714, 'randomlly': 4715, 'fixes': 4716, 'spelling': 4717, '100p': 4718, '087018728737': 4719, 'toppoly': 4720, 'tune': 4721, 'fondly': 4722, 'dogbreath': 4723, 'sounding': 4724, 'weighed': 4725, 'woohoo': 4726, 'uncountable': 4727, '9996': 4728, '14thmarch': 4729, 'availa': 4730, 'whereare': 4731, 'friendsare': 4732, 'thekingshead': 4733, 'canlove': 4734, '8077': 4735, 'rg21': 4736, '4jx': 4737, 'dled': 4738, 'smokin': 4739, 'boooo': 4740, 'costumes': 4741, 'yowifes': 4742, 'outbid': 4743, 'simonwatson5120': 4744, 'shinco': 4745, 'plyr': 4746, 'smsrewards': 4747, 'notifications': 4748, 'youi': 4749, 'dobby': 4750, 'enjoyin': 4751, 'yourjob': 4752, 'iåõllspeak': 4753, 'soonlots': 4754, 'starshine': 4755, 'sips': 4756, 'smsservices': 4757, 'yourinclusive': 4758, 'bits': 4759, 'hahaha': 4760, 'brain': 4761, 'turned': 4762, 'burial': 4763, '09065174042': 4764, '07821230901': 4765, 'rv': 4766, 'rvx': 4767, 'comprehensive': 4768, \"prashanthettan's\": 4769, 'samantha': 4770, 'guitar': 4771, 'impress': 4772, 'doug': 4773, 'realizes': 4774, 'trauma': 4775, 'swear': 4776, 'inner': 4777, 'tigress': 4778, 'urfeeling': 4779, 'bettersn': 4780, 'probthat': 4781, 'overdose': 4782, 'lovejen': 4783, '83110': 4784, 'ana': 4785, 'sathy': 4786, 'rto': 4787, 'spoons': 4788, 'corvettes': 4789, '09061104283': 4790, '50pm': 4791, 'bunkers': 4792, '07808': 4793, 'xxxxxx': 4794, '08719899217': 4795, 'posh': 4796, 'chaps': 4797, 'trial': 4798, 'prods': 4799, 'champneys': 4800, 'dob': 4801, '0721072': 4802, 'philosophical': 4803, 'hole': 4804, 'atleast': 4805, 'shakespeare': 4806, '5k': 4807, '09064011000': 4808, 'cr01327bt': 4809, 'fixedline': 4810, 'doit': 4811, 'mymoby': 4812, 'woul': 4813, 'curfew': 4814, 'gibe': 4815, 'getsleep': 4816, 'studdying': 4817, 'massages': 4818, 'yoyyooo': 4819, 'permissions': 4820, 'mike': 4821, 'hussey': 4822, 'faglord': 4823, 'nutter': 4824, 'cutter': 4825, 'ctter': 4826, 'cttergg': 4827, 'cttargg': 4828, 'ctargg': 4829, 'ctagg': 4830, 'ie': 4831, 'thus': 4832, 'grateful': 4833, 'happier': 4834, 'agents': 4835, 'experiment': 4836, 'invoices': 4837, 'smell': 4838, 'tobacco': 4839, 'assumed': 4840, 'lastest': 4841, 'stereophonics': 4842, 'marley': 4843, 'dizzee': 4844, 'racal': 4845, 'libertines': 4846, 'strokes': 4847, 'nookii': 4848, 'bookmark': 4849, 'grinule': 4850, 'fudge': 4851, 'oreos': 4852, \"zaher's\": 4853, 'nauseous': 4854, 'dieting': 4855, \"ashley's\": 4856, 'avalarr': 4857, 'hollalater': 4858, 'rounds': 4859, 'blogging': 4860, 'magicalsongs': 4861, 'blogspot': 4862, 'slices': 4863, 'kvb': 4864, 'å£1million': 4865, 'ppt150x3': 4866, 'box403': 4867, 'w1t1jy': 4868, 'alternative': 4869, \"term's\": 4870, 'ore': 4871, 'owo': 4872, 'fro': 4873, 'samus': 4874, 'shoulders': 4875, 'matthew': 4876, '09063440451': 4877, 'ppm150': 4878, 'box334': 4879, 'vomitin': 4880, '09061749602': 4881, '528': 4882, 'hp20': 4883, '1yf': 4884, 'stuffed': 4885, 'writhing': 4886, 'paypal': 4887, 'voila': 4888, 'pockets': 4889, 'theyre': 4890, 'folks': 4891, 'sorta': 4892, 'blown': 4893, 'sophas': 4894, 'secondary': 4895, 'applying': 4896, 'ogunrinde': 4897, 'lodging': 4898, 'chk': 4899, 'dict': 4900, 'shb': 4901, \"dobby's\": 4902, 'stories': 4903, 'simpler': 4904, 'retired': 4905, 'natwest': 4906, '09050001808': 4907, 'm95': 4908, 'chad': 4909, 'gymnastics': 4910, 'christians': 4911, 'token': 4912, 'liking': 4913, 'aptitude': 4914, 'horse': 4915, 'wrongly': 4916, 'boggy': 4917, 'biatch': 4918, 'hesitate': 4919, 'weakness': 4920, 'notebook': 4921, 'eightish': 4922, 'carpark': 4923, '67441233': 4924, 'irene': 4925, 'ere': 4926, 'bus8': 4927, '61': 4928, '66': 4929, '382': 4930, 'cres': 4931, '6ph': 4932, '5wkg': 4933, 'ì¬n': 4934, 'sd': 4935, 'relaxing': 4936, '7am': 4937, '5ish': 4938, 'stripes': 4939, 'skirt': 4940, 'blessed': 4941, 'escalator': 4942, 'beth': 4943, 'charlie': 4944, 'syllabus': 4945, 'panasonic': 4946, 'bluetoothhdset': 4947, 'doublemins': 4948, 'doubletxt': 4949, '30pm': 4950, 'poyyarikatur': 4951, 'kolathupalayam': 4952, 'unjalur': 4953, 'erode': 4954, 'hero': 4955, 'apt': 4956, 'meat': 4957, 'supreme': 4958, 'cudnt': 4959, 'ctla': 4960, 'ente': 4961, 'ishtamayoo': 4962, 'bakrid': 4963, 'glorious': 4964, 'finds': 4965, 'coaxing': 4966, 'images': 4967, 'fond': 4968, 'souveniers': 4969, 'cougar': 4970, '09065394514': 4971, 'scratches': 4972, 'nanny': 4973, 'shitin': 4974, 'defo': 4975, 'hardest': 4976, 'millions': 4977, 'lekdog': 4978, 'blankets': 4979, \"'its\": 4980, 'edison': 4981, 'rightly': 4982, 'viva': 4983, 'atten': 4984, 'iåõd': 4985, '09058097218': 4986, 'educational': 4987, 'doesnåõt': 4988, 'kickoff': 4989, 'data': 4990, 'analysis': 4991, 'belligerent': 4992, 'les': 4993, 'rudi': 4994, 'snoring': 4995, 'ink': 4996, '515': 4997, \"how're\": 4998, 'throwing': 4999, 'eastenders': 5000, 'compare': 5001, 'herself': 5002, 'violet': 5003, 'tulip': 5004, 'lily': 5005, 'wkent': 5006, '150p16': 5007, 'finalise': 5008, 'flirtparty': 5009, 'replys150': 5010, 'dentist': 5011, '09058091854': 5012, 'box385': 5013, 'm6': 5014, '6wu': 5015, 'lul': 5016, 'nurses': 5017, 'shes': 5018, 'obese': 5019, 'oyea': 5020, 'ami': 5021, 'parchi': 5022, 'kicchu': 5023, 'kaaj': 5024, 'korte': 5025, 'iccha': 5026, 'korche': 5027, 'tul': 5028, 'copies': 5029, 'sculpture': 5030, 'surya': 5031, 'pokkiri': 5032, 'dearer': 5033, 'attraction': 5034, 'sorrows': 5035, 'proove': 5036, 'praises': 5037, 'makiing': 5038, 'sambar': 5039, \"fr'ndship\": 5040, 'needle': 5041, '4few': 5042, 'conected': 5043, 'spatula': 5044, '09061221061': 5045, '28days': 5046, 'box177': 5047, 'm221bp': 5048, '2yr': 5049, 'warranty': 5050, 'på£3': 5051, '99': 5052, \"cali's\": 5053, 'complexities': 5054, 'freely': 5055, 'taxes': 5056, 'outrageous': 5057, 'tomorro': 5058, 'ryder': 5059, 'elvis': 5060, 'presleys': 5061, 'strips': 5062, 'postal': 5063, 'gifts': 5064, 'cliff': 5065, 'wrking': 5066, 'sittin': 5067, 'drops': 5068, 'hen': 5069, 'smoked': 5070, 'teju': 5071, 'hourish': 5072, 'amla': 5073, 'convenience': 5074, 'evaluation': 5075, '449050000301': 5076, '09050000301': 5077, '80155': 5078, 'swap': 5079, 'chatter': 5080, 'chat80155': 5081, 'rcd': 5082, 'cheyyamo': 5083, '80160': 5084, 'txt43': 5085, 'throws': 5086, 'brothers': 5087, 'hmv1': 5088, 'errors': 5089, 'tau': 5090, 'piah': 5091, '1stchoice': 5092, '08707808226': 5093, \"shade's\": 5094, 'copied': 5095, 'notified': 5096, 'marketing': 5097, '84122': 5098, '08450542832': 5099, 'virgins': 5100, 'sexual': 5101, 'theirs': 5102, '69911': 5103, 'sitter': 5104, 'kaitlyn': 5105, 'danger': 5106, 'peeps': 5107, 'comment': 5108, 'veggie': 5109, 'neighbors': 5110, 'computerless': 5111, 'balloon': 5112, '61200': 5113, 'packs': 5114, 'itcould': 5115, 'melody': 5116, 'macs': 5117, 'hme': 5118, 'velachery': 5119, 'flippin': 5120, 'breaking': 5121, 'cstore': 5122, 'hangin': 5123, 'lodge': 5124, 'worrying': 5125, 'quizzes': 5126, '087016248': 5127, '08719181503': 5128, 'thin': 5129, 'arguments': 5130, 'fed': 5131, 'himso': 5132, 'neft': 5133, 'beneficiary': 5134, 'subs16': 5135, '1win150ppmx3': 5136, 'semi': 5137, 'exp': 5138, '30apr': 5139, 'maaaan': 5140, 'guessin': 5141, 'ilol': 5142, 'personally': 5143, 'wuldnt': 5144, 'lunchtime': 5145, 'organise': 5146, '08719181513': 5147, 'passable': 5148, 'phd': 5149, '5years': 5150, 'nok': 5151, 'prakesh': 5152, 'betta': 5153, 'aging': 5154, 'products': 5155, 'accommodation': 5156, 'global': 5157, 'phb1': 5158, '08700435505150p': 5159, 'submitting': 5160, 'snatch': 5161, 'drivby': 5162, '0quit': 5163, 'edrunk': 5164, 'iff': 5165, 'pthis': 5166, 'senrd': 5167, 'dnot': 5168, 'dancce': 5169, 'drum': 5170, 'basq': 5171, 'ihave': 5172, '2nhite': 5173, 'ros': 5174, 'xxxxxxx': 5175, 'relieved': 5176, 'westonzoyland': 5177, 'greatness': 5178, 'goin2bed': 5179, 'only1more': 5180, 'mc': 5181, 'every1': 5182, 'ava': 5183, 'goodtime': 5184, 'oli': 5185, 'melnite': 5186, 'ifink': 5187, 'everythin': 5188, 'l8rs': 5189, '08712402779': 5190, 'shun': 5191, 'bian': 5192, 'glass': 5193, 'exhibition': 5194, 'el': 5195, 'nino': 5196, 'himself': 5197, 'jd': 5198, 'accounts': 5199, 'downstem': 5200, '08718730555': 5201, 'wahala': 5202, 'inperialmusic': 5203, 'listening2the': 5204, 'byåóleafcutter': 5205, 'johnåó': 5206, 'insects': 5207, 'molested': 5208, 'plumbing': 5209, 'remixed': 5210, 'evil': 5211, 'acid': 5212, 'didntgive': 5213, 'bellearlier': 5214, '09096102316': 5215, 'cheery': 5216, 'weirdo': 5217, 'stalk': 5218, 'profiles': 5219, 'jerry': 5220, 'irritates': 5221, 'fails': 5222, '95': 5223, 'pax': 5224, 'deposit': 5225, 'jap': 5226, 'disappeared': 5227, 'certificate': 5228, 'publish': 5229, 'wheellock': 5230, 'destination': 5231, 'fifty': 5232, 'settling': 5233, 'happenin': 5234, 'cocksuckers': 5235, 'ipads': 5236, 'worthless': 5237, 'novelty': 5238, 'janx': 5239, 'dads': 5240, 'designation': 5241, 'developer': 5242, 'videosound': 5243, 'videosounds': 5244, 'musicnews': 5245, '09701213186': 5246, 'spirit': 5247, 'shattered': 5248, 'girlie': 5249, 'darker': 5250, 'styling': 5251, 'gray': 5252, 'listn': 5253, 'watevr': 5254, '\\x89ûïharry': 5255, 'minus': 5256, 'paragraphs': 5257, 'coveragd': 5258, 'vasai': 5259, \"4'o\": 5260, 'retard': 5261, 'bathroom': 5262, 'sang': 5263, \"'uptown\": 5264, \"girl'\": 5265, \"80's\": 5266, 'icic': 5267, 'syria': 5268, 'gauge': 5269, \"patty's\": 5270, 'completing': 5271, 'ax': 5272, 'surgical': 5273, 'emergency': 5274, 'unfolds': 5275, 'korean': 5276, \"leona's\": 5277, 'fredericksburg': 5278, 'que': 5279, 'pases': 5280, 'buen': 5281, 'tiempo': 5282, 'free2day': 5283, \"george's\": 5284, '89080': 5285, '0870241182716': 5286, 'compass': 5287, 'gnun': 5288, 'way2sms': 5289, 'baaaaabe': 5290, 'misss': 5291, 'youuuuu': 5292, 'convince': 5293, 'witot': 5294, 'buyer': 5295, 'becz': 5296, 'undrstndng': 5297, 'avoids': 5298, 'suffer': 5299, 'steamboat': 5300, 'forgive': 5301, 'tp': 5302, 'bbq': 5303, '6ish': 5304, 'everyso': 5305, 'panicks': 5306, 'screen': 5307, 'nick': 5308, 'types': 5309, 'auntie': 5310, 'huai': 5311, 'lf56': 5312, 'tlk': 5313, 'path': 5314, 'appear': 5315, 'paths': 5316, 'reserve': 5317, 'thirunelvali': 5318, 'tackle': 5319, 'storming': 5320, 'phne': 5321, 'wt': 5322, 'margaret': 5323, 'girlfrnd': 5324, 'grahmbell': 5325, 'invnted': 5326, 'telphone': 5327, 'tonght': 5328, 'ploughing': 5329, 'pile': 5330, 'ironing': 5331, 'chinky': 5332, 'wi': 5333, 'nz': 5334, 'aust': 5335, 'bk': 5336, 'recharged': 5337, 'papa': 5338, 'detailed': 5339, 'sinco': 5340, 'payee': 5341, 'icicibank': 5342, 'frauds': 5343, 'disclose': 5344, 'losers': 5345, 'beta': 5346, 'noncomittal': 5347, 'beneath': 5348, 'pale': 5349, 'snickering': 5350, 'chords': 5351, 'win150ppmx3age16': 5352, 'boyf': 5353, 'interviw': 5354, 'spreadsheet': 5355, 'determine': 5356, 'entire': 5357, 'dartboard': 5358, 'doubles': 5359, 'trebles': 5360, 'recognises': 5361, 'wisheds': 5362, 'intrepid': 5363, 'duo': 5364, 'breeze': 5365, 'fresh': 5366, 'twittering': 5367, 'ducking': 5368, 'chinchillas': 5369, 'function': 5370, 'headstart': 5371, 'rummer': 5372, 'flying': 5373, 'optin': 5374, 'bbc': 5375, 'charts': 5376, 'thanks2': 5377, 'rajini': 5378, 'summers': 5379, 'matched': 5380, 'help08714742804': 5381, 'spys': 5382, '09099725823': 5383, 'offering': 5384, 'yalru': 5385, 'astne': 5386, 'innu': 5387, 'mundhe': 5388, 'halla': 5389, 'bilo': 5390, 'edhae': 5391, 'ovr': 5392, 'vargu': 5393, 'prone': 5394, '07801543489': 5395, 'latests': 5396, 'llc': 5397, 'ny': 5398, 'usa': 5399, 'msgrcvd18': 5400, 'permission': 5401, 'meetins': 5402, 'cumin': 5403, '09099726395': 5404, 'wonders': 5405, '7th': 5406, '6th': 5407, '5th': 5408, 'personality': 5409, 'dose': 5410, 'tablet': 5411, 'incomm': 5412, 'doesn': 5413, 'maps': 5414, 'tiring': 5415, 'concentrating': 5416, 'browsin': 5417, 'compulsory': 5418, 'musthu': 5419, 'investigate': 5420, 'vitamin': 5421, 'crucial': 5422, \"someone's\": 5423, '2channel': 5424, 'leadership': 5425, 'skills': 5426, 'psychic': 5427, 'host': 5428, 'based': 5429, 'idps': 5430, 'linux': 5431, 'systems': 5432, 'converter': 5433, 'sayy': 5434, 'leanne': 5435, 'disc': 5436, 'champ': 5437, 'glasgow': 5438, 'lovin': 5439, 'install': 5440, 'browse': 5441, 'artists': 5442, 'corect': 5443, 'speling': 5444, '4719': 5445, '523': 5446, 'cts': 5447, 'employee': 5448, 'nike': 5449, 'sooo': 5450, 'shouting': 5451, 'dang': 5452, 'earliest': 5453, 'nordstrom': 5454, 'konw': 5455, 'waht': 5456, 'rael': 5457, 'gving': 5458, 'exmpel': 5459, 'jsut': 5460, 'evrey': 5461, 'splleing': 5462, 'wrnog': 5463, 'sitll': 5464, 'raed': 5465, 'wihtuot': 5466, 'ayn': 5467, 'mitsake': 5468, 'conference': 5469, 'degree': 5470, 'bleak': 5471, 'shant': 5472, 'nearer': 5473, 'raiden': 5474, 'kegger': 5475, 'totes': 5476, 'pierre': 5477, 'cardin': 5478, 'establish': 5479, 'truro': 5480, 'ext': 5481, 'cloth': 5482, 'sunroof': 5483, 'blanked': 5484, 'image': 5485, 'rumour': 5486, 'kalainar': 5487, 'thenampet': 5488, 'nosy': 5489, 'reacting': 5490, 'freaked': 5491, 'satanic': 5492, 'imposter': 5493, 'destiny': 5494, 'companion': 5495, 'chef': 5496, 'listener': 5497, 'organizer': 5498, 'sympathetic': 5499, 'athletic': 5500, 'courageous': 5501, 'determined': 5502, 'dependable': 5503, 'psychologist': 5504, 'pest': 5505, 'exterminator': 5506, 'psychiatrist': 5507, 'healer': 5508, 'stylist': 5509, 'aaniye': 5510, 'pudunga': 5511, 'venaam': 5512, 'chez': 5513, 'jules': 5514, 'hhahhaahahah': 5515, 'nig': 5516, 'leonardo': 5517, \"derek's\": 5518, '2years': 5519, 'strain': 5520, 'withdraw': 5521, 'anyhow': 5522, 'falling': 5523, 'smeone': 5524, 'millers': 5525, 'spark': 5526, 'rawring': 5527, 'xoxo': 5528, 'somewhr': 5529, 'crushes': 5530, 'honeymoon': 5531, 'outfit': 5532, '08719899230': 5533, 'gods': 5534, 'cheque': 5535, 'olympics': 5536, 'leo': 5537, 'patty': 5538, 'haul': 5539, 'wildlife': 5540, 'want2come': 5541, 'that2worzels': 5542, 'wizzle': 5543, 'dippeditinadew': 5544, 'lovingly': 5545, 'itwhichturnedinto': 5546, 'gifted': 5547, 'tomeandsaid': 5548, 'shanghai': 5549, 'cya': 5550, '645': 5551, 'rt': 5552, 'pro': 5553, '08701237397': 5554, 'redeemable': 5555, 'thnx': 5556, 'sef': 5557, 'anjie': 5558, 'fring': 5559, 'nte': 5560, '09058094599': 5561, 'doesn\\x89û÷t': 5562, 'wating': 5563, '02072069400': 5564, 'bx': 5565, '526': 5566, 'talents': 5567, 'animal': 5568, 'shiny': 5569, 'warming': 5570, 'french': 5571, 'fooled': 5572, '0a': 5573, 'companies': 5574, 'responsible': 5575, 'suppliers': 5576, 'lnly': 5577, 'keen': 5578, 'dammit': 5579, 'wright': 5580, 'somewhat': 5581, 'laden': 5582, 'wrecked': 5583, 'spontaneously': 5584, 'goodevening': 5585, 'rgent': 5586, 'daytime': 5587, 'busty': 5588, '09099726429': 5589, 'janinexx': 5590, 'spageddies': 5591, 'phasing': 5592, 'fourth': 5593, 'dimension': 5594, 'meaningful': 5595, 'compromised': 5596, '09050001295': 5597, 'a21': 5598, 'mobsi': 5599, '391784': 5600, 'dub': 5601, 'je': 5602, 'toughest': 5603, 'jas': 5604, 'squatting': 5605, '0089': 5606, 'digits': 5607, '09063442151': 5608, 'sonathaya': 5609, 'soladha': 5610, 'raping': 5611, 'dudes': 5612, 'weightloss': 5613, 'mushy': 5614, 'embarrassed': 5615, 'stash': 5616, 'priya': 5617, 'kilos': 5618, 'accidant': 5619, 'tookplace': 5620, 'ghodbandar': 5621, 'slovely': 5622, 'sc': 5623, 'specialise': 5624, 'wad': 5625, 'desparately': 5626, 'stereo': 5627, 'mi': 5628, '09094646899': 5629, 'vu': 5630, 'bcm1896wc1n3xx': 5631, 'classmates': 5632, 'fires': 5633, 'trackmarque': 5634, 'vipclub4u': 5635, 'missionary': 5636, 'entertaining': 5637, 'hugh': 5638, 'laurie': 5639, 'praps': 5640, 'jon': 5641, 'spain': 5642, 'dinero': 5643, 'åôrents': 5644, '000pes': 5645, 'å£48': 5646, \"'maangalyam\": 5647, 'alaipayuthe': 5648, 'complaining': 5649, 'mandy': 5650, 'sullivan': 5651, 'hotmix': 5652, 'fm': 5653, '09041940223': 5654, 'transferred': 5655, \"finn's\": 5656, 'callfreefone': 5657, '08081560665': 5658, 'ofå£2000': 5659, '07786200117': 5660, 'downon': 5661, 'theacusations': 5662, 'itxt': 5663, 'iwana': 5664, 'wotu': 5665, 'thew': 5666, 'haventcn': 5667, 'nething': 5668, 'dine': 5669, 'conacted': 5670, '09111030116': 5671, 'pobox12n146tf15': 5672, 'inspection': 5673, 'nursery': 5674, 'panren': 5675, 'paru': 5676, 'chuckin': 5677, 'trainners': 5678, 'carryin': 5679, 'bac': 5680, 'dhanush': 5681, 'needing': 5682, 'habba': 5683, 'dileep': 5684, 'muchand': 5685, 'venugopal': 5686, 'mentioned': 5687, 'remembrs': 5688, 'everytime': 5689, 'mandan': 5690, '07734396839': 5691, 'ibh': 5692, 'nokia6600': 5693, '3230': 5694, 'textbook': 5695, 'algorithms': 5696, 'edition': 5697, 'invaders': 5698, 'orig': 5699, 'console': 5700, '09064018838': 5701, 'cro1327': 5702, 'transfr': 5703, 'intend': 5704, 'iwas': 5705, 'marine': 5706, 'itried2tell': 5707, 'urmom': 5708, 'careabout': 5709, 'foley': 5710, 'prizes': 5711, '82050': 5712, 'learned': 5713, 'iraq': 5714, 'afghanistan': 5715, 'stable': 5716, 'honest': 5717, 'traveling': 5718, '1225': 5719, 'å£50award': 5720, 'pai': 5721, 'seh': 5722, 'parts': 5723, 'walsall': 5724, 'tue': 5725, 'terry': 5726, 'ccna': 5727, 'shrek': 5728, 'fellow': 5729, \"something's\": 5730, 'dying': 5731, 'lifting': 5732, 'teresa': 5733, 'dec': 5734, \"you'ld\": 5735, 'bam': 5736, 'aid': 5737, 'usmle': 5738, 'squishy': 5739, 'mwahs': 5740, 'hottest': 5741, 'prominent': 5742, 'cheek': 5743, 'september': 5744, 'hack': 5745, 'backdoor': 5746, 'fraction': 5747, 'neo69': 5748, '09050280520': 5749, 'subscribe': 5750, 'dps': 5751, 'bcm': 5752, '8027': 5753, 'comingdown': 5754, 'murali': 5755, 'sts': 5756, 'engalnd': 5757, 'mia': 5758, 'elliot': 5759, 'kissing': 5760, '2price': 5761, '100txt': 5762, \"b'tooth\": 5763, 'd3wv': 5764, 'matric': 5765, '850': 5766, '650': 5767, '08718726970': 5768, 'payments': 5769, 'fedex': 5770, 'reception': 5771, 'consensus': 5772, 'entertain': 5773, 'tag': 5774, 'bras': 5775, 'strewn': 5776, 'pillows': 5777, 'weaknesses': 5778, \"knee's\": 5779, 'exposes': 5780, 'pulls': 5781, 'wicked': 5782, 'supports': 5783, 'srt': 5784, 'ps3': 5785, 'jontin': 5786, 'banned': 5787, 'biro': 5788, '09058094594': 5789, 'shell': 5790, 'unconsciously': 5791, 'unhappy': 5792, 'jog': 5793, '09061743811': 5794, 'lark': 5795, \"station's\": 5796, '09090900040': 5797, 'extreme': 5798, 'sic': 5799, '7mp': 5800, '0870753331018': 5801, 'fones': 5802, 'wild': 5803, 'stop2stop': 5804, 'lim': 5805, 'parachute': 5806, 'placed': 5807, 'lambda': 5808, 'angels': 5809, 'snowball': 5810, 'ello': 5811, 'duffer': 5812, 'grr': 5813, 'pharmacy': 5814, '08715500022': 5815, 'rpl': 5816, 'cnl': 5817, 'nor': 5818, 'fffff': 5819, 'lifebook': 5820, 'zhong': 5821, 'qing': 5822, 'act': 5823, 'hypertension': 5824, 'annoyin': 5825, '08702490080': 5826, 'vpod': 5827, 'nigro': 5828, 'scratching': 5829, \"idea's\": 5830, 'anyplaces': 5831, 'priority': 5832, 'ecstasy': 5833, '09090204448': 5834, 'minded': 5835, 'aå£1': 5836, 'minapn': 5837, 'ls278bb': 5838, 'hittng': 5839, 'reflex': 5840, 'adewale': 5841, 'egbon': 5842, 'mary': 5843, 'deduct': 5844, 'wrks': 5845, 'monkey': 5846, 'asshole': 5847, 'grab': 5848, 'sliding': 5849, '09065394973': 5850, 'payback': 5851, 'honeybee': 5852, 'sweetest': 5853, 'laughed': 5854, 'havnt': 5855, 'crack': 5856, 'tescos': 5857, 'feathery': 5858, 'bowa': 5859, 'infra': 5860, 'gep': 5861, '2006': 5862, 'fifa': 5863, 'shhhhh': 5864, 'related': 5865, 'arul': 5866, 'amk': 5867, '09061743810': 5868, 'length': 5869, 'antha': 5870, 'corrct': 5871, 'dane': 5872, \"basket's\": 5873, 'rupaul': 5874, 'practising': 5875, 'curtsey': 5876, 'memory': 5877, 'converted': 5878, 'african': 5879, 'soil': 5880, 'roles': 5881, 'outreach': 5882, '8lb': 5883, '7oz': 5884, 'brilliantly': 5885, 'forwarding': 5886, 'intention': 5887, 'visitors': 5888, 'rules': 5889, 'bend': 5890, 'thia': 5891, 'inlude': 5892, 'previews': 5893, '08006344447': 5894, 'ambrith': 5895, 'madurai': 5896, 'dha': 5897, 'marrge': 5898, 'kitty': 5899, 'shaved': 5900, \"anybody's\": 5901, 'tactful': 5902, 'pert': 5903, 'head\\x89û': 5904, 'crammed': 5905, 'satsgettin': 5906, '47per': 5907, 'apologize': 5908, 'pei': 5909, 'subtoitles': 5910, 'jot': 5911, 'cereals': 5912, 'gari': 5913, 'bold2': 5914, '09094100151': 5915, 'cast': 5916, 'gbp5': 5917, 'box61': 5918, 'm60': 5919, '1er': 5920, 'thkin': 5921, 'resubbing': 5922, 'shadow': 5923, 'breadstick': 5924, 'saeed': 5925, '09066362220': 5926, 'purple': 5927, 'yelow': 5928, 'brown': 5929, 'arranging': 5930, 'eldest': 5931, 'drugdealer': 5932, 'wither': 5933, '23f': 5934, '23g': 5935, 'sleepwell': 5936, 'wondarfull': 5937, 'web2mobile': 5938, 'txt250': 5939, 'box139': 5940, 'la32wu': 5941, 'txtx': 5942, 'onbus': 5943, 'donyt': 5944, 'latelyxxx': 5945, '85233': 5946, 'stressed': 5947, 'soooo': 5948, 'provider': 5949, 'tming': 5950, 'cutest': 5951, 'dice': 5952, '08700469649': 5953, 'box420': 5954, 'howda': 5955, 'mathe': 5956, 'samachara': 5957, 'audrie': 5958, 'autocorrect': 5959, 'simulate': 5960, 'readiness': 5961, 'lara': 5962, 'supplies': 5963, 'guesses': 5964, 'attach': 5965, '087123002209am': 5966, 'stamped': 5967, '113': 5968, 'bray': 5969, 'wicklow': 5970, 'eire': 5971, 'washob': 5972, 'nobbing': 5973, 'nickey': 5974, 'platt': 5975, 'ryan': 5976, 'idew': 5977, 'spotty': 5978, 'province': 5979, 'sterling': 5980, 'xam': 5981, 'hall': 5982, 'hesitation': 5983, 'intha': 5984, 'ponnungale': 5985, 'ipaditan': 5986, 'rejected': 5987, 'tessy': 5988, 'favor': 5989, 'shijas': 5990, 'noisy': 5991, 'needa': 5992, 'manual': 5993, 'reset': 5994, 'troubleshooting': 5995, 'b4u': 5996, 'marsms': 5997, 'b4utele': 5998, '08717168528': 5999, 'strongly': 6000, 'creativity': 6001, 'stifled': 6002, 'requirements': 6003, 'heåõs': 6004, '2getha': 6005, 'buffy': 6006, 'qlynnbv': 6007, 'help08700621170150p': 6008, 'nosh': 6009, 'waaaat': 6010, 'lololo': 6011, \"table's\": 6012, 'occupied': 6013, 'documents': 6014, 'submitted': 6015, 'stapati': 6016, 'cutie': 6017, 'hills': 6018, 'honesty': 6019, 'specialisation': 6020, 'labor': 6021, 'shakara': 6022, 'beggar': 6023, 'dent': 6024, 'crickiting': 6025, 'imin': 6026, 'dontmatter': 6027, 'urgoin': 6028, 'outl8r': 6029, 'yavnt': 6030, 'popping': 6031, 'ibuprofens': 6032, 'sip': 6033, 'grown': 6034, 'chinatown': 6035, 'porridge': 6036, 'claypot': 6037, 'yam': 6038, 'fishhead': 6039, 'beehoon': 6040, 'jaklin': 6041, 'nearby': 6042, 'cliffs': 6043, '49': 6044, 'bundle': 6045, 'deals': 6046, 'avble': 6047, 'mf': 6048, 'ooh': 6049, '4got': 6050, 'moseley': 6051, 'weds': 6052, 'thankyou': 6053, 'aluable': 6054, 'ffectionate': 6055, 'oveable': 6056, 'ternal': 6057, 'oble': 6058, 'ruthful': 6059, 'ntimate': 6060, 'atural': 6061, 'namous': 6062, \"textin'\": 6063, 'raji': 6064, 'amigos': 6065, 'burn': 6066, 'progress': 6067, \"weren't\": 6068, 'arty': 6069, 'collages': 6070, 'tryin': 6071, '2hrs': 6072, 'waliking': 6073, 'cartons': 6074, 'shelves': 6075, '08714712379': 6076, 'mirror': 6077, 'k718': 6078, '09065069120': 6079, 'jod': 6080, 'keris': 6081, 'smidgin': 6082, 'intentions': 6083, 'accordin': 6084, \"no's\": 6085, 'knocking': 6086, 'como': 6087, 'listened2the': 6088, 'plaid': 6089, 'air1': 6090, 'hilarious': 6091, 'boughtåóbraindanceåóa': 6092, 'ofstuff': 6093, 'aphexåõs': 6094, 'abel': 6095, 'nelson': 6096, \"bb's\": 6097, 'unmits': 6098, 'newspapers': 6099, 'yummmm': 6100, 'puzzeles': 6101, '4goten': 6102, 'scammers': 6103, 'passion': 6104, '09099726481': 6105, 'dena': 6106, 'r836': 6107, '09065069154': 6108, 'shifad': 6109, 'raised': 6110, \"'doctors'\": 6111, 'reminds': 6112, 'splashmobile': 6113, 'subscrition': 6114, 'dust': 6115, '01223585334': 6116, '2c': 6117, 'shagged': 6118, '2end': 6119, '3pound': 6120, 'watchin': 6121, 'meaningless': 6122, \"all's\": 6123, 'brdget': 6124, 'jones': 6125, 'inever': 6126, 'hype': 6127, 'studio': 6128, 'velly': 6129, 'marking': 6130, '2stoptx': 6131, '08718738034': 6132, 'va': 6133, 'hanger': 6134, 'poem': 6135, 'arrow': 6136, 'blanket': 6137, '08718726971': 6138, 'tddnewsletter': 6139, 'emc1': 6140, 'thedailydraw': 6141, 'dozens': 6142, 'prizeswith': 6143, 'significant': 6144, 'waqt': 6145, 'pehle': 6146, 'naseeb': 6147, 'zyada': 6148, 'kisi': 6149, 'ko': 6150, 'kuch': 6151, 'milta': 6152, 'hum': 6153, 'sochte': 6154, 'ham': 6155, 'jeetey': 6156, 'stalking': 6157, 'reminded': 6158, 'varaya': 6159, 'elaya': 6160, '09066368753': 6161, '97n7qp': 6162, 'anand': 6163, 'beach': 6164, 'expected': 6165, 'jez': 6166, 'todo': 6167, 'workand': 6168, 'whilltake': 6169, 'zogtorius': 6170, 'iåõve': 6171, 'financial': 6172, 'alian': 6173, 'tooth': 6174, 'or2optout': 6175, 'hv9d': 6176, 'posible': 6177, 'century': 6178, 'frwd': 6179, 'affectionate': 6180, 'sorts': 6181, 'restrictions': 6182, 'buddys': 6183, '08712402902': 6184, 'owned': 6185, 'possessive': 6186, 'clarification': 6187, 'gamestar': 6188, 'active': 6189, 'å£250k': 6190, 'scoring': 6191, '88088': 6192, 'coimbatore': 6193, 'monoc': 6194, 'monos': 6195, 'polyc': 6196, 'stream': 6197, '0871212025016': 6198, 'categories': 6199, 'ethnicity': 6200, 'census': 6201, 'transcribing': 6202, 'propsd': 6203, 'gv': 6204, 'lv': 6205, 'lttrs': 6206, 'threw': 6207, 'aproach': 6208, 'dt': 6209, 'truck': 6210, 'speeding': 6211, \"'hw\": 6212, 'thy': 6213, 'lived': 6214, 'happily': 6215, '2gthr': 6216, 'evrydy': 6217, 'cakes': 6218, 'draws': 6219, 'goodmate': 6220, 'asusual': 6221, 'cheered': 6222, 'franyxxxxx': 6223, 'batt': 6224, 'becausethey': 6225, '09058098002': 6226, 'pobox1': 6227, 'w14rg': 6228, 'responce': 6229, 'wiskey': 6230, 'brandy': 6231, 'rum': 6232, 'gin': 6233, 'scotch': 6234, 'shampain': 6235, 'kudi': 6236, 'yarasu': 6237, 'dhina': 6238, 'vaazhthukkal': 6239, 'gained': 6240, 'pressure': 6241, 'limits': 6242, 'doke': 6243, 'laying': 6244, 'kills': 6245, 'neshanth': 6246, 'byatch': 6247, 'whassup': 6248, 'cl': 6249, 'filthyguys': 6250, '4msgs': 6251, 'chiong': 6252, 'dialogue': 6253, 'reltnship': 6254, 'questioned': 6255, 'gardener': 6256, 'vegetables': 6257, 'neighbour': 6258, 'pose': 6259, 'comb': 6260, 'dryer': 6261, 'fps': 6262, 'computational': 6263, 'disturbance': 6264, 'dlf': 6265, 'premarica': 6266, 'gotto': 6267, '220cm2': 6268, 'err': 6269, 'hitter': 6270, 'offline': 6271, \"anjola's\": 6272, 'asjesus': 6273, 'directors': 6274, 'lac': 6275, 'deposited': 6276, \"'taxless'\": 6277, 'suply': 6278, 'projects': 6279, 'imf': 6280, 'blocked': 6281, 'corrupt': 6282, 'itna': 6283, 'karo': 6284, 'ki': 6285, 'pura': 6286, 'padhe': 6287, 'torrents': 6288, 'particularly': 6289, 'slowing': 6290, 'commit': 6291, '83370': 6292, 'trivia': 6293, 'rightio': 6294, '48': 6295, 'brum': 6296, 'scorable': 6297, 'paranoid': 6298, 'brin': 6299, 'sheet': 6300, 'complain': 6301, 'bettr': 6302, 'bsnl': 6303, 'offc': 6304, 'payed': 6305, 'suganya': 6306, 'dessert': 6307, 'abeg': 6308, 'sponsors': 6309, 'onum': 6310, 'poet': 6311, 'imagination': 6312, 'rr': 6313, 'famamus': 6314, 'locks': 6315, 'jenne': 6316, 'easiest': 6317, 'barcelona': 6318, 'sppok': 6319, 'complementary': 6320, 'wa14': 6321, '2px': 6322, 'pansy': 6323, 'jungle': 6324, 'kanji': 6325, 'srs': 6326, 'drizzling': 6327, 'appointments': 6328, 'excused': 6329, 'drama': 6330, 'struggling': 6331, 'ego': 6332, \"'if\": 6333, \"invited'\": 6334, 'necessity': 6335, 'reppurcussions': 6336, 'cosign': 6337, 'hvae': 6338, '09061701444': 6339, 'hcl': 6340, 'requires': 6341, 'freshers': 6342, 'suman': 6343, 'telephonic': 6344, 'reliant': 6345, 'fwiw': 6346, 'afford': 6347, 'sq825': 6348, 'arrival': 6349, 'citylink': 6350, 'props': 6351, 'pleasant': 6352, 'statements': 6353, '6230': 6354, 'pobox114': 6355, '14tcr': 6356, 'bognor': 6357, 'splendid': 6358, 'ktv': 6359, 'misplaced': 6360, 'computers': 6361, 'begun': 6362, 'registration': 6363, 'permanent': 6364, 'residency': 6365, 'risks': 6366, 'predicting': 6367, 'accumulation': 6368, 'programs': 6369, 'belongs': 6370, 'fated': 6371, 'shoranur': 6372, 'fuelled': 6373, 'concern': 6374, 'prior': 6375, 'grief': 6376, 'environment': 6377, 'terrific': 6378, 'text82228': 6379, 'honestly': 6380, 'promptly': 6381, 'burnt': 6382, 'snap': 6383, 'quizclub': 6384, '80122300p': 6385, 'rwm': 6386, '08704050406': 6387, 'gmw': 6388, 'connected': 6389, 'someplace': 6390, 'goods': 6391, 'pressies': 6392, 'ultimately': 6393, 'tor': 6394, 'motive': 6395, 'tui': 6396, 'achieve': 6397, 'korli': 6398, 'we\\x89û÷ll': 6399, 'dock': 6400, 'rolled': 6401, 'newscaster': 6402, 'dabbles': 6403, 'flute': 6404, 'wheel': 6405, 'keyword': 6406, 'the4th': 6407, 'october': 6408, '83435': 6409, 'elaborating': 6410, 'safety': 6411, 'aspects': 6412, 'tarot': 6413, '85555': 6414, 'ours': 6415, 'horniest': 6416, 'flow': 6417, 'developed': 6418, 'ovarian': 6419, 'cysts': 6420, 'shrink': 6421, 'upping': 6422, 'grams': 6423, 'timin': 6424, 'apes': 6425, 'ibm': 6426, 'hp': 6427, 'gosh': 6428, 'spose': 6429, 'rimac': 6430, 'arestaurant': 6431, 'squid': 6432, 'dosomething': 6433, 'dabooks': 6434, 'eachother': 6435, 'luckily': 6436, 'starring': 6437, 'restocked': 6438, 'tkls': 6439, 'stoptxtstopå£1': 6440, 'smoothly': 6441, 'challenging': 6442, 'breakfast': 6443, 'hamper': 6444, 'cc100p': 6445, 'above': 6446, '0870737910216yrs': 6447, 'unni': 6448, 'lacking': 6449, 'particular': 6450, \"dramastorm's\": 6451, 'forfeit': 6452, 'digi': 6453, 'coupla': 6454, '077xxx': 6455, '09066362206': 6456, 'sundayish': 6457, 'prasad': 6458, 'rcb': 6459, 'battle': 6460, 'kochi': 6461, 'checkup': 6462, 'smear': 6463, 'gobi': 6464, '4w': 6465, 'technologies': 6466, 'olowoyey': 6467, 'argentina': 6468, 'taxt': 6469, 'massage': 6470, 'tie': 6471, 'pos': 6472, 'lool': 6473, \"taylor's\": 6474, 'shaking': 6475, 'scarcasim': 6476, 'naal': 6477, 'eruku': 6478, 'w4': 6479, '5wq': 6480, 'amongst': 6481, 'impressively': 6482, 'sensible': 6483, 'obedient': 6484, 'ft': 6485, 'combination': 6486, 'needy': 6487, 'playng': 6488, 'mcfly': 6489, 'ab': 6490, 'sara': 6491, 'jorge': 6492, 'anna': 6493, 'nagar': 6494, 'yupz': 6495, 'ericson': 6496, 'der': 6497, 'luks': 6498, 'modl': 6499, 'cheesy': 6500, 'frosty': 6501, 'witin': 6502, 'fans': 6503, '0870141701216': 6504, '120p': 6505, '10th': 6506, '09050000555': 6507, 'ba128nnfwfly150ppm': 6508, 'nudist': 6509, 'themed': 6510, 'pump': 6511, 'å£12': 6512, 'evr': 6513, 'signal': 6514, 'unusual': 6515, 'palm': 6516, 'printing': 6517, 'handing': 6518, '83021': 6519, 'stated': 6520, 'perpetual': 6521, 'dd': 6522, 'pract': 6523, 'flung': 6524, 'justbeen': 6525, 'overa': 6526, 'brains': 6527, 'mush': 6528, 'tunde': 6529, 'missions': 6530, '20m12aq': 6531, '\\x89ûï': 6532, 'eh74rr': 6533, 'avo': 6534, 'crashed': 6535, 'cuddled': 6536, 'chachi': 6537, 'pl': 6538, 'tiz': 6539, 'kanagu': 6540, 'prices': 6541, 'ringing': 6542, 'houseful': 6543, 'brats': 6544, 'pulling': 6545, 'derp': 6546, 'abusers': 6547, 'lipo': 6548, 'netflix': 6549, 'clash': 6550, 'arr': 6551, 'oscar': 6552, 'rebtel': 6553, 'firefox': 6554, '69969': 6555, 'bcmsfwc1n3xx': 6556, 'impressed': 6557, 'funs': 6558, 'footy': 6559, 'stadium': 6560, 'large': 6561, 'coca': 6562, 'cola': 6563, 'teenager': 6564, 'replacing': 6565, 'mittelschmertz': 6566, 'paracetamol': 6567, 'arrived': 6568, 'cthen': 6569, 'conclusion': 6570, 'references': 6571, 'u\\x89ûªve': 6572, 'instant': 6573, '08715203028': 6574, '9th': 6575, 'rugby': 6576, 'affidavit': 6577, 'twiggs': 6578, 'courtroom': 6579, 'showers': 6580, 'possessiveness': 6581, 'poured': 6582, 'golden': 6583, 'lasting': 6584, 'mobs': 6585, 'breathe1': 6586, 'crazyin': 6587, 'sleepingwith': 6588, 'finest': 6589, 'ymca': 6590, 'pobox365o4w45wq': 6591, 'wtc': 6592, 'weiyi': 6593, \"åòit's\": 6594, 'flowers': 6595, '505060': 6596, 'paining': 6597, 'romcapspam': 6598, 'presence': 6599, 'outgoing': 6600, 'maggi': 6601, 'mee': 6602, '08712103738': 6603, 'cough': 6604, '09058099801': 6605, 'b4190604': 6606, '7876150ppm': 6607, 'pooja': 6608, 'sweatter': 6609, 'ambitious': 6610, 'miiiiiiissssssssss': 6611, 'tunji': 6612, 'misscall': 6613, 'frndz': 6614, '6missed': 6615, 'mad1': 6616, 'mad2': 6617, 'tall': 6618, 'robs': 6619, 'avenge': 6620, 'japanese': 6621, 'proverb': 6622, \"fren's\": 6623, 'choices': 6624, 'toss': 6625, 'gudni8': 6626, 'dancin': 6627, 'explicitly': 6628, 'nora': 6629, 'gayle': 6630, 'crucify': 6631, 'butting': 6632, 'vs': 6633, 'cedar': 6634, 'durham': 6635, 'reserved': 6636, '69855': 6637, 'stopbcm': 6638, 'sf': 6639, 'wall': 6640, 'printer': 6641, 'groovy': 6642, 'groovying': 6643, \"harish's\": 6644, 'transfred': 6645, 'acnt': 6646, 'showrooms': 6647, 'shaping': 6648, 'attending': 6649, 'doinat': 6650, 'callon': 6651, \"ron's\": 6652, 'pdate': 6653, 'yhl': 6654, 'configure': 6655, 'i\\x89ûªm': 6656, 'isn\\x89ûªt': 6657, 'anal': 6658, 'pears': 6659, 'helloooo': 6660, 'welcomes': 6661, 'such': 6662, 'oooooh': 6663, '09058094454': 6664, '54': 6665, 'resubmit': 6666, 'expiry': 6667, 'weåõve': 6668, 'mint': 6669, 'humans': 6670, 'studyn': 6671, 'everyboy': 6672, 'xxxxxxxx': 6673, \"hi'\": 6674, \"'xam\": 6675, '1thing': 6676, 'answr': 6677, 'liquor': 6678, 'loko': 6679, '730': 6680, 'lined': 6681, \"tm'ing\": 6682, 'laughs': 6683, 'fireplace': 6684, 'icon': 6685, '08712400200': 6686, 'fifth': 6687, 'woozles': 6688, 'weasels': 6689, '08718723815': 6690, 'machines': 6691, 'fucks': 6692, 'ignorant': 6693, 'mys': 6694, 'downs': 6695, 'fletcher': 6696, '08714714011': 6697, 'bowls': 6698, 'cozy': 6699, 'buzzzz': 6700, 'vibrator': 6701, 'shake': 6702, 'trends': 6703, 'pros': 6704, 'cons': 6705, 'description': 6706, 'nuclear': 6707, 'fusion': 6708, 'iter': 6709, 'jet': 6710, 'nowhere': 6711, 'ikno': 6712, 'doesdiscount': 6713, 'shitinnit': 6714, 'jabo': 6715, 'slower': 6716, 'maniac': 6717, 'sapna': 6718, 'manege': 6719, \"y'day\": 6720, 'hogidhe': 6721, 'chinnu': 6722, 'swalpa': 6723, 'agidhane': 6724, 'footbl': 6725, 'crckt': 6726, 'swell': 6727, 'tim': 6728, 'bollox': 6729, 'tol': 6730, 'ingredients': 6731, 'pocy': 6732, 'non': 6733, '4qf2': 6734, 'senor': 6735, 'giggle': 6736, 'possibly': 6737, 'person2die': 6738, 'nvq': 6739, 'professional': 6740, 'tiger': 6741, 'woods': 6742, 'grinder': 6743, 'pt2': 6744, 'buyers': 6745, 'figuring': 6746, 'entirely': 6747, 'disconnected': 6748, 'onluy': 6749, 'matters': 6750, 'offcampus': 6751, \"riley's\": 6752, 'ew': 6753, 'wesley': 6754, \"how've\": 6755, 'lingo': 6756, '400mins': 6757, 'j5q': 6758, \"l'm\": 6759, '69200': 6760, 'chrgd': 6761, '2exit': 6762, 'approaching': 6763, 'sankranti': 6764, 'republic': 6765, 'shivratri': 6766, 'ugadi': 6767, 'fools': 6768, 'independence': 6769, 'teachers': 6770, 'childrens': 6771, 'festival': 6772, 'dasara': 6773, 'mornings': 6774, 'afternoons': 6775, 'rememberi': 6776, \"your's\": 6777, 'joys': 6778, 'lifeis': 6779, 'daywith': 6780, 'somewheresomeone': 6781, 'tosend': 6782, 'greeting': 6783, 'selflessness': 6784, 'initiate': 6785, 'tallent': 6786, 'wasting': 6787, 'portal': 6788, \"don't4get2text\": 6789, 'lennon': 6790, 'bothering': 6791, 'fox': 6792, 'frndsship': 6793, 'dwn': 6794, 'slaaaaave': 6795, 'summon': 6796, 'appendix': 6797, 'slob': 6798, 'smiled': 6799, 'webpage': 6800, 'yeesh': 6801, 'unsubscribed': 6802, 'hunks': 6803, 'gotbabes': 6804, 'subscriptions': 6805, 'gopalettan': 6806, 'participate': 6807, 'abroad': 6808, 'xxsp': 6809, 'stopcost': 6810, '08712400603': 6811, 'agent': 6812, 'goodies': 6813, 'mat': 6814, 'ay': 6815, 'steal': 6816, 'isaiah': 6817, 'expert': 6818, 'thinl': 6819, 'importantly': 6820, 'tightly': 6821, \"'wnevr\": 6822, 'fal': 6823, 'fals': 6824, 'yen': 6825, 'madodu': 6826, 'nav': 6827, 'pretsorginta': 6828, 'nammanna': 6829, 'pretsovru': 6830, 'alwa': 6831, 'lord': 6832, 'rings': 6833, 'soundtrack': 6834, 'stdtxtrate': 6835, 'sg': 6836, 'phyhcmk': 6837, 'pc1323': 6838, 'emigrated': 6839, 'hopeful': 6840, 'olol': 6841, 'stagwood': 6842, 'winterstone': 6843, 'victors': 6844, 'jp': 6845, 'mofo': 6846, 'pathaya': 6847, 'enketa': 6848, 'maraikara': 6849, \"pa'\": 6850, 'priest': 6851, 'reserves': 6852, 'intrude': 6853, 'walkabout': 6854, 'cashed': 6855, 'announced': 6856, 'blog': 6857, '28th': 6858, 'footie': 6859, 'phil': 6860, 'neville': 6861, 'abbey': 6862, 'returning': 6863, 'punj': 6864, 'str8': 6865, 'classic': 6866, '200p': 6867, 'sacked': 6868, 'clip': 6869, '35p': 6870, 'mmsto': 6871, '32323': 6872, 'barred': 6873, 'twat': 6874, 'dungerees': 6875, 'decking': 6876, 'punch': 6877, 'mentionned': 6878, 'vat': 6879, 'hogolo': 6880, 'kodstini': 6881, 'madstini': 6882, 'hogli': 6883, 'mutai': 6884, 'eerulli': 6885, 'kodthini': 6886, 'thasa': 6887, 'messed': 6888, 'tex': 6889, 'mecause': 6890, 'werebored': 6891, 'okden': 6892, 'uin': 6893, 'soundåõs': 6894, 'likeyour': 6895, 'gr8fun': 6896, 'updat': 6897, 'countinlots': 6898, 'tagged': 6899, 'hdd': 6900, 'casing': 6901, 'opened': 6902, 'describe': 6903, '09053750005': 6904, '310303': 6905, '08718725756': 6906, '140ppm': 6907, 'asus': 6908, 'reformat': 6909, 'plumbers': 6910, 'wrench': 6911, 'bcum': 6912, 'appeal': 6913, 'thriller': 6914, 'director': 6915, 'elephant': 6916, 'shove': 6917, 'um': 6918, 'cr': 6919, 'pookie': 6920, 'nri': 6921, '08712101358': 6922, 'x2': 6923, 'deserve': 6924, 'diddy': 6925, 'neighbor': 6926, 'toothpaste': 6927, 'poking': 6928, 'coccooning': 6929, 'mus': 6930, 'newquay': 6931, '1im': 6932, 'talkin': 6933, 'windy': 6934, '09066358361': 6935, 'y87': 6936, 'tirunelvai': 6937, 'dusk': 6938, 'puzzles': 6939, 'x29': 6940, '09065989180': 6941, 'stairs': 6942, 'phews': 6943, 'luvs': 6944, 'recycling': 6945, 'earning': 6946, 'toledo': 6947, 'tai': 6948, 'feng': 6949, 'reservations': 6950, 'swimsuit': 6951, 'squeeeeeze': 6952, 'frndshp': 6953, 'luvd': 6954, 'volcanoes': 6955, 'erupt': 6956, 'arise': 6957, 'hurricanes': 6958, 'sway': 6959, 'aroundn': 6960, 'disasters': 6961, 'lighters': 6962, 'lasagna': 6963, 'chickened': 6964, 'woould': 6965, '08718726978': 6966, '44': 6967, '7732584351': 6968, 'raviyog': 6969, 'peripherals': 6970, 'bhayandar': 6971, 'sunoco': 6972, 'musical': 6973, 'plate': 6974, 'leftovers': 6975, 'starving': 6976, 'fatty': 6977, 'badrith': 6978, 'owe': 6979, 'checkin': 6980, 'armenia': 6981, 'swann': 6982, '09058097189': 6983, '330': 6984, '1120': 6985, '1205': 6986, 'justify': 6987, 'hunt': 6988, '5226': 6989, 'hava': 6990, '1131': 6991, \"rct'\": 6992, 'thnq': 6993, 'adrian': 6994, 'vatian': 6995, 'everyones': 6996, 'babysitting': 6997, \"it'll\": 6998, 'gonnamissu': 6999, 'buttheres': 7000, 'aboutas': 7001, 'merememberin': 7002, 'asthere': 7003, 'ofsi': 7004, 'breakin': 7005, 'yaxx': 7006, 'poortiyagi': 7007, 'odalebeku': 7008, 'hanumanji': 7009, 'hanuman': 7010, 'bajarangabali': 7011, 'maruti': 7012, 'pavanaputra': 7013, 'sankatmochan': 7014, 'ramaduth': 7015, 'mahaveer': 7016, 'janarige': 7017, 'ivatte': 7018, 'kalisidare': 7019, 'olage': 7020, 'ondu': 7021, 'keluviri': 7022, 'maretare': 7023, 'inde': 7024, 'dodda': 7025, 'problum': 7026, 'nalli': 7027, 'siguviri': 7028, 'idu': 7029, 'matra': 7030, 'neglet': 7031, 'ijust': 7032, 'talked': 7033, 'opps': 7034, \"tt's\": 7035, 'gei': 7036, 'tron': 7037, 'dl': 7038, 'spiffing': 7039, 'workage': 7040, 'craving': 7041, 'supose': 7042, 'babysit': 7043, 'spaces': 7044, 'embassy': 7045, 'lightly': 7046, 'checkboxes': 7047, 'batsman': 7048, \"yetty's\": 7049, '09050000928': 7050, 'reverse': 7051, 'cheating': 7052, 'mathematics': 7053, 'emailed': 7054, 'yifeng': 7055, \"they'll\": 7056, 'slurp': 7057, '3miles': 7058, 'ing': 7059, 'brainless': 7060, 'doll': 7061, 'vehicle': 7062, 'sariyag': 7063, 'madoke': 7064, 'barolla': 7065, '07090201529': 7066, 'postponed': 7067, 'stocked': 7068, 'tiime': 7069, 'tears': 7070, 'afternon': 7071, 'interviews': 7072, 'resizing': 7073, '09066364349': 7074, 'box434sk38wp150ppm18': 7075, 'opposed': 7076, 'shortcode': 7077, '83332': 7078, '08081263000': 7079, 'refunded': 7080, 'somerset': 7081, 'overtime': 7082, 'nigpun': 7083, 'dismissial': 7084, 'screwd': 7085, '08712402972': 7086, 'bull': 7087, 'floating': 7088, '09058095201': 7089, 'heehee': 7090, 'arithmetic': 7091, 'percentages': 7092, \"'an\": 7093, \"quote''\": 7094, 'chillaxin': 7095, 'das': 7096, 'iknow': 7097, 'wellda': 7098, 'peril': 7099, 'studentfinancial': 7100, 'monster': 7101, 'ias': 7102, 'obey': 7103, 'uhhhhrmm': 7104, '600': 7105, '400': 7106, 'deltomorrow': 7107, '09066368470': 7108, '24m': 7109, 'smartcall': 7110, '68866': 7111, 'subscriptn3gbp': 7112, '08448714184': 7113, 'landlineonly': 7114, 'å£s': 7115, 'orno': 7116, 'fink': 7117, '09099726553': 7118, 'promised': 7119, 'carlie': 7120, 'minmobsmore': 7121, 'lkpobox177hp51fl': 7122, 'youphone': 7123, 'athome': 7124, 'youwanna': 7125, 'jack': 7126, 'helpful': 7127, 'pretend': 7128, 'hypotheticalhuagauahahuagahyuhagga': 7129, 'brainy': 7130, 'occasion': 7131, 'celebrated': 7132, 'reflection': 7133, 'values': 7134, 'affections': 7135, 'traditions': 7136, 'cantdo': 7137, 'anythingtomorrow': 7138, 'myparents': 7139, 'aretaking': 7140, 'outfor': 7141, 'katexxx': 7142, 'level': 7143, 'gate': 7144, '89105': 7145, 'lingerie': 7146, 'bridal': 7147, 'petticoatdreams': 7148, 'weddingfriend': 7149, 'board': 7150, 'overheating': 7151, 'reslove': 7152, 'inst': 7153, \"8'o\": 7154, 'western': 7155, 'notixiquating': 7156, 'laxinorficated': 7157, 'bambling': 7158, 'entropication': 7159, 'oblisingately': 7160, 'opted': 7161, 'masteriastering': 7162, 'amplikater': 7163, 'fidalfication': 7164, 'champlaxigating': 7165, 'atrocious': 7166, 'wotz': 7167, 'junna': 7168, 'knickers': 7169, '01223585236': 7170, 'nikiyu4': 7171, 'a30': 7172, 'divert': 7173, 'wadebridge': 7174, 'vill': 7175, 'orc': 7176, '447797706009': 7177, 'careers': 7178, 'seeking': 7179, \"wherre's\": 7180, 'phone750': 7181, 'resolution': 7182, 'frank': 7183, 'logoff': 7184, 'parkin': 7185, 'asa': 7186, '09050000878': 7187, 'wan2': 7188, 'westlife': 7189, 'm8': 7190, 'unbreakable': 7191, 'untamed': 7192, 'unkempt': 7193, '83049': 7194, 'charming': 7195, 'mention': 7196, 'served': 7197, 'arnt': 7198, 'xxxxxxxxxxxxxx': 7199, 'dorothy': 7200, 'kiefer': 7201, 'alle': 7202, 'mone': 7203, 'eppolum': 7204, 'allalo': 7205, 'fundamentals': 7206, '1mega': 7207, 'pixels': 7208, '3optical': 7209, '5digital': 7210, 'dooms': 7211, 'noiåõm': 7212, 'js': 7213, 'burgundy': 7214, 'captaining': 7215, 'amrita': 7216, 'profile': 7217, 'bpo': 7218, 'nighters': 7219, 'persevered': 7220, 'regretted': 7221, 'wasnåõt': 7222, 'spouse': 7223, 'pmt': 7224, '4give': 7225, 'shldxxxx': 7226, \"that'd\": 7227, 'scenario': 7228, 'spun': 7229, 'wrld': 7230, '09071517866': 7231, '150ppmpobox10183bhamb64xe': 7232, 'pounded': 7233, 'broadband': 7234, 'installation': 7235, 'tensed': 7236, 'coughing': 7237, 'warned': 7238, 'sprint': 7239, 'gower': 7240, 'åômorrow': 7241, 'chik': 7242, \"100's\": 7243, 'filth': 7244, 'saristar': 7245, 'e14': 7246, '9yt': 7247, '08701752560': 7248, '450p': 7249, 'stop2': 7250, '420': 7251, '9061100010': 7252, 'wire3': 7253, '1st4terms': 7254, 'mobcudb': 7255, 'sabarish': 7256, 'jaya': 7257, '09050000460': 7258, 'j89': 7259, 'box245c2150pm': 7260, 'inpersonation': 7261, 'flea': 7262, 'banneduk': 7263, 'highest': 7264, 'å£54': 7265, 'maximum': 7266, 'å£71': 7267, \"ny's\": 7268, 'taj': 7269, 'lesser': 7270, 'known': 7271, 'facts': 7272, \"shahjahan's\": 7273, 'wifes': 7274, 'shahjahan': 7275, 'arises': 7276, 'hari': 7277, \"valentine's\": 7278, '69101': 7279, 'rtf': 7280, 'sphosting': 7281, 'webadres': 7282, 'geting': 7283, 'incredible': 7284, 'o2fwd': 7285, '18p': 7286, 'maturity': 7287, 'passport': 7288, 'multiply': 7289, 'independently': 7290, 'showed': 7291, 'twins': 7292, 'strt': 7293, 'ltdhelpdesk': 7294, '02085076972': 7295, 'equally': 7296, 'uneventful': 7297, 'pesky': 7298, 'cyclists': 7299, 'adi': 7300, 'entey': 7301, 'nattil': 7302, 'kittum': 7303, 'kavalan': 7304, 'hire': 7305, 'hitman': 7306, '09066660100': 7307, '2309': 7308, 'cps': 7309, 'outages': 7310, 'conserve': 7311, 'voted': 7312, 'epi': 7313, 'bare': 7314, 'bhaskar': 7315, 'gong': 7316, 'kaypoh': 7317, 'basketball': 7318, 'outdoors': 7319, 'interfued': 7320, 'listed': 7321, 'apology': 7322, 'hustle': 7323, 'forth': 7324, 'harlem': 7325, 'workout': 7326, 'fats': 7327, 'zac': 7328, 'tonights': 7329, 'hui': 7330, 'xin': 7331, 'versus': 7332, 'underdtand': 7333, 'muchxxlove': 7334, 'locaxx': 7335, '07090298926': 7336, '9307622': 7337, 'skateboarding': 7338, 'thrown': 7339, 'winds': 7340, 'bandages': 7341, 'html': 7342, 'gbp4': 7343, 'mfl': 7344, 'hectic': 7345, 'wamma': 7346, 'doggin': 7347, 'dogs': 7348, 'virtual': 7349, 'apnt': 7350, 'pants': 7351, 'go2sri': 7352, 'lanka': 7353, 'merely': 7354, 'relationship': 7355, 'wherevr': 7356, 'gudnyt': 7357, 'plum': 7358, 'smacks': 7359, '50s': 7360, 'alot': 7361, 'formatting': 7362, 'attracts': 7363, 'promotion': 7364, '8714714': 7365, 'lancaster': 7366, 'neway': 7367, 'couldnåõt': 7368, 'soc': 7369, 'bsn': 7370, 'advising': 7371, 'lobby': 7372, 'showered': 7373, \"er'ything\": 7374, 'lubly': 7375, '087147123779am': 7376, 'catches': 7377, 'specify': 7378, 'domain': 7379, 'nusstu': 7380, 'bari': 7381, 'hudgi': 7382, 'yorge': 7383, 'pataistha': 7384, 'ertini': 7385, 'hasbro': 7386, 'jump': 7387, 'hoops': 7388, 'ummifying': 7389, 'associate': 7390, 'rip': 7391, 'uterus': 7392, 'jacuzzi': 7393, 'txtstar': 7394, '2nights': 7395, 'uve': 7396, 'wildest': 7397, 'aldrine': 7398, 'rtm': 7399, 'sources': 7400, 'unhappiness': 7401, 'necesity': 7402, 'witout': 7403, \"hw'd\": 7404, 'colleg': 7405, \"wat'll\": 7406, 'wth': 7407, 'functions': 7408, 'events': 7409, \"espe'll\": 7410, 'irritated': 7411, '4wrd': 7412, 'wthout': 7413, 'takecare': 7414, 'univ': 7415, 'rajas': 7416, 'burrito': 7417, 'disconnect': 7418, \"'terrorist'\": 7419, 'confirmd': 7420, 'verified': 7421, 'cnn': 7422, 'ibn': 7423, 'stitch': 7424, 'trouser': 7425, '146tf150p': 7426, 'cheetos': 7427, 'synced': 7428, 'shangela': 7429, 'hppnss': 7430, 'sorrow': 7431, 'goodfriend': 7432, 'passes': 7433, '08704439680': 7434, 'poo': 7435, 'gloucesterroad': 7436, 'uup': 7437, 'ouch': 7438, 'forgiveness': 7439, 'glo': 7440, '09058095107': 7441, 's3xy': 7442, 'wlcome': 7443, 'timi': 7444, 'mila': 7445, 'age23': 7446, 'blonde': 7447, 'mtalk': 7448, '69866': 7449, '30pp': 7450, '5free': 7451, 'increments': 7452, 'help08718728876': 7453, 'fishrman': 7454, 'sack': 7455, 'strtd': 7456, 'throwin': 7457, '1stone': 7458, \"mrng''\": 7459, '08717895698': 7460, 'mobstorequiz10ppm': 7461, 'physics': 7462, 'praveesh': 7463, 'delicious': 7464, 'salad': 7465, 'beers': 7466, 'whore': 7467, 'funk': 7468, 'tones2u': 7469, 'twinks': 7470, 'scallies': 7471, 'skins': 7472, 'jocks': 7473, '08712466669': 7474, 'flood': 7475, 'beads': 7476, 'wishlist': 7477, 'section': 7478, 'nitro': 7479, \"'need'\": 7480, \"'comfort'\": 7481, \"'luxury'\": 7482, 'sold': 7483, \"armand's\": 7484, 'creative': 7485, 'reffering': 7486, 'getiing': 7487, 'weirdy': 7488, 'brownies': 7489, '09061701851': 7490, 'k61': 7491, '12hours': 7492, 'restrict': 7493, 'audrey': 7494, '74355': 7495, 'greece': 7496, 'protect': 7497, 'sib': 7498, 'sensitive': 7499, 'passwords': 7500, 'recorded': 7501, 'someday': 7502, 'grandfather': 7503, 'november': 7504, '09061104276': 7505, 'costå£3': 7506, '75max': 7507, 'yuou': 7508, 'spot': 7509, 'bunch': 7510, 'lotto': 7511, 'purchases': 7512, 'authorise': 7513, '45pm': 7514, 'gimmi': 7515, 'goss': 7516, 'ystrday': 7517, 'chile': 7518, 'subletting': 7519, 'ammae': 7520, 'steering': 7521, \"anything's\": 7522, 'sleeps': 7523, 'rounder': 7524, 'required': 7525, 'lambu': 7526, 'ji': 7527, 'batchlor': 7528, 'zoom': 7529, '62220cncl': 7530, 'stopcs': 7531, '08717890890å£1': 7532, 'åòharry': 7533, '1b6a5ecef91ff9': 7534, '37819': 7535, 'true18': 7536, '0430': 7537, 'jul': 7538, 'xafter': 7539, 'cst': 7540, 'chg': 7541, 'pure': 7542, 'hearted': 7543, 'enemies': 7544, 'smiley': 7545, 'gail': 7546, 'l8tr': 7547, 'yaxxx': 7548, 'theoretically': 7549, 'hooked': 7550, 'formally': 7551, 'multimedia': 7552, 'vague': 7553, 'accounting': 7554, 'delayed': 7555, 'housing': 7556, 'agency': 7557, 'renting': 7558, 'presents': 7559, 'nicky': 7560, \"gumby's\": 7561, 'alto18': 7562, '44345': 7563, 'sized': 7564, 'tarpon': 7565, 'springs': 7566, 'cab': 7567, 'steps': 7568, 'limited': 7569, 'hf8': 7570, '08719181259': 7571, 'radiator': 7572, 'proper': 7573, 'tongued': 7574, 'shorts': 7575, 'qi': 7576, 'suddenly': 7577, 'flurries': 7578, 'real1': 7579, 'pushbutton': 7580, 'dontcha': 7581, 'babygoodbye': 7582, 'golddigger': 7583, 'webeburnin': 7584, 'perform': 7585, 'cards': 7586, 'rebooting': 7587, 'nigh': 7588, 'nooooooo': 7589, 'cable': 7590, 'outage': 7591, 'sos': 7592, 'playin': 7593, 'guoyang': 7594, 'rahul': 7595, 'dengra': 7596, 'antelope': 7597, 'toplay': 7598, 'fieldof': 7599, 'selfindependence': 7600, 'contention': 7601, 'gnarls': 7602, 'barkleys': 7603, 'borderline': 7604, '545': 7605, 'nightnight': 7606, 'possibility': 7607, 'grooved': 7608, 'mising': 7609, 'secured': 7610, 'unsecured': 7611, '195': 7612, '6669': 7613, 'lanre': 7614, \"fakeye's\": 7615, 'eckankar': 7616, '3000': 7617, 'degrees': 7618, 'dodgey': 7619, 'seing': 7620, 'asssssholeeee': 7621, 'ceri': 7622, 'rebel': 7623, 'dreamz': 7624, 'buddy': 7625, 'blokes': 7626, '84484': 7627, 'nationwide': 7628, 'newport': 7629, 'juliana': 7630, 'nachos': 7631, 'dizzamn': 7632, 'suitemates': 7633, 'nimbomsons': 7634, 'continent': 7635, 'housewives': 7636, '0871750': 7637, '77': 7638, 'landlines': 7639, '087104711148': 7640, 'emerging': 7641, 'fiend': 7642, 'impede': 7643, 'hesitant': 7644, '60': 7645, '400thousad': 7646, 'nose': 7647, 'essay': 7648, 'tram': 7649, 'vic': 7650, 'coherently': 7651, 'triple': 7652, 'echo': 7653, 'gran': 7654, 'onlyfound': 7655, 'afew': 7656, 'cusoon': 7657, 'honi': 7658, 'bx526': 7659, 'southern': 7660, 'rayan': 7661, 'macleran': 7662, 'balls': 7663, 'olave': 7664, 'mandara': 7665, 'trishul': 7666, 'woo': 7667, 'hoo': 7668, 'panties': 7669, 'thout': 7670, '09066364311': 7671, 'flatter': 7672, 'pints': 7673, 'carlin': 7674, 'ciao': 7675, 'starve': 7676, 'impression': 7677, 'motivate': 7678, 'darkness': 7679, 'wknd': 7680, 'yalrigu': 7681, 'heltini': 7682, 'iyo': 7683, 'shared': 7684, 'uttered': 7685, 'trusting': 7686, 'noice': 7687, 'esaplanade': 7688, 'accessible': 7689, '08709501522': 7690, '139': 7691, 'la3': 7692, '2wu': 7693, 'occurs': 7694, 'enna': 7695, 'kalaachutaarama': 7696, 'coco': 7697, 'sporadically': 7698, '09064017305': 7699, 'pobox75ldns7': 7700, 'tbs': 7701, 'persolvo': 7702, 'forå£38': 7703, 'kath': 7704, 'manchester': 7705, 'youåõre': 7706, 'burden': 7707, 'noworriesloans': 7708, '08717111821': 7709, 'harder': 7710, 'nbme': 7711, 'sickness': 7712, 'villa': 7713, 'gam': 7714, 'smash': 7715, 'religiously': 7716, 'heroes': 7717, 'tips': 7718, '07973788240': 7719, '08715203649': 7720, 'muhommad': 7721, 'penny': 7722, 'fiting': 7723, 'load': 7724, 'mj': 7725, 'unconvinced': 7726, 'elaborate': 7727, 'willpower': 7728, 'absence': 7729, 'answerin': 7730, 'åè10': 7731, 'evey': 7732, 'prin': 7733, 'gsoh': 7734, 'spam': 7735, 'gigolo': 7736, 'mens': 7737, 'oncall': 7738, 'mjzgroup': 7739, '08714342399': 7740, '50rcvd': 7741, 'ashwini': 7742, '08707500020': 7743, 'ukp': 7744, '09061790125': 7745, 'thet': 7746, 'skinny': 7747, 'casting': 7748, 'elections': 7749, 'shouldn\\x89û÷t': 7750, '116': 7751, 'hlday': 7752, 'camp': 7753, 'amrca': 7754, 'serena': 7755, 'prescribed': 7756, 'meatballs': 7757, 'approve': 7758, 'panalam': 7759, 'spjanuary': 7760, 'fortune': 7761, 'allday': 7762, 'perf': 7763, 'outsider': 7764, 'receipts\\x89ûówell': 7765, 'what\\x89û÷s': 7766, '98321561': 7767, 'familiar': 7768, 'depression': 7769, 'infact': 7770, 'simpsons': 7771, 'band': 7772, 'canåõt': 7773, 'isnåõt': 7774, 'shite': 7775, 'kip': 7776, 'hont': 7777, 'amanda': 7778, 'regard': 7779, 'renewing': 7780, 'upgrading': 7781, 'subject': 7782, 'nannys': 7783, 'puts': 7784, 'perspective': 7785, 'conveying': 7786, 'debating': 7787, 'wtlp': 7788, 'jb': 7789, \"joke's\": 7790, 'florida': 7791, 'hidden': 7792, 'teams': 7793, 'swhrt': 7794, '0906346330': 7795, '47': 7796, 'po19': 7797, '2ez': 7798, 'general': 7799, 'jetton': 7800, 'cmon': 7801, 'replies': 7802, 'dealer': 7803, 'lunsford': 7804, 'enjoying': 7805, '0796xxxxxx': 7806, 'prizeawaiting': 7807, 'kfc': 7808, 'meals': 7809, 'gravy': 7810, '07008009200': 7811, 'attended': 7812, 'mw': 7813, 'tuth': 7814, \"mine's\": 7815, 'eviction': 7816, 'spiral': 7817, 'michael': 7818, 'riddance': 7819, 'suffers': 7820, 'raglan': 7821, 'edward': 7822, 'cricket': 7823, 'closeby': 7824, 'skye': 7825, 'bookedthe': 7826, 'hut': 7827, 'drastic': 7828, '3750': 7829, 'garments': 7830, 'sez': 7831, 'arab': 7832, 'evry1': 7833, 'eshxxxxxxxxxxx': 7834, 'lay': 7835, 'bimbo': 7836, \"ugo's\": 7837, '3lions': 7838, 'portege': 7839, 'm100': 7840, 'semiobscure': 7841, 'gprs': 7842, 'loosu': 7843, 'careless': 7844, 'freaking': 7845, 'myspace': 7846, 'logged': 7847, \"partner's\": 7848, 'method': 7849, 'jewelry': 7850, 'breaker': 7851, 'deluxe': 7852, 'features': 7853, 'graphics': 7854, 'bbdeluxe': 7855, 'fumbling': 7856, 'stone': 7857, 'weekdays': 7858, 'nails': 7859, \"nobody's\": 7860, 'asia': 7861, 'greatest': 7862, 'courage': 7863, 'bear': 7864, 'defeat': 7865, 'stil': 7866, 'tobed': 7867, '430': 7868, 'natalja': 7869, 'nat27081980': 7870, 'asthma': 7871, 'attack': 7872, 'ball': 7873, 'spin': 7874, 'haiyoh': 7875, 'million': 7876, \"aunty's\": 7877, 'prsn': 7878, 'saves': 7879, 'audiitions': 7880, 'relocate': 7881, 'pocked': 7882, 'motivating': 7883, 'brison': 7884, 'spelled': 7885, 'caps': 7886, 'bullshit': 7887, 'motherfucker': 7888, 'kit': 7889, 'strip': 7890, '1013': 7891, 'ig11': 7892, 'oja': 7893, '08712402578': 7894, 'thesmszone': 7895, 'anonymous': 7896, 'masked': 7897, 'abuse': 7898, 'woodland': 7899, 'avenue': 7900, 'parish': 7901, 'magazine': 7902, 'billy': 7903, 'awww': 7904, 'useless': 7905, 'loo': 7906, 'ed': 7907, 'shelf': 7908, 'swollen': 7909, 'glands': 7910, 'bcaz': 7911, 'stu': 7912, 'truble': 7913, 'evone': 7914, 'hates': 7915, 'view': 7916, 'gays': 7917, 'dual': 7918, 'hostile': 7919, 'haircut': 7920, 'breezy': 7921, '09061744553': 7922, 'polyh': 7923, '1apple': 7924, '1tulsi': 7925, 'leaf': 7926, '1lemon': 7927, '1cup': 7928, 'problms': 7929, 'litres': 7930, 'watr': 7931, 'diseases': 7932, 'snd': 7933, 'lavender': 7934, 'manky': 7935, 'scouse': 7936, 'travelling': 7937, 'inmind': 7938, 'recreation': 7939, 'mesages': 7940, 'judgemental': 7941, 'fridays': 7942, 'waheeda': 7943, 'bot': 7944, 'notes': 7945, 'eventually': 7946, 'tolerance': 7947, 'hits': 7948, '0789xxxxxxx': 7949, 'hellogorgeous': 7950, 'nitw': 7951, 'texd': 7952, 'hopeu': 7953, '4ward': 7954, 'jaz': 7955, '09058091870': 7956, 'exorcism': 7957, 'emily': 7958, 'emotion': 7959, 'prayrs': 7960, 'othrwise': 7961, 'ujhhhhhhh': 7962, 'sandiago': 7963, 'parantella': 7964, 'hugging': 7965, 'sweater': 7966, 'mango': 7967, 'involved': 7968, 'å£600': 7969, 'landmark': 7970, 'bob': 7971, 'barry': 7972, '83738': 7973, 'absolutly': 7974, 'consent': 7975, 'tonexs': 7976, 'renewed': 7977, 'clubzed': 7978, 'billing': 7979, 'can\\x89û÷t': 7980, 'mathews': 7981, 'tait': 7982, 'edwards': 7983, 'anderson': 7984, 'haunt': 7985, 'promoting': 7986, 'hex': 7987, 'crowd': 7988, '8000930705': 7989, 'snowboarding': 7990, 'christmassy': 7991, 'recpt': 7992, 'baaaaaaaabe': 7993, 'ignoring': 7994, 'shola': 7995, 'sagamu': 7996, 'lautech': 7997, 'vital': 7998, 'completes': 7999, 'education': 8000, 'zealand': 8001, 'qet': 8002, 'browser': 8003, 'surf': 8004, 'subscribers': 8005, 'conversations': 8006, 'senses': 8007, 'overemphasise': 8008, 'headset': 8009, 'adp': 8010, 'internal': 8011, 'extract': 8012, 'immed': 8013, 'skint': 8014, 'fancied': 8015, 'bevies': 8016, 'waz': 8017, 'othrs': 8018, 'spoon': 8019, 'watchng': 8020, 'comfey': 8021, 'quitting': 8022, 'least5times': 8023, \"wudn't\": 8024, \"ìï'll\": 8025, \"i'ma\": 8026, 'frequently': 8027, 'cupboard': 8028, 'route': 8029, '2mro': 8030, 'floppy': 8031, 'snappy': 8032, 'risk': 8033, 'grasp': 8034, 'flavour': 8035, 'laready': 8036, 'denying': 8037, 'dom': 8038, 'ffffuuuuuuu': 8039, 'julianaland': 8040, 'oblivious': 8041, 'dehydrated': 8042, 'mapquest': 8043, 'dogwood': 8044, 'archive': 8045, '08719839835': 8046, 'mgs': 8047, '89123': 8048, 'lengths': 8049, 'behalf': 8050, 'stunning': 8051, 'visa': 8052, 'gucci': 8053, \"shit's\": 8054, 'sozi': 8055, 'culdnt': 8056, 'talkbut': 8057, 'wannatell': 8058, 'wenwecan': 8059, 'smsing': 8060, 'efficient': 8061, '15pm': 8062, 'erutupalam': 8063, 'thandiyachu': 8064, 'invention': 8065, 'lyrics': 8066, 'nevr': 8067, 'unrecognized': 8068, 'somone': 8069, 'valuing': 8070, 'definitly': 8071, 'undrstnd': 8072, 'ger': 8073, 'toking': 8074, 'syd': 8075, 'khelate': 8076, 'kintu': 8077, 'opponenter': 8078, 'dhorte': 8079, 'lage': 8080, 'fried': 8081, 'spares': 8082, 'looovvve': 8083, 'warwick': 8084, 'tmw': 8085, 'canceled': 8086, \"havn't\": 8087, 'tops': 8088, 'grandma': 8089, 'parade': 8090, 'proze': 8091, 'norcorp': 8092, 'posting': 8093, '7cfca1a': 8094, 'grumble': 8095, 'linear': 8096, 'algebra': 8097, 'decorating': 8098, 'wining': 8099, '946': 8100, 'roomate': 8101, 'graduated': 8102, 'adjustable': 8103, 'cooperative': 8104, 'allows': 8105, 'nottingham': 8106, '63miles': 8107, '40mph': 8108, 'mornin': 8109, 'thanku': 8110, 'guessed': 8111, \"hubby's\": 8112, '89938': 8113, 'strings': 8114, '50ea': 8115, 'otbox': 8116, '731': 8117, 'la1': 8118, '7ws': 8119, 'beside': 8120, 'brisk': 8121, 'walks': 8122, 'sexiest': 8123, 'dirtiest': 8124, 'tellmiss': 8125, \"party's\": 8126, 'contribute': 8127, 'greatly': 8128, 'urgh': 8129, 'coach': 8130, 'smells': 8131, 'duvet': 8132, 'predictive': 8133, 'w8in': 8134, '4utxt': 8135, '24th': 8136, 'beverage': 8137, 'pist': 8138, 'surrender': 8139, 'symptoms': 8140, 'rdy': 8141, 'backwards': 8142, 'abstract': 8143, 'africa': 8144, 'avin': 8145, 'chit': 8146, 'logon': 8147, '8883': 8148, '4217': 8149, 'w1a': 8150, '6zf': 8151, '118p': 8152, 'quiteamuzing': 8153, 'thatåõscool': 8154, 'å£1000call': 8155, '09071512432': 8156, '300603t': 8157, 'callcost150ppmmobilesvary': 8158, 'rows': 8159, 'engagement': 8160, 'fixd': 8161, 'njan': 8162, 'vilikkam': 8163, 'sudn': 8164, 'maths': 8165, 'chapter': 8166, 'chop': 8167, 'noooooooo': 8168, '08718727870150ppm': 8169, 'firsg': 8170, 'split': 8171, 'wasnt': 8172, 'heat': 8173, 'applyed': 8174, 'sumfing': 8175, 'hiphop': 8176, 'oxygen': 8177, 'resort': 8178, 'roller': 8179, 'recorder': 8180, 'canname': 8181, 'australia': 8182, 'mquiz': 8183, 'showr': 8184, 'upon': 8185, 'ceiling': 8186, 'presnts': 8187, 'bcz': 8188, 'jeevithathile': 8189, 'irulinae': 8190, 'neekunna': 8191, 'prakasamanu': 8192, 'sneham': 8193, 'prakasam': 8194, 'ennal': 8195, \"'that\": 8196, 'mns': 8197, \"is'love'\": 8198, 'blowing': 8199, '7634': 8200, '7684': 8201, 'firmware': 8202, 'vijaykanth': 8203, 'anythiing': 8204, 'ripped': 8205, 'clubmoby': 8206, '08717509990': 8207, 'keypad': 8208, 'btwn': 8209, 'decades': 8210, 'goverment': 8211, 'expects': 8212, 'spice': 8213, 'prasanth': 8214, 'ettans': 8215, '08718738002': 8216, '48922': 8217, 'appy': 8218, 'fizz': 8219, 'contains': 8220, 'genus': 8221, 'robinson': 8222, 'outs': 8223, 'soz': 8224, 'imat': 8225, 'mums': 8226, 'sometext': 8227, '07099833605': 8228, '9280114': 8229, 'chloe': 8230, 'wewa': 8231, '130': 8232, 'iriver': 8233, '255': 8234, '128': 8235, 'bw': 8236, 'surly': 8237, '07808726822': 8238, '9758': 8239, 'mmmmmmm': 8240, 'snuggles': 8241, 'contented': 8242, 'whispers': 8243, 'healthy': 8244, '2bold': 8245, 'brother\\x89û÷s': 8246, 'scraped': 8247, 'barrel': 8248, 'misfits': 8249, 'sections': 8250, 'clearer': 8251, 'peach': 8252, 'tasts': 8253, 'rayman': 8254, 'golf': 8255, 'activ8': 8256, 'termsapply': 8257, \"there'll\": 8258, 'shindig': 8259, 'phonebook': 8260, 'rocking': 8261, 'ashes': 8262, \"xin's\": 8263, 'shijutta': 8264, 'offense': 8265, 'dvg': 8266, 'vinobanagar': 8267, 'ovulate': 8268, '3wks': 8269, 'woah': 8270, 'realising': 8271, 'orh': 8272, 'hides': 8273, 'secrets': 8274, 'n8': 8275, 'axel': 8276, 'akon': 8277, 'eyed': 8278, 'canteen': 8279, 'stressfull': 8280, 'adds': 8281, 'continued': 8282, 'president': 8283, '140': 8284, 'ìä': 8285, '180': 8286, 'pleasured': 8287, 'providing': 8288, 'assistance': 8289, 'whens': 8290, '1172': 8291, 'watever': 8292, 'built': 8293, 'lonlines': 8294, 'lotz': 8295, 'memories': 8296, 'gailxx': 8297, 'complacent': 8298, 'mina': 8299, 'miwa': 8300, '09066649731from': 8301, 'opposite': 8302, 'heavily': 8303, 'dolls': 8304, 'patrick': 8305, 'swayze': 8306, '09077818151': 8307, 'calls1': 8308, '50ppm': 8309, '30s': 8310, 'santacalling': 8311, 'quarter': 8312, 'fired': 8313, 'limping': 8314, 'aa': 8315, '078498': 8316, '08719180219': 8317, 'oga': 8318, 'poorly': 8319, 'punishment': 8320, 'brb': 8321, 'kill': 8322, 'predicte': 8323, 'situations': 8324, 'loosing': 8325, 'smaller': 8326, 'capacity': 8327, 'videos': 8328, 'shsex': 8329, 'netun': 8330, 'fgkslpopw': 8331, 'fgkslpo': 8332, '0871277810710p': 8333, 'defer': 8334, 'admission': 8335, 'checkmate': 8336, 'chess': 8337, 'persian': 8338, 'phrase': 8339, 'shah': 8340, 'maat': 8341, 'rats': 8342, 'themes': 8343, 'photoshop': 8344, 'manageable': 8345, '08715203652': 8346, '42810': 8347, 'ashley': 8348, 'increase': 8349, 'north': 8350, 'carolina': 8351, 'texas': 8352, 'gre': 8353, 'bomb': 8354, 'breathing': 8355, 'powerful': 8356, 'weapon': 8357, \"'heart'\": 8358, 'lovly': 8359, 'msgrcvd': 8360, 'customercare': 8361, 'clas': 8362, 'lit': 8363, 'loooooool': 8364, 'couch': 8365, 'rents': 8366, 'swashbuckling': 8367, 'terror': 8368, 'cruel': 8369, 'decent': 8370, 'joker': 8371, \"dip's\": 8372, 'gek1510': 8373, 'lyricalladie': 8374, 'hmmross': 8375, \"world's\": 8376, 'happiest': 8377, 'characters': 8378, 'differences': 8379, 'lists': 8380, \"tyler's\": 8381, 'antibiotic': 8382, 'abdomen': 8383, 'gynae': 8384, '6times': 8385, 'exposed': 8386, 'chastity': 8387, 'device': 8388, 'beatings': 8389, 'uses': 8390, 'gut': 8391, 'wrenching': 8392, \"fuck's\": 8393, 'tallahassee': 8394, 'ou': 8395, 'taka': 8396, 'pobox202': 8397, 'nr31': 8398, '7zs': 8399, '450pw': 8400, 'ritten': 8401, 'fold': 8402, '83118': 8403, 'colin': 8404, 'farrell': 8405, 'swat': 8406, 'mre': 8407, 'solihull': 8408, 'nhs': 8409, '2b': 8410, 'terminated': 8411, 'inconvenience': 8412, 'dentists': 8413, 'yards': 8414, 'bergkamp': 8415, 'margin': 8416, '78': 8417, \"it'snot\": 8418, \"child's\": 8419, 'unintentional': 8420, 'nonetheless': 8421, 'hooch': 8422, 'toaday': 8423, 'splat': 8424, 'grazed': 8425, 'knees': 8426, 'deny': 8427, 'hearin': 8428, 'yah': 8429, 'torture': 8430, 'hopeing': 8431, 'wasn\\x89û÷t': 8432, 'sisters': 8433, 'sexychat': 8434, 'lips': 8435, 'congratulation': 8436, 'court': 8437, 'chapel': 8438, 'frontierville': 8439, 'mountain': 8440, 'deer': 8441, 'mailed': 8442, 'varma': 8443, 'secure': 8444, 'parties': 8445, 'farting': 8446, 'ortxt': 8447, 'trained': 8448, 'advisors': 8449, 'dialling': 8450, '402': 8451, 'stuffing': 8452, 'ahhhh': 8453, 'experiencehttp': 8454, 'vouch4me': 8455, 'etlp': 8456, 'kaila': 8457, '09058094507': 8458, \"unicef's\": 8459, 'asian': 8460, 'tsunami': 8461, 'disaster': 8462, 'fund': 8463, '864233': 8464, 'hos': 8465, 'collapsed': 8466, 'cumming': 8467, 'jade': 8468, 'paul': 8469, 'barmed': 8470, 'thinkthis': 8471, 'dangerous': 8472, 'rushing': 8473, 'coulda': 8474, 'phony': 8475, 'okday': 8476, 'hmph': 8477, 'baller': 8478, 'punto': 8479, 'ayo': 8480, 'travelled': 8481, 'å£125': 8482, 'freeentry': 8483, 'xt': 8484, 'toyota': 8485, 'camry': 8486, \"olayiwola's\": 8487, 'mileage': 8488, 'landing': 8489, 'clover': 8490, 'achan': 8491, 'amma': 8492, \"'rencontre'\": 8493, 'mountains': 8494, '08714712412': 8495, 'nìâte': 8496, 'puppy': 8497, 'noise': 8498, 'meg': 8499, '08715203685': 8500, '4xx26': 8501, 'crossing': 8502, 'deepest': 8503, 'darkest': 8504, '09094646631': 8505, 'inconvenient': 8506, 'adsense': 8507, 'approved': 8508, 'dudette': 8509, 'perumbavoor': 8510, 'stage': 8511, 'clarify': 8512, 'preponed': 8513, 'natalie': 8514, 'natalie2k9': 8515, 'younger': 8516, '08701213186': 8517, 'liver': 8518, 'opener': 8519, 'guides': 8520, 'watched': 8521, 'loneliness': 8522, 'skyving': 8523, \"dad's\": 8524, 'onwords': 8525, 'mtnl': 8526, 'mumbai': 8527, '83039': 8528, '62735': 8529, 'å£450': 8530, 'accommodationvouchers': 8531, 'mustprovide': 8532, '15541': 8533, 'rajitha': 8534, 'ranju': 8535, 'styles': 8536, 'tscs08714740323': 8537, '1winawk': 8538, '50perweeksub': 8539, 'slp': 8540, 'muah': 8541, '09066361921': 8542, 'disagreeable': 8543, 'afterwards': 8544, 'uawake': 8545, 'feellikw': 8546, 'justfound': 8547, 'aletter': 8548, 'thatmum': 8549, 'gotmarried': 8550, '4thnov': 8551, 'ourbacks': 8552, 'fuckinnice': 8553, 'rearrange': 8554, 'dormitory': 8555, 'astronomer': 8556, 'starer': 8557, 'election': 8558, 'recount': 8559, 'hitler': 8560, 'eleven': 8561, 'worms': 8562, 'suffering': 8563, 'dysentry': 8564, 'andre': 8565, \"virgil's\": 8566, 'gokila': 8567, 'shanil': 8568, 'exchanged': 8569, 'uncut': 8570, 'diamond': 8571, 'dino': 8572, 'kotees': 8573, 'panther': 8574, 'sugababes': 8575, 'zebra': 8576, 'animation': 8577, 'badass': 8578, 'hoody': 8579, 'resent': 8580, 'queries': 8581, 'customersqueries': 8582, 'netvision': 8583, 'hassling': 8584, 'andres': 8585, 'haughaighgtujhyguj': 8586, 'fassyole': 8587, 'blacko': 8588, 'londn': 8589, 'responsibilities': 8590, '08715205273': 8591, 'vco': 8592, 'humanities': 8593, 'reassurance': 8594, 'aslamalaikkum': 8595, 'tohar': 8596, 'beeen': 8597, 'muht': 8598, 'albi': 8599, 'mufti': 8600, 'mahfuuz': 8601, '078': 8602, 'enufcredeit': 8603, 'tocall': 8604, 'ileave': 8605, 'treats': 8606, 'okors': 8607, 'ibored': 8608, 'adding': 8609, 'zeros': 8610, 'savings': 8611, 'goigng': 8612, 'perfume': 8613, 'sday': 8614, 'grocers': 8615, 'pubs': 8616, 'frankie': 8617, 'bennys': 8618, 'changing': 8619, 'diapers': 8620, 'owed': 8621, 'unlike': 8622, 'patients': 8623, 'turkeys': 8624, 'helens': 8625, 'princes': 8626, 'unintentionally': 8627, 'garden': 8628, 'bulbs': 8629, 'seeds': 8630, 'scotsman': 8631, 'go2': 8632, 'notxt': 8633, 'wenever': 8634, 'stability': 8635, 'tranquility': 8636, 'vibrant': 8637, 'colourful': 8638, 'bawling': 8639, 'failure': 8640, 'failing': 8641, 'velusamy': 8642, \"sir's\": 8643, 'facilities': 8644, 'karnan': 8645, 'bluray': 8646, 'i\\x89û÷ve': 8647, 'salt': 8648, 'wounds': 8649, 'logging': 8650, 'geoenvironmental': 8651, 'implications': 8652, 'fuuuuck': 8653, 'salmon': 8654, 'uploaded': 8655, 'wrkin': 8656, 'ree': 8657, 'compensation': 8658, 'awkward': 8659, 'splash': 8660, 'leg': 8661, 'musta': 8662, 'overdid': 8663, 'telediscount': 8664, 'gastroenteritis': 8665, 'replace': 8666, 'reduce': 8667, 'limiting': 8668, 'illness': 8669, 'foned': 8670, 'chuck': 8671, 'port': 8672, 'stuffs': 8673, 'juswoke': 8674, 'boatin': 8675, 'docks': 8676, 'spinout': 8677, '08715203656': 8678, '42049': 8679, 'uworld': 8680, 'qbank': 8681, 'assessment': 8682, 'someonone': 8683, '09064015307': 8684, 'tke': 8685, 'temales': 8686, 'finishd': 8687, 'dull': 8688, 'studies': 8689, 'anyones': 8690, 'treadmill': 8691, 'craigslist': 8692, 'absolutely': 8693, 'swan': 8694, 'lamp': 8695, 'foward': 8696, '09061790126': 8697, 'misundrstud': 8698, '2u2': 8699, 'genes': 8700, 'com1win150ppmx3age16subscription': 8701, 'resuming': 8702, 'reapply': 8703, \"treatin'\": 8704, 'treacle': 8705, 'mumhas': 8706, 'beendropping': 8707, 'theplace': 8708, 'adress': 8709, 'oyster': 8710, 'sashimi': 8711, 'rumbling': 8712, 'marandratha': 8713, 'correctly': 8714, 'alaikkum': 8715, 'heaven': 8716, 'pisces': 8717, 'aquarius': 8718, '2yrs': 8719, 'steyn': 8720, 'wicket': 8721, 'sterm': 8722, 'resolved': 8723, 'jam': 8724, 'hannaford': 8725, 'wheat': 8726, 'chex': 8727, 'grownup': 8728, 'costume': 8729, 'jerk': 8730, 'stink': 8731, 'follows': 8732, 'subsequent': 8733, 'openings': 8734, 'upcharge': 8735, 'guai': 8736, 'astrology': 8737, \"ryan's\": 8738, 'slacking': 8739, 'mentor': 8740, 'percent': 8741, '09095350301': 8742, 'erotic': 8743, 'ecstacy': 8744, 'dept': 8745, '08717507382': 8746, 'coincidence': 8747, 'sane': 8748, 'helping': 8749, 'leading': 8750, '151': 8751, 'pause': 8752, '8800': 8753, 'psp': 8754, 'spacebucks': 8755, \"weather's\": 8756, '083': 8757, '6089': 8758, 'squeezed': 8759, 'maintaining': 8760, 'dreading': 8761, 'thou': 8762, 'suggestion': 8763, 'lands': 8764, 'helps': 8765, 'forgt': 8766, 'ajith': 8767, 'ooooooh': 8768, 'yoville': 8769, 'asda': 8770, 'counts': 8771, 'officer': 8772, 'bffs': 8773, 'carly': 8774, 'seperated': 8775, '\\x8eö´\\x89ó': 8776, '\\x8bû¬ud': 8777, 'brolly': 8778, 'franxx': 8779, 'prometazine': 8780, 'syrup': 8781, '5mls': 8782, 'feed': 8783, 'singapore': 8784, 'victoria': 8785, 'pocay': 8786, 'wocay': 8787, '2morrowxxxx': 8788, 'broth': 8789, 'ramen': 8790, 'fowler': 8791, 'tats': 8792, 'flew': 8793, '09058094583': 8794, 'attention': 8795, 'tix': 8796, \"biola's\": 8797, 'fne': 8798, 'youdoing': 8799, 'worc': 8800, 'foregate': 8801, 'shrub': 8802, 'get4an18th': 8803, '32000': 8804, 'legitimat': 8805, 'efreefone': 8806, 'receipts': 8807, 'pendent': 8808, 'toilet': 8809, 'stolen': 8810, 'cops': 8811, 'hu': 8812, 'navigate': 8813, 'choosing': 8814, 'require': 8815, 'guidance': 8816, 'chick': 8817, 'boobs': 8818, 'revealing': 8819, 'sparkling': 8820, 'breaks': 8821, '45': 8822, '0121': 8823, '2025050': 8824, 'shortbreaks': 8825, 'org': 8826, 'gyno': 8827, 'belong': 8828, 'gamb': 8829, 'treasure': 8830, '820554ad0a1705572711': 8831, 'trueåác': 8832, 'ringtoneåá': 8833, '09050000332': 8834, \"mummy's\": 8835, 'positive': 8836, 'negative': 8837, 'hmmmm': 8838, 'command': 8839, 'stressful': 8840, 'holby': 8841, '09064017295': 8842, 'li': 8843, 'lecturer': 8844, 'repeating': 8845, 'yeovil': 8846, 'motor': 8847, 'max': 8848, 'rhode': 8849, 'bong': 8850, 'ofcourse': 8851, '08448350055': 8852, 'planettalkinstant': 8853, 'marvel': 8854, 'ultimate': 8855, '83338': 8856, '8ball': 8857, 'tamilnadu': 8858, 'tip': 8859, '07808247860': 8860, '08719899229': 8861, '40411': 8862, 'identification': 8863, 'limit': 8864, 'boundaries': 8865, 'endless': 8866, 'reassuring': 8867, 'young': 8868, 'referin': 8869, \"mei's\": 8870, 'saibaba': 8871, 'colany': 8872, 'chic': 8873, 'declare': 8874, '49557': 8875, 'disappointment': 8876, 'irritation': 8877, \"tantrum's\": 8878, 'compliments': 8879, 'adventuring': 8880, 'chief': 8881, 'gsex': 8882, '2667': 8883, 'wc1n': 8884, '3xx': 8885, '3mobile': 8886, 'chatlines': 8887, 'inclu': 8888, 'servs': 8889, 'l8er': 8890, 'bailiff': 8891, 'mouse': 8892, 'desk': 8893, 'childporn': 8894, 'jumpers': 8895, 'hat': 8896, 'belt': 8897, 'cribbs': 8898, 'spiritual': 8899, 'barring': 8900, 'sudden': 8901, 'influx': 8902, 'kane': 8903, 'shud': 8904, 'pshew': 8905, 'units': 8906, 'accent': 8907, '4years': 8908, 'dental': 8909, 'nmde': 8910, 'dump': 8911, 'heap': 8912, 'lowes': 8913, 'salesman': 8914, 'å£750': 8915, '087187272008': 8916, 'now1': 8917, 'pity': 8918, 'suggestions': 8919, 'bitching': 8920}\n"
     ]
    }
   ],
   "source": [
    "# 각 정수에 어떤 단어가 부여되었는지 확인\n",
    "word_to_index = tokenizer.word_index\n",
    "print(word_to_index)"
   ]
  },
  {
   "cell_type": "code",
   "execution_count": 242,
   "metadata": {},
   "outputs": [
    {
     "name": "stdout",
     "output_type": "stream",
     "text": [
      "등장 빈도가 1번 이하인 희귀 단어의 수: 4908\n",
      "단어 집합(vocabulary)에서 희귀 단어의 비율: 55.02242152466368\n",
      "전체 등장 빈도에서 희귀 단어 등장 빈도 비율: 6.082538108811501\n"
     ]
    }
   ],
   "source": [
    "threshold = 2\n",
    "total_cnt = len(word_to_index) # 단어의 수\n",
    "rare_cnt = 0 # 등장 빈도수가 threshold보다 작은 단어의 개수를 카운트\n",
    "total_freq = 0 # 훈련 데이터의 전체 단어 빈도수 총 합\n",
    "rare_freq = 0 # 등장 빈도수가 threshold보다 작은 단어의 등장 빈도수의 총 합\n",
    "\n",
    "# 단어와 빈도수의 쌍(pair)을 key와 value로 받는다.\n",
    "for key, value in tokenizer.word_counts.items():\n",
    "    total_freq = total_freq + value\n",
    "\n",
    "    # 단어의 등장 빈도수가 threshold보다 작으면\n",
    "    if(value < threshold):\n",
    "        rare_cnt = rare_cnt + 1\n",
    "        rare_freq = rare_freq + value\n",
    "\n",
    "print('등장 빈도가 %s번 이하인 희귀 단어의 수: %s'%(threshold - 1, rare_cnt))\n",
    "print(\"단어 집합(vocabulary)에서 희귀 단어의 비율:\", (rare_cnt / total_cnt)*100)\n",
    "print(\"전체 등장 빈도에서 희귀 단어 등장 빈도 비율:\", (rare_freq / total_freq)*100)"
   ]
  },
  {
   "cell_type": "code",
   "execution_count": 243,
   "metadata": {},
   "outputs": [
    {
     "name": "stdout",
     "output_type": "stream",
     "text": [
      "단어 집합의 크기: 8921\n"
     ]
    }
   ],
   "source": [
    "vocab_size = len(word_to_index) + 1\n",
    "print('단어 집합의 크기: {}'.format((vocab_size)))"
   ]
  },
  {
   "cell_type": "code",
   "execution_count": 245,
   "metadata": {},
   "outputs": [
    {
     "name": "stdout",
     "output_type": "stream",
     "text": [
      "훈련 데이터의 개수 : 4135\n",
      "테스트 데이터의 개수: 1034\n"
     ]
    }
   ],
   "source": [
    "# 전체 메일 데이터 중 80%를 훈련용 데이터로, 20%를 테스트 데이터로 사용\n",
    "n_of_train = int(len(sequences) * 0.8)\n",
    "n_of_test = int(len(sequences) - n_of_train)\n",
    "print('훈련 데이터의 개수 :',n_of_train)\n",
    "print('테스트 데이터의 개수:',n_of_test)"
   ]
  },
  {
   "cell_type": "code",
   "execution_count": 246,
   "metadata": {},
   "outputs": [
    {
     "name": "stdout",
     "output_type": "stream",
     "text": [
      "메일의 최대 길이 : 189\n",
      "메일의 평균 길이 : 15.610370\n"
     ]
    },
    {
     "data": {
      "image/png": "[encoded data removed]",
      "text/plain": [
       "<Figure size 432x288 with 1 Axes>"
      ]
     },
     "metadata": {
      "needs_background": "light"
     },
     "output_type": "display_data"
    }
   ],
   "source": [
    "X_data = sequences\n",
    "print('메일의 최대 길이 : %d' % max(len(l) for l in X_data))\n",
    "print('메일의 평균 길이 : %f' % (sum(map(len, X_data))/len(X_data)))\n",
    "plt.hist([len(s) for s in X_data], bins=50)\n",
    "plt.xlabel('length of samples')\n",
    "plt.ylabel('number of samples')\n",
    "plt.show()"
   ]
  },
  {
   "cell_type": "code",
   "execution_count": 247,
   "metadata": {},
   "outputs": [
    {
     "name": "stdout",
     "output_type": "stream",
     "text": [
      "훈련 데이터의 크기(shape):  (5169, 189)\n"
     ]
    }
   ],
   "source": [
    "max_len = 189 # 가장 긴 메일의 길이인 189라는 숫자를 입력\n",
    "# 전체 데이터셋의 길이는 max_len으로 맞춥니다.\n",
    "data = pad_sequences(X_data, maxlen = max_len)\n",
    "print(\"훈련 데이터의 크기(shape): \", data.shape)"
   ]
  },
  {
   "cell_type": "code",
   "execution_count": 248,
   "metadata": {},
   "outputs": [],
   "source": [
    "X_test = data[n_of_train:] #X_data 데이터 중에서 뒤의 1034개의 데이터만 저장\n",
    "y_test = np.array(y_data[n_of_train:]) #y_data 데이터 중에서 뒤의 1034개의 데이터만 저장\n",
    "X_train = data[:n_of_train] #X_data 데이터 중에서 앞의 4135개의 데이터만 저장\n",
    "y_train = np.array(y_data[:n_of_train]) #y_data 데이터 중에서 앞의 4135개의 데이터만 저장"
   ]
  },
  {
   "cell_type": "markdown",
   "metadata": {},
   "source": [
    "### 바닐라 RNN을 이용하여 스팸 메일 분류하기"
   ]
  },
  {
   "cell_type": "code",
   "execution_count": 249,
   "metadata": {},
   "outputs": [],
   "source": [
    "from tensorflow.keras.layers import SimpleRNN, Embedding, Dense\n",
    "from tensorflow.keras.models import Sequential"
   ]
  },
  {
   "cell_type": "code",
   "execution_count": 250,
   "metadata": {},
   "outputs": [
    {
     "name": "stdout",
     "output_type": "stream",
     "text": [
      "Epoch 1/4\n",
      "52/52 [==============================] - 3s 67ms/step - loss: 0.3510 - acc: 0.8824 - val_loss: 0.2313 - val_acc: 0.9021\n",
      "Epoch 2/4\n",
      "52/52 [==============================] - 3s 66ms/step - loss: 0.1148 - acc: 0.9674 - val_loss: 0.0777 - val_acc: 0.9770\n",
      "Epoch 3/4\n",
      "52/52 [==============================] - 3s 59ms/step - loss: 0.0571 - acc: 0.9852 - val_loss: 0.0642 - val_acc: 0.9831\n",
      "Epoch 4/4\n",
      "52/52 [==============================] - 3s 58ms/step - loss: 0.0372 - acc: 0.9885 - val_loss: 0.1090 - val_acc: 0.9541\n"
     ]
    }
   ],
   "source": [
    "model = Sequential()\n",
    "model.add(Embedding(vocab_size, 32)) # 임베딩 벡터의 차원은 32\n",
    "model.add(SimpleRNN(32)) # RNN 셀의 hidden_size는 32\n",
    "model.add(Dense(1, activation='sigmoid'))\n",
    "\n",
    "model.compile(optimizer='rmsprop', loss='binary_crossentropy', metrics=['acc'])\n",
    "history = model.fit(X_train, y_train, epochs=4, batch_size=64, validation_split=0.2)"
   ]
  },
  {
   "cell_type": "code",
   "execution_count": 251,
   "metadata": {},
   "outputs": [
    {
     "name": "stdout",
     "output_type": "stream",
     "text": [
      "33/33 [==============================] - 0s 11ms/step - loss: 0.1275 - acc: 0.9497\n",
      "\n",
      " 테스트 정확도: 0.9497\n"
     ]
    }
   ],
   "source": [
    "print(\"\\n 테스트 정확도: %.4f\" % (model.evaluate(X_test, y_test)[1]))"
   ]
  },
  {
   "cell_type": "code",
   "execution_count": 252,
   "metadata": {},
   "outputs": [
    {
     "data": {
      "image/png": "[encoded data removed]",
      "text/plain": [
       "<Figure size 432x288 with 1 Axes>"
      ]
     },
     "metadata": {
      "needs_background": "light"
     },
     "output_type": "display_data"
    }
   ],
   "source": [
    "epochs = range(1, len(history.history['acc']) + 1)\n",
    "plt.plot(epochs, history.history['loss'])\n",
    "plt.plot(epochs, history.history['val_loss'])\n",
    "plt.title('model loss')\n",
    "plt.ylabel('loss')\n",
    "plt.xlabel('epoch')\n",
    "plt.legend(['train', 'val'], loc='upper left')\n",
    "plt.show()\n",
    "\n",
    "# 이 데이터는 에포크 5를 넘어가면 검증 데이터의 오차가 증가하는 경향이 있다."
   ]
  },
  {
   "cell_type": "code",
   "execution_count": null,
   "metadata": {},
   "outputs": [],
   "source": []
  }
 ],
 "metadata": {
  "kernelspec": {
   "display_name": "Python 3",
   "language": "python",
   "name": "python3"
  }
 },
 "nbformat": 4,
 "nbformat_minor": 4
}
